{
 "cells": [
  {
   "cell_type": "markdown",
   "metadata": {},
   "source": [
    "## Store Sales - Time Series Forecasting."
   ]
  },
  {
   "cell_type": "code",
   "execution_count": 1,
   "metadata": {
    "_cell_guid": "b1076dfc-b9ad-4769-8c92-a6c4dae69d19",
    "_uuid": "8f2839f25d086af736a60e9eeb907d3b93b6e0e5",
    "execution": {
     "iopub.execute_input": "2021-12-03T06:08:03.191693Z",
     "iopub.status.busy": "2021-12-03T06:08:03.190478Z",
     "iopub.status.idle": "2021-12-03T06:08:03.195678Z",
     "shell.execute_reply": "2021-12-03T06:08:03.194769Z",
     "shell.execute_reply.started": "2021-12-03T06:08:03.191649Z"
    },
    "papermill": {
     "duration": 0.032185,
     "end_time": "2021-11-14T00:07:51.570818",
     "exception": false,
     "start_time": "2021-11-14T00:07:51.538633",
     "status": "completed"
    },
    "tags": []
   },
   "outputs": [],
   "source": [
    "import numpy as np\n",
    "import pandas as pd"
   ]
  },
  {
   "cell_type": "code",
   "execution_count": 2,
   "metadata": {
    "execution": {
     "iopub.execute_input": "2021-12-03T06:08:03.198131Z",
     "iopub.status.busy": "2021-12-03T06:08:03.197451Z",
     "iopub.status.idle": "2021-12-03T06:08:03.211198Z",
     "shell.execute_reply": "2021-12-03T06:08:03.210184Z",
     "shell.execute_reply.started": "2021-12-03T06:08:03.198094Z"
    },
    "papermill": {
     "duration": 0.025981,
     "end_time": "2021-11-14T00:07:51.611721",
     "exception": false,
     "start_time": "2021-11-14T00:07:51.58574",
     "status": "completed"
    },
    "tags": []
   },
   "outputs": [],
   "source": [
    "import matplotlib.pyplot as plt\n",
    "%matplotlib inline\n",
    "\n",
    "from pylab import rcParams\n",
    "rcParams['figure.figsize'] = 16, 8"
   ]
  },
  {
   "cell_type": "code",
   "execution_count": 3,
   "metadata": {
    "execution": {
     "iopub.execute_input": "2021-12-03T06:08:03.213342Z",
     "iopub.status.busy": "2021-12-03T06:08:03.212655Z",
     "iopub.status.idle": "2021-12-03T06:08:03.224894Z",
     "shell.execute_reply": "2021-12-03T06:08:03.224285Z",
     "shell.execute_reply.started": "2021-12-03T06:08:03.213309Z"
    },
    "papermill": {
     "duration": 0.940666,
     "end_time": "2021-11-14T00:07:52.566832",
     "exception": false,
     "start_time": "2021-11-14T00:07:51.626166",
     "status": "completed"
    },
    "tags": []
   },
   "outputs": [],
   "source": [
    "from sklearn.linear_model import Ridge\n",
    "\n",
    "from sklearn.metrics import mean_squared_log_error\n",
    "from sklearn.metrics import mean_squared_error"
   ]
  },
  {
   "cell_type": "code",
   "execution_count": 4,
   "metadata": {
    "execution": {
     "iopub.execute_input": "2021-12-03T06:08:03.226893Z",
     "iopub.status.busy": "2021-12-03T06:08:03.225962Z",
     "iopub.status.idle": "2021-12-03T06:08:03.23874Z",
     "shell.execute_reply": "2021-12-03T06:08:03.238028Z",
     "shell.execute_reply.started": "2021-12-03T06:08:03.226854Z"
    },
    "papermill": {
     "duration": 0.059648,
     "end_time": "2021-11-14T00:07:52.640897",
     "exception": false,
     "start_time": "2021-11-14T00:07:52.581249",
     "status": "completed"
    },
    "tags": []
   },
   "outputs": [],
   "source": [
    "from statsmodels.tsa.deterministic import CalendarFourier, DeterministicProcess, Fourier"
   ]
  },
  {
   "cell_type": "code",
   "execution_count": 5,
   "metadata": {
    "execution": {
     "iopub.execute_input": "2021-12-03T06:08:03.241404Z",
     "iopub.status.busy": "2021-12-03T06:08:03.240573Z",
     "iopub.status.idle": "2021-12-03T06:08:03.252035Z",
     "shell.execute_reply": "2021-12-03T06:08:03.251207Z",
     "shell.execute_reply.started": "2021-12-03T06:08:03.24134Z"
    }
   },
   "outputs": [],
   "source": [
    "import random\n",
    "import os\n",
    "\n",
    "def seed_everything(seed=42):\n",
    "    random.seed(seed)\n",
    "    os.environ['PYTHONHASHSEED'] = str(seed)\n",
    "    np.random.seed(seed)\n",
    "\n",
    "SEED = 2021\n",
    "seed_everything(SEED)"
   ]
  },
  {
   "cell_type": "code",
   "execution_count": 6,
   "metadata": {
    "execution": {
     "iopub.execute_input": "2021-12-03T06:08:03.256513Z",
     "iopub.status.busy": "2021-12-03T06:08:03.253202Z",
     "iopub.status.idle": "2021-12-03T06:08:03.265532Z",
     "shell.execute_reply": "2021-12-03T06:08:03.26468Z",
     "shell.execute_reply.started": "2021-12-03T06:08:03.256475Z"
    },
    "papermill": {
     "duration": 0.02089,
     "end_time": "2021-11-14T00:07:52.676043",
     "exception": false,
     "start_time": "2021-11-14T00:07:52.655153",
     "status": "completed"
    },
    "tags": []
   },
   "outputs": [],
   "source": [
    "path = 'F:/Data_AI/store-sales-time-series-forecasting/'"
   ]
  },
  {
   "cell_type": "code",
   "execution_count": 7,
   "metadata": {
    "execution": {
     "iopub.execute_input": "2021-12-03T06:08:03.269385Z",
     "iopub.status.busy": "2021-12-03T06:08:03.268941Z",
     "iopub.status.idle": "2021-12-03T06:08:03.323744Z",
     "shell.execute_reply": "2021-12-03T06:08:03.323003Z",
     "shell.execute_reply.started": "2021-12-03T06:08:03.269325Z"
    },
    "papermill": {
     "duration": 0.064404,
     "end_time": "2021-11-14T00:07:52.75464",
     "exception": false,
     "start_time": "2021-11-14T00:07:52.690236",
     "status": "completed"
    },
    "tags": []
   },
   "outputs": [],
   "source": [
    "calendar = pd.DataFrame(index=pd.date_range('2013-01-01', '2017-08-31'))#该函数主要用于生成一个固定频率的时间索引\n",
    "\n",
    "# Oil moving average\n",
    "\n",
    "data_oil = pd.read_csv(path + 'oil.csv', parse_dates=['date'], infer_datetime_format=True, index_col='date')\n",
    "data_oil['ma_oil'] = data_oil['dcoilwtico'].rolling(7).mean()#向下移动7位并取其均值\n",
    "\n",
    "calendar = calendar.merge(data_oil, how='left', left_index=True, right_index=True)#数据表合并\n",
    "calendar['ma_oil'].fillna(method='ffill', inplace=True)#代替缺失值\n",
    "\n",
    "# Day of week\n",
    "\n",
    "calendar['dofw'] = calendar.index.dayofweek #该时间段所在的星期几"
   ]
  },
  {
   "cell_type": "code",
   "execution_count": 8,
   "metadata": {
    "execution": {
     "iopub.execute_input": "2021-12-03T06:08:03.325269Z",
     "iopub.status.busy": "2021-12-03T06:08:03.324893Z",
     "iopub.status.idle": "2021-12-03T06:08:03.349973Z",
     "shell.execute_reply": "2021-12-03T06:08:03.349226Z",
     "shell.execute_reply.started": "2021-12-03T06:08:03.325226Z"
    },
    "papermill": {
     "duration": 0.040668,
     "end_time": "2021-11-14T00:07:52.809778",
     "exception": false,
     "start_time": "2021-11-14T00:07:52.76911",
     "status": "completed"
    },
    "tags": []
   },
   "outputs": [],
   "source": [
    "# Events\n",
    "\n",
    "df_hev = pd.read_csv(path + 'holidays_events.csv', parse_dates=['date'], infer_datetime_format=True)\n",
    "\n",
    "df_hev['date'] = df_hev['date'].replace({'2013-04-29' : \n",
    "                                         pd.to_datetime('2013-03-29')}) # “耶稣受难日”错误更正\n",
    "df_hev = df_hev.set_index('date').sort_index()#按frame的行索引进行排序\n",
    "\n",
    "df_hev = df_hev[df_hev.locale == 'National'] # 国家级仅为简单起见\n",
    "\n",
    "df_hev = df_hev.groupby(df_hev.index).first() # 只保留一个事件"
   ]
  },
  {
   "cell_type": "code",
   "execution_count": 9,
   "metadata": {
    "execution": {
     "iopub.execute_input": "2021-12-03T06:08:03.351184Z",
     "iopub.status.busy": "2021-12-03T06:08:03.350977Z",
     "iopub.status.idle": "2021-12-03T06:08:03.367391Z",
     "shell.execute_reply": "2021-12-03T06:08:03.366696Z",
     "shell.execute_reply.started": "2021-12-03T06:08:03.351158Z"
    },
    "papermill": {
     "duration": 0.029336,
     "end_time": "2021-11-14T00:07:52.853736",
     "exception": false,
     "start_time": "2021-11-14T00:07:52.8244",
     "status": "completed"
    },
    "tags": []
   },
   "outputs": [],
   "source": [
    "# 工作日\n",
    "\n",
    "calendar['wd'] = True\n",
    "calendar.loc[calendar.dofw > 4, 'wd'] = False\n",
    "\n",
    "calendar = calendar.merge(df_hev, how='left', left_index=True, right_index=True)\n",
    "\n",
    "calendar.loc[calendar.type == 'Bridge'  , 'wd'] = False\n",
    "calendar.loc[calendar.type == 'Work Day', 'wd'] = True\n",
    "calendar.loc[calendar.type == 'Transfer', 'wd'] = False\n",
    "calendar.loc[(calendar.type == 'Holiday') & (calendar.transferred == False), 'wd'] = False\n",
    "calendar.loc[(calendar.type == 'Holiday') & (calendar.transferred == True ), 'wd'] = True"
   ]
  },
  {
   "cell_type": "code",
   "execution_count": 10,
   "metadata": {
    "execution": {
     "iopub.execute_input": "2021-12-03T06:08:03.369273Z",
     "iopub.status.busy": "2021-12-03T06:08:03.368788Z",
     "iopub.status.idle": "2021-12-03T06:08:08.255569Z",
     "shell.execute_reply": "2021-12-03T06:08:08.254775Z",
     "shell.execute_reply.started": "2021-12-03T06:08:03.369228Z"
    },
    "papermill": {
     "duration": 4.293018,
     "end_time": "2021-11-14T00:07:57.161",
     "exception": false,
     "start_time": "2021-11-14T00:07:52.867982",
     "status": "completed"
    },
    "tags": []
   },
   "outputs": [],
   "source": [
    "df_train = pd.read_csv(path + 'train.csv',\n",
    "                       usecols=['store_nbr', 'family', 'date', 'sales'],\n",
    "                       dtype={'store_nbr': 'category', 'family': 'category', 'sales': 'float32'},\n",
    "                       parse_dates=['date'], infer_datetime_format=True)\n",
    "\n",
    "df_train.date = df_train.date.dt.to_period('D')\n",
    "#用于以特定频率将给定的DatetimeIndex转换为PeriodIndex。该函数本质上将DatetimeIndex转换为PeriodIndex\n",
    "df_train = df_train.set_index(['store_nbr', 'family', 'date']).sort_index()#按frame的行索引进行排序"
   ]
  },
  {
   "cell_type": "code",
   "execution_count": 11,
   "metadata": {
    "execution": {
     "iopub.execute_input": "2021-12-03T06:08:08.258201Z",
     "iopub.status.busy": "2021-12-03T06:08:08.257969Z",
     "iopub.status.idle": "2021-12-03T06:08:08.310682Z",
     "shell.execute_reply": "2021-12-03T06:08:08.309836Z",
     "shell.execute_reply.started": "2021-12-03T06:08:08.258172Z"
    },
    "papermill": {
     "duration": 0.060188,
     "end_time": "2021-11-14T00:07:57.236297",
     "exception": false,
     "start_time": "2021-11-14T00:07:57.176109",
     "status": "completed"
    },
    "tags": []
   },
   "outputs": [],
   "source": [
    "df_test = pd.read_csv(path + 'test.csv',\n",
    "                      usecols=['store_nbr', 'family', 'date'],\n",
    "                      dtype={'store_nbr': 'category', 'family': 'category'},\n",
    "                      parse_dates=['date'], infer_datetime_format=True)\n",
    "\n",
    "df_test.date = df_test.date.dt.to_period('D')\n",
    "df_test = df_test.set_index(['store_nbr', 'family', 'date']).sort_index()"
   ]
  },
  {
   "cell_type": "code",
   "execution_count": 12,
   "metadata": {
    "execution": {
     "iopub.execute_input": "2021-12-03T06:08:08.312036Z",
     "iopub.status.busy": "2021-12-03T06:08:08.311805Z",
     "iopub.status.idle": "2021-12-03T06:08:08.31798Z",
     "shell.execute_reply": "2021-12-03T06:08:08.317094Z",
     "shell.execute_reply.started": "2021-12-03T06:08:08.312008Z"
    },
    "papermill": {
     "duration": 0.021076,
     "end_time": "2021-11-14T00:07:57.271707",
     "exception": false,
     "start_time": "2021-11-14T00:07:57.250631",
     "status": "completed"
    },
    "tags": []
   },
   "outputs": [],
   "source": [
    "sdate = '2017-04-01'\n",
    "edate = '2017-08-15'"
   ]
  },
  {
   "cell_type": "code",
   "execution_count": 13,
   "metadata": {
    "execution": {
     "iopub.execute_input": "2021-12-03T06:08:08.319483Z",
     "iopub.status.busy": "2021-12-03T06:08:08.319119Z",
     "iopub.status.idle": "2021-12-03T06:08:09.55653Z",
     "shell.execute_reply": "2021-12-03T06:08:09.555409Z",
     "shell.execute_reply.started": "2021-12-03T06:08:08.319455Z"
    },
    "papermill": {
     "duration": 1.208027,
     "end_time": "2021-11-14T00:07:58.494055",
     "exception": false,
     "start_time": "2021-11-14T00:07:57.286028",
     "status": "completed"
    },
    "tags": []
   },
   "outputs": [
    {
     "name": "stderr",
     "output_type": "stream",
     "text": [
      "e:\\python\\lib\\site-packages\\sklearn\\linear_model\\_base.py:141: FutureWarning: 'normalize' was deprecated in version 1.0 and will be removed in 1.2.\n",
      "If you wish to scale the data, use Pipeline with a StandardScaler in a preprocessing stage. To reproduce the previous behavior:\n",
      "\n",
      "from sklearn.pipeline import make_pipeline\n",
      "\n",
      "model = make_pipeline(StandardScaler(with_mean=False), Ridge())\n",
      "\n",
      "If you wish to pass a sample_weight parameter, you need to pass it as a fit parameter to each step of the pipeline as follows:\n",
      "\n",
      "kwargs = {s[0] + '__sample_weight': sample_weight for s in model.steps}\n",
      "model.fit(X, y, **kwargs)\n",
      "\n",
      "Set parameter alpha to: original_alpha * n_samples. \n",
      "  warnings.warn(\n"
     ]
    }
   ],
   "source": [
    "y = df_train.unstack(['store_nbr', 'family']).loc[sdate:edate]#进行数据重排，将数据从”花括号结构“变成”表格结构“\n",
    "\n",
    "fourier = CalendarFourier(freq='W', order=4)\n",
    "\n",
    "dp = DeterministicProcess(index=y.index,\n",
    "                          constant=False,\n",
    "                          order=1,\n",
    "                          seasonal=False,\n",
    "                          additional_terms=[fourier],\n",
    "                          drop=True)\n",
    "X = dp.in_sample()\n",
    "x\n",
    "# Extentions\n",
    "\n",
    "X['oil']  = calendar.loc[sdate:edate]['ma_oil'].values\n",
    "X['dofw'] = calendar.loc[sdate:edate]['dofw'].values\n",
    "X['wd']   = calendar.loc[sdate:edate]['wd'].values\n",
    "X['type'] = calendar.loc[sdate:edate]['type'].values\n",
    "\n",
    "X = pd.get_dummies(X, columns=['dofw'], drop_first=True)#虚拟变量,哑变量就是添加原来数据中没有的变量\n",
    "X = pd.get_dummies(X, columns=['type'], drop_first=False)\n",
    "\n",
    "model = Ridge(fit_intercept=True, solver='auto', alpha=0.4, normalize=True, random_state=SEED)\n",
    "#岭回归，是一种专用于共线性数据分析的有偏估计回归方法，实质上是一种改良的最小二乘估计法\n",
    "\n",
    "model.fit(X, y)\n",
    "#就是求得训练集X的均值啊，方差啊，最大值啊，最小值啊这些训练集X固有的属性\n",
    "y_pred = pd.DataFrame(model.predict(X), index=X.index, columns=y.columns)"
   ]
  },
  {
   "cell_type": "code",
   "execution_count": 14,
   "metadata": {
    "execution": {
     "iopub.execute_input": "2021-12-03T06:08:09.558524Z",
     "iopub.status.busy": "2021-12-03T06:08:09.557994Z",
     "iopub.status.idle": "2021-12-03T06:08:09.828092Z",
     "shell.execute_reply": "2021-12-03T06:08:09.827292Z",
     "shell.execute_reply.started": "2021-12-03T06:08:09.558476Z"
    },
    "papermill": {
     "duration": 10.548994,
     "end_time": "2021-11-14T00:08:09.07113",
     "exception": false,
     "start_time": "2021-11-14T00:07:58.522136",
     "status": "completed"
    },
    "tags": []
   },
   "outputs": [
    {
     "data": {
      "text/plain": [
       "family\n",
       "AUTOMOTIVE                    0.257738\n",
       "BABY CARE                     0.066539\n",
       "BEAUTY                        0.265203\n",
       "BEVERAGES                     0.197832\n",
       "BOOKS                         0.026635\n",
       "BREAD/BAKERY                  0.124268\n",
       "CELEBRATION                   0.293661\n",
       "CLEANING                      0.203749\n",
       "DAIRY                         0.135016\n",
       "DELI                          0.107789\n",
       "EGGS                          0.145464\n",
       "FROZEN FOODS                  0.144047\n",
       "GROCERY I                     0.209230\n",
       "GROCERY II                    0.344623\n",
       "HARDWARE                      0.273053\n",
       "HOME AND KITCHEN I            0.258068\n",
       "HOME AND KITCHEN II           0.218346\n",
       "HOME APPLIANCES               0.153741\n",
       "HOME CARE                     0.121014\n",
       "LADIESWEAR                    0.257345\n",
       "LAWN AND GARDEN               0.212797\n",
       "LINGERIE                      0.398337\n",
       "LIQUOR,WINE,BEER              0.608135\n",
       "MAGAZINES                     0.252873\n",
       "MEATS                         0.121380\n",
       "PERSONAL CARE                 0.136520\n",
       "PET SUPPLIES                  0.209199\n",
       "PLAYERS AND ELECTRONICS       0.222360\n",
       "POULTRY                       0.120679\n",
       "PREPARED FOODS                0.125301\n",
       "PRODUCE                       0.182843\n",
       "SCHOOL AND OFFICE SUPPLIES    1.388150\n",
       "SEAFOOD                       0.251569\n",
       "dtype: float64"
      ]
     },
     "execution_count": 14,
     "metadata": {},
     "output_type": "execute_result"
    }
   ],
   "source": [
    "# 训练阶段的结果\n",
    "\n",
    "y_pred   = y_pred.stack(['store_nbr', 'family']).reset_index()\n",
    "y_target = y.stack(['store_nbr', 'family']).reset_index().copy()\n",
    "\n",
    "y_target['sales_pred'] = y_pred['sales'].clip(0.) # Sales should be >= 0\n",
    "\n",
    "y_target.groupby('family').apply(lambda r: mean_squared_log_error(r['sales'], r['sales_pred']))"
   ]
  },
  {
   "cell_type": "code",
   "execution_count": 15,
   "metadata": {
    "execution": {
     "iopub.execute_input": "2021-12-03T06:08:09.829795Z",
     "iopub.status.busy": "2021-12-03T06:08:09.829554Z",
     "iopub.status.idle": "2021-12-03T06:08:09.833665Z",
     "shell.execute_reply": "2021-12-03T06:08:09.832894Z",
     "shell.execute_reply.started": "2021-12-03T06:08:09.829765Z"
    },
    "papermill": {
     "duration": 0.021592,
     "end_time": "2021-11-14T00:08:09.113388",
     "exception": false,
     "start_time": "2021-11-14T00:08:09.091796",
     "status": "completed"
    },
    "tags": []
   },
   "outputs": [],
   "source": [
    "# 显然“学校和办公用品”需要特别注意"
   ]
  },
  {
   "cell_type": "code",
   "execution_count": 16,
   "metadata": {
    "execution": {
     "iopub.execute_input": "2021-12-03T06:08:09.835591Z",
     "iopub.status.busy": "2021-12-03T06:08:09.835278Z",
     "iopub.status.idle": "2021-12-03T06:08:12.184841Z",
     "shell.execute_reply": "2021-12-03T06:08:12.183997Z",
     "shell.execute_reply.started": "2021-12-03T06:08:09.835552Z"
    },
    "papermill": {
     "duration": 1.973147,
     "end_time": "2021-11-14T00:08:11.101412",
     "exception": false,
     "start_time": "2021-11-14T00:08:09.128265",
     "status": "completed"
    },
    "tags": []
   },
   "outputs": [
    {
     "data": {
      "text/plain": [
       "<AxesSubplot:xlabel='date'>"
      ]
     },
     "execution_count": 16,
     "metadata": {},
     "output_type": "execute_result"
    },
    {
     "data": {
      "image/png": "[encoded data removed]",
      "text/plain": [
       "<Figure size 1152x576 with 1 Axes>"
      ]
     },
     "metadata": {
      "needs_background": "light"
     },
     "output_type": "display_data"
    }
   ],
   "source": [
    "df_train.unstack(['store_nbr', 'family']).loc['2014':].loc(axis=1)['sales', :, 'SCHOOL AND OFFICE SUPPLIES'].plot(legend=None)"
   ]
  },
  {
   "cell_type": "code",
   "execution_count": 17,
   "metadata": {
    "execution": {
     "iopub.execute_input": "2021-12-03T06:08:12.186706Z",
     "iopub.status.busy": "2021-12-03T06:08:12.186409Z",
     "iopub.status.idle": "2021-12-03T06:08:12.190559Z",
     "shell.execute_reply": "2021-12-03T06:08:12.189666Z",
     "shell.execute_reply.started": "2021-12-03T06:08:12.186664Z"
    },
    "papermill": {
     "duration": 0.023301,
     "end_time": "2021-11-14T00:08:11.141825",
     "exception": false,
     "start_time": "2021-11-14T00:08:11.118524",
     "status": "completed"
    },
    "tags": []
   },
   "outputs": [],
   "source": [
    "# 看起来这个组是线性回归的问题\n",
    "# 让我们尝试使用 RandomForest 回归器代替"
   ]
  },
  {
   "cell_type": "code",
   "execution_count": 18,
   "metadata": {
    "execution": {
     "iopub.execute_input": "2021-12-03T06:08:12.192738Z",
     "iopub.status.busy": "2021-12-03T06:08:12.192257Z",
     "iopub.status.idle": "2021-12-03T06:08:12.324533Z",
     "shell.execute_reply": "2021-12-03T06:08:12.323765Z",
     "shell.execute_reply.started": "2021-12-03T06:08:12.192695Z"
    },
    "papermill": {
     "duration": 0.125288,
     "end_time": "2021-11-14T00:08:11.283711",
     "exception": false,
     "start_time": "2021-11-14T00:08:11.158423",
     "status": "completed"
    },
    "tags": []
   },
   "outputs": [],
   "source": [
    "from joblib import Parallel, delayed\n",
    "import warnings\n",
    "\n",
    "from sklearn.linear_model import Ridge\n",
    "from sklearn.ensemble import RandomForestRegressor\n",
    "from sklearn.ensemble import ExtraTreesRegressor\n",
    "from sklearn.ensemble import BaggingRegressor\n",
    "from sklearn.ensemble import VotingRegressor\n",
    "\n",
    "class CustomRegressor():\n",
    "    \n",
    "    def __init__(self, n_jobs=-1, verbose=0):\n",
    "        \n",
    "        self.n_jobs = n_jobs\n",
    "        self.verbose = verbose\n",
    "        \n",
    "        self.estimators_ = None\n",
    "        \n",
    "    def _estimator_(self, X, y):\n",
    "    \n",
    "        warnings.simplefilter(action='ignore', category=FutureWarning)\n",
    "        \n",
    "        if y.name[2] == 'SCHOOL AND OFFICE SUPPLIES':\n",
    "            r1 = ExtraTreesRegressor(n_estimators=500, n_jobs=-1, random_state=SEED)\n",
    "            r2 = RandomForestRegressor(n_estimators=500, n_jobs=-1, random_state=SEED)\n",
    "            b1 = BaggingRegressor(base_estimator=r1,\n",
    "                                  n_estimators=10,\n",
    "                                  n_jobs=-1,\n",
    "                                  random_state=SEED)\n",
    "            b2 = BaggingRegressor(base_estimator=r2,\n",
    "                                  n_estimators=10,\n",
    "                                  n_jobs=-1,\n",
    "                                  random_state=SEED)\n",
    "            model = VotingRegressor([('et', b1), ('rf', b2)])\n",
    "        else:\n",
    "            model = Ridge(fit_intercept=True, solver='auto', alpha=0.5, normalize=True, random_state=SEED)\n",
    "\n",
    "        model.fit(X, y)\n",
    "\n",
    "        return model\n",
    "\n",
    "    def fit(self, X, y):\n",
    "\n",
    "        self.estimators_ = Parallel(n_jobs=self.n_jobs, \n",
    "                              verbose=self.verbose,\n",
    "                              )(delayed(self._estimator_)(X, y.iloc[:, i]) for i in range(y.shape[1]))\n",
    "        \n",
    "        return\n",
    "    \n",
    "    def predict(self, X):\n",
    "        \n",
    "        y_pred = Parallel(n_jobs=self.n_jobs, \n",
    "                          verbose=self.verbose)(delayed(e.predict)(X) for e in self.estimators_)\n",
    "        \n",
    "        return np.stack(y_pred, axis=1)"
   ]
  },
  {
   "cell_type": "code",
   "execution_count": 19,
   "metadata": {
    "execution": {
     "iopub.execute_input": "2021-12-03T06:08:12.326067Z",
     "iopub.status.busy": "2021-12-03T06:08:12.325773Z",
     "iopub.status.idle": "2021-12-03T06:20:12.891486Z",
     "shell.execute_reply": "2021-12-03T06:20:12.890231Z",
     "shell.execute_reply.started": "2021-12-03T06:08:12.326027Z"
    },
    "papermill": {
     "duration": 582.039088,
     "end_time": "2021-11-14T00:17:53.339244",
     "exception": false,
     "start_time": "2021-11-14T00:08:11.300156",
     "status": "completed"
    },
    "tags": []
   },
   "outputs": [
    {
     "name": "stdout",
     "output_type": "stream",
     "text": [
      "Wall time: 13min 21s\n"
     ]
    }
   ],
   "source": [
    "%%time\n",
    "\n",
    "model = CustomRegressor(n_jobs=-1, verbose=0)#为非线性 ARX 模型指定自定义回归器\n",
    "model.fit(X, y)\n",
    "y_pred = pd.DataFrame(model.predict(X), index=X.index, columns=y.columns)"
   ]
  },
  {
   "cell_type": "code",
   "execution_count": 20,
   "metadata": {
    "execution": {
     "iopub.execute_input": "2021-12-03T06:20:12.894133Z",
     "iopub.status.busy": "2021-12-03T06:20:12.893778Z",
     "iopub.status.idle": "2021-12-03T06:20:13.119296Z",
     "shell.execute_reply": "2021-12-03T06:20:13.118328Z",
     "shell.execute_reply.started": "2021-12-03T06:20:12.894075Z"
    },
    "papermill": {
     "duration": 10.561111,
     "end_time": "2021-11-14T00:18:03.91837",
     "exception": false,
     "start_time": "2021-11-14T00:17:53.357259",
     "status": "completed"
    },
    "tags": []
   },
   "outputs": [
    {
     "data": {
      "text/plain": [
       "family\n",
       "AUTOMOTIVE                    0.259202\n",
       "BABY CARE                     0.066660\n",
       "BEAUTY                        0.267450\n",
       "BEVERAGES                     0.199187\n",
       "BOOKS                         0.026701\n",
       "BREAD/BAKERY                  0.125449\n",
       "CELEBRATION                   0.295910\n",
       "CLEANING                      0.204513\n",
       "DAIRY                         0.136196\n",
       "DELI                          0.108830\n",
       "EGGS                          0.147672\n",
       "FROZEN FOODS                  0.145027\n",
       "GROCERY I                     0.210306\n",
       "GROCERY II                    0.347753\n",
       "HARDWARE                      0.273930\n",
       "HOME AND KITCHEN I            0.259483\n",
       "HOME AND KITCHEN II           0.219104\n",
       "HOME APPLIANCES               0.154737\n",
       "HOME CARE                     0.122103\n",
       "LADIESWEAR                    0.259483\n",
       "LAWN AND GARDEN               0.216374\n",
       "LINGERIE                      0.400216\n",
       "LIQUOR,WINE,BEER              0.612719\n",
       "MAGAZINES                     0.254086\n",
       "MEATS                         0.123141\n",
       "PERSONAL CARE                 0.137507\n",
       "PET SUPPLIES                  0.210464\n",
       "PLAYERS AND ELECTRONICS       0.223845\n",
       "POULTRY                       0.122109\n",
       "PREPARED FOODS                0.126234\n",
       "PRODUCE                       0.184626\n",
       "SCHOOL AND OFFICE SUPPLIES    0.147942\n",
       "SEAFOOD                       0.253164\n",
       "dtype: float64"
      ]
     },
     "execution_count": 20,
     "metadata": {},
     "output_type": "execute_result"
    }
   ],
   "source": [
    "# Results of the training stage with RF\n",
    "# RF 训练阶段的结果\n",
    "\n",
    "y_pred   = y_pred.stack(['store_nbr', 'family']).reset_index()\n",
    "y_target = y.stack(['store_nbr', 'family']).reset_index().copy()\n",
    "\n",
    "y_target['sales_pred'] = y_pred['sales'].clip(0.) # Sales should be >= 0\n",
    "\n",
    "y_target.groupby('family').apply(lambda r: mean_squared_log_error(r['sales'], r['sales_pred']))"
   ]
  },
  {
   "cell_type": "code",
   "execution_count": 21,
   "metadata": {
    "execution": {
     "iopub.execute_input": "2021-12-03T06:20:13.120773Z",
     "iopub.status.busy": "2021-12-03T06:20:13.12049Z",
     "iopub.status.idle": "2021-12-03T06:20:13.124954Z",
     "shell.execute_reply": "2021-12-03T06:20:13.124008Z",
     "shell.execute_reply.started": "2021-12-03T06:20:13.120743Z"
    },
    "papermill": {
     "duration": 0.023394,
     "end_time": "2021-11-14T00:18:03.959875",
     "exception": false,
     "start_time": "2021-11-14T00:18:03.936481",
     "status": "completed"
    },
    "tags": []
   },
   "outputs": [],
   "source": [
    "# 更好，好多了——但绝对是过拟合了。 下一步是对这种过拟合做一些事情"
   ]
  },
  {
   "cell_type": "code",
   "execution_count": 22,
   "metadata": {
    "execution": {
     "iopub.execute_input": "2021-12-03T06:20:13.127938Z",
     "iopub.status.busy": "2021-12-03T06:20:13.127137Z"
    },
    "papermill": {
     "duration": 209.157758,
     "end_time": "2021-11-14T00:21:33.134958",
     "exception": false,
     "start_time": "2021-11-14T00:18:03.9772",
     "status": "completed"
    },
    "tags": []
   },
   "outputs": [],
   "source": [
    "# 测试预测\n",
    "\n",
    "stest = '2017-08-16'\n",
    "etest = '2017-08-31'\n",
    "\n",
    "X_test = dp.out_of_sample(steps=16)\n",
    "\n",
    "# 扩展\n",
    "\n",
    "X_test['oil']  = calendar.loc[stest:etest]['ma_oil'].values\n",
    "X_test['dofw'] = calendar.loc[stest:etest]['dofw'].values\n",
    "X_test['wd']   = calendar.loc[stest:etest]['wd'].values\n",
    "\n",
    "X_test = pd.get_dummies(X_test, columns=['dofw'], drop_first=True)#哑变量\n",
    "\n",
    "# 在此期间没有国家级赛事\n",
    "X_test[['type_Additional', 'type_Event', 'type_Holiday', 'type_Transfer']] = 0\n",
    "\n",
    "sales_pred = pd.DataFrame(model.predict(X_test), index=X_test.index, columns=y.columns)\n",
    "sales_pred = sales_pred.stack(['store_nbr', 'family'])\n",
    "\n",
    "sales_pred[sales_pred < 0] = 0. # 销售额应该 >= 0"
   ]
  },
  {
   "cell_type": "code",
   "execution_count": 25,
   "metadata": {
    "papermill": {
     "duration": 0.128052,
     "end_time": "2021-11-14T00:21:33.280998",
     "exception": false,
     "start_time": "2021-11-14T00:21:33.152946",
     "status": "completed"
    },
    "tags": []
   },
   "outputs": [],
   "source": [
    "# Submission\n",
    "\n",
    "df_sub = pd.read_csv(path + 'sample_submission.csv', index_col='id')\n",
    "df_sub.sales = sales_pred.values\n",
    "df_sub.to_csv(path + 'submission2.csv', index=True)"
   ]
  },
  {
   "cell_type": "code",
   "execution_count": null,
   "metadata": {
    "papermill": {
     "duration": 0.0177,
     "end_time": "2021-11-14T00:21:33.316734",
     "exception": false,
     "start_time": "2021-11-14T00:21:33.299034",
     "status": "completed"
    },
    "tags": []
   },
   "outputs": [],
   "source": []
  }
 ],
 "metadata": {
  "kernelspec": {
   "display_name": "Python 3 (ipykernel)",
   "language": "python",
   "name": "python3"
  },
  "language_info": {
   "codemirror_mode": {
    "name": "ipython",
    "version": 3
   },
   "file_extension": ".py",
   "mimetype": "text/x-python",
   "name": "python",
   "nbconvert_exporter": "python",
   "pygments_lexer": "ipython3",
   "version": "3.9.6"
  }
 },
 "nbformat": 4,
 "nbformat_minor": 4
}
