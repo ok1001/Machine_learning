{
 "cells": [
  {
   "cell_type": "markdown",
   "metadata": {},
   "source": [
    "## Store Sales - Time Series Forecasting."
   ]
  },
  {
   "cell_type": "code",
   "execution_count": 1,
   "metadata": {
    "_cell_guid": "b1076dfc-b9ad-4769-8c92-a6c4dae69d19",
    "_uuid": "8f2839f25d086af736a60e9eeb907d3b93b6e0e5",
    "execution": {
     "iopub.execute_input": "2021-12-03T06:08:03.191693Z",
     "iopub.status.busy": "2021-12-03T06:08:03.190478Z",
     "iopub.status.idle": "2021-12-03T06:08:03.195678Z",
     "shell.execute_reply": "2021-12-03T06:08:03.194769Z",
     "shell.execute_reply.started": "2021-12-03T06:08:03.191649Z"
    },
    "papermill": {
     "duration": 0.032185,
     "end_time": "2021-11-14T00:07:51.570818",
     "exception": false,
     "start_time": "2021-11-14T00:07:51.538633",
     "status": "completed"
    },
    "tags": []
   },
   "outputs": [
    {
     "data": {
      "text/html": [
       "        <script type=\"text/javascript\">\n",
       "        window.PlotlyConfig = {MathJaxConfig: 'local'};\n",
       "        if (window.MathJax) {MathJax.Hub.Config({SVG: {font: \"STIX-Web\"}});}\n",
       "        if (typeof require !== 'undefined') {\n",
       "        require.undef(\"plotly\");\n",
       "        requirejs.config({\n",
       "            paths: {\n",
       "                'plotly': ['https://cdn.plot.ly/plotly-2.6.3.min']\n",
       "            }\n",
       "        });\n",
       "        require(['plotly'], function(Plotly) {\n",
       "            window._Plotly = Plotly;\n",
       "        });\n",
       "        }\n",
       "        </script>\n",
       "        "
      ]
     },
     "metadata": {},
     "output_type": "display_data"
    }
   ],
   "source": [
    "import numpy as np\n",
    "import pandas as pd\n",
    "import calendar\n",
    "\n",
    "import plotly.express as px\n",
    "from plotly.subplots import make_subplots\n",
    "import plotly.figure_factory as ff\n",
    "import plotly.offline as offline\n",
    "import plotly.graph_objs as go\n",
    "offline.init_notebook_mode(connected = True)"
   ]
  },
  {
   "cell_type": "code",
   "execution_count": 2,
   "metadata": {},
   "outputs": [
    {
     "data": {
      "application/vnd.plotly.v1+json": {
       "config": {
        "plotlyServerURL": "https://plotly.com"
       },
       "data": [
        {
         "mode": "text",
         "text": [
          "<span style='font-size:33px'><b>54</b></span>",
          "<span style='font-size:33px'><b>33</b></span>",
          "<span style='font-size:33px'><b>16</b></span>",
          "<span style='font-size:33px'><b>56</b></span>"
         ],
         "textposition": "bottom center",
         "type": "scatter",
         "x": [
          0,
          1,
          2,
          3
         ],
         "y": [
          1.6,
          1.6,
          1.6,
          1.6
         ]
        },
        {
         "mode": "text",
         "text": [
          "Stores",
          "Products",
          "States",
          "Months"
         ],
         "textposition": "bottom center",
         "type": "scatter",
         "x": [
          0,
          1,
          2,
          3
         ],
         "y": [
          1.1,
          1.1,
          1.1,
          1.1
         ]
        }
       ],
       "layout": {
        "font": {
         "color": "#323232",
         "size": 23
        },
        "height": 300,
        "margin": {
         "b": 0,
         "l": 70,
         "r": 70,
         "t": 90
        },
        "paper_bgcolor": "#fafafa",
        "plot_bgcolor": "#fafafa",
        "shapes": [
         {
          "line": {
           "color": "gray",
           "width": 5
          },
          "type": "line",
          "x0": 0,
          "x1": 1,
          "xref": "x domain",
          "y0": 2.2,
          "y1": 2.2,
          "yref": "y"
         },
         {
          "line": {
           "color": "gray",
           "width": 3
          },
          "type": "line",
          "x0": 0,
          "x1": 1,
          "xref": "x domain",
          "y0": 0.3,
          "y1": 0.3,
          "yref": "y"
         }
        ],
        "showlegend": false,
        "template": {
         "data": {
          "bar": [
           {
            "error_x": {
             "color": "#2a3f5f"
            },
            "error_y": {
             "color": "#2a3f5f"
            },
            "marker": {
             "line": {
              "color": "#E5ECF6",
              "width": 0.5
             },
             "pattern": {
              "fillmode": "overlay",
              "size": 10,
              "solidity": 0.2
             }
            },
            "type": "bar"
           }
          ],
          "barpolar": [
           {
            "marker": {
             "line": {
              "color": "#E5ECF6",
              "width": 0.5
             },
             "pattern": {
              "fillmode": "overlay",
              "size": 10,
              "solidity": 0.2
             }
            },
            "type": "barpolar"
           }
          ],
          "carpet": [
           {
            "aaxis": {
             "endlinecolor": "#2a3f5f",
             "gridcolor": "white",
             "linecolor": "white",
             "minorgridcolor": "white",
             "startlinecolor": "#2a3f5f"
            },
            "baxis": {
             "endlinecolor": "#2a3f5f",
             "gridcolor": "white",
             "linecolor": "white",
             "minorgridcolor": "white",
             "startlinecolor": "#2a3f5f"
            },
            "type": "carpet"
           }
          ],
          "choropleth": [
           {
            "colorbar": {
             "outlinewidth": 0,
             "ticks": ""
            },
            "type": "choropleth"
           }
          ],
          "contour": [
           {
            "colorbar": {
             "outlinewidth": 0,
             "ticks": ""
            },
            "colorscale": [
             [
              0,
              "#0d0887"
             ],
             [
              0.1111111111111111,
              "#46039f"
             ],
             [
              0.2222222222222222,
              "#7201a8"
             ],
             [
              0.3333333333333333,
              "#9c179e"
             ],
             [
              0.4444444444444444,
              "#bd3786"
             ],
             [
              0.5555555555555556,
              "#d8576b"
             ],
             [
              0.6666666666666666,
              "#ed7953"
             ],
             [
              0.7777777777777778,
              "#fb9f3a"
             ],
             [
              0.8888888888888888,
              "#fdca26"
             ],
             [
              1,
              "#f0f921"
             ]
            ],
            "type": "contour"
           }
          ],
          "contourcarpet": [
           {
            "colorbar": {
             "outlinewidth": 0,
             "ticks": ""
            },
            "type": "contourcarpet"
           }
          ],
          "heatmap": [
           {
            "colorbar": {
             "outlinewidth": 0,
             "ticks": ""
            },
            "colorscale": [
             [
              0,
              "#0d0887"
             ],
             [
              0.1111111111111111,
              "#46039f"
             ],
             [
              0.2222222222222222,
              "#7201a8"
             ],
             [
              0.3333333333333333,
              "#9c179e"
             ],
             [
              0.4444444444444444,
              "#bd3786"
             ],
             [
              0.5555555555555556,
              "#d8576b"
             ],
             [
              0.6666666666666666,
              "#ed7953"
             ],
             [
              0.7777777777777778,
              "#fb9f3a"
             ],
             [
              0.8888888888888888,
              "#fdca26"
             ],
             [
              1,
              "#f0f921"
             ]
            ],
            "type": "heatmap"
           }
          ],
          "heatmapgl": [
           {
            "colorbar": {
             "outlinewidth": 0,
             "ticks": ""
            },
            "colorscale": [
             [
              0,
              "#0d0887"
             ],
             [
              0.1111111111111111,
              "#46039f"
             ],
             [
              0.2222222222222222,
              "#7201a8"
             ],
             [
              0.3333333333333333,
              "#9c179e"
             ],
             [
              0.4444444444444444,
              "#bd3786"
             ],
             [
              0.5555555555555556,
              "#d8576b"
             ],
             [
              0.6666666666666666,
              "#ed7953"
             ],
             [
              0.7777777777777778,
              "#fb9f3a"
             ],
             [
              0.8888888888888888,
              "#fdca26"
             ],
             [
              1,
              "#f0f921"
             ]
            ],
            "type": "heatmapgl"
           }
          ],
          "histogram": [
           {
            "marker": {
             "pattern": {
              "fillmode": "overlay",
              "size": 10,
              "solidity": 0.2
             }
            },
            "type": "histogram"
           }
          ],
          "histogram2d": [
           {
            "colorbar": {
             "outlinewidth": 0,
             "ticks": ""
            },
            "colorscale": [
             [
              0,
              "#0d0887"
             ],
             [
              0.1111111111111111,
              "#46039f"
             ],
             [
              0.2222222222222222,
              "#7201a8"
             ],
             [
              0.3333333333333333,
              "#9c179e"
             ],
             [
              0.4444444444444444,
              "#bd3786"
             ],
             [
              0.5555555555555556,
              "#d8576b"
             ],
             [
              0.6666666666666666,
              "#ed7953"
             ],
             [
              0.7777777777777778,
              "#fb9f3a"
             ],
             [
              0.8888888888888888,
              "#fdca26"
             ],
             [
              1,
              "#f0f921"
             ]
            ],
            "type": "histogram2d"
           }
          ],
          "histogram2dcontour": [
           {
            "colorbar": {
             "outlinewidth": 0,
             "ticks": ""
            },
            "colorscale": [
             [
              0,
              "#0d0887"
             ],
             [
              0.1111111111111111,
              "#46039f"
             ],
             [
              0.2222222222222222,
              "#7201a8"
             ],
             [
              0.3333333333333333,
              "#9c179e"
             ],
             [
              0.4444444444444444,
              "#bd3786"
             ],
             [
              0.5555555555555556,
              "#d8576b"
             ],
             [
              0.6666666666666666,
              "#ed7953"
             ],
             [
              0.7777777777777778,
              "#fb9f3a"
             ],
             [
              0.8888888888888888,
              "#fdca26"
             ],
             [
              1,
              "#f0f921"
             ]
            ],
            "type": "histogram2dcontour"
           }
          ],
          "mesh3d": [
           {
            "colorbar": {
             "outlinewidth": 0,
             "ticks": ""
            },
            "type": "mesh3d"
           }
          ],
          "parcoords": [
           {
            "line": {
             "colorbar": {
              "outlinewidth": 0,
              "ticks": ""
             }
            },
            "type": "parcoords"
           }
          ],
          "pie": [
           {
            "automargin": true,
            "type": "pie"
           }
          ],
          "scatter": [
           {
            "marker": {
             "colorbar": {
              "outlinewidth": 0,
              "ticks": ""
             }
            },
            "type": "scatter"
           }
          ],
          "scatter3d": [
           {
            "line": {
             "colorbar": {
              "outlinewidth": 0,
              "ticks": ""
             }
            },
            "marker": {
             "colorbar": {
              "outlinewidth": 0,
              "ticks": ""
             }
            },
            "type": "scatter3d"
           }
          ],
          "scattercarpet": [
           {
            "marker": {
             "colorbar": {
              "outlinewidth": 0,
              "ticks": ""
             }
            },
            "type": "scattercarpet"
           }
          ],
          "scattergeo": [
           {
            "marker": {
             "colorbar": {
              "outlinewidth": 0,
              "ticks": ""
             }
            },
            "type": "scattergeo"
           }
          ],
          "scattergl": [
           {
            "marker": {
             "colorbar": {
              "outlinewidth": 0,
              "ticks": ""
             }
            },
            "type": "scattergl"
           }
          ],
          "scattermapbox": [
           {
            "marker": {
             "colorbar": {
              "outlinewidth": 0,
              "ticks": ""
             }
            },
            "type": "scattermapbox"
           }
          ],
          "scatterpolar": [
           {
            "marker": {
             "colorbar": {
              "outlinewidth": 0,
              "ticks": ""
             }
            },
            "type": "scatterpolar"
           }
          ],
          "scatterpolargl": [
           {
            "marker": {
             "colorbar": {
              "outlinewidth": 0,
              "ticks": ""
             }
            },
            "type": "scatterpolargl"
           }
          ],
          "scatterternary": [
           {
            "marker": {
             "colorbar": {
              "outlinewidth": 0,
              "ticks": ""
             }
            },
            "type": "scatterternary"
           }
          ],
          "surface": [
           {
            "colorbar": {
             "outlinewidth": 0,
             "ticks": ""
            },
            "colorscale": [
             [
              0,
              "#0d0887"
             ],
             [
              0.1111111111111111,
              "#46039f"
             ],
             [
              0.2222222222222222,
              "#7201a8"
             ],
             [
              0.3333333333333333,
              "#9c179e"
             ],
             [
              0.4444444444444444,
              "#bd3786"
             ],
             [
              0.5555555555555556,
              "#d8576b"
             ],
             [
              0.6666666666666666,
              "#ed7953"
             ],
             [
              0.7777777777777778,
              "#fb9f3a"
             ],
             [
              0.8888888888888888,
              "#fdca26"
             ],
             [
              1,
              "#f0f921"
             ]
            ],
            "type": "surface"
           }
          ],
          "table": [
           {
            "cells": {
             "fill": {
              "color": "#EBF0F8"
             },
             "line": {
              "color": "white"
             }
            },
            "header": {
             "fill": {
              "color": "#C8D4E3"
             },
             "line": {
              "color": "white"
             }
            },
            "type": "table"
           }
          ]
         },
         "layout": {
          "annotationdefaults": {
           "arrowcolor": "#2a3f5f",
           "arrowhead": 0,
           "arrowwidth": 1
          },
          "autotypenumbers": "strict",
          "coloraxis": {
           "colorbar": {
            "outlinewidth": 0,
            "ticks": ""
           }
          },
          "colorscale": {
           "diverging": [
            [
             0,
             "#8e0152"
            ],
            [
             0.1,
             "#c51b7d"
            ],
            [
             0.2,
             "#de77ae"
            ],
            [
             0.3,
             "#f1b6da"
            ],
            [
             0.4,
             "#fde0ef"
            ],
            [
             0.5,
             "#f7f7f7"
            ],
            [
             0.6,
             "#e6f5d0"
            ],
            [
             0.7,
             "#b8e186"
            ],
            [
             0.8,
             "#7fbc41"
            ],
            [
             0.9,
             "#4d9221"
            ],
            [
             1,
             "#276419"
            ]
           ],
           "sequential": [
            [
             0,
             "#0d0887"
            ],
            [
             0.1111111111111111,
             "#46039f"
            ],
            [
             0.2222222222222222,
             "#7201a8"
            ],
            [
             0.3333333333333333,
             "#9c179e"
            ],
            [
             0.4444444444444444,
             "#bd3786"
            ],
            [
             0.5555555555555556,
             "#d8576b"
            ],
            [
             0.6666666666666666,
             "#ed7953"
            ],
            [
             0.7777777777777778,
             "#fb9f3a"
            ],
            [
             0.8888888888888888,
             "#fdca26"
            ],
            [
             1,
             "#f0f921"
            ]
           ],
           "sequentialminus": [
            [
             0,
             "#0d0887"
            ],
            [
             0.1111111111111111,
             "#46039f"
            ],
            [
             0.2222222222222222,
             "#7201a8"
            ],
            [
             0.3333333333333333,
             "#9c179e"
            ],
            [
             0.4444444444444444,
             "#bd3786"
            ],
            [
             0.5555555555555556,
             "#d8576b"
            ],
            [
             0.6666666666666666,
             "#ed7953"
            ],
            [
             0.7777777777777778,
             "#fb9f3a"
            ],
            [
             0.8888888888888888,
             "#fdca26"
            ],
            [
             1,
             "#f0f921"
            ]
           ]
          },
          "colorway": [
           "#636efa",
           "#EF553B",
           "#00cc96",
           "#ab63fa",
           "#FFA15A",
           "#19d3f3",
           "#FF6692",
           "#B6E880",
           "#FF97FF",
           "#FECB52"
          ],
          "font": {
           "color": "#2a3f5f"
          },
          "geo": {
           "bgcolor": "white",
           "lakecolor": "white",
           "landcolor": "#E5ECF6",
           "showlakes": true,
           "showland": true,
           "subunitcolor": "white"
          },
          "hoverlabel": {
           "align": "left"
          },
          "hovermode": "closest",
          "mapbox": {
           "style": "light"
          },
          "paper_bgcolor": "white",
          "plot_bgcolor": "#E5ECF6",
          "polar": {
           "angularaxis": {
            "gridcolor": "white",
            "linecolor": "white",
            "ticks": ""
           },
           "bgcolor": "#E5ECF6",
           "radialaxis": {
            "gridcolor": "white",
            "linecolor": "white",
            "ticks": ""
           }
          },
          "scene": {
           "xaxis": {
            "backgroundcolor": "#E5ECF6",
            "gridcolor": "white",
            "gridwidth": 2,
            "linecolor": "white",
            "showbackground": true,
            "ticks": "",
            "zerolinecolor": "white"
           },
           "yaxis": {
            "backgroundcolor": "#E5ECF6",
            "gridcolor": "white",
            "gridwidth": 2,
            "linecolor": "white",
            "showbackground": true,
            "ticks": "",
            "zerolinecolor": "white"
           },
           "zaxis": {
            "backgroundcolor": "#E5ECF6",
            "gridcolor": "white",
            "gridwidth": 2,
            "linecolor": "white",
            "showbackground": true,
            "ticks": "",
            "zerolinecolor": "white"
           }
          },
          "shapedefaults": {
           "line": {
            "color": "#2a3f5f"
           }
          },
          "ternary": {
           "aaxis": {
            "gridcolor": "white",
            "linecolor": "white",
            "ticks": ""
           },
           "baxis": {
            "gridcolor": "white",
            "linecolor": "white",
            "ticks": ""
           },
           "bgcolor": "#E5ECF6",
           "caxis": {
            "gridcolor": "white",
            "linecolor": "white",
            "ticks": ""
           }
          },
          "title": {
           "x": 0.05
          },
          "xaxis": {
           "automargin": true,
           "gridcolor": "white",
           "linecolor": "white",
           "ticks": "",
           "title": {
            "standoff": 15
           },
           "zerolinecolor": "white",
           "zerolinewidth": 2
          },
          "yaxis": {
           "automargin": true,
           "gridcolor": "white",
           "linecolor": "white",
           "ticks": "",
           "title": {
            "standoff": 15
           },
           "zerolinecolor": "white",
           "zerolinewidth": 2
          }
         }
        },
        "title": {
         "font": {
          "color": "#222",
          "size": 35
         },
         "text": "Store Sales Summary",
         "x": 0.5,
         "y": 0.9
        },
        "width": 700,
        "xaxis": {
         "range": [
          -0.5,
          3.6
         ],
         "visible": false
        },
        "yaxis": {
         "range": [
          -0.2,
          2.2
         ],
         "visible": false
        }
       }
      },
      "text/html": [
       "<div>                            <div id=\"9019326d-4d7d-4f67-82ac-75550e6a06b6\" class=\"plotly-graph-div\" style=\"height:300px; width:700px;\"></div>            <script type=\"text/javascript\">                require([\"plotly\"], function(Plotly) {                    window.PLOTLYENV=window.PLOTLYENV || {};                                    if (document.getElementById(\"9019326d-4d7d-4f67-82ac-75550e6a06b6\")) {                    Plotly.newPlot(                        \"9019326d-4d7d-4f67-82ac-75550e6a06b6\",                        [{\"mode\":\"text\",\"text\":[\"<span style='font-size:33px'><b>54</b></span>\",\"<span style='font-size:33px'><b>33</b></span>\",\"<span style='font-size:33px'><b>16</b></span>\",\"<span style='font-size:33px'><b>56</b></span>\"],\"textposition\":\"bottom center\",\"x\":[0,1,2,3],\"y\":[1.6,1.6,1.6,1.6],\"type\":\"scatter\"},{\"mode\":\"text\",\"text\":[\"Stores\",\"Products\",\"States\",\"Months\"],\"textposition\":\"bottom center\",\"x\":[0,1,2,3],\"y\":[1.1,1.1,1.1,1.1],\"type\":\"scatter\"}],                        {\"template\":{\"data\":{\"bar\":[{\"error_x\":{\"color\":\"#2a3f5f\"},\"error_y\":{\"color\":\"#2a3f5f\"},\"marker\":{\"line\":{\"color\":\"#E5ECF6\",\"width\":0.5},\"pattern\":{\"fillmode\":\"overlay\",\"size\":10,\"solidity\":0.2}},\"type\":\"bar\"}],\"barpolar\":[{\"marker\":{\"line\":{\"color\":\"#E5ECF6\",\"width\":0.5},\"pattern\":{\"fillmode\":\"overlay\",\"size\":10,\"solidity\":0.2}},\"type\":\"barpolar\"}],\"carpet\":[{\"aaxis\":{\"endlinecolor\":\"#2a3f5f\",\"gridcolor\":\"white\",\"linecolor\":\"white\",\"minorgridcolor\":\"white\",\"startlinecolor\":\"#2a3f5f\"},\"baxis\":{\"endlinecolor\":\"#2a3f5f\",\"gridcolor\":\"white\",\"linecolor\":\"white\",\"minorgridcolor\":\"white\",\"startlinecolor\":\"#2a3f5f\"},\"type\":\"carpet\"}],\"choropleth\":[{\"colorbar\":{\"outlinewidth\":0,\"ticks\":\"\"},\"type\":\"choropleth\"}],\"contour\":[{\"colorbar\":{\"outlinewidth\":0,\"ticks\":\"\"},\"colorscale\":[[0.0,\"#0d0887\"],[0.1111111111111111,\"#46039f\"],[0.2222222222222222,\"#7201a8\"],[0.3333333333333333,\"#9c179e\"],[0.4444444444444444,\"#bd3786\"],[0.5555555555555556,\"#d8576b\"],[0.6666666666666666,\"#ed7953\"],[0.7777777777777778,\"#fb9f3a\"],[0.8888888888888888,\"#fdca26\"],[1.0,\"#f0f921\"]],\"type\":\"contour\"}],\"contourcarpet\":[{\"colorbar\":{\"outlinewidth\":0,\"ticks\":\"\"},\"type\":\"contourcarpet\"}],\"heatmap\":[{\"colorbar\":{\"outlinewidth\":0,\"ticks\":\"\"},\"colorscale\":[[0.0,\"#0d0887\"],[0.1111111111111111,\"#46039f\"],[0.2222222222222222,\"#7201a8\"],[0.3333333333333333,\"#9c179e\"],[0.4444444444444444,\"#bd3786\"],[0.5555555555555556,\"#d8576b\"],[0.6666666666666666,\"#ed7953\"],[0.7777777777777778,\"#fb9f3a\"],[0.8888888888888888,\"#fdca26\"],[1.0,\"#f0f921\"]],\"type\":\"heatmap\"}],\"heatmapgl\":[{\"colorbar\":{\"outlinewidth\":0,\"ticks\":\"\"},\"colorscale\":[[0.0,\"#0d0887\"],[0.1111111111111111,\"#46039f\"],[0.2222222222222222,\"#7201a8\"],[0.3333333333333333,\"#9c179e\"],[0.4444444444444444,\"#bd3786\"],[0.5555555555555556,\"#d8576b\"],[0.6666666666666666,\"#ed7953\"],[0.7777777777777778,\"#fb9f3a\"],[0.8888888888888888,\"#fdca26\"],[1.0,\"#f0f921\"]],\"type\":\"heatmapgl\"}],\"histogram\":[{\"marker\":{\"pattern\":{\"fillmode\":\"overlay\",\"size\":10,\"solidity\":0.2}},\"type\":\"histogram\"}],\"histogram2d\":[{\"colorbar\":{\"outlinewidth\":0,\"ticks\":\"\"},\"colorscale\":[[0.0,\"#0d0887\"],[0.1111111111111111,\"#46039f\"],[0.2222222222222222,\"#7201a8\"],[0.3333333333333333,\"#9c179e\"],[0.4444444444444444,\"#bd3786\"],[0.5555555555555556,\"#d8576b\"],[0.6666666666666666,\"#ed7953\"],[0.7777777777777778,\"#fb9f3a\"],[0.8888888888888888,\"#fdca26\"],[1.0,\"#f0f921\"]],\"type\":\"histogram2d\"}],\"histogram2dcontour\":[{\"colorbar\":{\"outlinewidth\":0,\"ticks\":\"\"},\"colorscale\":[[0.0,\"#0d0887\"],[0.1111111111111111,\"#46039f\"],[0.2222222222222222,\"#7201a8\"],[0.3333333333333333,\"#9c179e\"],[0.4444444444444444,\"#bd3786\"],[0.5555555555555556,\"#d8576b\"],[0.6666666666666666,\"#ed7953\"],[0.7777777777777778,\"#fb9f3a\"],[0.8888888888888888,\"#fdca26\"],[1.0,\"#f0f921\"]],\"type\":\"histogram2dcontour\"}],\"mesh3d\":[{\"colorbar\":{\"outlinewidth\":0,\"ticks\":\"\"},\"type\":\"mesh3d\"}],\"parcoords\":[{\"line\":{\"colorbar\":{\"outlinewidth\":0,\"ticks\":\"\"}},\"type\":\"parcoords\"}],\"pie\":[{\"automargin\":true,\"type\":\"pie\"}],\"scatter\":[{\"marker\":{\"colorbar\":{\"outlinewidth\":0,\"ticks\":\"\"}},\"type\":\"scatter\"}],\"scatter3d\":[{\"line\":{\"colorbar\":{\"outlinewidth\":0,\"ticks\":\"\"}},\"marker\":{\"colorbar\":{\"outlinewidth\":0,\"ticks\":\"\"}},\"type\":\"scatter3d\"}],\"scattercarpet\":[{\"marker\":{\"colorbar\":{\"outlinewidth\":0,\"ticks\":\"\"}},\"type\":\"scattercarpet\"}],\"scattergeo\":[{\"marker\":{\"colorbar\":{\"outlinewidth\":0,\"ticks\":\"\"}},\"type\":\"scattergeo\"}],\"scattergl\":[{\"marker\":{\"colorbar\":{\"outlinewidth\":0,\"ticks\":\"\"}},\"type\":\"scattergl\"}],\"scattermapbox\":[{\"marker\":{\"colorbar\":{\"outlinewidth\":0,\"ticks\":\"\"}},\"type\":\"scattermapbox\"}],\"scatterpolar\":[{\"marker\":{\"colorbar\":{\"outlinewidth\":0,\"ticks\":\"\"}},\"type\":\"scatterpolar\"}],\"scatterpolargl\":[{\"marker\":{\"colorbar\":{\"outlinewidth\":0,\"ticks\":\"\"}},\"type\":\"scatterpolargl\"}],\"scatterternary\":[{\"marker\":{\"colorbar\":{\"outlinewidth\":0,\"ticks\":\"\"}},\"type\":\"scatterternary\"}],\"surface\":[{\"colorbar\":{\"outlinewidth\":0,\"ticks\":\"\"},\"colorscale\":[[0.0,\"#0d0887\"],[0.1111111111111111,\"#46039f\"],[0.2222222222222222,\"#7201a8\"],[0.3333333333333333,\"#9c179e\"],[0.4444444444444444,\"#bd3786\"],[0.5555555555555556,\"#d8576b\"],[0.6666666666666666,\"#ed7953\"],[0.7777777777777778,\"#fb9f3a\"],[0.8888888888888888,\"#fdca26\"],[1.0,\"#f0f921\"]],\"type\":\"surface\"}],\"table\":[{\"cells\":{\"fill\":{\"color\":\"#EBF0F8\"},\"line\":{\"color\":\"white\"}},\"header\":{\"fill\":{\"color\":\"#C8D4E3\"},\"line\":{\"color\":\"white\"}},\"type\":\"table\"}]},\"layout\":{\"annotationdefaults\":{\"arrowcolor\":\"#2a3f5f\",\"arrowhead\":0,\"arrowwidth\":1},\"autotypenumbers\":\"strict\",\"coloraxis\":{\"colorbar\":{\"outlinewidth\":0,\"ticks\":\"\"}},\"colorscale\":{\"diverging\":[[0,\"#8e0152\"],[0.1,\"#c51b7d\"],[0.2,\"#de77ae\"],[0.3,\"#f1b6da\"],[0.4,\"#fde0ef\"],[0.5,\"#f7f7f7\"],[0.6,\"#e6f5d0\"],[0.7,\"#b8e186\"],[0.8,\"#7fbc41\"],[0.9,\"#4d9221\"],[1,\"#276419\"]],\"sequential\":[[0.0,\"#0d0887\"],[0.1111111111111111,\"#46039f\"],[0.2222222222222222,\"#7201a8\"],[0.3333333333333333,\"#9c179e\"],[0.4444444444444444,\"#bd3786\"],[0.5555555555555556,\"#d8576b\"],[0.6666666666666666,\"#ed7953\"],[0.7777777777777778,\"#fb9f3a\"],[0.8888888888888888,\"#fdca26\"],[1.0,\"#f0f921\"]],\"sequentialminus\":[[0.0,\"#0d0887\"],[0.1111111111111111,\"#46039f\"],[0.2222222222222222,\"#7201a8\"],[0.3333333333333333,\"#9c179e\"],[0.4444444444444444,\"#bd3786\"],[0.5555555555555556,\"#d8576b\"],[0.6666666666666666,\"#ed7953\"],[0.7777777777777778,\"#fb9f3a\"],[0.8888888888888888,\"#fdca26\"],[1.0,\"#f0f921\"]]},\"colorway\":[\"#636efa\",\"#EF553B\",\"#00cc96\",\"#ab63fa\",\"#FFA15A\",\"#19d3f3\",\"#FF6692\",\"#B6E880\",\"#FF97FF\",\"#FECB52\"],\"font\":{\"color\":\"#2a3f5f\"},\"geo\":{\"bgcolor\":\"white\",\"lakecolor\":\"white\",\"landcolor\":\"#E5ECF6\",\"showlakes\":true,\"showland\":true,\"subunitcolor\":\"white\"},\"hoverlabel\":{\"align\":\"left\"},\"hovermode\":\"closest\",\"mapbox\":{\"style\":\"light\"},\"paper_bgcolor\":\"white\",\"plot_bgcolor\":\"#E5ECF6\",\"polar\":{\"angularaxis\":{\"gridcolor\":\"white\",\"linecolor\":\"white\",\"ticks\":\"\"},\"bgcolor\":\"#E5ECF6\",\"radialaxis\":{\"gridcolor\":\"white\",\"linecolor\":\"white\",\"ticks\":\"\"}},\"scene\":{\"xaxis\":{\"backgroundcolor\":\"#E5ECF6\",\"gridcolor\":\"white\",\"gridwidth\":2,\"linecolor\":\"white\",\"showbackground\":true,\"ticks\":\"\",\"zerolinecolor\":\"white\"},\"yaxis\":{\"backgroundcolor\":\"#E5ECF6\",\"gridcolor\":\"white\",\"gridwidth\":2,\"linecolor\":\"white\",\"showbackground\":true,\"ticks\":\"\",\"zerolinecolor\":\"white\"},\"zaxis\":{\"backgroundcolor\":\"#E5ECF6\",\"gridcolor\":\"white\",\"gridwidth\":2,\"linecolor\":\"white\",\"showbackground\":true,\"ticks\":\"\",\"zerolinecolor\":\"white\"}},\"shapedefaults\":{\"line\":{\"color\":\"#2a3f5f\"}},\"ternary\":{\"aaxis\":{\"gridcolor\":\"white\",\"linecolor\":\"white\",\"ticks\":\"\"},\"baxis\":{\"gridcolor\":\"white\",\"linecolor\":\"white\",\"ticks\":\"\"},\"bgcolor\":\"#E5ECF6\",\"caxis\":{\"gridcolor\":\"white\",\"linecolor\":\"white\",\"ticks\":\"\"}},\"title\":{\"x\":0.05},\"xaxis\":{\"automargin\":true,\"gridcolor\":\"white\",\"linecolor\":\"white\",\"ticks\":\"\",\"title\":{\"standoff\":15},\"zerolinecolor\":\"white\",\"zerolinewidth\":2},\"yaxis\":{\"automargin\":true,\"gridcolor\":\"white\",\"linecolor\":\"white\",\"ticks\":\"\",\"title\":{\"standoff\":15},\"zerolinecolor\":\"white\",\"zerolinewidth\":2}}},\"shapes\":[{\"line\":{\"color\":\"gray\",\"width\":5},\"type\":\"line\",\"x0\":0,\"x1\":1,\"xref\":\"x domain\",\"y0\":2.2,\"y1\":2.2,\"yref\":\"y\"},{\"line\":{\"color\":\"gray\",\"width\":3},\"type\":\"line\",\"x0\":0,\"x1\":1,\"xref\":\"x domain\",\"y0\":0.3,\"y1\":0.3,\"yref\":\"y\"}],\"yaxis\":{\"visible\":false,\"range\":[-0.2,2.2]},\"xaxis\":{\"visible\":false,\"range\":[-0.5,3.6]},\"title\":{\"text\":\"Store Sales Summary\",\"x\":0.5,\"y\":0.9,\"font\":{\"size\":35,\"color\":\"#222\"}},\"font\":{\"size\":23,\"color\":\"#323232\"},\"margin\":{\"t\":90,\"l\":70,\"b\":0,\"r\":70},\"showlegend\":false,\"height\":300,\"width\":700,\"plot_bgcolor\":\"#fafafa\",\"paper_bgcolor\":\"#fafafa\"},                        {\"responsive\": true}                    ).then(function(){\n",
       "                            \n",
       "var gd = document.getElementById('9019326d-4d7d-4f67-82ac-75550e6a06b6');\n",
       "var x = new MutationObserver(function (mutations, observer) {{\n",
       "        var display = window.getComputedStyle(gd).display;\n",
       "        if (!display || display === 'none') {{\n",
       "            console.log([gd, 'removed!']);\n",
       "            Plotly.purge(gd);\n",
       "            observer.disconnect();\n",
       "        }}\n",
       "}});\n",
       "\n",
       "// Listen for the removal of the full notebook cells\n",
       "var notebookContainer = gd.closest('#notebook-container');\n",
       "if (notebookContainer) {{\n",
       "    x.observe(notebookContainer, {childList: true});\n",
       "}}\n",
       "\n",
       "// Listen for the clearing of the current output cell\n",
       "var outputEl = gd.closest('.output');\n",
       "if (outputEl) {{\n",
       "    x.observe(outputEl, {childList: true});\n",
       "}}\n",
       "\n",
       "                        })                };                });            </script>        </div>"
      ]
     },
     "metadata": {},
     "output_type": "display_data"
    }
   ],
   "source": [
    "fig=go.Figure()\n",
    "fig.add_trace(go.Scatter(\n",
    "    x=[0, 1, 2, 3],\n",
    "    y=[1.6, 1.6, 1.6, 1.6],\n",
    "    mode=\"text\", \n",
    "    text=[\"<span style='font-size:33px'><b>54</b></span>\", \n",
    "          \"<span style='font-size:33px'><b>33</b></span>\",\n",
    "          \"<span style='font-size:33px'><b>16</b></span>\",\n",
    "          \"<span style='font-size:33px'><b>56</b></span>\"],\n",
    "    textposition=\"bottom center\"\n",
    "))\n",
    "fig.add_trace(go.Scatter(\n",
    "    x=[0, 1, 2, 3],\n",
    "    y=[1.1, 1.1, 1.1, 1.1],\n",
    "    mode=\"text\", \n",
    "    text=[\"Stores\", \"Products\", \"States\", \"Months\"],\n",
    "    textposition=\"bottom center\"\n",
    "))\n",
    "fig.add_hline(y=2.2, line_width=5, line_color='gray')\n",
    "fig.add_hline(y=0.3, line_width=3, line_color='gray')\n",
    "fig.update_yaxes(visible=False)\n",
    "fig.update_xaxes(visible=False)\n",
    "fig.update_layout(showlegend=False, height=300, width=700, \n",
    "                  title='Store Sales Summary', title_x=0.5, title_y=0.9,\n",
    "                  xaxis_range=[-0.5,3.6], yaxis_range=[-0.2,2.2],\n",
    "                  plot_bgcolor='#fafafa', paper_bgcolor='#fafafa',\n",
    "                  font=dict(size=23, color='#323232'),\n",
    "                  title_font=dict(size=35, color='#222'),\n",
    "                  margin=dict(t=90,l=70,b=0,r=70), \n",
    "    )"
   ]
  },
  {
   "cell_type": "code",
   "execution_count": 3,
   "metadata": {},
   "outputs": [],
   "source": [
    "df_holi = pd.read_csv('F:/Data_AI/store-sales-time-series-forecasting/holidays_events.csv')\n",
    "df_oil = pd.read_csv('F:/Data_AI/store-sales-time-series-forecasting/oil.csv')\n",
    "df_stores = pd.read_csv('F:/Data_AI/store-sales-time-series-forecasting/stores.csv')\n",
    "df_trans = pd.read_csv('F:/Data_AI/store-sales-time-series-forecasting/transactions.csv')\n",
    "\n",
    "df_train = pd.read_csv('F:/Data_AI/store-sales-time-series-forecasting/train.csv')\n",
    "df_test = pd.read_csv('F:/Data_AI/store-sales-time-series-forecasting/test.csv')"
   ]
  },
  {
   "cell_type": "code",
   "execution_count": 4,
   "metadata": {},
   "outputs": [
    {
     "data": {
      "text/html": [
       "<div>\n",
       "<style scoped>\n",
       "    .dataframe tbody tr th:only-of-type {\n",
       "        vertical-align: middle;\n",
       "    }\n",
       "\n",
       "    .dataframe tbody tr th {\n",
       "        vertical-align: top;\n",
       "    }\n",
       "\n",
       "    .dataframe thead th {\n",
       "        text-align: right;\n",
       "    }\n",
       "</style>\n",
       "<table border=\"1\" class=\"dataframe\">\n",
       "  <thead>\n",
       "    <tr style=\"text-align: right;\">\n",
       "      <th></th>\n",
       "      <th>id</th>\n",
       "      <th>date</th>\n",
       "      <th>store_nbr</th>\n",
       "      <th>family</th>\n",
       "      <th>sales</th>\n",
       "      <th>onpromotion</th>\n",
       "      <th>holiday_type</th>\n",
       "      <th>locale</th>\n",
       "      <th>locale_name</th>\n",
       "      <th>description</th>\n",
       "      <th>...</th>\n",
       "      <th>city</th>\n",
       "      <th>state</th>\n",
       "      <th>store_type</th>\n",
       "      <th>cluster</th>\n",
       "      <th>transactions</th>\n",
       "      <th>year</th>\n",
       "      <th>month</th>\n",
       "      <th>week</th>\n",
       "      <th>quarter</th>\n",
       "      <th>day_of_week</th>\n",
       "    </tr>\n",
       "  </thead>\n",
       "  <tbody>\n",
       "    <tr>\n",
       "      <th>0</th>\n",
       "      <td>0</td>\n",
       "      <td>2013-01-01</td>\n",
       "      <td>1</td>\n",
       "      <td>AUTOMOTIVE</td>\n",
       "      <td>0.0</td>\n",
       "      <td>0</td>\n",
       "      <td>Holiday</td>\n",
       "      <td>National</td>\n",
       "      <td>Ecuador</td>\n",
       "      <td>Primer dia del ano</td>\n",
       "      <td>...</td>\n",
       "      <td>Quito</td>\n",
       "      <td>Pichincha</td>\n",
       "      <td>D</td>\n",
       "      <td>13</td>\n",
       "      <td>NaN</td>\n",
       "      <td>2013</td>\n",
       "      <td>1</td>\n",
       "      <td>1</td>\n",
       "      <td>1</td>\n",
       "      <td>Tuesday</td>\n",
       "    </tr>\n",
       "    <tr>\n",
       "      <th>1</th>\n",
       "      <td>1</td>\n",
       "      <td>2013-01-01</td>\n",
       "      <td>1</td>\n",
       "      <td>BABY CARE</td>\n",
       "      <td>0.0</td>\n",
       "      <td>0</td>\n",
       "      <td>Holiday</td>\n",
       "      <td>National</td>\n",
       "      <td>Ecuador</td>\n",
       "      <td>Primer dia del ano</td>\n",
       "      <td>...</td>\n",
       "      <td>Quito</td>\n",
       "      <td>Pichincha</td>\n",
       "      <td>D</td>\n",
       "      <td>13</td>\n",
       "      <td>NaN</td>\n",
       "      <td>2013</td>\n",
       "      <td>1</td>\n",
       "      <td>1</td>\n",
       "      <td>1</td>\n",
       "      <td>Tuesday</td>\n",
       "    </tr>\n",
       "    <tr>\n",
       "      <th>2</th>\n",
       "      <td>2</td>\n",
       "      <td>2013-01-01</td>\n",
       "      <td>1</td>\n",
       "      <td>BEAUTY</td>\n",
       "      <td>0.0</td>\n",
       "      <td>0</td>\n",
       "      <td>Holiday</td>\n",
       "      <td>National</td>\n",
       "      <td>Ecuador</td>\n",
       "      <td>Primer dia del ano</td>\n",
       "      <td>...</td>\n",
       "      <td>Quito</td>\n",
       "      <td>Pichincha</td>\n",
       "      <td>D</td>\n",
       "      <td>13</td>\n",
       "      <td>NaN</td>\n",
       "      <td>2013</td>\n",
       "      <td>1</td>\n",
       "      <td>1</td>\n",
       "      <td>1</td>\n",
       "      <td>Tuesday</td>\n",
       "    </tr>\n",
       "    <tr>\n",
       "      <th>3</th>\n",
       "      <td>3</td>\n",
       "      <td>2013-01-01</td>\n",
       "      <td>1</td>\n",
       "      <td>BEVERAGES</td>\n",
       "      <td>0.0</td>\n",
       "      <td>0</td>\n",
       "      <td>Holiday</td>\n",
       "      <td>National</td>\n",
       "      <td>Ecuador</td>\n",
       "      <td>Primer dia del ano</td>\n",
       "      <td>...</td>\n",
       "      <td>Quito</td>\n",
       "      <td>Pichincha</td>\n",
       "      <td>D</td>\n",
       "      <td>13</td>\n",
       "      <td>NaN</td>\n",
       "      <td>2013</td>\n",
       "      <td>1</td>\n",
       "      <td>1</td>\n",
       "      <td>1</td>\n",
       "      <td>Tuesday</td>\n",
       "    </tr>\n",
       "    <tr>\n",
       "      <th>4</th>\n",
       "      <td>4</td>\n",
       "      <td>2013-01-01</td>\n",
       "      <td>1</td>\n",
       "      <td>BOOKS</td>\n",
       "      <td>0.0</td>\n",
       "      <td>0</td>\n",
       "      <td>Holiday</td>\n",
       "      <td>National</td>\n",
       "      <td>Ecuador</td>\n",
       "      <td>Primer dia del ano</td>\n",
       "      <td>...</td>\n",
       "      <td>Quito</td>\n",
       "      <td>Pichincha</td>\n",
       "      <td>D</td>\n",
       "      <td>13</td>\n",
       "      <td>NaN</td>\n",
       "      <td>2013</td>\n",
       "      <td>1</td>\n",
       "      <td>1</td>\n",
       "      <td>1</td>\n",
       "      <td>Tuesday</td>\n",
       "    </tr>\n",
       "  </tbody>\n",
       "</table>\n",
       "<p>5 rows × 22 columns</p>\n",
       "</div>"
      ],
      "text/plain": [
       "   id       date  store_nbr      family  sales  onpromotion holiday_type  \\\n",
       "0   0 2013-01-01          1  AUTOMOTIVE    0.0            0      Holiday   \n",
       "1   1 2013-01-01          1   BABY CARE    0.0            0      Holiday   \n",
       "2   2 2013-01-01          1      BEAUTY    0.0            0      Holiday   \n",
       "3   3 2013-01-01          1   BEVERAGES    0.0            0      Holiday   \n",
       "4   4 2013-01-01          1       BOOKS    0.0            0      Holiday   \n",
       "\n",
       "     locale locale_name         description  ...   city      state store_type  \\\n",
       "0  National     Ecuador  Primer dia del ano  ...  Quito  Pichincha          D   \n",
       "1  National     Ecuador  Primer dia del ano  ...  Quito  Pichincha          D   \n",
       "2  National     Ecuador  Primer dia del ano  ...  Quito  Pichincha          D   \n",
       "3  National     Ecuador  Primer dia del ano  ...  Quito  Pichincha          D   \n",
       "4  National     Ecuador  Primer dia del ano  ...  Quito  Pichincha          D   \n",
       "\n",
       "  cluster transactions  year  month  week  quarter  day_of_week  \n",
       "0      13          NaN  2013      1     1        1      Tuesday  \n",
       "1      13          NaN  2013      1     1        1      Tuesday  \n",
       "2      13          NaN  2013      1     1        1      Tuesday  \n",
       "3      13          NaN  2013      1     1        1      Tuesday  \n",
       "4      13          NaN  2013      1     1        1      Tuesday  \n",
       "\n",
       "[5 rows x 22 columns]"
      ]
     },
     "execution_count": 4,
     "metadata": {},
     "output_type": "execute_result"
    }
   ],
   "source": [
    "# copying of train data and merging other data\n",
    "df_train1 = df_train.merge(df_holi, on = 'date', how='left')\n",
    "df_train1 = df_train1.merge(df_oil, on = 'date', how='left')\n",
    "df_train1 = df_train1.merge(df_stores, on = 'store_nbr', how='left')\n",
    "df_train1 = df_train1.merge(df_trans, on = ['date', 'store_nbr'], how='left')\n",
    "df_train1 = df_train1.rename(columns = {\"type_x\" : \"holiday_type\", \"type_y\" : \"store_type\"})\n",
    "\n",
    "df_train1['date'] = pd.to_datetime(df_train1['date'])\n",
    "df_train1['year'] = df_train1['date'].dt.year\n",
    "df_train1['month'] = df_train1['date'].dt.month\n",
    "df_train1['week'] = df_train1['date'].dt.isocalendar().week\n",
    "df_train1['quarter'] = df_train1['date'].dt.quarter\n",
    "df_train1['day_of_week'] = df_train1['date'].dt.day_name()\n",
    "df_train1[:5]"
   ]
  },
  {
   "cell_type": "code",
   "execution_count": 5,
   "metadata": {
    "scrolled": true
   },
   "outputs": [
    {
     "data": {
      "application/vnd.plotly.v1+json": {
       "config": {
        "plotlyServerURL": "https://plotly.com"
       },
       "data": [
        {
         "marker": {
          "color": [
           "#496595",
           "#496595",
           "#c6ccd8",
           "#c6ccd8",
           "#c6ccd8",
           "#c6ccd8",
           "#c6ccd8",
           "#c6ccd8",
           "#c6ccd8",
           "#c6ccd8"
          ]
         },
         "name": "Family",
         "orientation": "h",
         "type": "bar",
         "x": [
          3790.432797333506,
          2394.9127014996325,
          1355.373698355266,
          1074.1715177838282,
          711.175990751545,
          464.1506115749276,
          351.07881594741565,
          341.96590481506223,
          271.1923808289036,
          265.6297463669238
         ],
         "xaxis": "x",
         "y": [
          "GROCERY I",
          "BEVERAGES",
          "PRODUCE",
          "CLEANING",
          "DAIRY",
          "BREAD/BAKERY",
          "POULTRY",
          "MEATS",
          "PERSONAL CARE",
          "DELI"
         ],
         "yaxis": "y"
        },
        {
         "domain": {
          "x": [
           0.706,
           1
          ],
          "y": [
           0.5,
           1
          ]
         },
         "hole": 0.7,
         "hoverinfo": "label+percent+value",
         "labels": [
          "A",
          "D",
          "B",
          "E",
          "C"
         ],
         "marker": {
          "colors": [
           "#334668",
           "#496595",
           "#6D83AA",
           "#91A2BF",
           "#C8D0DF"
          ]
         },
         "name": "Store type",
         "textinfo": "label",
         "type": "pie",
         "values": [
          708.3781649559717,
          352.08450973283465,
          328.2752329265379,
          270.2854898836476,
          197.79064658889502
         ]
        },
        {
         "marker": {
          "color": [
           "#c6ccd8",
           "#c6ccd8",
           "#c6ccd8",
           "#c6ccd8",
           "#c6ccd8",
           "#c6ccd8",
           "#c6ccd8",
           "#c6ccd8",
           "#c6ccd8",
           "#c6ccd8",
           "#c6ccd8",
           "#c6ccd8",
           "#c6ccd8",
           "#c6ccd8",
           "#c6ccd8",
           "#c6ccd8",
           "#c6ccd8"
          ]
         },
         "name": "Cluster",
         "type": "bar",
         "x": [
          1,
          2,
          3,
          4,
          5,
          6,
          7,
          8,
          9,
          10,
          11,
          12,
          13,
          14,
          15,
          16,
          17
         ],
         "xaxis": "x2",
         "y": [
          327.0228083130706,
          261.02573067915824,
          194.92653373500934,
          297.5378768160161,
          1120.1184051129558,
          344.3154362257511,
          139.77222164144655,
          648.9760656801386,
          275.7258793625844,
          257.00658549846275,
          605.8296797777955,
          325.59196329993637,
          325.8061691551687,
          710.9223433844145,
          199.44751122110605,
          239.59471866079878,
          594.1066666197447
         ],
         "yaxis": "y2"
        }
       ],
       "layout": {
        "annotations": [
         {
          "font": {
           "size": 16
          },
          "showarrow": false,
          "text": "Top 10 Highest Product Sales",
          "x": 0.34299999999999997,
          "xanchor": "center",
          "xref": "paper",
          "y": 1,
          "yanchor": "bottom",
          "yref": "paper"
         },
         {
          "font": {
           "size": 16
          },
          "showarrow": false,
          "text": "Highest Sales in Stores",
          "x": 0.853,
          "xanchor": "center",
          "xref": "paper",
          "y": 1,
          "yanchor": "bottom",
          "yref": "paper"
         },
         {
          "font": {
           "size": 16
          },
          "showarrow": false,
          "text": "Clusters Vs Sales",
          "x": 0.5,
          "xanchor": "center",
          "xref": "paper",
          "y": 0.5,
          "yanchor": "bottom",
          "yref": "paper"
         }
        ],
        "bargap": 0.2,
        "font": {
         "color": "#8a8d93"
        },
        "height": 500,
        "hoverlabel": {
         "bgcolor": "#f2f2f2",
         "font": {
          "family": "Lato, sans-serif",
          "size": 13
         }
        },
        "margin": {
         "b": 0,
         "l": 20,
         "r": 20
        },
        "showlegend": false,
        "template": {
         "data": {
          "bar": [
           {
            "error_x": {
             "color": "#2a3f5f"
            },
            "error_y": {
             "color": "#2a3f5f"
            },
            "marker": {
             "line": {
              "color": "white",
              "width": 0.5
             },
             "pattern": {
              "fillmode": "overlay",
              "size": 10,
              "solidity": 0.2
             }
            },
            "type": "bar"
           }
          ],
          "barpolar": [
           {
            "marker": {
             "line": {
              "color": "white",
              "width": 0.5
             },
             "pattern": {
              "fillmode": "overlay",
              "size": 10,
              "solidity": 0.2
             }
            },
            "type": "barpolar"
           }
          ],
          "carpet": [
           {
            "aaxis": {
             "endlinecolor": "#2a3f5f",
             "gridcolor": "#C8D4E3",
             "linecolor": "#C8D4E3",
             "minorgridcolor": "#C8D4E3",
             "startlinecolor": "#2a3f5f"
            },
            "baxis": {
             "endlinecolor": "#2a3f5f",
             "gridcolor": "#C8D4E3",
             "linecolor": "#C8D4E3",
             "minorgridcolor": "#C8D4E3",
             "startlinecolor": "#2a3f5f"
            },
            "type": "carpet"
           }
          ],
          "choropleth": [
           {
            "colorbar": {
             "outlinewidth": 0,
             "ticks": ""
            },
            "type": "choropleth"
           }
          ],
          "contour": [
           {
            "colorbar": {
             "outlinewidth": 0,
             "ticks": ""
            },
            "colorscale": [
             [
              0,
              "#0d0887"
             ],
             [
              0.1111111111111111,
              "#46039f"
             ],
             [
              0.2222222222222222,
              "#7201a8"
             ],
             [
              0.3333333333333333,
              "#9c179e"
             ],
             [
              0.4444444444444444,
              "#bd3786"
             ],
             [
              0.5555555555555556,
              "#d8576b"
             ],
             [
              0.6666666666666666,
              "#ed7953"
             ],
             [
              0.7777777777777778,
              "#fb9f3a"
             ],
             [
              0.8888888888888888,
              "#fdca26"
             ],
             [
              1,
              "#f0f921"
             ]
            ],
            "type": "contour"
           }
          ],
          "contourcarpet": [
           {
            "colorbar": {
             "outlinewidth": 0,
             "ticks": ""
            },
            "type": "contourcarpet"
           }
          ],
          "heatmap": [
           {
            "colorbar": {
             "outlinewidth": 0,
             "ticks": ""
            },
            "colorscale": [
             [
              0,
              "#0d0887"
             ],
             [
              0.1111111111111111,
              "#46039f"
             ],
             [
              0.2222222222222222,
              "#7201a8"
             ],
             [
              0.3333333333333333,
              "#9c179e"
             ],
             [
              0.4444444444444444,
              "#bd3786"
             ],
             [
              0.5555555555555556,
              "#d8576b"
             ],
             [
              0.6666666666666666,
              "#ed7953"
             ],
             [
              0.7777777777777778,
              "#fb9f3a"
             ],
             [
              0.8888888888888888,
              "#fdca26"
             ],
             [
              1,
              "#f0f921"
             ]
            ],
            "type": "heatmap"
           }
          ],
          "heatmapgl": [
           {
            "colorbar": {
             "outlinewidth": 0,
             "ticks": ""
            },
            "colorscale": [
             [
              0,
              "#0d0887"
             ],
             [
              0.1111111111111111,
              "#46039f"
             ],
             [
              0.2222222222222222,
              "#7201a8"
             ],
             [
              0.3333333333333333,
              "#9c179e"
             ],
             [
              0.4444444444444444,
              "#bd3786"
             ],
             [
              0.5555555555555556,
              "#d8576b"
             ],
             [
              0.6666666666666666,
              "#ed7953"
             ],
             [
              0.7777777777777778,
              "#fb9f3a"
             ],
             [
              0.8888888888888888,
              "#fdca26"
             ],
             [
              1,
              "#f0f921"
             ]
            ],
            "type": "heatmapgl"
           }
          ],
          "histogram": [
           {
            "marker": {
             "pattern": {
              "fillmode": "overlay",
              "size": 10,
              "solidity": 0.2
             }
            },
            "type": "histogram"
           }
          ],
          "histogram2d": [
           {
            "colorbar": {
             "outlinewidth": 0,
             "ticks": ""
            },
            "colorscale": [
             [
              0,
              "#0d0887"
             ],
             [
              0.1111111111111111,
              "#46039f"
             ],
             [
              0.2222222222222222,
              "#7201a8"
             ],
             [
              0.3333333333333333,
              "#9c179e"
             ],
             [
              0.4444444444444444,
              "#bd3786"
             ],
             [
              0.5555555555555556,
              "#d8576b"
             ],
             [
              0.6666666666666666,
              "#ed7953"
             ],
             [
              0.7777777777777778,
              "#fb9f3a"
             ],
             [
              0.8888888888888888,
              "#fdca26"
             ],
             [
              1,
              "#f0f921"
             ]
            ],
            "type": "histogram2d"
           }
          ],
          "histogram2dcontour": [
           {
            "colorbar": {
             "outlinewidth": 0,
             "ticks": ""
            },
            "colorscale": [
             [
              0,
              "#0d0887"
             ],
             [
              0.1111111111111111,
              "#46039f"
             ],
             [
              0.2222222222222222,
              "#7201a8"
             ],
             [
              0.3333333333333333,
              "#9c179e"
             ],
             [
              0.4444444444444444,
              "#bd3786"
             ],
             [
              0.5555555555555556,
              "#d8576b"
             ],
             [
              0.6666666666666666,
              "#ed7953"
             ],
             [
              0.7777777777777778,
              "#fb9f3a"
             ],
             [
              0.8888888888888888,
              "#fdca26"
             ],
             [
              1,
              "#f0f921"
             ]
            ],
            "type": "histogram2dcontour"
           }
          ],
          "mesh3d": [
           {
            "colorbar": {
             "outlinewidth": 0,
             "ticks": ""
            },
            "type": "mesh3d"
           }
          ],
          "parcoords": [
           {
            "line": {
             "colorbar": {
              "outlinewidth": 0,
              "ticks": ""
             }
            },
            "type": "parcoords"
           }
          ],
          "pie": [
           {
            "automargin": true,
            "type": "pie"
           }
          ],
          "scatter": [
           {
            "marker": {
             "colorbar": {
              "outlinewidth": 0,
              "ticks": ""
             }
            },
            "type": "scatter"
           }
          ],
          "scatter3d": [
           {
            "line": {
             "colorbar": {
              "outlinewidth": 0,
              "ticks": ""
             }
            },
            "marker": {
             "colorbar": {
              "outlinewidth": 0,
              "ticks": ""
             }
            },
            "type": "scatter3d"
           }
          ],
          "scattercarpet": [
           {
            "marker": {
             "colorbar": {
              "outlinewidth": 0,
              "ticks": ""
             }
            },
            "type": "scattercarpet"
           }
          ],
          "scattergeo": [
           {
            "marker": {
             "colorbar": {
              "outlinewidth": 0,
              "ticks": ""
             }
            },
            "type": "scattergeo"
           }
          ],
          "scattergl": [
           {
            "marker": {
             "colorbar": {
              "outlinewidth": 0,
              "ticks": ""
             }
            },
            "type": "scattergl"
           }
          ],
          "scattermapbox": [
           {
            "marker": {
             "colorbar": {
              "outlinewidth": 0,
              "ticks": ""
             }
            },
            "type": "scattermapbox"
           }
          ],
          "scatterpolar": [
           {
            "marker": {
             "colorbar": {
              "outlinewidth": 0,
              "ticks": ""
             }
            },
            "type": "scatterpolar"
           }
          ],
          "scatterpolargl": [
           {
            "marker": {
             "colorbar": {
              "outlinewidth": 0,
              "ticks": ""
             }
            },
            "type": "scatterpolargl"
           }
          ],
          "scatterternary": [
           {
            "marker": {
             "colorbar": {
              "outlinewidth": 0,
              "ticks": ""
             }
            },
            "type": "scatterternary"
           }
          ],
          "surface": [
           {
            "colorbar": {
             "outlinewidth": 0,
             "ticks": ""
            },
            "colorscale": [
             [
              0,
              "#0d0887"
             ],
             [
              0.1111111111111111,
              "#46039f"
             ],
             [
              0.2222222222222222,
              "#7201a8"
             ],
             [
              0.3333333333333333,
              "#9c179e"
             ],
             [
              0.4444444444444444,
              "#bd3786"
             ],
             [
              0.5555555555555556,
              "#d8576b"
             ],
             [
              0.6666666666666666,
              "#ed7953"
             ],
             [
              0.7777777777777778,
              "#fb9f3a"
             ],
             [
              0.8888888888888888,
              "#fdca26"
             ],
             [
              1,
              "#f0f921"
             ]
            ],
            "type": "surface"
           }
          ],
          "table": [
           {
            "cells": {
             "fill": {
              "color": "#EBF0F8"
             },
             "line": {
              "color": "white"
             }
            },
            "header": {
             "fill": {
              "color": "#C8D4E3"
             },
             "line": {
              "color": "white"
             }
            },
            "type": "table"
           }
          ]
         },
         "layout": {
          "annotationdefaults": {
           "arrowcolor": "#2a3f5f",
           "arrowhead": 0,
           "arrowwidth": 1
          },
          "autotypenumbers": "strict",
          "coloraxis": {
           "colorbar": {
            "outlinewidth": 0,
            "ticks": ""
           }
          },
          "colorscale": {
           "diverging": [
            [
             0,
             "#8e0152"
            ],
            [
             0.1,
             "#c51b7d"
            ],
            [
             0.2,
             "#de77ae"
            ],
            [
             0.3,
             "#f1b6da"
            ],
            [
             0.4,
             "#fde0ef"
            ],
            [
             0.5,
             "#f7f7f7"
            ],
            [
             0.6,
             "#e6f5d0"
            ],
            [
             0.7,
             "#b8e186"
            ],
            [
             0.8,
             "#7fbc41"
            ],
            [
             0.9,
             "#4d9221"
            ],
            [
             1,
             "#276419"
            ]
           ],
           "sequential": [
            [
             0,
             "#0d0887"
            ],
            [
             0.1111111111111111,
             "#46039f"
            ],
            [
             0.2222222222222222,
             "#7201a8"
            ],
            [
             0.3333333333333333,
             "#9c179e"
            ],
            [
             0.4444444444444444,
             "#bd3786"
            ],
            [
             0.5555555555555556,
             "#d8576b"
            ],
            [
             0.6666666666666666,
             "#ed7953"
            ],
            [
             0.7777777777777778,
             "#fb9f3a"
            ],
            [
             0.8888888888888888,
             "#fdca26"
            ],
            [
             1,
             "#f0f921"
            ]
           ],
           "sequentialminus": [
            [
             0,
             "#0d0887"
            ],
            [
             0.1111111111111111,
             "#46039f"
            ],
            [
             0.2222222222222222,
             "#7201a8"
            ],
            [
             0.3333333333333333,
             "#9c179e"
            ],
            [
             0.4444444444444444,
             "#bd3786"
            ],
            [
             0.5555555555555556,
             "#d8576b"
            ],
            [
             0.6666666666666666,
             "#ed7953"
            ],
            [
             0.7777777777777778,
             "#fb9f3a"
            ],
            [
             0.8888888888888888,
             "#fdca26"
            ],
            [
             1,
             "#f0f921"
            ]
           ]
          },
          "colorway": [
           "#636efa",
           "#EF553B",
           "#00cc96",
           "#ab63fa",
           "#FFA15A",
           "#19d3f3",
           "#FF6692",
           "#B6E880",
           "#FF97FF",
           "#FECB52"
          ],
          "font": {
           "color": "#2a3f5f"
          },
          "geo": {
           "bgcolor": "white",
           "lakecolor": "white",
           "landcolor": "white",
           "showlakes": true,
           "showland": true,
           "subunitcolor": "#C8D4E3"
          },
          "hoverlabel": {
           "align": "left"
          },
          "hovermode": "closest",
          "mapbox": {
           "style": "light"
          },
          "paper_bgcolor": "white",
          "plot_bgcolor": "white",
          "polar": {
           "angularaxis": {
            "gridcolor": "#EBF0F8",
            "linecolor": "#EBF0F8",
            "ticks": ""
           },
           "bgcolor": "white",
           "radialaxis": {
            "gridcolor": "#EBF0F8",
            "linecolor": "#EBF0F8",
            "ticks": ""
           }
          },
          "scene": {
           "xaxis": {
            "backgroundcolor": "white",
            "gridcolor": "#DFE8F3",
            "gridwidth": 2,
            "linecolor": "#EBF0F8",
            "showbackground": true,
            "ticks": "",
            "zerolinecolor": "#EBF0F8"
           },
           "yaxis": {
            "backgroundcolor": "white",
            "gridcolor": "#DFE8F3",
            "gridwidth": 2,
            "linecolor": "#EBF0F8",
            "showbackground": true,
            "ticks": "",
            "zerolinecolor": "#EBF0F8"
           },
           "zaxis": {
            "backgroundcolor": "white",
            "gridcolor": "#DFE8F3",
            "gridwidth": 2,
            "linecolor": "#EBF0F8",
            "showbackground": true,
            "ticks": "",
            "zerolinecolor": "#EBF0F8"
           }
          },
          "shapedefaults": {
           "line": {
            "color": "#2a3f5f"
           }
          },
          "ternary": {
           "aaxis": {
            "gridcolor": "#DFE8F3",
            "linecolor": "#A2B1C6",
            "ticks": ""
           },
           "baxis": {
            "gridcolor": "#DFE8F3",
            "linecolor": "#A2B1C6",
            "ticks": ""
           },
           "bgcolor": "white",
           "caxis": {
            "gridcolor": "#DFE8F3",
            "linecolor": "#A2B1C6",
            "ticks": ""
           }
          },
          "title": {
           "x": 0.05
          },
          "xaxis": {
           "automargin": true,
           "gridcolor": "#EBF0F8",
           "linecolor": "#EBF0F8",
           "ticks": "",
           "title": {
            "standoff": 15
           },
           "zerolinecolor": "#EBF0F8",
           "zerolinewidth": 2
          },
          "yaxis": {
           "automargin": true,
           "gridcolor": "#EBF0F8",
           "linecolor": "#EBF0F8",
           "ticks": "",
           "title": {
            "standoff": 15
           },
           "zerolinecolor": "#EBF0F8",
           "zerolinewidth": 2
          }
         }
        },
        "title": {
         "font": {
          "color": "#8a8d93",
          "family": "Lato, sans-serif",
          "size": 29
         },
         "text": "Average Sales Analysis"
        },
        "xaxis": {
         "anchor": "y",
         "domain": [
          0,
          0.6859999999999999
         ],
         "tickmode": "linear",
         "visible": false
        },
        "xaxis2": {
         "anchor": "y2",
         "domain": [
          0,
          1
         ],
         "tickmode": "array",
         "ticktext": [
          1,
          2,
          3,
          4,
          5,
          6,
          7,
          8,
          9,
          10,
          11,
          12,
          13,
          14,
          15,
          16
         ],
         "tickvals": [
          1,
          2,
          3,
          4,
          5,
          6,
          7,
          8,
          9,
          10,
          11,
          12,
          13,
          14,
          15,
          16,
          17
         ]
        },
        "yaxis": {
         "anchor": "x",
         "categoryorder": "total ascending",
         "domain": [
          0.5,
          1
         ],
         "showgrid": false,
         "ticksuffix": " "
        },
        "yaxis2": {
         "anchor": "x2",
         "domain": [
          0,
          0.5
         ],
         "visible": false
        }
       }
      },
      "text/html": [
       "<div>                            <div id=\"60f2dd28-d15a-4029-809f-449b15f37ddf\" class=\"plotly-graph-div\" style=\"height:500px; width:100%;\"></div>            <script type=\"text/javascript\">                require([\"plotly\"], function(Plotly) {                    window.PLOTLYENV=window.PLOTLYENV || {};                                    if (document.getElementById(\"60f2dd28-d15a-4029-809f-449b15f37ddf\")) {                    Plotly.newPlot(                        \"60f2dd28-d15a-4029-809f-449b15f37ddf\",                        [{\"marker\":{\"color\":[\"#496595\",\"#496595\",\"#c6ccd8\",\"#c6ccd8\",\"#c6ccd8\",\"#c6ccd8\",\"#c6ccd8\",\"#c6ccd8\",\"#c6ccd8\",\"#c6ccd8\"]},\"name\":\"Family\",\"orientation\":\"h\",\"x\":[3790.432797333506,2394.9127014996325,1355.373698355266,1074.1715177838282,711.175990751545,464.1506115749276,351.07881594741565,341.96590481506223,271.1923808289036,265.6297463669238],\"y\":[\"GROCERY I\",\"BEVERAGES\",\"PRODUCE\",\"CLEANING\",\"DAIRY\",\"BREAD/BAKERY\",\"POULTRY\",\"MEATS\",\"PERSONAL CARE\",\"DELI\"],\"type\":\"bar\",\"xaxis\":\"x\",\"yaxis\":\"y\"},{\"hole\":0.7,\"hoverinfo\":\"label+percent+value\",\"labels\":[\"A\",\"D\",\"B\",\"E\",\"C\"],\"marker\":{\"colors\":[\"#334668\",\"#496595\",\"#6D83AA\",\"#91A2BF\",\"#C8D0DF\"]},\"name\":\"Store type\",\"textinfo\":\"label\",\"values\":[708.3781649559717,352.08450973283465,328.2752329265379,270.2854898836476,197.79064658889502],\"type\":\"pie\",\"domain\":{\"x\":[0.706,1.0],\"y\":[0.5,1.0]}},{\"marker\":{\"color\":[\"#c6ccd8\",\"#c6ccd8\",\"#c6ccd8\",\"#c6ccd8\",\"#c6ccd8\",\"#c6ccd8\",\"#c6ccd8\",\"#c6ccd8\",\"#c6ccd8\",\"#c6ccd8\",\"#c6ccd8\",\"#c6ccd8\",\"#c6ccd8\",\"#c6ccd8\",\"#c6ccd8\",\"#c6ccd8\",\"#c6ccd8\"]},\"name\":\"Cluster\",\"x\":[1,2,3,4,5,6,7,8,9,10,11,12,13,14,15,16,17],\"y\":[327.0228083130706,261.02573067915824,194.92653373500934,297.5378768160161,1120.1184051129558,344.3154362257511,139.77222164144655,648.9760656801386,275.7258793625844,257.00658549846275,605.8296797777955,325.59196329993637,325.8061691551687,710.9223433844145,199.44751122110605,239.59471866079878,594.1066666197447],\"type\":\"bar\",\"xaxis\":\"x2\",\"yaxis\":\"y2\"}],                        {\"template\":{\"data\":{\"barpolar\":[{\"marker\":{\"line\":{\"color\":\"white\",\"width\":0.5},\"pattern\":{\"fillmode\":\"overlay\",\"size\":10,\"solidity\":0.2}},\"type\":\"barpolar\"}],\"bar\":[{\"error_x\":{\"color\":\"#2a3f5f\"},\"error_y\":{\"color\":\"#2a3f5f\"},\"marker\":{\"line\":{\"color\":\"white\",\"width\":0.5},\"pattern\":{\"fillmode\":\"overlay\",\"size\":10,\"solidity\":0.2}},\"type\":\"bar\"}],\"carpet\":[{\"aaxis\":{\"endlinecolor\":\"#2a3f5f\",\"gridcolor\":\"#C8D4E3\",\"linecolor\":\"#C8D4E3\",\"minorgridcolor\":\"#C8D4E3\",\"startlinecolor\":\"#2a3f5f\"},\"baxis\":{\"endlinecolor\":\"#2a3f5f\",\"gridcolor\":\"#C8D4E3\",\"linecolor\":\"#C8D4E3\",\"minorgridcolor\":\"#C8D4E3\",\"startlinecolor\":\"#2a3f5f\"},\"type\":\"carpet\"}],\"choropleth\":[{\"colorbar\":{\"outlinewidth\":0,\"ticks\":\"\"},\"type\":\"choropleth\"}],\"contourcarpet\":[{\"colorbar\":{\"outlinewidth\":0,\"ticks\":\"\"},\"type\":\"contourcarpet\"}],\"contour\":[{\"colorbar\":{\"outlinewidth\":0,\"ticks\":\"\"},\"colorscale\":[[0.0,\"#0d0887\"],[0.1111111111111111,\"#46039f\"],[0.2222222222222222,\"#7201a8\"],[0.3333333333333333,\"#9c179e\"],[0.4444444444444444,\"#bd3786\"],[0.5555555555555556,\"#d8576b\"],[0.6666666666666666,\"#ed7953\"],[0.7777777777777778,\"#fb9f3a\"],[0.8888888888888888,\"#fdca26\"],[1.0,\"#f0f921\"]],\"type\":\"contour\"}],\"heatmapgl\":[{\"colorbar\":{\"outlinewidth\":0,\"ticks\":\"\"},\"colorscale\":[[0.0,\"#0d0887\"],[0.1111111111111111,\"#46039f\"],[0.2222222222222222,\"#7201a8\"],[0.3333333333333333,\"#9c179e\"],[0.4444444444444444,\"#bd3786\"],[0.5555555555555556,\"#d8576b\"],[0.6666666666666666,\"#ed7953\"],[0.7777777777777778,\"#fb9f3a\"],[0.8888888888888888,\"#fdca26\"],[1.0,\"#f0f921\"]],\"type\":\"heatmapgl\"}],\"heatmap\":[{\"colorbar\":{\"outlinewidth\":0,\"ticks\":\"\"},\"colorscale\":[[0.0,\"#0d0887\"],[0.1111111111111111,\"#46039f\"],[0.2222222222222222,\"#7201a8\"],[0.3333333333333333,\"#9c179e\"],[0.4444444444444444,\"#bd3786\"],[0.5555555555555556,\"#d8576b\"],[0.6666666666666666,\"#ed7953\"],[0.7777777777777778,\"#fb9f3a\"],[0.8888888888888888,\"#fdca26\"],[1.0,\"#f0f921\"]],\"type\":\"heatmap\"}],\"histogram2dcontour\":[{\"colorbar\":{\"outlinewidth\":0,\"ticks\":\"\"},\"colorscale\":[[0.0,\"#0d0887\"],[0.1111111111111111,\"#46039f\"],[0.2222222222222222,\"#7201a8\"],[0.3333333333333333,\"#9c179e\"],[0.4444444444444444,\"#bd3786\"],[0.5555555555555556,\"#d8576b\"],[0.6666666666666666,\"#ed7953\"],[0.7777777777777778,\"#fb9f3a\"],[0.8888888888888888,\"#fdca26\"],[1.0,\"#f0f921\"]],\"type\":\"histogram2dcontour\"}],\"histogram2d\":[{\"colorbar\":{\"outlinewidth\":0,\"ticks\":\"\"},\"colorscale\":[[0.0,\"#0d0887\"],[0.1111111111111111,\"#46039f\"],[0.2222222222222222,\"#7201a8\"],[0.3333333333333333,\"#9c179e\"],[0.4444444444444444,\"#bd3786\"],[0.5555555555555556,\"#d8576b\"],[0.6666666666666666,\"#ed7953\"],[0.7777777777777778,\"#fb9f3a\"],[0.8888888888888888,\"#fdca26\"],[1.0,\"#f0f921\"]],\"type\":\"histogram2d\"}],\"histogram\":[{\"marker\":{\"pattern\":{\"fillmode\":\"overlay\",\"size\":10,\"solidity\":0.2}},\"type\":\"histogram\"}],\"mesh3d\":[{\"colorbar\":{\"outlinewidth\":0,\"ticks\":\"\"},\"type\":\"mesh3d\"}],\"parcoords\":[{\"line\":{\"colorbar\":{\"outlinewidth\":0,\"ticks\":\"\"}},\"type\":\"parcoords\"}],\"pie\":[{\"automargin\":true,\"type\":\"pie\"}],\"scatter3d\":[{\"line\":{\"colorbar\":{\"outlinewidth\":0,\"ticks\":\"\"}},\"marker\":{\"colorbar\":{\"outlinewidth\":0,\"ticks\":\"\"}},\"type\":\"scatter3d\"}],\"scattercarpet\":[{\"marker\":{\"colorbar\":{\"outlinewidth\":0,\"ticks\":\"\"}},\"type\":\"scattercarpet\"}],\"scattergeo\":[{\"marker\":{\"colorbar\":{\"outlinewidth\":0,\"ticks\":\"\"}},\"type\":\"scattergeo\"}],\"scattergl\":[{\"marker\":{\"colorbar\":{\"outlinewidth\":0,\"ticks\":\"\"}},\"type\":\"scattergl\"}],\"scattermapbox\":[{\"marker\":{\"colorbar\":{\"outlinewidth\":0,\"ticks\":\"\"}},\"type\":\"scattermapbox\"}],\"scatterpolargl\":[{\"marker\":{\"colorbar\":{\"outlinewidth\":0,\"ticks\":\"\"}},\"type\":\"scatterpolargl\"}],\"scatterpolar\":[{\"marker\":{\"colorbar\":{\"outlinewidth\":0,\"ticks\":\"\"}},\"type\":\"scatterpolar\"}],\"scatter\":[{\"marker\":{\"colorbar\":{\"outlinewidth\":0,\"ticks\":\"\"}},\"type\":\"scatter\"}],\"scatterternary\":[{\"marker\":{\"colorbar\":{\"outlinewidth\":0,\"ticks\":\"\"}},\"type\":\"scatterternary\"}],\"surface\":[{\"colorbar\":{\"outlinewidth\":0,\"ticks\":\"\"},\"colorscale\":[[0.0,\"#0d0887\"],[0.1111111111111111,\"#46039f\"],[0.2222222222222222,\"#7201a8\"],[0.3333333333333333,\"#9c179e\"],[0.4444444444444444,\"#bd3786\"],[0.5555555555555556,\"#d8576b\"],[0.6666666666666666,\"#ed7953\"],[0.7777777777777778,\"#fb9f3a\"],[0.8888888888888888,\"#fdca26\"],[1.0,\"#f0f921\"]],\"type\":\"surface\"}],\"table\":[{\"cells\":{\"fill\":{\"color\":\"#EBF0F8\"},\"line\":{\"color\":\"white\"}},\"header\":{\"fill\":{\"color\":\"#C8D4E3\"},\"line\":{\"color\":\"white\"}},\"type\":\"table\"}]},\"layout\":{\"annotationdefaults\":{\"arrowcolor\":\"#2a3f5f\",\"arrowhead\":0,\"arrowwidth\":1},\"autotypenumbers\":\"strict\",\"coloraxis\":{\"colorbar\":{\"outlinewidth\":0,\"ticks\":\"\"}},\"colorscale\":{\"diverging\":[[0,\"#8e0152\"],[0.1,\"#c51b7d\"],[0.2,\"#de77ae\"],[0.3,\"#f1b6da\"],[0.4,\"#fde0ef\"],[0.5,\"#f7f7f7\"],[0.6,\"#e6f5d0\"],[0.7,\"#b8e186\"],[0.8,\"#7fbc41\"],[0.9,\"#4d9221\"],[1,\"#276419\"]],\"sequential\":[[0.0,\"#0d0887\"],[0.1111111111111111,\"#46039f\"],[0.2222222222222222,\"#7201a8\"],[0.3333333333333333,\"#9c179e\"],[0.4444444444444444,\"#bd3786\"],[0.5555555555555556,\"#d8576b\"],[0.6666666666666666,\"#ed7953\"],[0.7777777777777778,\"#fb9f3a\"],[0.8888888888888888,\"#fdca26\"],[1.0,\"#f0f921\"]],\"sequentialminus\":[[0.0,\"#0d0887\"],[0.1111111111111111,\"#46039f\"],[0.2222222222222222,\"#7201a8\"],[0.3333333333333333,\"#9c179e\"],[0.4444444444444444,\"#bd3786\"],[0.5555555555555556,\"#d8576b\"],[0.6666666666666666,\"#ed7953\"],[0.7777777777777778,\"#fb9f3a\"],[0.8888888888888888,\"#fdca26\"],[1.0,\"#f0f921\"]]},\"colorway\":[\"#636efa\",\"#EF553B\",\"#00cc96\",\"#ab63fa\",\"#FFA15A\",\"#19d3f3\",\"#FF6692\",\"#B6E880\",\"#FF97FF\",\"#FECB52\"],\"font\":{\"color\":\"#2a3f5f\"},\"geo\":{\"bgcolor\":\"white\",\"lakecolor\":\"white\",\"landcolor\":\"white\",\"showlakes\":true,\"showland\":true,\"subunitcolor\":\"#C8D4E3\"},\"hoverlabel\":{\"align\":\"left\"},\"hovermode\":\"closest\",\"mapbox\":{\"style\":\"light\"},\"paper_bgcolor\":\"white\",\"plot_bgcolor\":\"white\",\"polar\":{\"angularaxis\":{\"gridcolor\":\"#EBF0F8\",\"linecolor\":\"#EBF0F8\",\"ticks\":\"\"},\"bgcolor\":\"white\",\"radialaxis\":{\"gridcolor\":\"#EBF0F8\",\"linecolor\":\"#EBF0F8\",\"ticks\":\"\"}},\"scene\":{\"xaxis\":{\"backgroundcolor\":\"white\",\"gridcolor\":\"#DFE8F3\",\"gridwidth\":2,\"linecolor\":\"#EBF0F8\",\"showbackground\":true,\"ticks\":\"\",\"zerolinecolor\":\"#EBF0F8\"},\"yaxis\":{\"backgroundcolor\":\"white\",\"gridcolor\":\"#DFE8F3\",\"gridwidth\":2,\"linecolor\":\"#EBF0F8\",\"showbackground\":true,\"ticks\":\"\",\"zerolinecolor\":\"#EBF0F8\"},\"zaxis\":{\"backgroundcolor\":\"white\",\"gridcolor\":\"#DFE8F3\",\"gridwidth\":2,\"linecolor\":\"#EBF0F8\",\"showbackground\":true,\"ticks\":\"\",\"zerolinecolor\":\"#EBF0F8\"}},\"shapedefaults\":{\"line\":{\"color\":\"#2a3f5f\"}},\"ternary\":{\"aaxis\":{\"gridcolor\":\"#DFE8F3\",\"linecolor\":\"#A2B1C6\",\"ticks\":\"\"},\"baxis\":{\"gridcolor\":\"#DFE8F3\",\"linecolor\":\"#A2B1C6\",\"ticks\":\"\"},\"bgcolor\":\"white\",\"caxis\":{\"gridcolor\":\"#DFE8F3\",\"linecolor\":\"#A2B1C6\",\"ticks\":\"\"}},\"title\":{\"x\":0.05},\"xaxis\":{\"automargin\":true,\"gridcolor\":\"#EBF0F8\",\"linecolor\":\"#EBF0F8\",\"ticks\":\"\",\"title\":{\"standoff\":15},\"zerolinecolor\":\"#EBF0F8\",\"zerolinewidth\":2},\"yaxis\":{\"automargin\":true,\"gridcolor\":\"#EBF0F8\",\"linecolor\":\"#EBF0F8\",\"ticks\":\"\",\"title\":{\"standoff\":15},\"zerolinecolor\":\"#EBF0F8\",\"zerolinewidth\":2}}},\"xaxis\":{\"anchor\":\"y\",\"domain\":[0.0,0.6859999999999999],\"visible\":false,\"tickmode\":\"linear\"},\"yaxis\":{\"anchor\":\"x\",\"domain\":[0.5,1.0],\"showgrid\":false,\"ticksuffix\":\" \",\"categoryorder\":\"total ascending\"},\"xaxis2\":{\"anchor\":\"y2\",\"domain\":[0.0,1.0],\"tickmode\":\"array\",\"tickvals\":[1,2,3,4,5,6,7,8,9,10,11,12,13,14,15,16,17],\"ticktext\":[1,2,3,4,5,6,7,8,9,10,11,12,13,14,15,16]},\"yaxis2\":{\"anchor\":\"x2\",\"domain\":[0.0,0.5],\"visible\":false},\"annotations\":[{\"font\":{\"size\":16},\"showarrow\":false,\"text\":\"Top 10 Highest Product Sales\",\"x\":0.34299999999999997,\"xanchor\":\"center\",\"xref\":\"paper\",\"y\":1.0,\"yanchor\":\"bottom\",\"yref\":\"paper\"},{\"font\":{\"size\":16},\"showarrow\":false,\"text\":\"Highest Sales in Stores\",\"x\":0.853,\"xanchor\":\"center\",\"xref\":\"paper\",\"y\":1.0,\"yanchor\":\"bottom\",\"yref\":\"paper\"},{\"font\":{\"size\":16},\"showarrow\":false,\"text\":\"Clusters Vs Sales\",\"x\":0.5,\"xanchor\":\"center\",\"xref\":\"paper\",\"y\":0.5,\"yanchor\":\"bottom\",\"yref\":\"paper\"}],\"margin\":{\"b\":0,\"r\":20,\"l\":20},\"title\":{\"font\":{\"size\":29,\"color\":\"#8a8d93\",\"family\":\"Lato, sans-serif\"},\"text\":\"Average Sales Analysis\"},\"font\":{\"color\":\"#8a8d93\"},\"hoverlabel\":{\"font\":{\"size\":13,\"family\":\"Lato, sans-serif\"},\"bgcolor\":\"#f2f2f2\"},\"height\":500,\"bargap\":0.2,\"showlegend\":false},                        {\"responsive\": true}                    ).then(function(){\n",
       "                            \n",
       "var gd = document.getElementById('60f2dd28-d15a-4029-809f-449b15f37ddf');\n",
       "var x = new MutationObserver(function (mutations, observer) {{\n",
       "        var display = window.getComputedStyle(gd).display;\n",
       "        if (!display || display === 'none') {{\n",
       "            console.log([gd, 'removed!']);\n",
       "            Plotly.purge(gd);\n",
       "            observer.disconnect();\n",
       "        }}\n",
       "}});\n",
       "\n",
       "// Listen for the removal of the full notebook cells\n",
       "var notebookContainer = gd.closest('#notebook-container');\n",
       "if (notebookContainer) {{\n",
       "    x.observe(notebookContainer, {childList: true});\n",
       "}}\n",
       "\n",
       "// Listen for the clearing of the current output cell\n",
       "var outputEl = gd.closest('.output');\n",
       "if (outputEl) {{\n",
       "    x.observe(outputEl, {childList: true});\n",
       "}}\n",
       "\n",
       "                        })                };                });            </script>        </div>"
      ]
     },
     "metadata": {},
     "output_type": "display_data"
    }
   ],
   "source": [
    "# data\n",
    "df_st_sa = df_train1.groupby('store_type').agg({\"sales\" : \"mean\"}).reset_index().sort_values(by='sales', ascending=False)\n",
    "df_fa_sa = df_train1.groupby('family').agg({\"sales\" : \"mean\"}).reset_index().sort_values(by='sales', ascending=False)[:10]\n",
    "df_cl_sa = df_train1.groupby('cluster').agg({\"sales\" : \"mean\"}).reset_index() \n",
    "# chart color\n",
    "df_fa_sa['color'] = '#496595'\n",
    "df_fa_sa['color'][2:] = '#c6ccd8'\n",
    "df_cl_sa['color'] = '#c6ccd8'\n",
    "\n",
    "# chart\n",
    "fig = make_subplots(rows=2, cols=2, \n",
    "                    specs=[[{\"type\": \"bar\"}, {\"type\": \"pie\"}],\n",
    "                           [{\"colspan\": 2}, None]],\n",
    "                    column_widths=[0.7, 0.3], vertical_spacing=0, horizontal_spacing=0.02,\n",
    "                    subplot_titles=(\"Top 10 Highest Product Sales\", \"Highest Sales in Stores\", \"Clusters Vs Sales\"))\n",
    "\n",
    "fig.add_trace(go.Bar(x=df_fa_sa['sales'], y=df_fa_sa['family'], marker=dict(color= df_fa_sa['color']),\n",
    "                     name='Family', orientation='h'), \n",
    "                     row=1, col=1)\n",
    "fig.add_trace(go.Pie(values=df_st_sa['sales'], labels=df_st_sa['store_type'], name='Store type',\n",
    "                     marker=dict(colors=['#334668','#496595','#6D83AA','#91A2BF','#C8D0DF']), hole=0.7,\n",
    "                     hoverinfo='label+percent+value', textinfo='label'), \n",
    "                    row=1, col=2)\n",
    "fig.add_trace(go.Bar(x=df_cl_sa['cluster'], y=df_cl_sa['sales'], \n",
    "                     marker=dict(color= df_cl_sa['color']), name='Cluster'), \n",
    "                     row=2, col=1)\n",
    "\n",
    "# styling\n",
    "fig.update_yaxes(showgrid=False, ticksuffix=' ', categoryorder='total ascending', row=1, col=1)\n",
    "fig.update_xaxes(visible=False, row=1, col=1)\n",
    "fig.update_xaxes(tickmode = 'array', tickvals=df_cl_sa.cluster, ticktext=[i for i in range(1,17)], row=2, col=1)\n",
    "fig.update_yaxes(visible=False, row=2, col=1)\n",
    "fig.update_layout(height=500, bargap=0.2,\n",
    "                  margin=dict(b=0,r=20,l=20), xaxis=dict(tickmode='linear'),\n",
    "                  title_text=\"Average Sales Analysis\",\n",
    "                  template=\"plotly_white\",\n",
    "                  title_font=dict(size=29, color='#8a8d93', family=\"Lato, sans-serif\"),\n",
    "                  font=dict(color='#8a8d93'), \n",
    "                  hoverlabel=dict(bgcolor=\"#f2f2f2\", font_size=13, font_family=\"Lato, sans-serif\"),\n",
    "                  showlegend=False)\n",
    "fig.show()"
   ]
  },
  {
   "cell_type": "code",
   "execution_count": 6,
   "metadata": {},
   "outputs": [
    {
     "data": {
      "application/vnd.plotly.v1+json": {
       "config": {
        "plotlyServerURL": "https://plotly.com"
       },
       "data": [
        {
         "marker": {
          "color": "rgba(38, 24, 74, 0.8)",
          "line": {
           "color": "rgb(248, 248, 249)",
           "width": 1
          }
         },
         "orientation": "h",
         "type": "bar",
         "x": [
          186.95240463613735
         ],
         "y": [
          "Jan"
         ]
        },
        {
         "marker": {
          "color": "rgba(38, 24, 74, 0.8)",
          "line": {
           "color": "rgb(248, 248, 249)",
           "width": 1
          }
         },
         "orientation": "h",
         "type": "bar",
         "x": [
          193.581845787975
         ],
         "y": [
          "Feb"
         ]
        },
        {
         "marker": {
          "color": "rgba(38, 24, 74, 0.8)",
          "line": {
           "color": "rgb(248, 248, 249)",
           "width": 1
          }
         },
         "orientation": "h",
         "type": "bar",
         "x": [
          206.88058067208826
         ],
         "y": [
          "Mar"
         ]
        },
        {
         "marker": {
          "color": "rgba(38, 24, 74, 0.8)",
          "line": {
           "color": "rgb(248, 248, 249)",
           "width": 1
          }
         },
         "orientation": "h",
         "type": "bar",
         "x": [
          205.63907104399178
         ],
         "y": [
          "Apr"
         ]
        },
        {
         "marker": {
          "color": "rgba(38, 24, 74, 0.8)",
          "line": {
           "color": "rgb(248, 248, 249)",
           "width": 1
          }
         },
         "orientation": "h",
         "type": "bar",
         "x": [
          210.1845628514538
         ],
         "y": [
          "May"
         ]
        },
        {
         "marker": {
          "color": "rgba(38, 24, 74, 0.8)",
          "line": {
           "color": "rgb(248, 248, 249)",
           "width": 1
          }
         },
         "orientation": "h",
         "type": "bar",
         "x": [
          215.6913426341821
         ],
         "y": [
          "Jun"
         ]
        },
        {
         "marker": {
          "color": "rgba(38, 24, 74, 0.8)",
          "line": {
           "color": "rgb(248, 248, 249)",
           "width": 1
          }
         },
         "orientation": "h",
         "type": "bar",
         "x": [
          203.9834547844732
         ],
         "y": [
          "Jul"
         ]
        },
        {
         "marker": {
          "color": "rgba(38, 24, 74, 0.8)",
          "line": {
           "color": "rgb(248, 248, 249)",
           "width": 1
          }
         },
         "orientation": "h",
         "type": "bar",
         "x": [
          212.47943447870642
         ],
         "y": [
          "Aug"
         ]
        },
        {
         "marker": {
          "color": "rgba(38, 24, 74, 0.8)",
          "line": {
           "color": "rgb(248, 248, 249)",
           "width": 1
          }
         },
         "orientation": "h",
         "type": "bar",
         "x": [
          220.59358832525066
         ],
         "y": [
          "Sep"
         ]
        },
        {
         "marker": {
          "color": "rgba(38, 24, 74, 0.8)",
          "line": {
           "color": "rgb(248, 248, 249)",
           "width": 1
          }
         },
         "orientation": "h",
         "type": "bar",
         "x": [
          213.1642656044151
         ],
         "y": [
          "Oct"
         ]
        },
        {
         "marker": {
          "color": "rgba(38, 24, 74, 0.8)",
          "line": {
           "color": "rgb(248, 248, 249)",
           "width": 1
          }
         },
         "orientation": "h",
         "type": "bar",
         "x": [
          231.13653746700524
         ],
         "y": [
          "Nov"
         ]
        },
        {
         "marker": {
          "color": "rgba(38, 24, 74, 0.8)",
          "line": {
           "color": "rgb(248, 248, 249)",
           "width": 1
          }
         },
         "orientation": "h",
         "type": "bar",
         "x": [
          298.67514381886247
         ],
         "y": [
          "Dec"
         ]
        },
        {
         "marker": {
          "color": "rgba(71, 58, 131, 0.8)",
          "line": {
           "color": "rgb(248, 248, 249)",
           "width": 1
          }
         },
         "orientation": "h",
         "type": "bar",
         "x": [
          342.3417092321676
         ],
         "y": [
          "Jan"
         ]
        },
        {
         "marker": {
          "color": "rgba(71, 58, 131, 0.8)",
          "line": {
           "color": "rgb(248, 248, 249)",
           "width": 1
          }
         },
         "orientation": "h",
         "type": "bar",
         "x": [
          241.26889197487372
         ],
         "y": [
          "Feb"
         ]
        },
        {
         "marker": {
          "color": "rgba(71, 58, 131, 0.8)",
          "line": {
           "color": "rgb(248, 248, 249)",
           "width": 1
          }
         },
         "orientation": "h",
         "type": "bar",
         "x": [
          368.66123631434414
         ],
         "y": [
          "Mar"
         ]
        },
        {
         "marker": {
          "color": "rgba(71, 58, 131, 0.8)",
          "line": {
           "color": "rgb(248, 248, 249)",
           "width": 1
          }
         },
         "orientation": "h",
         "type": "bar",
         "x": [
          240.57708674054246
         ],
         "y": [
          "Apr"
         ]
        },
        {
         "marker": {
          "color": "rgba(71, 58, 131, 0.8)",
          "line": {
           "color": "rgb(248, 248, 249)",
           "width": 1
          }
         },
         "orientation": "h",
         "type": "bar",
         "x": [
          242.20312916254844
         ],
         "y": [
          "May"
         ]
        },
        {
         "marker": {
          "color": "rgba(71, 58, 131, 0.8)",
          "line": {
           "color": "rgb(248, 248, 249)",
           "width": 1
          }
         },
         "orientation": "h",
         "type": "bar",
         "x": [
          244.63465236629935
         ],
         "y": [
          "Jun"
         ]
        },
        {
         "marker": {
          "color": "rgba(71, 58, 131, 0.8)",
          "line": {
           "color": "rgb(248, 248, 249)",
           "width": 1
          }
         },
         "orientation": "h",
         "type": "bar",
         "x": [
          350.8301024939429
         ],
         "y": [
          "Jul"
         ]
        },
        {
         "marker": {
          "color": "rgba(71, 58, 131, 0.8)",
          "line": {
           "color": "rgb(248, 248, 249)",
           "width": 1
          }
         },
         "orientation": "h",
         "type": "bar",
         "x": [
          251.35180513113573
         ],
         "y": [
          "Aug"
         ]
        },
        {
         "marker": {
          "color": "rgba(71, 58, 131, 0.8)",
          "line": {
           "color": "rgb(248, 248, 249)",
           "width": 1
          }
         },
         "orientation": "h",
         "type": "bar",
         "x": [
          374.53079150410775
         ],
         "y": [
          "Sep"
         ]
        },
        {
         "marker": {
          "color": "rgba(71, 58, 131, 0.8)",
          "line": {
           "color": "rgb(248, 248, 249)",
           "width": 1
          }
         },
         "orientation": "h",
         "type": "bar",
         "x": [
          369.21366558374245
         ],
         "y": [
          "Oct"
         ]
        },
        {
         "marker": {
          "color": "rgba(71, 58, 131, 0.8)",
          "line": {
           "color": "rgb(248, 248, 249)",
           "width": 1
          }
         },
         "orientation": "h",
         "type": "bar",
         "x": [
          384.05602700417506
         ],
         "y": [
          "Nov"
         ]
        },
        {
         "marker": {
          "color": "rgba(71, 58, 131, 0.8)",
          "line": {
           "color": "rgb(248, 248, 249)",
           "width": 1
          }
         },
         "orientation": "h",
         "type": "bar",
         "x": [
          459.81860561595994
         ],
         "y": [
          "Dec"
         ]
        },
        {
         "marker": {
          "color": "rgba(122, 120, 168, 0.8)",
          "line": {
           "color": "rgb(248, 248, 249)",
           "width": 1
          }
         },
         "orientation": "h",
         "type": "bar",
         "x": [
          269.666595293409
         ],
         "y": [
          "Jan"
         ]
        },
        {
         "marker": {
          "color": "rgba(122, 120, 168, 0.8)",
          "line": {
           "color": "rgb(248, 248, 249)",
           "width": 1
          }
         },
         "orientation": "h",
         "type": "bar",
         "x": [
          275.42079221543213
         ],
         "y": [
          "Feb"
         ]
        },
        {
         "marker": {
          "color": "rgba(122, 120, 168, 0.8)",
          "line": {
           "color": "rgb(248, 248, 249)",
           "width": 1
          }
         },
         "orientation": "h",
         "type": "bar",
         "x": [
          282.3686238433674
         ],
         "y": [
          "Mar"
         ]
        },
        {
         "marker": {
          "color": "rgba(122, 120, 168, 0.8)",
          "line": {
           "color": "rgb(248, 248, 249)",
           "width": 1
          }
         },
         "orientation": "h",
         "type": "bar",
         "x": [
          279.74313824869995
         ],
         "y": [
          "Apr"
         ]
        },
        {
         "marker": {
          "color": "rgba(122, 120, 168, 0.8)",
          "line": {
           "color": "rgb(248, 248, 249)",
           "width": 1
          }
         },
         "orientation": "h",
         "type": "bar",
         "x": [
          320.9581160042902
         ],
         "y": [
          "May"
         ]
        },
        {
         "marker": {
          "color": "rgba(122, 120, 168, 0.8)",
          "line": {
           "color": "rgb(248, 248, 249)",
           "width": 1
          }
         },
         "orientation": "h",
         "type": "bar",
         "x": [
          397.24961881026763
         ],
         "y": [
          "Jun"
         ]
        },
        {
         "marker": {
          "color": "rgba(122, 120, 168, 0.8)",
          "line": {
           "color": "rgb(248, 248, 249)",
           "width": 1
          }
         },
         "orientation": "h",
         "type": "bar",
         "x": [
          403.0301703258084
         ],
         "y": [
          "Jul"
         ]
        },
        {
         "marker": {
          "color": "rgba(122, 120, 168, 0.8)",
          "line": {
           "color": "rgb(248, 248, 249)",
           "width": 1
          }
         },
         "orientation": "h",
         "type": "bar",
         "x": [
          415.692303705179
         ],
         "y": [
          "Aug"
         ]
        },
        {
         "marker": {
          "color": "rgba(122, 120, 168, 0.8)",
          "line": {
           "color": "rgb(248, 248, 249)",
           "width": 1
          }
         },
         "orientation": "h",
         "type": "bar",
         "x": [
          434.7340530847587
         ],
         "y": [
          "Sep"
         ]
        },
        {
         "marker": {
          "color": "rgba(122, 120, 168, 0.8)",
          "line": {
           "color": "rgb(248, 248, 249)",
           "width": 1
          }
         },
         "orientation": "h",
         "type": "bar",
         "x": [
          432.2484280902592
         ],
         "y": [
          "Oct"
         ]
        },
        {
         "marker": {
          "color": "rgba(122, 120, 168, 0.8)",
          "line": {
           "color": "rgb(248, 248, 249)",
           "width": 1
          }
         },
         "orientation": "h",
         "type": "bar",
         "x": [
          426.57974875067714
         ],
         "y": [
          "Nov"
         ]
        },
        {
         "marker": {
          "color": "rgba(122, 120, 168, 0.8)",
          "line": {
           "color": "rgb(248, 248, 249)",
           "width": 1
          }
         },
         "orientation": "h",
         "type": "bar",
         "x": [
          513.8453275231473
         ],
         "y": [
          "Dec"
         ]
        },
        {
         "marker": {
          "color": "rgba(164, 163, 204, 0.85)",
          "line": {
           "color": "rgb(248, 248, 249)",
           "width": 1
          }
         },
         "orientation": "h",
         "type": "bar",
         "x": [
          434.0502676484215
         ],
         "y": [
          "Jan"
         ]
        },
        {
         "marker": {
          "color": "rgba(164, 163, 204, 0.85)",
          "line": {
           "color": "rgb(248, 248, 249)",
           "width": 1
          }
         },
         "orientation": "h",
         "type": "bar",
         "x": [
          424.69539844813653
         ],
         "y": [
          "Feb"
         ]
        },
        {
         "marker": {
          "color": "rgba(164, 163, 204, 0.85)",
          "line": {
           "color": "rgb(248, 248, 249)",
           "width": 1
          }
         },
         "orientation": "h",
         "type": "bar",
         "x": [
          418.7353984978802
         ],
         "y": [
          "Mar"
         ]
        },
        {
         "marker": {
          "color": "rgba(164, 163, 204, 0.85)",
          "line": {
           "color": "rgb(248, 248, 249)",
           "width": 1
          }
         },
         "orientation": "h",
         "type": "bar",
         "x": [
          488.1087737795554
         ],
         "y": [
          "Apr"
         ]
        },
        {
         "marker": {
          "color": "rgba(164, 163, 204, 0.85)",
          "line": {
           "color": "rgb(248, 248, 249)",
           "width": 1
          }
         },
         "orientation": "h",
         "type": "bar",
         "x": [
          457.6713979467484
         ],
         "y": [
          "May"
         ]
        },
        {
         "marker": {
          "color": "rgba(164, 163, 204, 0.85)",
          "line": {
           "color": "rgb(248, 248, 249)",
           "width": 1
          }
         },
         "orientation": "h",
         "type": "bar",
         "x": [
          419.64457509660144
         ],
         "y": [
          "Jun"
         ]
        },
        {
         "marker": {
          "color": "rgba(164, 163, 204, 0.85)",
          "line": {
           "color": "rgb(248, 248, 249)",
           "width": 1
          }
         },
         "orientation": "h",
         "type": "bar",
         "x": [
          432.56221846394243
         ],
         "y": [
          "Jul"
         ]
        },
        {
         "marker": {
          "color": "rgba(164, 163, 204, 0.85)",
          "line": {
           "color": "rgb(248, 248, 249)",
           "width": 1
          }
         },
         "orientation": "h",
         "type": "bar",
         "x": [
          406.437390353262
         ],
         "y": [
          "Aug"
         ]
        },
        {
         "marker": {
          "color": "rgba(164, 163, 204, 0.85)",
          "line": {
           "color": "rgb(248, 248, 249)",
           "width": 1
          }
         },
         "orientation": "h",
         "type": "bar",
         "x": [
          419.33124012339505
         ],
         "y": [
          "Sep"
         ]
        },
        {
         "marker": {
          "color": "rgba(164, 163, 204, 0.85)",
          "line": {
           "color": "rgb(248, 248, 249)",
           "width": 1
          }
         },
         "orientation": "h",
         "type": "bar",
         "x": [
          435.00216893472356
         ],
         "y": [
          "Oct"
         ]
        },
        {
         "marker": {
          "color": "rgba(164, 163, 204, 0.85)",
          "line": {
           "color": "rgb(248, 248, 249)",
           "width": 1
          }
         },
         "orientation": "h",
         "type": "bar",
         "x": [
          462.9166751626751
         ],
         "y": [
          "Nov"
         ]
        },
        {
         "marker": {
          "color": "rgba(164, 163, 204, 0.85)",
          "line": {
           "color": "rgb(248, 248, 249)",
           "width": 1
          }
         },
         "orientation": "h",
         "type": "bar",
         "x": [
          557.1148215211089
         ],
         "y": [
          "Dec"
         ]
        },
        {
         "marker": {
          "color": "rgba(190, 192, 213, 1)",
          "line": {
           "color": "rgb(248, 248, 249)",
           "width": 1
          }
         },
         "orientation": "h",
         "type": "bar",
         "x": [
          476.5967911318399
         ],
         "y": [
          "Jan"
         ]
        },
        {
         "marker": {
          "color": "rgba(190, 192, 213, 1)",
          "line": {
           "color": "rgb(248, 248, 249)",
           "width": 1
          }
         },
         "orientation": "h",
         "type": "bar",
         "x": [
          465.9714681524932
         ],
         "y": [
          "Feb"
         ]
        },
        {
         "marker": {
          "color": "rgba(190, 192, 213, 1)",
          "line": {
           "color": "rgb(248, 248, 249)",
           "width": 1
          }
         },
         "orientation": "h",
         "type": "bar",
         "x": [
          483.4006316005811
         ],
         "y": [
          "Mar"
         ]
        },
        {
         "marker": {
          "color": "rgba(190, 192, 213, 1)",
          "line": {
           "color": "rgb(248, 248, 249)",
           "width": 1
          }
         },
         "orientation": "h",
         "type": "bar",
         "x": [
          482.1729476916857
         ],
         "y": [
          "Apr"
         ]
        },
        {
         "marker": {
          "color": "rgba(190, 192, 213, 1)",
          "line": {
           "color": "rgb(248, 248, 249)",
           "width": 1
          }
         },
         "orientation": "h",
         "type": "bar",
         "x": [
          487.1627973388545
         ],
         "y": [
          "May"
         ]
        },
        {
         "marker": {
          "color": "rgba(190, 192, 213, 1)",
          "line": {
           "color": "rgb(248, 248, 249)",
           "width": 1
          }
         },
         "orientation": "h",
         "type": "bar",
         "x": [
          488.707278377904
         ],
         "y": [
          "Jun"
         ]
        },
        {
         "marker": {
          "color": "rgba(190, 192, 213, 1)",
          "line": {
           "color": "rgb(248, 248, 249)",
           "width": 1
          }
         },
         "orientation": "h",
         "type": "bar",
         "x": [
          489.9098796058975
         ],
         "y": [
          "Jul"
         ]
        },
        {
         "marker": {
          "color": "rgba(190, 192, 213, 1)",
          "line": {
           "color": "rgb(248, 248, 249)",
           "width": 1
          }
         },
         "orientation": "h",
         "type": "bar",
         "x": [
          465.14489116264497
         ],
         "y": [
          "Aug"
         ]
        },
        {
         "marker": {
          "color": "rgba(190, 192, 213, 1)",
          "line": {
           "color": "rgb(248, 248, 249)",
           "width": 1
          }
         },
         "orientation": "h",
         "type": "bar",
         "x": [
          0
         ],
         "y": [
          "Sep"
         ]
        },
        {
         "marker": {
          "color": "rgba(190, 192, 213, 1)",
          "line": {
           "color": "rgb(248, 248, 249)",
           "width": 1
          }
         },
         "orientation": "h",
         "type": "bar",
         "x": [
          0
         ],
         "y": [
          "Oct"
         ]
        },
        {
         "marker": {
          "color": "rgba(190, 192, 213, 1)",
          "line": {
           "color": "rgb(248, 248, 249)",
           "width": 1
          }
         },
         "orientation": "h",
         "type": "bar",
         "x": [
          0
         ],
         "y": [
          "Nov"
         ]
        },
        {
         "marker": {
          "color": "rgba(190, 192, 213, 1)",
          "line": {
           "color": "rgb(248, 248, 249)",
           "width": 1
          }
         },
         "orientation": "h",
         "type": "bar",
         "x": [
          0
         ],
         "y": [
          "Dec"
         ]
        }
       ],
       "layout": {
        "annotations": [
         {
          "align": "right",
          "font": {
           "color": "rgb(67, 67, 67)",
           "family": "Arial",
           "size": 14
          },
          "showarrow": false,
          "text": "Jan",
          "x": 0.14,
          "xanchor": "right",
          "xref": "paper",
          "y": "Jan",
          "yref": "y"
         },
         {
          "align": "right",
          "font": {
           "color": "rgb(67, 67, 67)",
           "family": "Arial",
           "size": 14
          },
          "showarrow": false,
          "text": "Feb",
          "x": 0.14,
          "xanchor": "right",
          "xref": "paper",
          "y": "Feb",
          "yref": "y"
         },
         {
          "align": "right",
          "font": {
           "color": "rgb(67, 67, 67)",
           "family": "Arial",
           "size": 14
          },
          "showarrow": false,
          "text": "Mar",
          "x": 0.14,
          "xanchor": "right",
          "xref": "paper",
          "y": "Mar",
          "yref": "y"
         },
         {
          "align": "right",
          "font": {
           "color": "rgb(67, 67, 67)",
           "family": "Arial",
           "size": 14
          },
          "showarrow": false,
          "text": "Apr",
          "x": 0.14,
          "xanchor": "right",
          "xref": "paper",
          "y": "Apr",
          "yref": "y"
         },
         {
          "align": "right",
          "font": {
           "color": "rgb(67, 67, 67)",
           "family": "Arial",
           "size": 14
          },
          "showarrow": false,
          "text": "May",
          "x": 0.14,
          "xanchor": "right",
          "xref": "paper",
          "y": "May",
          "yref": "y"
         },
         {
          "align": "right",
          "font": {
           "color": "rgb(67, 67, 67)",
           "family": "Arial",
           "size": 14
          },
          "showarrow": false,
          "text": "Jun",
          "x": 0.14,
          "xanchor": "right",
          "xref": "paper",
          "y": "Jun",
          "yref": "y"
         },
         {
          "align": "right",
          "font": {
           "color": "rgb(67, 67, 67)",
           "family": "Arial",
           "size": 14
          },
          "showarrow": false,
          "text": "Jul",
          "x": 0.14,
          "xanchor": "right",
          "xref": "paper",
          "y": "Jul",
          "yref": "y"
         },
         {
          "align": "right",
          "font": {
           "color": "rgb(67, 67, 67)",
           "family": "Arial",
           "size": 14
          },
          "showarrow": false,
          "text": "Aug",
          "x": 0.14,
          "xanchor": "right",
          "xref": "paper",
          "y": "Aug",
          "yref": "y"
         },
         {
          "align": "right",
          "font": {
           "color": "rgb(67, 67, 67)",
           "family": "Arial",
           "size": 14
          },
          "showarrow": false,
          "text": "Sep",
          "x": 0.14,
          "xanchor": "right",
          "xref": "paper",
          "y": "Sep",
          "yref": "y"
         },
         {
          "align": "right",
          "font": {
           "color": "rgb(67, 67, 67)",
           "family": "Arial",
           "size": 14
          },
          "showarrow": false,
          "text": "Oct",
          "x": 0.14,
          "xanchor": "right",
          "xref": "paper",
          "y": "Oct",
          "yref": "y"
         },
         {
          "align": "right",
          "font": {
           "color": "rgb(67, 67, 67)",
           "family": "Arial",
           "size": 14
          },
          "showarrow": false,
          "text": "Nov",
          "x": 0.14,
          "xanchor": "right",
          "xref": "paper",
          "y": "Nov",
          "yref": "y"
         },
         {
          "align": "right",
          "font": {
           "color": "rgb(67, 67, 67)",
           "family": "Arial",
           "size": 14
          },
          "showarrow": false,
          "text": "Dec",
          "x": 0.14,
          "xanchor": "right",
          "xref": "paper",
          "y": "Dec",
          "yref": "y"
         },
         {
          "font": {
           "color": "rgb(67, 67, 67)",
           "family": "Arial",
           "size": 14
          },
          "showarrow": false,
          "text": "2013",
          "x": 149.33757190943123,
          "xref": "x",
          "y": 1.1,
          "yref": "paper"
         },
         {
          "font": {
           "color": "rgb(67, 67, 67)",
           "family": "Arial",
           "size": 14
          },
          "showarrow": false,
          "text": "2014",
          "x": 528.5844466268425,
          "xref": "x",
          "y": 1.1,
          "yref": "paper"
         },
         {
          "font": {
           "color": "rgb(67, 67, 67)",
           "family": "Arial",
           "size": 14
          },
          "showarrow": false,
          "text": "2015",
          "x": 1015.416413196396,
          "xref": "x",
          "y": 1.1,
          "yref": "paper"
         },
         {
          "font": {
           "color": "rgb(67, 67, 67)",
           "family": "Arial",
           "size": 14
          },
          "showarrow": false,
          "text": "2016",
          "x": 1550.896487718524,
          "xref": "x",
          "y": 1.1,
          "yref": "paper"
         },
         {
          "font": {
           "color": "rgb(67, 67, 67)",
           "family": "Arial",
           "size": 14
          },
          "showarrow": false,
          "text": "2017",
          "x": 1829.4538984790784,
          "xref": "x",
          "y": 1.1,
          "yref": "paper"
         }
        ],
        "barmode": "stack",
        "margin": {
         "b": 10,
         "l": 0,
         "r": 50,
         "t": 100
        },
        "showlegend": false,
        "template": {
         "data": {
          "bar": [
           {
            "error_x": {
             "color": "#2a3f5f"
            },
            "error_y": {
             "color": "#2a3f5f"
            },
            "marker": {
             "line": {
              "color": "white",
              "width": 0.5
             },
             "pattern": {
              "fillmode": "overlay",
              "size": 10,
              "solidity": 0.2
             }
            },
            "type": "bar"
           }
          ],
          "barpolar": [
           {
            "marker": {
             "line": {
              "color": "white",
              "width": 0.5
             },
             "pattern": {
              "fillmode": "overlay",
              "size": 10,
              "solidity": 0.2
             }
            },
            "type": "barpolar"
           }
          ],
          "carpet": [
           {
            "aaxis": {
             "endlinecolor": "#2a3f5f",
             "gridcolor": "#C8D4E3",
             "linecolor": "#C8D4E3",
             "minorgridcolor": "#C8D4E3",
             "startlinecolor": "#2a3f5f"
            },
            "baxis": {
             "endlinecolor": "#2a3f5f",
             "gridcolor": "#C8D4E3",
             "linecolor": "#C8D4E3",
             "minorgridcolor": "#C8D4E3",
             "startlinecolor": "#2a3f5f"
            },
            "type": "carpet"
           }
          ],
          "choropleth": [
           {
            "colorbar": {
             "outlinewidth": 0,
             "ticks": ""
            },
            "type": "choropleth"
           }
          ],
          "contour": [
           {
            "colorbar": {
             "outlinewidth": 0,
             "ticks": ""
            },
            "colorscale": [
             [
              0,
              "#0d0887"
             ],
             [
              0.1111111111111111,
              "#46039f"
             ],
             [
              0.2222222222222222,
              "#7201a8"
             ],
             [
              0.3333333333333333,
              "#9c179e"
             ],
             [
              0.4444444444444444,
              "#bd3786"
             ],
             [
              0.5555555555555556,
              "#d8576b"
             ],
             [
              0.6666666666666666,
              "#ed7953"
             ],
             [
              0.7777777777777778,
              "#fb9f3a"
             ],
             [
              0.8888888888888888,
              "#fdca26"
             ],
             [
              1,
              "#f0f921"
             ]
            ],
            "type": "contour"
           }
          ],
          "contourcarpet": [
           {
            "colorbar": {
             "outlinewidth": 0,
             "ticks": ""
            },
            "type": "contourcarpet"
           }
          ],
          "heatmap": [
           {
            "colorbar": {
             "outlinewidth": 0,
             "ticks": ""
            },
            "colorscale": [
             [
              0,
              "#0d0887"
             ],
             [
              0.1111111111111111,
              "#46039f"
             ],
             [
              0.2222222222222222,
              "#7201a8"
             ],
             [
              0.3333333333333333,
              "#9c179e"
             ],
             [
              0.4444444444444444,
              "#bd3786"
             ],
             [
              0.5555555555555556,
              "#d8576b"
             ],
             [
              0.6666666666666666,
              "#ed7953"
             ],
             [
              0.7777777777777778,
              "#fb9f3a"
             ],
             [
              0.8888888888888888,
              "#fdca26"
             ],
             [
              1,
              "#f0f921"
             ]
            ],
            "type": "heatmap"
           }
          ],
          "heatmapgl": [
           {
            "colorbar": {
             "outlinewidth": 0,
             "ticks": ""
            },
            "colorscale": [
             [
              0,
              "#0d0887"
             ],
             [
              0.1111111111111111,
              "#46039f"
             ],
             [
              0.2222222222222222,
              "#7201a8"
             ],
             [
              0.3333333333333333,
              "#9c179e"
             ],
             [
              0.4444444444444444,
              "#bd3786"
             ],
             [
              0.5555555555555556,
              "#d8576b"
             ],
             [
              0.6666666666666666,
              "#ed7953"
             ],
             [
              0.7777777777777778,
              "#fb9f3a"
             ],
             [
              0.8888888888888888,
              "#fdca26"
             ],
             [
              1,
              "#f0f921"
             ]
            ],
            "type": "heatmapgl"
           }
          ],
          "histogram": [
           {
            "marker": {
             "pattern": {
              "fillmode": "overlay",
              "size": 10,
              "solidity": 0.2
             }
            },
            "type": "histogram"
           }
          ],
          "histogram2d": [
           {
            "colorbar": {
             "outlinewidth": 0,
             "ticks": ""
            },
            "colorscale": [
             [
              0,
              "#0d0887"
             ],
             [
              0.1111111111111111,
              "#46039f"
             ],
             [
              0.2222222222222222,
              "#7201a8"
             ],
             [
              0.3333333333333333,
              "#9c179e"
             ],
             [
              0.4444444444444444,
              "#bd3786"
             ],
             [
              0.5555555555555556,
              "#d8576b"
             ],
             [
              0.6666666666666666,
              "#ed7953"
             ],
             [
              0.7777777777777778,
              "#fb9f3a"
             ],
             [
              0.8888888888888888,
              "#fdca26"
             ],
             [
              1,
              "#f0f921"
             ]
            ],
            "type": "histogram2d"
           }
          ],
          "histogram2dcontour": [
           {
            "colorbar": {
             "outlinewidth": 0,
             "ticks": ""
            },
            "colorscale": [
             [
              0,
              "#0d0887"
             ],
             [
              0.1111111111111111,
              "#46039f"
             ],
             [
              0.2222222222222222,
              "#7201a8"
             ],
             [
              0.3333333333333333,
              "#9c179e"
             ],
             [
              0.4444444444444444,
              "#bd3786"
             ],
             [
              0.5555555555555556,
              "#d8576b"
             ],
             [
              0.6666666666666666,
              "#ed7953"
             ],
             [
              0.7777777777777778,
              "#fb9f3a"
             ],
             [
              0.8888888888888888,
              "#fdca26"
             ],
             [
              1,
              "#f0f921"
             ]
            ],
            "type": "histogram2dcontour"
           }
          ],
          "mesh3d": [
           {
            "colorbar": {
             "outlinewidth": 0,
             "ticks": ""
            },
            "type": "mesh3d"
           }
          ],
          "parcoords": [
           {
            "line": {
             "colorbar": {
              "outlinewidth": 0,
              "ticks": ""
             }
            },
            "type": "parcoords"
           }
          ],
          "pie": [
           {
            "automargin": true,
            "type": "pie"
           }
          ],
          "scatter": [
           {
            "marker": {
             "colorbar": {
              "outlinewidth": 0,
              "ticks": ""
             }
            },
            "type": "scatter"
           }
          ],
          "scatter3d": [
           {
            "line": {
             "colorbar": {
              "outlinewidth": 0,
              "ticks": ""
             }
            },
            "marker": {
             "colorbar": {
              "outlinewidth": 0,
              "ticks": ""
             }
            },
            "type": "scatter3d"
           }
          ],
          "scattercarpet": [
           {
            "marker": {
             "colorbar": {
              "outlinewidth": 0,
              "ticks": ""
             }
            },
            "type": "scattercarpet"
           }
          ],
          "scattergeo": [
           {
            "marker": {
             "colorbar": {
              "outlinewidth": 0,
              "ticks": ""
             }
            },
            "type": "scattergeo"
           }
          ],
          "scattergl": [
           {
            "marker": {
             "colorbar": {
              "outlinewidth": 0,
              "ticks": ""
             }
            },
            "type": "scattergl"
           }
          ],
          "scattermapbox": [
           {
            "marker": {
             "colorbar": {
              "outlinewidth": 0,
              "ticks": ""
             }
            },
            "type": "scattermapbox"
           }
          ],
          "scatterpolar": [
           {
            "marker": {
             "colorbar": {
              "outlinewidth": 0,
              "ticks": ""
             }
            },
            "type": "scatterpolar"
           }
          ],
          "scatterpolargl": [
           {
            "marker": {
             "colorbar": {
              "outlinewidth": 0,
              "ticks": ""
             }
            },
            "type": "scatterpolargl"
           }
          ],
          "scatterternary": [
           {
            "marker": {
             "colorbar": {
              "outlinewidth": 0,
              "ticks": ""
             }
            },
            "type": "scatterternary"
           }
          ],
          "surface": [
           {
            "colorbar": {
             "outlinewidth": 0,
             "ticks": ""
            },
            "colorscale": [
             [
              0,
              "#0d0887"
             ],
             [
              0.1111111111111111,
              "#46039f"
             ],
             [
              0.2222222222222222,
              "#7201a8"
             ],
             [
              0.3333333333333333,
              "#9c179e"
             ],
             [
              0.4444444444444444,
              "#bd3786"
             ],
             [
              0.5555555555555556,
              "#d8576b"
             ],
             [
              0.6666666666666666,
              "#ed7953"
             ],
             [
              0.7777777777777778,
              "#fb9f3a"
             ],
             [
              0.8888888888888888,
              "#fdca26"
             ],
             [
              1,
              "#f0f921"
             ]
            ],
            "type": "surface"
           }
          ],
          "table": [
           {
            "cells": {
             "fill": {
              "color": "#EBF0F8"
             },
             "line": {
              "color": "white"
             }
            },
            "header": {
             "fill": {
              "color": "#C8D4E3"
             },
             "line": {
              "color": "white"
             }
            },
            "type": "table"
           }
          ]
         },
         "layout": {
          "annotationdefaults": {
           "arrowcolor": "#2a3f5f",
           "arrowhead": 0,
           "arrowwidth": 1
          },
          "autotypenumbers": "strict",
          "coloraxis": {
           "colorbar": {
            "outlinewidth": 0,
            "ticks": ""
           }
          },
          "colorscale": {
           "diverging": [
            [
             0,
             "#8e0152"
            ],
            [
             0.1,
             "#c51b7d"
            ],
            [
             0.2,
             "#de77ae"
            ],
            [
             0.3,
             "#f1b6da"
            ],
            [
             0.4,
             "#fde0ef"
            ],
            [
             0.5,
             "#f7f7f7"
            ],
            [
             0.6,
             "#e6f5d0"
            ],
            [
             0.7,
             "#b8e186"
            ],
            [
             0.8,
             "#7fbc41"
            ],
            [
             0.9,
             "#4d9221"
            ],
            [
             1,
             "#276419"
            ]
           ],
           "sequential": [
            [
             0,
             "#0d0887"
            ],
            [
             0.1111111111111111,
             "#46039f"
            ],
            [
             0.2222222222222222,
             "#7201a8"
            ],
            [
             0.3333333333333333,
             "#9c179e"
            ],
            [
             0.4444444444444444,
             "#bd3786"
            ],
            [
             0.5555555555555556,
             "#d8576b"
            ],
            [
             0.6666666666666666,
             "#ed7953"
            ],
            [
             0.7777777777777778,
             "#fb9f3a"
            ],
            [
             0.8888888888888888,
             "#fdca26"
            ],
            [
             1,
             "#f0f921"
            ]
           ],
           "sequentialminus": [
            [
             0,
             "#0d0887"
            ],
            [
             0.1111111111111111,
             "#46039f"
            ],
            [
             0.2222222222222222,
             "#7201a8"
            ],
            [
             0.3333333333333333,
             "#9c179e"
            ],
            [
             0.4444444444444444,
             "#bd3786"
            ],
            [
             0.5555555555555556,
             "#d8576b"
            ],
            [
             0.6666666666666666,
             "#ed7953"
            ],
            [
             0.7777777777777778,
             "#fb9f3a"
            ],
            [
             0.8888888888888888,
             "#fdca26"
            ],
            [
             1,
             "#f0f921"
            ]
           ]
          },
          "colorway": [
           "#636efa",
           "#EF553B",
           "#00cc96",
           "#ab63fa",
           "#FFA15A",
           "#19d3f3",
           "#FF6692",
           "#B6E880",
           "#FF97FF",
           "#FECB52"
          ],
          "font": {
           "color": "#2a3f5f"
          },
          "geo": {
           "bgcolor": "white",
           "lakecolor": "white",
           "landcolor": "white",
           "showlakes": true,
           "showland": true,
           "subunitcolor": "#C8D4E3"
          },
          "hoverlabel": {
           "align": "left"
          },
          "hovermode": "closest",
          "mapbox": {
           "style": "light"
          },
          "paper_bgcolor": "white",
          "plot_bgcolor": "white",
          "polar": {
           "angularaxis": {
            "gridcolor": "#EBF0F8",
            "linecolor": "#EBF0F8",
            "ticks": ""
           },
           "bgcolor": "white",
           "radialaxis": {
            "gridcolor": "#EBF0F8",
            "linecolor": "#EBF0F8",
            "ticks": ""
           }
          },
          "scene": {
           "xaxis": {
            "backgroundcolor": "white",
            "gridcolor": "#DFE8F3",
            "gridwidth": 2,
            "linecolor": "#EBF0F8",
            "showbackground": true,
            "ticks": "",
            "zerolinecolor": "#EBF0F8"
           },
           "yaxis": {
            "backgroundcolor": "white",
            "gridcolor": "#DFE8F3",
            "gridwidth": 2,
            "linecolor": "#EBF0F8",
            "showbackground": true,
            "ticks": "",
            "zerolinecolor": "#EBF0F8"
           },
           "zaxis": {
            "backgroundcolor": "white",
            "gridcolor": "#DFE8F3",
            "gridwidth": 2,
            "linecolor": "#EBF0F8",
            "showbackground": true,
            "ticks": "",
            "zerolinecolor": "#EBF0F8"
           }
          },
          "shapedefaults": {
           "line": {
            "color": "#2a3f5f"
           }
          },
          "ternary": {
           "aaxis": {
            "gridcolor": "#DFE8F3",
            "linecolor": "#A2B1C6",
            "ticks": ""
           },
           "baxis": {
            "gridcolor": "#DFE8F3",
            "linecolor": "#A2B1C6",
            "ticks": ""
           },
           "bgcolor": "white",
           "caxis": {
            "gridcolor": "#DFE8F3",
            "linecolor": "#A2B1C6",
            "ticks": ""
           }
          },
          "title": {
           "x": 0.05
          },
          "xaxis": {
           "automargin": true,
           "gridcolor": "#EBF0F8",
           "linecolor": "#EBF0F8",
           "ticks": "",
           "title": {
            "standoff": 15
           },
           "zerolinecolor": "#EBF0F8",
           "zerolinewidth": 2
          },
          "yaxis": {
           "automargin": true,
           "gridcolor": "#EBF0F8",
           "linecolor": "#EBF0F8",
           "ticks": "",
           "title": {
            "standoff": 15
           },
           "zerolinecolor": "#EBF0F8",
           "zerolinewidth": 2
          }
         }
        },
        "title": {
         "text": "Avg Sales for each Year"
        },
        "xaxis": {
         "domain": [
          0.15,
          1
         ],
         "showgrid": false,
         "zeroline": false
        },
        "yaxis": {
         "showgrid": false,
         "showline": false,
         "showticklabels": false,
         "zeroline": false
        }
       }
      },
      "text/html": [
       "<div>                            <div id=\"9686dcc0-f36c-44ee-9d5a-095a332c88d3\" class=\"plotly-graph-div\" style=\"height:525px; width:100%;\"></div>            <script type=\"text/javascript\">                require([\"plotly\"], function(Plotly) {                    window.PLOTLYENV=window.PLOTLYENV || {};                                    if (document.getElementById(\"9686dcc0-f36c-44ee-9d5a-095a332c88d3\")) {                    Plotly.newPlot(                        \"9686dcc0-f36c-44ee-9d5a-095a332c88d3\",                        [{\"marker\":{\"color\":\"rgba(38, 24, 74, 0.8)\",\"line\":{\"color\":\"rgb(248, 248, 249)\",\"width\":1}},\"orientation\":\"h\",\"x\":[186.95240463613735],\"y\":[\"Jan\"],\"type\":\"bar\"},{\"marker\":{\"color\":\"rgba(38, 24, 74, 0.8)\",\"line\":{\"color\":\"rgb(248, 248, 249)\",\"width\":1}},\"orientation\":\"h\",\"x\":[193.581845787975],\"y\":[\"Feb\"],\"type\":\"bar\"},{\"marker\":{\"color\":\"rgba(38, 24, 74, 0.8)\",\"line\":{\"color\":\"rgb(248, 248, 249)\",\"width\":1}},\"orientation\":\"h\",\"x\":[206.88058067208826],\"y\":[\"Mar\"],\"type\":\"bar\"},{\"marker\":{\"color\":\"rgba(38, 24, 74, 0.8)\",\"line\":{\"color\":\"rgb(248, 248, 249)\",\"width\":1}},\"orientation\":\"h\",\"x\":[205.63907104399178],\"y\":[\"Apr\"],\"type\":\"bar\"},{\"marker\":{\"color\":\"rgba(38, 24, 74, 0.8)\",\"line\":{\"color\":\"rgb(248, 248, 249)\",\"width\":1}},\"orientation\":\"h\",\"x\":[210.1845628514538],\"y\":[\"May\"],\"type\":\"bar\"},{\"marker\":{\"color\":\"rgba(38, 24, 74, 0.8)\",\"line\":{\"color\":\"rgb(248, 248, 249)\",\"width\":1}},\"orientation\":\"h\",\"x\":[215.6913426341821],\"y\":[\"Jun\"],\"type\":\"bar\"},{\"marker\":{\"color\":\"rgba(38, 24, 74, 0.8)\",\"line\":{\"color\":\"rgb(248, 248, 249)\",\"width\":1}},\"orientation\":\"h\",\"x\":[203.9834547844732],\"y\":[\"Jul\"],\"type\":\"bar\"},{\"marker\":{\"color\":\"rgba(38, 24, 74, 0.8)\",\"line\":{\"color\":\"rgb(248, 248, 249)\",\"width\":1}},\"orientation\":\"h\",\"x\":[212.47943447870642],\"y\":[\"Aug\"],\"type\":\"bar\"},{\"marker\":{\"color\":\"rgba(38, 24, 74, 0.8)\",\"line\":{\"color\":\"rgb(248, 248, 249)\",\"width\":1}},\"orientation\":\"h\",\"x\":[220.59358832525066],\"y\":[\"Sep\"],\"type\":\"bar\"},{\"marker\":{\"color\":\"rgba(38, 24, 74, 0.8)\",\"line\":{\"color\":\"rgb(248, 248, 249)\",\"width\":1}},\"orientation\":\"h\",\"x\":[213.1642656044151],\"y\":[\"Oct\"],\"type\":\"bar\"},{\"marker\":{\"color\":\"rgba(38, 24, 74, 0.8)\",\"line\":{\"color\":\"rgb(248, 248, 249)\",\"width\":1}},\"orientation\":\"h\",\"x\":[231.13653746700524],\"y\":[\"Nov\"],\"type\":\"bar\"},{\"marker\":{\"color\":\"rgba(38, 24, 74, 0.8)\",\"line\":{\"color\":\"rgb(248, 248, 249)\",\"width\":1}},\"orientation\":\"h\",\"x\":[298.67514381886247],\"y\":[\"Dec\"],\"type\":\"bar\"},{\"marker\":{\"color\":\"rgba(71, 58, 131, 0.8)\",\"line\":{\"color\":\"rgb(248, 248, 249)\",\"width\":1}},\"orientation\":\"h\",\"x\":[342.3417092321676],\"y\":[\"Jan\"],\"type\":\"bar\"},{\"marker\":{\"color\":\"rgba(71, 58, 131, 0.8)\",\"line\":{\"color\":\"rgb(248, 248, 249)\",\"width\":1}},\"orientation\":\"h\",\"x\":[241.26889197487372],\"y\":[\"Feb\"],\"type\":\"bar\"},{\"marker\":{\"color\":\"rgba(71, 58, 131, 0.8)\",\"line\":{\"color\":\"rgb(248, 248, 249)\",\"width\":1}},\"orientation\":\"h\",\"x\":[368.66123631434414],\"y\":[\"Mar\"],\"type\":\"bar\"},{\"marker\":{\"color\":\"rgba(71, 58, 131, 0.8)\",\"line\":{\"color\":\"rgb(248, 248, 249)\",\"width\":1}},\"orientation\":\"h\",\"x\":[240.57708674054246],\"y\":[\"Apr\"],\"type\":\"bar\"},{\"marker\":{\"color\":\"rgba(71, 58, 131, 0.8)\",\"line\":{\"color\":\"rgb(248, 248, 249)\",\"width\":1}},\"orientation\":\"h\",\"x\":[242.20312916254844],\"y\":[\"May\"],\"type\":\"bar\"},{\"marker\":{\"color\":\"rgba(71, 58, 131, 0.8)\",\"line\":{\"color\":\"rgb(248, 248, 249)\",\"width\":1}},\"orientation\":\"h\",\"x\":[244.63465236629935],\"y\":[\"Jun\"],\"type\":\"bar\"},{\"marker\":{\"color\":\"rgba(71, 58, 131, 0.8)\",\"line\":{\"color\":\"rgb(248, 248, 249)\",\"width\":1}},\"orientation\":\"h\",\"x\":[350.8301024939429],\"y\":[\"Jul\"],\"type\":\"bar\"},{\"marker\":{\"color\":\"rgba(71, 58, 131, 0.8)\",\"line\":{\"color\":\"rgb(248, 248, 249)\",\"width\":1}},\"orientation\":\"h\",\"x\":[251.35180513113573],\"y\":[\"Aug\"],\"type\":\"bar\"},{\"marker\":{\"color\":\"rgba(71, 58, 131, 0.8)\",\"line\":{\"color\":\"rgb(248, 248, 249)\",\"width\":1}},\"orientation\":\"h\",\"x\":[374.53079150410775],\"y\":[\"Sep\"],\"type\":\"bar\"},{\"marker\":{\"color\":\"rgba(71, 58, 131, 0.8)\",\"line\":{\"color\":\"rgb(248, 248, 249)\",\"width\":1}},\"orientation\":\"h\",\"x\":[369.21366558374245],\"y\":[\"Oct\"],\"type\":\"bar\"},{\"marker\":{\"color\":\"rgba(71, 58, 131, 0.8)\",\"line\":{\"color\":\"rgb(248, 248, 249)\",\"width\":1}},\"orientation\":\"h\",\"x\":[384.05602700417506],\"y\":[\"Nov\"],\"type\":\"bar\"},{\"marker\":{\"color\":\"rgba(71, 58, 131, 0.8)\",\"line\":{\"color\":\"rgb(248, 248, 249)\",\"width\":1}},\"orientation\":\"h\",\"x\":[459.81860561595994],\"y\":[\"Dec\"],\"type\":\"bar\"},{\"marker\":{\"color\":\"rgba(122, 120, 168, 0.8)\",\"line\":{\"color\":\"rgb(248, 248, 249)\",\"width\":1}},\"orientation\":\"h\",\"x\":[269.666595293409],\"y\":[\"Jan\"],\"type\":\"bar\"},{\"marker\":{\"color\":\"rgba(122, 120, 168, 0.8)\",\"line\":{\"color\":\"rgb(248, 248, 249)\",\"width\":1}},\"orientation\":\"h\",\"x\":[275.42079221543213],\"y\":[\"Feb\"],\"type\":\"bar\"},{\"marker\":{\"color\":\"rgba(122, 120, 168, 0.8)\",\"line\":{\"color\":\"rgb(248, 248, 249)\",\"width\":1}},\"orientation\":\"h\",\"x\":[282.3686238433674],\"y\":[\"Mar\"],\"type\":\"bar\"},{\"marker\":{\"color\":\"rgba(122, 120, 168, 0.8)\",\"line\":{\"color\":\"rgb(248, 248, 249)\",\"width\":1}},\"orientation\":\"h\",\"x\":[279.74313824869995],\"y\":[\"Apr\"],\"type\":\"bar\"},{\"marker\":{\"color\":\"rgba(122, 120, 168, 0.8)\",\"line\":{\"color\":\"rgb(248, 248, 249)\",\"width\":1}},\"orientation\":\"h\",\"x\":[320.9581160042902],\"y\":[\"May\"],\"type\":\"bar\"},{\"marker\":{\"color\":\"rgba(122, 120, 168, 0.8)\",\"line\":{\"color\":\"rgb(248, 248, 249)\",\"width\":1}},\"orientation\":\"h\",\"x\":[397.24961881026763],\"y\":[\"Jun\"],\"type\":\"bar\"},{\"marker\":{\"color\":\"rgba(122, 120, 168, 0.8)\",\"line\":{\"color\":\"rgb(248, 248, 249)\",\"width\":1}},\"orientation\":\"h\",\"x\":[403.0301703258084],\"y\":[\"Jul\"],\"type\":\"bar\"},{\"marker\":{\"color\":\"rgba(122, 120, 168, 0.8)\",\"line\":{\"color\":\"rgb(248, 248, 249)\",\"width\":1}},\"orientation\":\"h\",\"x\":[415.692303705179],\"y\":[\"Aug\"],\"type\":\"bar\"},{\"marker\":{\"color\":\"rgba(122, 120, 168, 0.8)\",\"line\":{\"color\":\"rgb(248, 248, 249)\",\"width\":1}},\"orientation\":\"h\",\"x\":[434.7340530847587],\"y\":[\"Sep\"],\"type\":\"bar\"},{\"marker\":{\"color\":\"rgba(122, 120, 168, 0.8)\",\"line\":{\"color\":\"rgb(248, 248, 249)\",\"width\":1}},\"orientation\":\"h\",\"x\":[432.2484280902592],\"y\":[\"Oct\"],\"type\":\"bar\"},{\"marker\":{\"color\":\"rgba(122, 120, 168, 0.8)\",\"line\":{\"color\":\"rgb(248, 248, 249)\",\"width\":1}},\"orientation\":\"h\",\"x\":[426.57974875067714],\"y\":[\"Nov\"],\"type\":\"bar\"},{\"marker\":{\"color\":\"rgba(122, 120, 168, 0.8)\",\"line\":{\"color\":\"rgb(248, 248, 249)\",\"width\":1}},\"orientation\":\"h\",\"x\":[513.8453275231473],\"y\":[\"Dec\"],\"type\":\"bar\"},{\"marker\":{\"color\":\"rgba(164, 163, 204, 0.85)\",\"line\":{\"color\":\"rgb(248, 248, 249)\",\"width\":1}},\"orientation\":\"h\",\"x\":[434.0502676484215],\"y\":[\"Jan\"],\"type\":\"bar\"},{\"marker\":{\"color\":\"rgba(164, 163, 204, 0.85)\",\"line\":{\"color\":\"rgb(248, 248, 249)\",\"width\":1}},\"orientation\":\"h\",\"x\":[424.69539844813653],\"y\":[\"Feb\"],\"type\":\"bar\"},{\"marker\":{\"color\":\"rgba(164, 163, 204, 0.85)\",\"line\":{\"color\":\"rgb(248, 248, 249)\",\"width\":1}},\"orientation\":\"h\",\"x\":[418.7353984978802],\"y\":[\"Mar\"],\"type\":\"bar\"},{\"marker\":{\"color\":\"rgba(164, 163, 204, 0.85)\",\"line\":{\"color\":\"rgb(248, 248, 249)\",\"width\":1}},\"orientation\":\"h\",\"x\":[488.1087737795554],\"y\":[\"Apr\"],\"type\":\"bar\"},{\"marker\":{\"color\":\"rgba(164, 163, 204, 0.85)\",\"line\":{\"color\":\"rgb(248, 248, 249)\",\"width\":1}},\"orientation\":\"h\",\"x\":[457.6713979467484],\"y\":[\"May\"],\"type\":\"bar\"},{\"marker\":{\"color\":\"rgba(164, 163, 204, 0.85)\",\"line\":{\"color\":\"rgb(248, 248, 249)\",\"width\":1}},\"orientation\":\"h\",\"x\":[419.64457509660144],\"y\":[\"Jun\"],\"type\":\"bar\"},{\"marker\":{\"color\":\"rgba(164, 163, 204, 0.85)\",\"line\":{\"color\":\"rgb(248, 248, 249)\",\"width\":1}},\"orientation\":\"h\",\"x\":[432.56221846394243],\"y\":[\"Jul\"],\"type\":\"bar\"},{\"marker\":{\"color\":\"rgba(164, 163, 204, 0.85)\",\"line\":{\"color\":\"rgb(248, 248, 249)\",\"width\":1}},\"orientation\":\"h\",\"x\":[406.437390353262],\"y\":[\"Aug\"],\"type\":\"bar\"},{\"marker\":{\"color\":\"rgba(164, 163, 204, 0.85)\",\"line\":{\"color\":\"rgb(248, 248, 249)\",\"width\":1}},\"orientation\":\"h\",\"x\":[419.33124012339505],\"y\":[\"Sep\"],\"type\":\"bar\"},{\"marker\":{\"color\":\"rgba(164, 163, 204, 0.85)\",\"line\":{\"color\":\"rgb(248, 248, 249)\",\"width\":1}},\"orientation\":\"h\",\"x\":[435.00216893472356],\"y\":[\"Oct\"],\"type\":\"bar\"},{\"marker\":{\"color\":\"rgba(164, 163, 204, 0.85)\",\"line\":{\"color\":\"rgb(248, 248, 249)\",\"width\":1}},\"orientation\":\"h\",\"x\":[462.9166751626751],\"y\":[\"Nov\"],\"type\":\"bar\"},{\"marker\":{\"color\":\"rgba(164, 163, 204, 0.85)\",\"line\":{\"color\":\"rgb(248, 248, 249)\",\"width\":1}},\"orientation\":\"h\",\"x\":[557.1148215211089],\"y\":[\"Dec\"],\"type\":\"bar\"},{\"marker\":{\"color\":\"rgba(190, 192, 213, 1)\",\"line\":{\"color\":\"rgb(248, 248, 249)\",\"width\":1}},\"orientation\":\"h\",\"x\":[476.5967911318399],\"y\":[\"Jan\"],\"type\":\"bar\"},{\"marker\":{\"color\":\"rgba(190, 192, 213, 1)\",\"line\":{\"color\":\"rgb(248, 248, 249)\",\"width\":1}},\"orientation\":\"h\",\"x\":[465.9714681524932],\"y\":[\"Feb\"],\"type\":\"bar\"},{\"marker\":{\"color\":\"rgba(190, 192, 213, 1)\",\"line\":{\"color\":\"rgb(248, 248, 249)\",\"width\":1}},\"orientation\":\"h\",\"x\":[483.4006316005811],\"y\":[\"Mar\"],\"type\":\"bar\"},{\"marker\":{\"color\":\"rgba(190, 192, 213, 1)\",\"line\":{\"color\":\"rgb(248, 248, 249)\",\"width\":1}},\"orientation\":\"h\",\"x\":[482.1729476916857],\"y\":[\"Apr\"],\"type\":\"bar\"},{\"marker\":{\"color\":\"rgba(190, 192, 213, 1)\",\"line\":{\"color\":\"rgb(248, 248, 249)\",\"width\":1}},\"orientation\":\"h\",\"x\":[487.1627973388545],\"y\":[\"May\"],\"type\":\"bar\"},{\"marker\":{\"color\":\"rgba(190, 192, 213, 1)\",\"line\":{\"color\":\"rgb(248, 248, 249)\",\"width\":1}},\"orientation\":\"h\",\"x\":[488.707278377904],\"y\":[\"Jun\"],\"type\":\"bar\"},{\"marker\":{\"color\":\"rgba(190, 192, 213, 1)\",\"line\":{\"color\":\"rgb(248, 248, 249)\",\"width\":1}},\"orientation\":\"h\",\"x\":[489.9098796058975],\"y\":[\"Jul\"],\"type\":\"bar\"},{\"marker\":{\"color\":\"rgba(190, 192, 213, 1)\",\"line\":{\"color\":\"rgb(248, 248, 249)\",\"width\":1}},\"orientation\":\"h\",\"x\":[465.14489116264497],\"y\":[\"Aug\"],\"type\":\"bar\"},{\"marker\":{\"color\":\"rgba(190, 192, 213, 1)\",\"line\":{\"color\":\"rgb(248, 248, 249)\",\"width\":1}},\"orientation\":\"h\",\"x\":[0.0],\"y\":[\"Sep\"],\"type\":\"bar\"},{\"marker\":{\"color\":\"rgba(190, 192, 213, 1)\",\"line\":{\"color\":\"rgb(248, 248, 249)\",\"width\":1}},\"orientation\":\"h\",\"x\":[0.0],\"y\":[\"Oct\"],\"type\":\"bar\"},{\"marker\":{\"color\":\"rgba(190, 192, 213, 1)\",\"line\":{\"color\":\"rgb(248, 248, 249)\",\"width\":1}},\"orientation\":\"h\",\"x\":[0.0],\"y\":[\"Nov\"],\"type\":\"bar\"},{\"marker\":{\"color\":\"rgba(190, 192, 213, 1)\",\"line\":{\"color\":\"rgb(248, 248, 249)\",\"width\":1}},\"orientation\":\"h\",\"x\":[0.0],\"y\":[\"Dec\"],\"type\":\"bar\"}],                        {\"template\":{\"data\":{\"barpolar\":[{\"marker\":{\"line\":{\"color\":\"white\",\"width\":0.5},\"pattern\":{\"fillmode\":\"overlay\",\"size\":10,\"solidity\":0.2}},\"type\":\"barpolar\"}],\"bar\":[{\"error_x\":{\"color\":\"#2a3f5f\"},\"error_y\":{\"color\":\"#2a3f5f\"},\"marker\":{\"line\":{\"color\":\"white\",\"width\":0.5},\"pattern\":{\"fillmode\":\"overlay\",\"size\":10,\"solidity\":0.2}},\"type\":\"bar\"}],\"carpet\":[{\"aaxis\":{\"endlinecolor\":\"#2a3f5f\",\"gridcolor\":\"#C8D4E3\",\"linecolor\":\"#C8D4E3\",\"minorgridcolor\":\"#C8D4E3\",\"startlinecolor\":\"#2a3f5f\"},\"baxis\":{\"endlinecolor\":\"#2a3f5f\",\"gridcolor\":\"#C8D4E3\",\"linecolor\":\"#C8D4E3\",\"minorgridcolor\":\"#C8D4E3\",\"startlinecolor\":\"#2a3f5f\"},\"type\":\"carpet\"}],\"choropleth\":[{\"colorbar\":{\"outlinewidth\":0,\"ticks\":\"\"},\"type\":\"choropleth\"}],\"contourcarpet\":[{\"colorbar\":{\"outlinewidth\":0,\"ticks\":\"\"},\"type\":\"contourcarpet\"}],\"contour\":[{\"colorbar\":{\"outlinewidth\":0,\"ticks\":\"\"},\"colorscale\":[[0.0,\"#0d0887\"],[0.1111111111111111,\"#46039f\"],[0.2222222222222222,\"#7201a8\"],[0.3333333333333333,\"#9c179e\"],[0.4444444444444444,\"#bd3786\"],[0.5555555555555556,\"#d8576b\"],[0.6666666666666666,\"#ed7953\"],[0.7777777777777778,\"#fb9f3a\"],[0.8888888888888888,\"#fdca26\"],[1.0,\"#f0f921\"]],\"type\":\"contour\"}],\"heatmapgl\":[{\"colorbar\":{\"outlinewidth\":0,\"ticks\":\"\"},\"colorscale\":[[0.0,\"#0d0887\"],[0.1111111111111111,\"#46039f\"],[0.2222222222222222,\"#7201a8\"],[0.3333333333333333,\"#9c179e\"],[0.4444444444444444,\"#bd3786\"],[0.5555555555555556,\"#d8576b\"],[0.6666666666666666,\"#ed7953\"],[0.7777777777777778,\"#fb9f3a\"],[0.8888888888888888,\"#fdca26\"],[1.0,\"#f0f921\"]],\"type\":\"heatmapgl\"}],\"heatmap\":[{\"colorbar\":{\"outlinewidth\":0,\"ticks\":\"\"},\"colorscale\":[[0.0,\"#0d0887\"],[0.1111111111111111,\"#46039f\"],[0.2222222222222222,\"#7201a8\"],[0.3333333333333333,\"#9c179e\"],[0.4444444444444444,\"#bd3786\"],[0.5555555555555556,\"#d8576b\"],[0.6666666666666666,\"#ed7953\"],[0.7777777777777778,\"#fb9f3a\"],[0.8888888888888888,\"#fdca26\"],[1.0,\"#f0f921\"]],\"type\":\"heatmap\"}],\"histogram2dcontour\":[{\"colorbar\":{\"outlinewidth\":0,\"ticks\":\"\"},\"colorscale\":[[0.0,\"#0d0887\"],[0.1111111111111111,\"#46039f\"],[0.2222222222222222,\"#7201a8\"],[0.3333333333333333,\"#9c179e\"],[0.4444444444444444,\"#bd3786\"],[0.5555555555555556,\"#d8576b\"],[0.6666666666666666,\"#ed7953\"],[0.7777777777777778,\"#fb9f3a\"],[0.8888888888888888,\"#fdca26\"],[1.0,\"#f0f921\"]],\"type\":\"histogram2dcontour\"}],\"histogram2d\":[{\"colorbar\":{\"outlinewidth\":0,\"ticks\":\"\"},\"colorscale\":[[0.0,\"#0d0887\"],[0.1111111111111111,\"#46039f\"],[0.2222222222222222,\"#7201a8\"],[0.3333333333333333,\"#9c179e\"],[0.4444444444444444,\"#bd3786\"],[0.5555555555555556,\"#d8576b\"],[0.6666666666666666,\"#ed7953\"],[0.7777777777777778,\"#fb9f3a\"],[0.8888888888888888,\"#fdca26\"],[1.0,\"#f0f921\"]],\"type\":\"histogram2d\"}],\"histogram\":[{\"marker\":{\"pattern\":{\"fillmode\":\"overlay\",\"size\":10,\"solidity\":0.2}},\"type\":\"histogram\"}],\"mesh3d\":[{\"colorbar\":{\"outlinewidth\":0,\"ticks\":\"\"},\"type\":\"mesh3d\"}],\"parcoords\":[{\"line\":{\"colorbar\":{\"outlinewidth\":0,\"ticks\":\"\"}},\"type\":\"parcoords\"}],\"pie\":[{\"automargin\":true,\"type\":\"pie\"}],\"scatter3d\":[{\"line\":{\"colorbar\":{\"outlinewidth\":0,\"ticks\":\"\"}},\"marker\":{\"colorbar\":{\"outlinewidth\":0,\"ticks\":\"\"}},\"type\":\"scatter3d\"}],\"scattercarpet\":[{\"marker\":{\"colorbar\":{\"outlinewidth\":0,\"ticks\":\"\"}},\"type\":\"scattercarpet\"}],\"scattergeo\":[{\"marker\":{\"colorbar\":{\"outlinewidth\":0,\"ticks\":\"\"}},\"type\":\"scattergeo\"}],\"scattergl\":[{\"marker\":{\"colorbar\":{\"outlinewidth\":0,\"ticks\":\"\"}},\"type\":\"scattergl\"}],\"scattermapbox\":[{\"marker\":{\"colorbar\":{\"outlinewidth\":0,\"ticks\":\"\"}},\"type\":\"scattermapbox\"}],\"scatterpolargl\":[{\"marker\":{\"colorbar\":{\"outlinewidth\":0,\"ticks\":\"\"}},\"type\":\"scatterpolargl\"}],\"scatterpolar\":[{\"marker\":{\"colorbar\":{\"outlinewidth\":0,\"ticks\":\"\"}},\"type\":\"scatterpolar\"}],\"scatter\":[{\"marker\":{\"colorbar\":{\"outlinewidth\":0,\"ticks\":\"\"}},\"type\":\"scatter\"}],\"scatterternary\":[{\"marker\":{\"colorbar\":{\"outlinewidth\":0,\"ticks\":\"\"}},\"type\":\"scatterternary\"}],\"surface\":[{\"colorbar\":{\"outlinewidth\":0,\"ticks\":\"\"},\"colorscale\":[[0.0,\"#0d0887\"],[0.1111111111111111,\"#46039f\"],[0.2222222222222222,\"#7201a8\"],[0.3333333333333333,\"#9c179e\"],[0.4444444444444444,\"#bd3786\"],[0.5555555555555556,\"#d8576b\"],[0.6666666666666666,\"#ed7953\"],[0.7777777777777778,\"#fb9f3a\"],[0.8888888888888888,\"#fdca26\"],[1.0,\"#f0f921\"]],\"type\":\"surface\"}],\"table\":[{\"cells\":{\"fill\":{\"color\":\"#EBF0F8\"},\"line\":{\"color\":\"white\"}},\"header\":{\"fill\":{\"color\":\"#C8D4E3\"},\"line\":{\"color\":\"white\"}},\"type\":\"table\"}]},\"layout\":{\"annotationdefaults\":{\"arrowcolor\":\"#2a3f5f\",\"arrowhead\":0,\"arrowwidth\":1},\"autotypenumbers\":\"strict\",\"coloraxis\":{\"colorbar\":{\"outlinewidth\":0,\"ticks\":\"\"}},\"colorscale\":{\"diverging\":[[0,\"#8e0152\"],[0.1,\"#c51b7d\"],[0.2,\"#de77ae\"],[0.3,\"#f1b6da\"],[0.4,\"#fde0ef\"],[0.5,\"#f7f7f7\"],[0.6,\"#e6f5d0\"],[0.7,\"#b8e186\"],[0.8,\"#7fbc41\"],[0.9,\"#4d9221\"],[1,\"#276419\"]],\"sequential\":[[0.0,\"#0d0887\"],[0.1111111111111111,\"#46039f\"],[0.2222222222222222,\"#7201a8\"],[0.3333333333333333,\"#9c179e\"],[0.4444444444444444,\"#bd3786\"],[0.5555555555555556,\"#d8576b\"],[0.6666666666666666,\"#ed7953\"],[0.7777777777777778,\"#fb9f3a\"],[0.8888888888888888,\"#fdca26\"],[1.0,\"#f0f921\"]],\"sequentialminus\":[[0.0,\"#0d0887\"],[0.1111111111111111,\"#46039f\"],[0.2222222222222222,\"#7201a8\"],[0.3333333333333333,\"#9c179e\"],[0.4444444444444444,\"#bd3786\"],[0.5555555555555556,\"#d8576b\"],[0.6666666666666666,\"#ed7953\"],[0.7777777777777778,\"#fb9f3a\"],[0.8888888888888888,\"#fdca26\"],[1.0,\"#f0f921\"]]},\"colorway\":[\"#636efa\",\"#EF553B\",\"#00cc96\",\"#ab63fa\",\"#FFA15A\",\"#19d3f3\",\"#FF6692\",\"#B6E880\",\"#FF97FF\",\"#FECB52\"],\"font\":{\"color\":\"#2a3f5f\"},\"geo\":{\"bgcolor\":\"white\",\"lakecolor\":\"white\",\"landcolor\":\"white\",\"showlakes\":true,\"showland\":true,\"subunitcolor\":\"#C8D4E3\"},\"hoverlabel\":{\"align\":\"left\"},\"hovermode\":\"closest\",\"mapbox\":{\"style\":\"light\"},\"paper_bgcolor\":\"white\",\"plot_bgcolor\":\"white\",\"polar\":{\"angularaxis\":{\"gridcolor\":\"#EBF0F8\",\"linecolor\":\"#EBF0F8\",\"ticks\":\"\"},\"bgcolor\":\"white\",\"radialaxis\":{\"gridcolor\":\"#EBF0F8\",\"linecolor\":\"#EBF0F8\",\"ticks\":\"\"}},\"scene\":{\"xaxis\":{\"backgroundcolor\":\"white\",\"gridcolor\":\"#DFE8F3\",\"gridwidth\":2,\"linecolor\":\"#EBF0F8\",\"showbackground\":true,\"ticks\":\"\",\"zerolinecolor\":\"#EBF0F8\"},\"yaxis\":{\"backgroundcolor\":\"white\",\"gridcolor\":\"#DFE8F3\",\"gridwidth\":2,\"linecolor\":\"#EBF0F8\",\"showbackground\":true,\"ticks\":\"\",\"zerolinecolor\":\"#EBF0F8\"},\"zaxis\":{\"backgroundcolor\":\"white\",\"gridcolor\":\"#DFE8F3\",\"gridwidth\":2,\"linecolor\":\"#EBF0F8\",\"showbackground\":true,\"ticks\":\"\",\"zerolinecolor\":\"#EBF0F8\"}},\"shapedefaults\":{\"line\":{\"color\":\"#2a3f5f\"}},\"ternary\":{\"aaxis\":{\"gridcolor\":\"#DFE8F3\",\"linecolor\":\"#A2B1C6\",\"ticks\":\"\"},\"baxis\":{\"gridcolor\":\"#DFE8F3\",\"linecolor\":\"#A2B1C6\",\"ticks\":\"\"},\"bgcolor\":\"white\",\"caxis\":{\"gridcolor\":\"#DFE8F3\",\"linecolor\":\"#A2B1C6\",\"ticks\":\"\"}},\"title\":{\"x\":0.05},\"xaxis\":{\"automargin\":true,\"gridcolor\":\"#EBF0F8\",\"linecolor\":\"#EBF0F8\",\"ticks\":\"\",\"title\":{\"standoff\":15},\"zerolinecolor\":\"#EBF0F8\",\"zerolinewidth\":2},\"yaxis\":{\"automargin\":true,\"gridcolor\":\"#EBF0F8\",\"linecolor\":\"#EBF0F8\",\"ticks\":\"\",\"title\":{\"standoff\":15},\"zerolinecolor\":\"#EBF0F8\",\"zerolinewidth\":2}}},\"xaxis\":{\"showgrid\":false,\"zeroline\":false,\"domain\":[0.15,1]},\"yaxis\":{\"showgrid\":false,\"showline\":false,\"showticklabels\":false,\"zeroline\":false},\"margin\":{\"l\":0,\"r\":50,\"t\":100,\"b\":10},\"title\":{\"text\":\"Avg Sales for each Year\"},\"barmode\":\"stack\",\"showlegend\":false,\"annotations\":[{\"align\":\"right\",\"font\":{\"color\":\"rgb(67, 67, 67)\",\"family\":\"Arial\",\"size\":14},\"showarrow\":false,\"text\":\"Jan\",\"x\":0.14,\"xanchor\":\"right\",\"xref\":\"paper\",\"y\":\"Jan\",\"yref\":\"y\"},{\"align\":\"right\",\"font\":{\"color\":\"rgb(67, 67, 67)\",\"family\":\"Arial\",\"size\":14},\"showarrow\":false,\"text\":\"Feb\",\"x\":0.14,\"xanchor\":\"right\",\"xref\":\"paper\",\"y\":\"Feb\",\"yref\":\"y\"},{\"align\":\"right\",\"font\":{\"color\":\"rgb(67, 67, 67)\",\"family\":\"Arial\",\"size\":14},\"showarrow\":false,\"text\":\"Mar\",\"x\":0.14,\"xanchor\":\"right\",\"xref\":\"paper\",\"y\":\"Mar\",\"yref\":\"y\"},{\"align\":\"right\",\"font\":{\"color\":\"rgb(67, 67, 67)\",\"family\":\"Arial\",\"size\":14},\"showarrow\":false,\"text\":\"Apr\",\"x\":0.14,\"xanchor\":\"right\",\"xref\":\"paper\",\"y\":\"Apr\",\"yref\":\"y\"},{\"align\":\"right\",\"font\":{\"color\":\"rgb(67, 67, 67)\",\"family\":\"Arial\",\"size\":14},\"showarrow\":false,\"text\":\"May\",\"x\":0.14,\"xanchor\":\"right\",\"xref\":\"paper\",\"y\":\"May\",\"yref\":\"y\"},{\"align\":\"right\",\"font\":{\"color\":\"rgb(67, 67, 67)\",\"family\":\"Arial\",\"size\":14},\"showarrow\":false,\"text\":\"Jun\",\"x\":0.14,\"xanchor\":\"right\",\"xref\":\"paper\",\"y\":\"Jun\",\"yref\":\"y\"},{\"align\":\"right\",\"font\":{\"color\":\"rgb(67, 67, 67)\",\"family\":\"Arial\",\"size\":14},\"showarrow\":false,\"text\":\"Jul\",\"x\":0.14,\"xanchor\":\"right\",\"xref\":\"paper\",\"y\":\"Jul\",\"yref\":\"y\"},{\"align\":\"right\",\"font\":{\"color\":\"rgb(67, 67, 67)\",\"family\":\"Arial\",\"size\":14},\"showarrow\":false,\"text\":\"Aug\",\"x\":0.14,\"xanchor\":\"right\",\"xref\":\"paper\",\"y\":\"Aug\",\"yref\":\"y\"},{\"align\":\"right\",\"font\":{\"color\":\"rgb(67, 67, 67)\",\"family\":\"Arial\",\"size\":14},\"showarrow\":false,\"text\":\"Sep\",\"x\":0.14,\"xanchor\":\"right\",\"xref\":\"paper\",\"y\":\"Sep\",\"yref\":\"y\"},{\"align\":\"right\",\"font\":{\"color\":\"rgb(67, 67, 67)\",\"family\":\"Arial\",\"size\":14},\"showarrow\":false,\"text\":\"Oct\",\"x\":0.14,\"xanchor\":\"right\",\"xref\":\"paper\",\"y\":\"Oct\",\"yref\":\"y\"},{\"align\":\"right\",\"font\":{\"color\":\"rgb(67, 67, 67)\",\"family\":\"Arial\",\"size\":14},\"showarrow\":false,\"text\":\"Nov\",\"x\":0.14,\"xanchor\":\"right\",\"xref\":\"paper\",\"y\":\"Nov\",\"yref\":\"y\"},{\"align\":\"right\",\"font\":{\"color\":\"rgb(67, 67, 67)\",\"family\":\"Arial\",\"size\":14},\"showarrow\":false,\"text\":\"Dec\",\"x\":0.14,\"xanchor\":\"right\",\"xref\":\"paper\",\"y\":\"Dec\",\"yref\":\"y\"},{\"font\":{\"color\":\"rgb(67, 67, 67)\",\"family\":\"Arial\",\"size\":14},\"showarrow\":false,\"text\":\"2013\",\"x\":149.33757190943123,\"xref\":\"x\",\"y\":1.1,\"yref\":\"paper\"},{\"font\":{\"color\":\"rgb(67, 67, 67)\",\"family\":\"Arial\",\"size\":14},\"showarrow\":false,\"text\":\"2014\",\"x\":528.5844466268425,\"xref\":\"x\",\"y\":1.1,\"yref\":\"paper\"},{\"font\":{\"color\":\"rgb(67, 67, 67)\",\"family\":\"Arial\",\"size\":14},\"showarrow\":false,\"text\":\"2015\",\"x\":1015.416413196396,\"xref\":\"x\",\"y\":1.1,\"yref\":\"paper\"},{\"font\":{\"color\":\"rgb(67, 67, 67)\",\"family\":\"Arial\",\"size\":14},\"showarrow\":false,\"text\":\"2016\",\"x\":1550.896487718524,\"xref\":\"x\",\"y\":1.1,\"yref\":\"paper\"},{\"font\":{\"color\":\"rgb(67, 67, 67)\",\"family\":\"Arial\",\"size\":14},\"showarrow\":false,\"text\":\"2017\",\"x\":1829.4538984790784,\"xref\":\"x\",\"y\":1.1,\"yref\":\"paper\"}]},                        {\"responsive\": true}                    ).then(function(){\n",
       "                            \n",
       "var gd = document.getElementById('9686dcc0-f36c-44ee-9d5a-095a332c88d3');\n",
       "var x = new MutationObserver(function (mutations, observer) {{\n",
       "        var display = window.getComputedStyle(gd).display;\n",
       "        if (!display || display === 'none') {{\n",
       "            console.log([gd, 'removed!']);\n",
       "            Plotly.purge(gd);\n",
       "            observer.disconnect();\n",
       "        }}\n",
       "}});\n",
       "\n",
       "// Listen for the removal of the full notebook cells\n",
       "var notebookContainer = gd.closest('#notebook-container');\n",
       "if (notebookContainer) {{\n",
       "    x.observe(notebookContainer, {childList: true});\n",
       "}}\n",
       "\n",
       "// Listen for the clearing of the current output cell\n",
       "var outputEl = gd.closest('.output');\n",
       "if (outputEl) {{\n",
       "    x.observe(outputEl, {childList: true});\n",
       "}}\n",
       "\n",
       "                        })                };                });            </script>        </div>"
      ]
     },
     "metadata": {},
     "output_type": "display_data"
    }
   ],
   "source": [
    "# data \n",
    "df_2013 = df_train1[df_train1['year']==2013][['month','sales']]\n",
    "df_2013 = df_2013.groupby('month').agg({\"sales\" : \"mean\"}).reset_index().rename(columns={'sales':'s13'})\n",
    "df_2014 = df_train1[df_train1['year']==2014][['month','sales']]\n",
    "df_2014 = df_2014.groupby('month').agg({\"sales\" : \"mean\"}).reset_index().rename(columns={'sales':'s14'})\n",
    "df_2015 = df_train1[df_train1['year']==2015][['month','sales']]\n",
    "df_2015 = df_2015.groupby('month').agg({\"sales\" : \"mean\"}).reset_index().rename(columns={'sales':'s15'})\n",
    "df_2016 = df_train1[df_train1['year']==2016][['month','sales']]\n",
    "df_2016 = df_2016.groupby('month').agg({\"sales\" : \"mean\"}).reset_index().rename(columns={'sales':'s16'})\n",
    "df_2017 = df_train1[df_train1['year']==2017][['month','sales']]\n",
    "df_2017 = df_2017.groupby('month').agg({\"sales\" : \"mean\"}).reset_index()\n",
    "df_2017_no = pd.DataFrame({'month': [9,10,11,12], 'sales':[0,0,0,0]})\n",
    "df_2017 = df_2017.append(df_2017_no).rename(columns={'sales':'s17'})\n",
    "df_year = df_2013.merge(df_2014,on='month').merge(df_2015,on='month').merge(df_2016,on='month').merge(df_2017,on='month')\n",
    "\n",
    "# top levels\n",
    "top_labels = ['2013', '2014', '2015', '2016', '2017']\n",
    "\n",
    "colors = ['rgba(38, 24, 74, 0.8)', 'rgba(71, 58, 131, 0.8)',\n",
    "          'rgba(122, 120, 168, 0.8)', 'rgba(164, 163, 204, 0.85)',\n",
    "          'rgba(190, 192, 213, 1)']\n",
    "\n",
    "# X axis value \n",
    "df_year = df_year[['s13','s14','s15','s16','s17']].replace(np.nan,0)\n",
    "x_data = df_year.values\n",
    "\n",
    "# y axis value (Month)\n",
    "df_2013['month'] =['Jan','Feb','Mar','Apr','May','Jun','Jul','Aug','Sep','Oct','Nov','Dec']\n",
    "y_data = df_2013['month'].tolist()\n",
    "\n",
    "fig = go.Figure()\n",
    "for i in range(0, len(x_data[0])):\n",
    "    for xd, yd in zip(x_data, y_data):\n",
    "        fig.add_trace(go.Bar(\n",
    "            x=[xd[i]], y=[yd],\n",
    "            orientation='h',\n",
    "            marker=dict(\n",
    "                color=colors[i],\n",
    "                line=dict(color='rgb(248, 248, 249)', width=1)\n",
    "            )\n",
    "        ))\n",
    "\n",
    "fig.update_layout(title='Avg Sales for each Year',\n",
    "    xaxis=dict(showgrid=False, \n",
    "               zeroline=False, domain=[0.15, 1]),\n",
    "    yaxis=dict(showgrid=False, showline=False,\n",
    "               showticklabels=False, zeroline=False),\n",
    "    barmode='stack', \n",
    "    template=\"plotly_white\",\n",
    "    margin=dict(l=0, r=50, t=100, b=10),\n",
    "    showlegend=False, \n",
    ")\n",
    "\n",
    "annotations = []\n",
    "for yd, xd in zip(y_data, x_data):\n",
    "    # labeling the y-axis\n",
    "    annotations.append(dict(xref='paper', yref='y',\n",
    "                            x=0.14, y=yd,\n",
    "                            xanchor='right',\n",
    "                            text=str(yd),\n",
    "                            font=dict(family='Arial', size=14,\n",
    "                                      color='rgb(67, 67, 67)'),\n",
    "                            showarrow=False, align='right'))\n",
    "    # labeling the first Likert scale (on the top)\n",
    "    if yd == y_data[-1]:\n",
    "        annotations.append(dict(xref='x', yref='paper',\n",
    "                                x=xd[0] / 2, y=1.1,\n",
    "                                text=top_labels[0],\n",
    "                                font=dict(family='Arial', size=14,\n",
    "                                          color='rgb(67, 67, 67)'),\n",
    "                          showarrow=False))\n",
    "    space = xd[0]\n",
    "    for i in range(1, len(xd)):\n",
    "            # labeling the Likert scale\n",
    "            if yd == y_data[-1]:\n",
    "                annotations.append(dict(xref='x', yref='paper',\n",
    "                                        x=space + (xd[i]/2), y=1.1,\n",
    "                                        text=top_labels[i],\n",
    "                                        font=dict(family='Arial', size=14,\n",
    "                                                  color='rgb(67, 67, 67)'),\n",
    "                                        showarrow=False))\n",
    "            space += xd[i]\n",
    "fig.update_layout(\n",
    "    annotations=annotations)\n",
    "fig.show()"
   ]
  },
  {
   "cell_type": "code",
   "execution_count": 7,
   "metadata": {},
   "outputs": [
    {
     "data": {
      "application/vnd.plotly.v1+json": {
       "config": {
        "plotlyServerURL": "https://plotly.com"
       },
       "data": [
        {
         "marker": {
          "color": [
           "#c6ccd8",
           "#c6ccd8",
           "#c6ccd8",
           "#c6ccd8",
           "#c6ccd8",
           "#c6ccd8",
           "#c6ccd8",
           "#c6ccd8",
           "#c6ccd8",
           "#c6ccd8",
           "#c6ccd8",
           "#496595"
          ]
         },
         "name": "Month",
         "orientation": "h",
         "text": [
          "Jan - 341.92",
          "Feb - 320.93",
          "Mar - 352.01",
          "Apr - 341.17",
          "May - 345.65",
          "Jun - 352.51",
          "Jul - 376.41",
          "Aug - 336.99",
          "Sep - 362.3",
          "Oct - 362.41",
          "Nov - 376.89",
          "Dec - 457.38"
         ],
         "textposition": "auto",
         "type": "bar",
         "x": [
          341.92,
          320.93,
          352.01,
          341.17,
          345.65,
          352.51,
          376.41,
          336.99,
          362.3,
          362.41,
          376.89,
          457.38
         ],
         "xaxis": "x",
         "y": [
          1,
          2,
          3,
          4,
          5,
          6,
          7,
          8,
          9,
          10,
          11,
          12
         ],
         "yaxis": "y"
        },
        {
         "domain": {
          "x": [
           0.73,
           1
          ],
          "y": [
           0.35600000000000004,
           1
          ]
         },
         "hole": 0.7,
         "hoverinfo": "label+percent+value",
         "labels": [
          1,
          2,
          3,
          4
         ],
         "marker": {
          "colors": [
           "#334668",
           "#496595",
           "#6D83AA",
           "#91A2BF",
           "#C8D0DF"
          ]
         },
         "name": "Quarter",
         "textinfo": "label+percent",
         "type": "pie",
         "values": [
          338.8253922563968,
          346.54603828574875,
          359.3340979578948,
          399.22962205344163
         ]
        },
        {
         "fill": "tozeroy",
         "fillcolor": "#c6ccd8",
         "marker": {
          "color": "#496595"
         },
         "mode": "lines+markers",
         "name": "Week",
         "type": "scatter",
         "x": [
          1,
          2,
          3,
          4,
          5,
          6,
          7,
          8,
          9,
          10,
          11,
          12,
          13,
          14,
          15,
          16,
          17,
          18,
          19,
          20,
          21,
          22,
          23,
          24,
          25,
          26,
          27,
          28,
          29,
          30,
          31,
          32,
          33,
          34,
          35,
          36,
          37,
          38,
          39,
          40,
          41,
          42,
          43,
          44,
          45,
          46,
          47,
          48,
          49,
          50,
          51,
          52,
          53
         ],
         "xaxis": "x2",
         "y": [
          409.09951933767576,
          347.5346426442376,
          338.142199154778,
          329.1862579904537,
          344.19523331887285,
          320.0775057355636,
          310.37708371353375,
          311.92647791631236,
          358.230978284042,
          358.62361170898345,
          342.9734550356646,
          338.3864740723457,
          360.5054993898172,
          350.15422445769923,
          323.47142463536596,
          363.09567066038,
          333.4531208674803,
          374.12684548092943,
          324.733491146545,
          334.44129938622257,
          321.08043404279783,
          367.7097326432243,
          368.58918754473143,
          342.2137057435578,
          364.81451011131975,
          337.1573289794613,
          397.5257797727431,
          361.95173993006097,
          361.4197975866894,
          359.56581542694244,
          384.20340359099083,
          334.67387222844155,
          327.4667286718294,
          306.5800544635502,
          333.584232059608,
          400.2593379902938,
          352.5943541244609,
          351.48499803971055,
          354.1693747029962,
          400.3141742718074,
          362.2317358426928,
          354.9436057793912,
          339.6100186593855,
          358.76225027527255,
          407.34652516282944,
          361.5766698353095,
          358.6915651121432,
          378.55045032703225,
          417.32057941901155,
          412.93596449636044,
          484.1676310858257,
          482.9068520248096,
          478.1929416836701
         ],
         "yaxis": "y2"
        }
       ],
       "layout": {
        "annotations": [
         {
          "font": {
           "size": 16
          },
          "showarrow": false,
          "text": "Month wise Avg Sales Analysis",
          "x": 0.315,
          "xanchor": "center",
          "xref": "paper",
          "y": 1,
          "yanchor": "bottom",
          "yref": "paper"
         },
         {
          "font": {
           "size": 16
          },
          "showarrow": false,
          "text": "Quarter wise Avg Sales Analysis",
          "x": 0.865,
          "xanchor": "center",
          "xref": "paper",
          "y": 1,
          "yanchor": "bottom",
          "yref": "paper"
         },
         {
          "font": {
           "size": 16
          },
          "showarrow": false,
          "text": "Week wise Avg Sales Analysis",
          "x": 0.5,
          "xanchor": "center",
          "xref": "paper",
          "y": 0.276,
          "yanchor": "bottom",
          "yref": "paper"
         }
        ],
        "bargap": 0.15,
        "font": {
         "color": "#8a8d93"
        },
        "height": 750,
        "hoverlabel": {
         "bgcolor": "#f2f2f2",
         "font": {
          "family": "Lato, sans-serif",
          "size": 13
         }
        },
        "margin": {
         "b": 0,
         "l": 20,
         "r": 20
        },
        "showlegend": false,
        "template": {
         "data": {
          "bar": [
           {
            "error_x": {
             "color": "#2a3f5f"
            },
            "error_y": {
             "color": "#2a3f5f"
            },
            "marker": {
             "line": {
              "color": "white",
              "width": 0.5
             },
             "pattern": {
              "fillmode": "overlay",
              "size": 10,
              "solidity": 0.2
             }
            },
            "type": "bar"
           }
          ],
          "barpolar": [
           {
            "marker": {
             "line": {
              "color": "white",
              "width": 0.5
             },
             "pattern": {
              "fillmode": "overlay",
              "size": 10,
              "solidity": 0.2
             }
            },
            "type": "barpolar"
           }
          ],
          "carpet": [
           {
            "aaxis": {
             "endlinecolor": "#2a3f5f",
             "gridcolor": "#C8D4E3",
             "linecolor": "#C8D4E3",
             "minorgridcolor": "#C8D4E3",
             "startlinecolor": "#2a3f5f"
            },
            "baxis": {
             "endlinecolor": "#2a3f5f",
             "gridcolor": "#C8D4E3",
             "linecolor": "#C8D4E3",
             "minorgridcolor": "#C8D4E3",
             "startlinecolor": "#2a3f5f"
            },
            "type": "carpet"
           }
          ],
          "choropleth": [
           {
            "colorbar": {
             "outlinewidth": 0,
             "ticks": ""
            },
            "type": "choropleth"
           }
          ],
          "contour": [
           {
            "colorbar": {
             "outlinewidth": 0,
             "ticks": ""
            },
            "colorscale": [
             [
              0,
              "#0d0887"
             ],
             [
              0.1111111111111111,
              "#46039f"
             ],
             [
              0.2222222222222222,
              "#7201a8"
             ],
             [
              0.3333333333333333,
              "#9c179e"
             ],
             [
              0.4444444444444444,
              "#bd3786"
             ],
             [
              0.5555555555555556,
              "#d8576b"
             ],
             [
              0.6666666666666666,
              "#ed7953"
             ],
             [
              0.7777777777777778,
              "#fb9f3a"
             ],
             [
              0.8888888888888888,
              "#fdca26"
             ],
             [
              1,
              "#f0f921"
             ]
            ],
            "type": "contour"
           }
          ],
          "contourcarpet": [
           {
            "colorbar": {
             "outlinewidth": 0,
             "ticks": ""
            },
            "type": "contourcarpet"
           }
          ],
          "heatmap": [
           {
            "colorbar": {
             "outlinewidth": 0,
             "ticks": ""
            },
            "colorscale": [
             [
              0,
              "#0d0887"
             ],
             [
              0.1111111111111111,
              "#46039f"
             ],
             [
              0.2222222222222222,
              "#7201a8"
             ],
             [
              0.3333333333333333,
              "#9c179e"
             ],
             [
              0.4444444444444444,
              "#bd3786"
             ],
             [
              0.5555555555555556,
              "#d8576b"
             ],
             [
              0.6666666666666666,
              "#ed7953"
             ],
             [
              0.7777777777777778,
              "#fb9f3a"
             ],
             [
              0.8888888888888888,
              "#fdca26"
             ],
             [
              1,
              "#f0f921"
             ]
            ],
            "type": "heatmap"
           }
          ],
          "heatmapgl": [
           {
            "colorbar": {
             "outlinewidth": 0,
             "ticks": ""
            },
            "colorscale": [
             [
              0,
              "#0d0887"
             ],
             [
              0.1111111111111111,
              "#46039f"
             ],
             [
              0.2222222222222222,
              "#7201a8"
             ],
             [
              0.3333333333333333,
              "#9c179e"
             ],
             [
              0.4444444444444444,
              "#bd3786"
             ],
             [
              0.5555555555555556,
              "#d8576b"
             ],
             [
              0.6666666666666666,
              "#ed7953"
             ],
             [
              0.7777777777777778,
              "#fb9f3a"
             ],
             [
              0.8888888888888888,
              "#fdca26"
             ],
             [
              1,
              "#f0f921"
             ]
            ],
            "type": "heatmapgl"
           }
          ],
          "histogram": [
           {
            "marker": {
             "pattern": {
              "fillmode": "overlay",
              "size": 10,
              "solidity": 0.2
             }
            },
            "type": "histogram"
           }
          ],
          "histogram2d": [
           {
            "colorbar": {
             "outlinewidth": 0,
             "ticks": ""
            },
            "colorscale": [
             [
              0,
              "#0d0887"
             ],
             [
              0.1111111111111111,
              "#46039f"
             ],
             [
              0.2222222222222222,
              "#7201a8"
             ],
             [
              0.3333333333333333,
              "#9c179e"
             ],
             [
              0.4444444444444444,
              "#bd3786"
             ],
             [
              0.5555555555555556,
              "#d8576b"
             ],
             [
              0.6666666666666666,
              "#ed7953"
             ],
             [
              0.7777777777777778,
              "#fb9f3a"
             ],
             [
              0.8888888888888888,
              "#fdca26"
             ],
             [
              1,
              "#f0f921"
             ]
            ],
            "type": "histogram2d"
           }
          ],
          "histogram2dcontour": [
           {
            "colorbar": {
             "outlinewidth": 0,
             "ticks": ""
            },
            "colorscale": [
             [
              0,
              "#0d0887"
             ],
             [
              0.1111111111111111,
              "#46039f"
             ],
             [
              0.2222222222222222,
              "#7201a8"
             ],
             [
              0.3333333333333333,
              "#9c179e"
             ],
             [
              0.4444444444444444,
              "#bd3786"
             ],
             [
              0.5555555555555556,
              "#d8576b"
             ],
             [
              0.6666666666666666,
              "#ed7953"
             ],
             [
              0.7777777777777778,
              "#fb9f3a"
             ],
             [
              0.8888888888888888,
              "#fdca26"
             ],
             [
              1,
              "#f0f921"
             ]
            ],
            "type": "histogram2dcontour"
           }
          ],
          "mesh3d": [
           {
            "colorbar": {
             "outlinewidth": 0,
             "ticks": ""
            },
            "type": "mesh3d"
           }
          ],
          "parcoords": [
           {
            "line": {
             "colorbar": {
              "outlinewidth": 0,
              "ticks": ""
             }
            },
            "type": "parcoords"
           }
          ],
          "pie": [
           {
            "automargin": true,
            "type": "pie"
           }
          ],
          "scatter": [
           {
            "marker": {
             "colorbar": {
              "outlinewidth": 0,
              "ticks": ""
             }
            },
            "type": "scatter"
           }
          ],
          "scatter3d": [
           {
            "line": {
             "colorbar": {
              "outlinewidth": 0,
              "ticks": ""
             }
            },
            "marker": {
             "colorbar": {
              "outlinewidth": 0,
              "ticks": ""
             }
            },
            "type": "scatter3d"
           }
          ],
          "scattercarpet": [
           {
            "marker": {
             "colorbar": {
              "outlinewidth": 0,
              "ticks": ""
             }
            },
            "type": "scattercarpet"
           }
          ],
          "scattergeo": [
           {
            "marker": {
             "colorbar": {
              "outlinewidth": 0,
              "ticks": ""
             }
            },
            "type": "scattergeo"
           }
          ],
          "scattergl": [
           {
            "marker": {
             "colorbar": {
              "outlinewidth": 0,
              "ticks": ""
             }
            },
            "type": "scattergl"
           }
          ],
          "scattermapbox": [
           {
            "marker": {
             "colorbar": {
              "outlinewidth": 0,
              "ticks": ""
             }
            },
            "type": "scattermapbox"
           }
          ],
          "scatterpolar": [
           {
            "marker": {
             "colorbar": {
              "outlinewidth": 0,
              "ticks": ""
             }
            },
            "type": "scatterpolar"
           }
          ],
          "scatterpolargl": [
           {
            "marker": {
             "colorbar": {
              "outlinewidth": 0,
              "ticks": ""
             }
            },
            "type": "scatterpolargl"
           }
          ],
          "scatterternary": [
           {
            "marker": {
             "colorbar": {
              "outlinewidth": 0,
              "ticks": ""
             }
            },
            "type": "scatterternary"
           }
          ],
          "surface": [
           {
            "colorbar": {
             "outlinewidth": 0,
             "ticks": ""
            },
            "colorscale": [
             [
              0,
              "#0d0887"
             ],
             [
              0.1111111111111111,
              "#46039f"
             ],
             [
              0.2222222222222222,
              "#7201a8"
             ],
             [
              0.3333333333333333,
              "#9c179e"
             ],
             [
              0.4444444444444444,
              "#bd3786"
             ],
             [
              0.5555555555555556,
              "#d8576b"
             ],
             [
              0.6666666666666666,
              "#ed7953"
             ],
             [
              0.7777777777777778,
              "#fb9f3a"
             ],
             [
              0.8888888888888888,
              "#fdca26"
             ],
             [
              1,
              "#f0f921"
             ]
            ],
            "type": "surface"
           }
          ],
          "table": [
           {
            "cells": {
             "fill": {
              "color": "#EBF0F8"
             },
             "line": {
              "color": "white"
             }
            },
            "header": {
             "fill": {
              "color": "#C8D4E3"
             },
             "line": {
              "color": "white"
             }
            },
            "type": "table"
           }
          ]
         },
         "layout": {
          "annotationdefaults": {
           "arrowcolor": "#2a3f5f",
           "arrowhead": 0,
           "arrowwidth": 1
          },
          "autotypenumbers": "strict",
          "coloraxis": {
           "colorbar": {
            "outlinewidth": 0,
            "ticks": ""
           }
          },
          "colorscale": {
           "diverging": [
            [
             0,
             "#8e0152"
            ],
            [
             0.1,
             "#c51b7d"
            ],
            [
             0.2,
             "#de77ae"
            ],
            [
             0.3,
             "#f1b6da"
            ],
            [
             0.4,
             "#fde0ef"
            ],
            [
             0.5,
             "#f7f7f7"
            ],
            [
             0.6,
             "#e6f5d0"
            ],
            [
             0.7,
             "#b8e186"
            ],
            [
             0.8,
             "#7fbc41"
            ],
            [
             0.9,
             "#4d9221"
            ],
            [
             1,
             "#276419"
            ]
           ],
           "sequential": [
            [
             0,
             "#0d0887"
            ],
            [
             0.1111111111111111,
             "#46039f"
            ],
            [
             0.2222222222222222,
             "#7201a8"
            ],
            [
             0.3333333333333333,
             "#9c179e"
            ],
            [
             0.4444444444444444,
             "#bd3786"
            ],
            [
             0.5555555555555556,
             "#d8576b"
            ],
            [
             0.6666666666666666,
             "#ed7953"
            ],
            [
             0.7777777777777778,
             "#fb9f3a"
            ],
            [
             0.8888888888888888,
             "#fdca26"
            ],
            [
             1,
             "#f0f921"
            ]
           ],
           "sequentialminus": [
            [
             0,
             "#0d0887"
            ],
            [
             0.1111111111111111,
             "#46039f"
            ],
            [
             0.2222222222222222,
             "#7201a8"
            ],
            [
             0.3333333333333333,
             "#9c179e"
            ],
            [
             0.4444444444444444,
             "#bd3786"
            ],
            [
             0.5555555555555556,
             "#d8576b"
            ],
            [
             0.6666666666666666,
             "#ed7953"
            ],
            [
             0.7777777777777778,
             "#fb9f3a"
            ],
            [
             0.8888888888888888,
             "#fdca26"
            ],
            [
             1,
             "#f0f921"
            ]
           ]
          },
          "colorway": [
           "#636efa",
           "#EF553B",
           "#00cc96",
           "#ab63fa",
           "#FFA15A",
           "#19d3f3",
           "#FF6692",
           "#B6E880",
           "#FF97FF",
           "#FECB52"
          ],
          "font": {
           "color": "#2a3f5f"
          },
          "geo": {
           "bgcolor": "white",
           "lakecolor": "white",
           "landcolor": "white",
           "showlakes": true,
           "showland": true,
           "subunitcolor": "#C8D4E3"
          },
          "hoverlabel": {
           "align": "left"
          },
          "hovermode": "closest",
          "mapbox": {
           "style": "light"
          },
          "paper_bgcolor": "white",
          "plot_bgcolor": "white",
          "polar": {
           "angularaxis": {
            "gridcolor": "#EBF0F8",
            "linecolor": "#EBF0F8",
            "ticks": ""
           },
           "bgcolor": "white",
           "radialaxis": {
            "gridcolor": "#EBF0F8",
            "linecolor": "#EBF0F8",
            "ticks": ""
           }
          },
          "scene": {
           "xaxis": {
            "backgroundcolor": "white",
            "gridcolor": "#DFE8F3",
            "gridwidth": 2,
            "linecolor": "#EBF0F8",
            "showbackground": true,
            "ticks": "",
            "zerolinecolor": "#EBF0F8"
           },
           "yaxis": {
            "backgroundcolor": "white",
            "gridcolor": "#DFE8F3",
            "gridwidth": 2,
            "linecolor": "#EBF0F8",
            "showbackground": true,
            "ticks": "",
            "zerolinecolor": "#EBF0F8"
           },
           "zaxis": {
            "backgroundcolor": "white",
            "gridcolor": "#DFE8F3",
            "gridwidth": 2,
            "linecolor": "#EBF0F8",
            "showbackground": true,
            "ticks": "",
            "zerolinecolor": "#EBF0F8"
           }
          },
          "shapedefaults": {
           "line": {
            "color": "#2a3f5f"
           }
          },
          "ternary": {
           "aaxis": {
            "gridcolor": "#DFE8F3",
            "linecolor": "#A2B1C6",
            "ticks": ""
           },
           "baxis": {
            "gridcolor": "#DFE8F3",
            "linecolor": "#A2B1C6",
            "ticks": ""
           },
           "bgcolor": "white",
           "caxis": {
            "gridcolor": "#DFE8F3",
            "linecolor": "#A2B1C6",
            "ticks": ""
           }
          },
          "title": {
           "x": 0.05
          },
          "xaxis": {
           "automargin": true,
           "gridcolor": "#EBF0F8",
           "linecolor": "#EBF0F8",
           "ticks": "",
           "title": {
            "standoff": 15
           },
           "zerolinecolor": "#EBF0F8",
           "zerolinewidth": 2
          },
          "yaxis": {
           "automargin": true,
           "gridcolor": "#EBF0F8",
           "linecolor": "#EBF0F8",
           "ticks": "",
           "title": {
            "standoff": 15
           },
           "zerolinecolor": "#EBF0F8",
           "zerolinewidth": 2
          }
         }
        },
        "title": {
         "font": {
          "color": "#8a8d93",
          "family": "Lato, sans-serif",
          "size": 25
         },
         "text": "Average Sales Analysis"
        },
        "xaxis": {
         "anchor": "y",
         "domain": [
          0,
          0.63
         ],
         "visible": false
        },
        "xaxis2": {
         "anchor": "y2",
         "domain": [
          0,
          1
         ],
         "tickmode": "array",
         "ticktext": [
          1,
          2,
          3,
          4,
          5,
          6,
          7,
          8,
          9,
          10,
          11,
          12,
          13,
          14,
          15,
          16,
          17,
          18,
          19,
          20,
          21,
          22,
          23,
          24,
          25,
          26,
          27,
          28,
          29,
          30,
          31,
          32,
          33,
          34,
          35,
          36,
          37,
          38,
          39,
          40,
          41,
          42,
          43,
          44,
          45,
          46,
          47,
          48,
          49,
          50,
          51,
          52
         ],
         "tickvals": [
          1,
          2,
          3,
          4,
          5,
          6,
          7,
          8,
          9,
          10,
          11,
          12,
          13,
          14,
          15,
          16,
          17,
          18,
          19,
          20,
          21,
          22,
          23,
          24,
          25,
          26,
          27,
          28,
          29,
          30,
          31,
          32,
          33,
          34,
          35,
          36,
          37,
          38,
          39,
          40,
          41,
          42,
          43,
          44,
          45,
          46,
          47,
          48,
          49,
          50,
          51,
          52,
          53
         ]
        },
        "yaxis": {
         "anchor": "x",
         "domain": [
          0.35600000000000004,
          1
         ],
         "visible": false
        },
        "yaxis2": {
         "anchor": "x2",
         "domain": [
          0,
          0.276
         ],
         "visible": false
        }
       }
      },
      "text/html": [
       "<div>                            <div id=\"7aa17a22-7826-46ad-9bdc-3cbbd18ad134\" class=\"plotly-graph-div\" style=\"height:750px; width:100%;\"></div>            <script type=\"text/javascript\">                require([\"plotly\"], function(Plotly) {                    window.PLOTLYENV=window.PLOTLYENV || {};                                    if (document.getElementById(\"7aa17a22-7826-46ad-9bdc-3cbbd18ad134\")) {                    Plotly.newPlot(                        \"7aa17a22-7826-46ad-9bdc-3cbbd18ad134\",                        [{\"marker\":{\"color\":[\"#c6ccd8\",\"#c6ccd8\",\"#c6ccd8\",\"#c6ccd8\",\"#c6ccd8\",\"#c6ccd8\",\"#c6ccd8\",\"#c6ccd8\",\"#c6ccd8\",\"#c6ccd8\",\"#c6ccd8\",\"#496595\"]},\"name\":\"Month\",\"orientation\":\"h\",\"text\":[\"Jan - 341.92\",\"Feb - 320.93\",\"Mar - 352.01\",\"Apr - 341.17\",\"May - 345.65\",\"Jun - 352.51\",\"Jul - 376.41\",\"Aug - 336.99\",\"Sep - 362.3\",\"Oct - 362.41\",\"Nov - 376.89\",\"Dec - 457.38\"],\"textposition\":\"auto\",\"x\":[341.92,320.93,352.01,341.17,345.65,352.51,376.41,336.99,362.3,362.41,376.89,457.38],\"y\":[1,2,3,4,5,6,7,8,9,10,11,12],\"type\":\"bar\",\"xaxis\":\"x\",\"yaxis\":\"y\"},{\"hole\":0.7,\"hoverinfo\":\"label+percent+value\",\"labels\":[1,2,3,4],\"marker\":{\"colors\":[\"#334668\",\"#496595\",\"#6D83AA\",\"#91A2BF\",\"#C8D0DF\"]},\"name\":\"Quarter\",\"textinfo\":\"label+percent\",\"values\":[338.8253922563968,346.54603828574875,359.3340979578948,399.22962205344163],\"type\":\"pie\",\"domain\":{\"x\":[0.73,1.0],\"y\":[0.35600000000000004,1.0]}},{\"fill\":\"tozeroy\",\"fillcolor\":\"#c6ccd8\",\"marker\":{\"color\":\"#496595\"},\"mode\":\"lines+markers\",\"name\":\"Week\",\"x\":[1,2,3,4,5,6,7,8,9,10,11,12,13,14,15,16,17,18,19,20,21,22,23,24,25,26,27,28,29,30,31,32,33,34,35,36,37,38,39,40,41,42,43,44,45,46,47,48,49,50,51,52,53],\"y\":[409.09951933767576,347.5346426442376,338.142199154778,329.1862579904537,344.19523331887285,320.0775057355636,310.37708371353375,311.92647791631236,358.230978284042,358.62361170898345,342.9734550356646,338.3864740723457,360.5054993898172,350.15422445769923,323.47142463536596,363.09567066038,333.4531208674803,374.12684548092943,324.733491146545,334.44129938622257,321.08043404279783,367.7097326432243,368.58918754473143,342.2137057435578,364.81451011131975,337.1573289794613,397.5257797727431,361.95173993006097,361.4197975866894,359.56581542694244,384.20340359099083,334.67387222844155,327.4667286718294,306.5800544635502,333.584232059608,400.2593379902938,352.5943541244609,351.48499803971055,354.1693747029962,400.3141742718074,362.2317358426928,354.9436057793912,339.6100186593855,358.76225027527255,407.34652516282944,361.5766698353095,358.6915651121432,378.55045032703225,417.32057941901155,412.93596449636044,484.1676310858257,482.9068520248096,478.1929416836701],\"type\":\"scatter\",\"xaxis\":\"x2\",\"yaxis\":\"y2\"}],                        {\"template\":{\"data\":{\"barpolar\":[{\"marker\":{\"line\":{\"color\":\"white\",\"width\":0.5},\"pattern\":{\"fillmode\":\"overlay\",\"size\":10,\"solidity\":0.2}},\"type\":\"barpolar\"}],\"bar\":[{\"error_x\":{\"color\":\"#2a3f5f\"},\"error_y\":{\"color\":\"#2a3f5f\"},\"marker\":{\"line\":{\"color\":\"white\",\"width\":0.5},\"pattern\":{\"fillmode\":\"overlay\",\"size\":10,\"solidity\":0.2}},\"type\":\"bar\"}],\"carpet\":[{\"aaxis\":{\"endlinecolor\":\"#2a3f5f\",\"gridcolor\":\"#C8D4E3\",\"linecolor\":\"#C8D4E3\",\"minorgridcolor\":\"#C8D4E3\",\"startlinecolor\":\"#2a3f5f\"},\"baxis\":{\"endlinecolor\":\"#2a3f5f\",\"gridcolor\":\"#C8D4E3\",\"linecolor\":\"#C8D4E3\",\"minorgridcolor\":\"#C8D4E3\",\"startlinecolor\":\"#2a3f5f\"},\"type\":\"carpet\"}],\"choropleth\":[{\"colorbar\":{\"outlinewidth\":0,\"ticks\":\"\"},\"type\":\"choropleth\"}],\"contourcarpet\":[{\"colorbar\":{\"outlinewidth\":0,\"ticks\":\"\"},\"type\":\"contourcarpet\"}],\"contour\":[{\"colorbar\":{\"outlinewidth\":0,\"ticks\":\"\"},\"colorscale\":[[0.0,\"#0d0887\"],[0.1111111111111111,\"#46039f\"],[0.2222222222222222,\"#7201a8\"],[0.3333333333333333,\"#9c179e\"],[0.4444444444444444,\"#bd3786\"],[0.5555555555555556,\"#d8576b\"],[0.6666666666666666,\"#ed7953\"],[0.7777777777777778,\"#fb9f3a\"],[0.8888888888888888,\"#fdca26\"],[1.0,\"#f0f921\"]],\"type\":\"contour\"}],\"heatmapgl\":[{\"colorbar\":{\"outlinewidth\":0,\"ticks\":\"\"},\"colorscale\":[[0.0,\"#0d0887\"],[0.1111111111111111,\"#46039f\"],[0.2222222222222222,\"#7201a8\"],[0.3333333333333333,\"#9c179e\"],[0.4444444444444444,\"#bd3786\"],[0.5555555555555556,\"#d8576b\"],[0.6666666666666666,\"#ed7953\"],[0.7777777777777778,\"#fb9f3a\"],[0.8888888888888888,\"#fdca26\"],[1.0,\"#f0f921\"]],\"type\":\"heatmapgl\"}],\"heatmap\":[{\"colorbar\":{\"outlinewidth\":0,\"ticks\":\"\"},\"colorscale\":[[0.0,\"#0d0887\"],[0.1111111111111111,\"#46039f\"],[0.2222222222222222,\"#7201a8\"],[0.3333333333333333,\"#9c179e\"],[0.4444444444444444,\"#bd3786\"],[0.5555555555555556,\"#d8576b\"],[0.6666666666666666,\"#ed7953\"],[0.7777777777777778,\"#fb9f3a\"],[0.8888888888888888,\"#fdca26\"],[1.0,\"#f0f921\"]],\"type\":\"heatmap\"}],\"histogram2dcontour\":[{\"colorbar\":{\"outlinewidth\":0,\"ticks\":\"\"},\"colorscale\":[[0.0,\"#0d0887\"],[0.1111111111111111,\"#46039f\"],[0.2222222222222222,\"#7201a8\"],[0.3333333333333333,\"#9c179e\"],[0.4444444444444444,\"#bd3786\"],[0.5555555555555556,\"#d8576b\"],[0.6666666666666666,\"#ed7953\"],[0.7777777777777778,\"#fb9f3a\"],[0.8888888888888888,\"#fdca26\"],[1.0,\"#f0f921\"]],\"type\":\"histogram2dcontour\"}],\"histogram2d\":[{\"colorbar\":{\"outlinewidth\":0,\"ticks\":\"\"},\"colorscale\":[[0.0,\"#0d0887\"],[0.1111111111111111,\"#46039f\"],[0.2222222222222222,\"#7201a8\"],[0.3333333333333333,\"#9c179e\"],[0.4444444444444444,\"#bd3786\"],[0.5555555555555556,\"#d8576b\"],[0.6666666666666666,\"#ed7953\"],[0.7777777777777778,\"#fb9f3a\"],[0.8888888888888888,\"#fdca26\"],[1.0,\"#f0f921\"]],\"type\":\"histogram2d\"}],\"histogram\":[{\"marker\":{\"pattern\":{\"fillmode\":\"overlay\",\"size\":10,\"solidity\":0.2}},\"type\":\"histogram\"}],\"mesh3d\":[{\"colorbar\":{\"outlinewidth\":0,\"ticks\":\"\"},\"type\":\"mesh3d\"}],\"parcoords\":[{\"line\":{\"colorbar\":{\"outlinewidth\":0,\"ticks\":\"\"}},\"type\":\"parcoords\"}],\"pie\":[{\"automargin\":true,\"type\":\"pie\"}],\"scatter3d\":[{\"line\":{\"colorbar\":{\"outlinewidth\":0,\"ticks\":\"\"}},\"marker\":{\"colorbar\":{\"outlinewidth\":0,\"ticks\":\"\"}},\"type\":\"scatter3d\"}],\"scattercarpet\":[{\"marker\":{\"colorbar\":{\"outlinewidth\":0,\"ticks\":\"\"}},\"type\":\"scattercarpet\"}],\"scattergeo\":[{\"marker\":{\"colorbar\":{\"outlinewidth\":0,\"ticks\":\"\"}},\"type\":\"scattergeo\"}],\"scattergl\":[{\"marker\":{\"colorbar\":{\"outlinewidth\":0,\"ticks\":\"\"}},\"type\":\"scattergl\"}],\"scattermapbox\":[{\"marker\":{\"colorbar\":{\"outlinewidth\":0,\"ticks\":\"\"}},\"type\":\"scattermapbox\"}],\"scatterpolargl\":[{\"marker\":{\"colorbar\":{\"outlinewidth\":0,\"ticks\":\"\"}},\"type\":\"scatterpolargl\"}],\"scatterpolar\":[{\"marker\":{\"colorbar\":{\"outlinewidth\":0,\"ticks\":\"\"}},\"type\":\"scatterpolar\"}],\"scatter\":[{\"marker\":{\"colorbar\":{\"outlinewidth\":0,\"ticks\":\"\"}},\"type\":\"scatter\"}],\"scatterternary\":[{\"marker\":{\"colorbar\":{\"outlinewidth\":0,\"ticks\":\"\"}},\"type\":\"scatterternary\"}],\"surface\":[{\"colorbar\":{\"outlinewidth\":0,\"ticks\":\"\"},\"colorscale\":[[0.0,\"#0d0887\"],[0.1111111111111111,\"#46039f\"],[0.2222222222222222,\"#7201a8\"],[0.3333333333333333,\"#9c179e\"],[0.4444444444444444,\"#bd3786\"],[0.5555555555555556,\"#d8576b\"],[0.6666666666666666,\"#ed7953\"],[0.7777777777777778,\"#fb9f3a\"],[0.8888888888888888,\"#fdca26\"],[1.0,\"#f0f921\"]],\"type\":\"surface\"}],\"table\":[{\"cells\":{\"fill\":{\"color\":\"#EBF0F8\"},\"line\":{\"color\":\"white\"}},\"header\":{\"fill\":{\"color\":\"#C8D4E3\"},\"line\":{\"color\":\"white\"}},\"type\":\"table\"}]},\"layout\":{\"annotationdefaults\":{\"arrowcolor\":\"#2a3f5f\",\"arrowhead\":0,\"arrowwidth\":1},\"autotypenumbers\":\"strict\",\"coloraxis\":{\"colorbar\":{\"outlinewidth\":0,\"ticks\":\"\"}},\"colorscale\":{\"diverging\":[[0,\"#8e0152\"],[0.1,\"#c51b7d\"],[0.2,\"#de77ae\"],[0.3,\"#f1b6da\"],[0.4,\"#fde0ef\"],[0.5,\"#f7f7f7\"],[0.6,\"#e6f5d0\"],[0.7,\"#b8e186\"],[0.8,\"#7fbc41\"],[0.9,\"#4d9221\"],[1,\"#276419\"]],\"sequential\":[[0.0,\"#0d0887\"],[0.1111111111111111,\"#46039f\"],[0.2222222222222222,\"#7201a8\"],[0.3333333333333333,\"#9c179e\"],[0.4444444444444444,\"#bd3786\"],[0.5555555555555556,\"#d8576b\"],[0.6666666666666666,\"#ed7953\"],[0.7777777777777778,\"#fb9f3a\"],[0.8888888888888888,\"#fdca26\"],[1.0,\"#f0f921\"]],\"sequentialminus\":[[0.0,\"#0d0887\"],[0.1111111111111111,\"#46039f\"],[0.2222222222222222,\"#7201a8\"],[0.3333333333333333,\"#9c179e\"],[0.4444444444444444,\"#bd3786\"],[0.5555555555555556,\"#d8576b\"],[0.6666666666666666,\"#ed7953\"],[0.7777777777777778,\"#fb9f3a\"],[0.8888888888888888,\"#fdca26\"],[1.0,\"#f0f921\"]]},\"colorway\":[\"#636efa\",\"#EF553B\",\"#00cc96\",\"#ab63fa\",\"#FFA15A\",\"#19d3f3\",\"#FF6692\",\"#B6E880\",\"#FF97FF\",\"#FECB52\"],\"font\":{\"color\":\"#2a3f5f\"},\"geo\":{\"bgcolor\":\"white\",\"lakecolor\":\"white\",\"landcolor\":\"white\",\"showlakes\":true,\"showland\":true,\"subunitcolor\":\"#C8D4E3\"},\"hoverlabel\":{\"align\":\"left\"},\"hovermode\":\"closest\",\"mapbox\":{\"style\":\"light\"},\"paper_bgcolor\":\"white\",\"plot_bgcolor\":\"white\",\"polar\":{\"angularaxis\":{\"gridcolor\":\"#EBF0F8\",\"linecolor\":\"#EBF0F8\",\"ticks\":\"\"},\"bgcolor\":\"white\",\"radialaxis\":{\"gridcolor\":\"#EBF0F8\",\"linecolor\":\"#EBF0F8\",\"ticks\":\"\"}},\"scene\":{\"xaxis\":{\"backgroundcolor\":\"white\",\"gridcolor\":\"#DFE8F3\",\"gridwidth\":2,\"linecolor\":\"#EBF0F8\",\"showbackground\":true,\"ticks\":\"\",\"zerolinecolor\":\"#EBF0F8\"},\"yaxis\":{\"backgroundcolor\":\"white\",\"gridcolor\":\"#DFE8F3\",\"gridwidth\":2,\"linecolor\":\"#EBF0F8\",\"showbackground\":true,\"ticks\":\"\",\"zerolinecolor\":\"#EBF0F8\"},\"zaxis\":{\"backgroundcolor\":\"white\",\"gridcolor\":\"#DFE8F3\",\"gridwidth\":2,\"linecolor\":\"#EBF0F8\",\"showbackground\":true,\"ticks\":\"\",\"zerolinecolor\":\"#EBF0F8\"}},\"shapedefaults\":{\"line\":{\"color\":\"#2a3f5f\"}},\"ternary\":{\"aaxis\":{\"gridcolor\":\"#DFE8F3\",\"linecolor\":\"#A2B1C6\",\"ticks\":\"\"},\"baxis\":{\"gridcolor\":\"#DFE8F3\",\"linecolor\":\"#A2B1C6\",\"ticks\":\"\"},\"bgcolor\":\"white\",\"caxis\":{\"gridcolor\":\"#DFE8F3\",\"linecolor\":\"#A2B1C6\",\"ticks\":\"\"}},\"title\":{\"x\":0.05},\"xaxis\":{\"automargin\":true,\"gridcolor\":\"#EBF0F8\",\"linecolor\":\"#EBF0F8\",\"ticks\":\"\",\"title\":{\"standoff\":15},\"zerolinecolor\":\"#EBF0F8\",\"zerolinewidth\":2},\"yaxis\":{\"automargin\":true,\"gridcolor\":\"#EBF0F8\",\"linecolor\":\"#EBF0F8\",\"ticks\":\"\",\"title\":{\"standoff\":15},\"zerolinecolor\":\"#EBF0F8\",\"zerolinewidth\":2}}},\"xaxis\":{\"anchor\":\"y\",\"domain\":[0.0,0.63],\"visible\":false},\"yaxis\":{\"anchor\":\"x\",\"domain\":[0.35600000000000004,1.0],\"visible\":false},\"xaxis2\":{\"anchor\":\"y2\",\"domain\":[0.0,1.0],\"tickmode\":\"array\",\"tickvals\":[1,2,3,4,5,6,7,8,9,10,11,12,13,14,15,16,17,18,19,20,21,22,23,24,25,26,27,28,29,30,31,32,33,34,35,36,37,38,39,40,41,42,43,44,45,46,47,48,49,50,51,52,53],\"ticktext\":[1,2,3,4,5,6,7,8,9,10,11,12,13,14,15,16,17,18,19,20,21,22,23,24,25,26,27,28,29,30,31,32,33,34,35,36,37,38,39,40,41,42,43,44,45,46,47,48,49,50,51,52]},\"yaxis2\":{\"anchor\":\"x2\",\"domain\":[0.0,0.276],\"visible\":false},\"annotations\":[{\"font\":{\"size\":16},\"showarrow\":false,\"text\":\"Month wise Avg Sales Analysis\",\"x\":0.315,\"xanchor\":\"center\",\"xref\":\"paper\",\"y\":1.0,\"yanchor\":\"bottom\",\"yref\":\"paper\"},{\"font\":{\"size\":16},\"showarrow\":false,\"text\":\"Quarter wise Avg Sales Analysis\",\"x\":0.865,\"xanchor\":\"center\",\"xref\":\"paper\",\"y\":1.0,\"yanchor\":\"bottom\",\"yref\":\"paper\"},{\"font\":{\"size\":16},\"showarrow\":false,\"text\":\"Week wise Avg Sales Analysis\",\"x\":0.5,\"xanchor\":\"center\",\"xref\":\"paper\",\"y\":0.276,\"yanchor\":\"bottom\",\"yref\":\"paper\"}],\"margin\":{\"b\":0,\"r\":20,\"l\":20},\"title\":{\"font\":{\"size\":25,\"color\":\"#8a8d93\",\"family\":\"Lato, sans-serif\"},\"text\":\"Average Sales Analysis\"},\"font\":{\"color\":\"#8a8d93\"},\"hoverlabel\":{\"font\":{\"size\":13,\"family\":\"Lato, sans-serif\"},\"bgcolor\":\"#f2f2f2\"},\"height\":750,\"bargap\":0.15,\"showlegend\":false},                        {\"responsive\": true}                    ).then(function(){\n",
       "                            \n",
       "var gd = document.getElementById('7aa17a22-7826-46ad-9bdc-3cbbd18ad134');\n",
       "var x = new MutationObserver(function (mutations, observer) {{\n",
       "        var display = window.getComputedStyle(gd).display;\n",
       "        if (!display || display === 'none') {{\n",
       "            console.log([gd, 'removed!']);\n",
       "            Plotly.purge(gd);\n",
       "            observer.disconnect();\n",
       "        }}\n",
       "}});\n",
       "\n",
       "// Listen for the removal of the full notebook cells\n",
       "var notebookContainer = gd.closest('#notebook-container');\n",
       "if (notebookContainer) {{\n",
       "    x.observe(notebookContainer, {childList: true});\n",
       "}}\n",
       "\n",
       "// Listen for the clearing of the current output cell\n",
       "var outputEl = gd.closest('.output');\n",
       "if (outputEl) {{\n",
       "    x.observe(outputEl, {childList: true});\n",
       "}}\n",
       "\n",
       "                        })                };                });            </script>        </div>"
      ]
     },
     "metadata": {},
     "output_type": "display_data"
    }
   ],
   "source": [
    "# data\n",
    "df_m_sa = df_train1.groupby('month').agg({\"sales\" : \"mean\"}).reset_index()\n",
    "df_m_sa['sales'] = round(df_m_sa['sales'],2)\n",
    "df_m_sa['month_text'] = df_m_sa['month'].apply(lambda x: calendar.month_abbr[x])\n",
    "df_m_sa['text'] = df_m_sa['month_text'] + ' - ' + df_m_sa['sales'].astype(str) \n",
    "\n",
    "df_w_sa = df_train1.groupby('week').agg({\"sales\" : \"mean\"}).reset_index() \n",
    "df_q_sa = df_train1.groupby('quarter').agg({\"sales\" : \"mean\"}).reset_index() \n",
    "# chart color\n",
    "df_m_sa['color'] = '#496595'\n",
    "df_m_sa['color'][:-1] = '#c6ccd8'\n",
    "df_w_sa['color'] = '#c6ccd8'\n",
    "\n",
    "# chart\n",
    "fig = make_subplots(rows=2, cols=2, vertical_spacing=0.08,\n",
    "                    row_heights=[0.7, 0.3], \n",
    "                    specs=[[{\"type\": \"bar\"}, {\"type\": \"pie\"}],\n",
    "                           [{\"colspan\": 2}, None]],\n",
    "                    column_widths=[0.7, 0.3],\n",
    "                    subplot_titles=(\"Month wise Avg Sales Analysis\", \"Quarter wise Avg Sales Analysis\", \n",
    "                                    \"Week wise Avg Sales Analysis\"))\n",
    "\n",
    "fig.add_trace(go.Bar(x=df_m_sa['sales'], y=df_m_sa['month'], marker=dict(color= df_m_sa['color']),\n",
    "                     text=df_m_sa['text'],textposition='auto',\n",
    "                     name='Month', orientation='h'), \n",
    "                     row=1, col=1)\n",
    "fig.add_trace(go.Pie(values=df_q_sa['sales'], labels=df_q_sa['quarter'], name='Quarter',\n",
    "                     marker=dict(colors=['#334668','#496595','#6D83AA','#91A2BF','#C8D0DF']), hole=0.7,\n",
    "                     hoverinfo='label+percent+value', textinfo='label+percent'), \n",
    "                     row=1, col=2)\n",
    "fig.add_trace(go.Scatter(x=df_w_sa['week'], y=df_w_sa['sales'], mode='lines+markers', fill='tozeroy', fillcolor='#c6ccd8',\n",
    "                     marker=dict(color= '#496595'), name='Week'), \n",
    "                     row=2, col=1)\n",
    "\n",
    "# styling\n",
    "fig.update_yaxes(visible=False, row=1, col=1)\n",
    "fig.update_xaxes(visible=False, row=1, col=1)\n",
    "fig.update_xaxes(tickmode = 'array', tickvals=df_w_sa.week, ticktext=[i for i in range(1,53)], \n",
    "                 row=2, col=1)\n",
    "fig.update_yaxes(visible=False, row=2, col=1)\n",
    "fig.update_layout(height=750, bargap=0.15,\n",
    "                  margin=dict(b=0,r=20,l=20), \n",
    "                  title_text=\"Average Sales Analysis\",\n",
    "                  template=\"plotly_white\",\n",
    "                  title_font=dict(size=25, color='#8a8d93', family=\"Lato, sans-serif\"),\n",
    "                  font=dict(color='#8a8d93'),\n",
    "                  hoverlabel=dict(bgcolor=\"#f2f2f2\", font_size=13, font_family=\"Lato, sans-serif\"),\n",
    "                  showlegend=False)\n",
    "fig.show()"
   ]
  },
  {
   "cell_type": "code",
   "execution_count": 8,
   "metadata": {},
   "outputs": [
    {
     "data": {
      "application/vnd.plotly.v1+json": {
       "config": {
        "plotlyServerURL": "https://plotly.com"
       },
       "data": [
        {
         "alignmentgroup": "True",
         "hovertemplate": "sales=%{text}<br>day_of_week=%{y}<extra></extra>",
         "legendgroup": "",
         "marker": {
          "color": "#c6ccd8",
          "pattern": {
           "shape": ""
          }
         },
         "name": "",
         "offsetgroup": "",
         "orientation": "h",
         "showlegend": false,
         "text": [
          326.73,
          348.16,
          434.79,
          464.74,
          286.57,
          319.92,
          330.77
         ],
         "textposition": "auto",
         "type": "bar",
         "x": [
          326.73,
          348.16,
          434.79,
          464.74,
          286.57,
          319.92,
          330.77
         ],
         "xaxis": "x",
         "y": [
          "Friday",
          "Monday",
          "Saturday",
          "Sunday",
          "Thursday",
          "Tuesday",
          "Wednesday"
         ],
         "yaxis": "y"
        }
       ],
       "layout": {
        "barmode": "relative",
        "font": {
         "color": "#8a8d93"
        },
        "height": 350,
        "hoverlabel": {
         "bgcolor": "#c6ccd8",
         "font": {
          "family": "Lato, sans-serif",
          "size": 13
         }
        },
        "hovermode": "y unified",
        "legend": {
         "tracegroupgap": 0
        },
        "margin": {
         "b": 0,
         "l": 0,
         "r": 0,
         "t": 60
        },
        "template": {
         "data": {
          "bar": [
           {
            "error_x": {
             "color": "#2a3f5f"
            },
            "error_y": {
             "color": "#2a3f5f"
            },
            "marker": {
             "line": {
              "color": "white",
              "width": 0.5
             },
             "pattern": {
              "fillmode": "overlay",
              "size": 10,
              "solidity": 0.2
             }
            },
            "type": "bar"
           }
          ],
          "barpolar": [
           {
            "marker": {
             "line": {
              "color": "white",
              "width": 0.5
             },
             "pattern": {
              "fillmode": "overlay",
              "size": 10,
              "solidity": 0.2
             }
            },
            "type": "barpolar"
           }
          ],
          "carpet": [
           {
            "aaxis": {
             "endlinecolor": "#2a3f5f",
             "gridcolor": "#C8D4E3",
             "linecolor": "#C8D4E3",
             "minorgridcolor": "#C8D4E3",
             "startlinecolor": "#2a3f5f"
            },
            "baxis": {
             "endlinecolor": "#2a3f5f",
             "gridcolor": "#C8D4E3",
             "linecolor": "#C8D4E3",
             "minorgridcolor": "#C8D4E3",
             "startlinecolor": "#2a3f5f"
            },
            "type": "carpet"
           }
          ],
          "choropleth": [
           {
            "colorbar": {
             "outlinewidth": 0,
             "ticks": ""
            },
            "type": "choropleth"
           }
          ],
          "contour": [
           {
            "colorbar": {
             "outlinewidth": 0,
             "ticks": ""
            },
            "colorscale": [
             [
              0,
              "#0d0887"
             ],
             [
              0.1111111111111111,
              "#46039f"
             ],
             [
              0.2222222222222222,
              "#7201a8"
             ],
             [
              0.3333333333333333,
              "#9c179e"
             ],
             [
              0.4444444444444444,
              "#bd3786"
             ],
             [
              0.5555555555555556,
              "#d8576b"
             ],
             [
              0.6666666666666666,
              "#ed7953"
             ],
             [
              0.7777777777777778,
              "#fb9f3a"
             ],
             [
              0.8888888888888888,
              "#fdca26"
             ],
             [
              1,
              "#f0f921"
             ]
            ],
            "type": "contour"
           }
          ],
          "contourcarpet": [
           {
            "colorbar": {
             "outlinewidth": 0,
             "ticks": ""
            },
            "type": "contourcarpet"
           }
          ],
          "heatmap": [
           {
            "colorbar": {
             "outlinewidth": 0,
             "ticks": ""
            },
            "colorscale": [
             [
              0,
              "#0d0887"
             ],
             [
              0.1111111111111111,
              "#46039f"
             ],
             [
              0.2222222222222222,
              "#7201a8"
             ],
             [
              0.3333333333333333,
              "#9c179e"
             ],
             [
              0.4444444444444444,
              "#bd3786"
             ],
             [
              0.5555555555555556,
              "#d8576b"
             ],
             [
              0.6666666666666666,
              "#ed7953"
             ],
             [
              0.7777777777777778,
              "#fb9f3a"
             ],
             [
              0.8888888888888888,
              "#fdca26"
             ],
             [
              1,
              "#f0f921"
             ]
            ],
            "type": "heatmap"
           }
          ],
          "heatmapgl": [
           {
            "colorbar": {
             "outlinewidth": 0,
             "ticks": ""
            },
            "colorscale": [
             [
              0,
              "#0d0887"
             ],
             [
              0.1111111111111111,
              "#46039f"
             ],
             [
              0.2222222222222222,
              "#7201a8"
             ],
             [
              0.3333333333333333,
              "#9c179e"
             ],
             [
              0.4444444444444444,
              "#bd3786"
             ],
             [
              0.5555555555555556,
              "#d8576b"
             ],
             [
              0.6666666666666666,
              "#ed7953"
             ],
             [
              0.7777777777777778,
              "#fb9f3a"
             ],
             [
              0.8888888888888888,
              "#fdca26"
             ],
             [
              1,
              "#f0f921"
             ]
            ],
            "type": "heatmapgl"
           }
          ],
          "histogram": [
           {
            "marker": {
             "pattern": {
              "fillmode": "overlay",
              "size": 10,
              "solidity": 0.2
             }
            },
            "type": "histogram"
           }
          ],
          "histogram2d": [
           {
            "colorbar": {
             "outlinewidth": 0,
             "ticks": ""
            },
            "colorscale": [
             [
              0,
              "#0d0887"
             ],
             [
              0.1111111111111111,
              "#46039f"
             ],
             [
              0.2222222222222222,
              "#7201a8"
             ],
             [
              0.3333333333333333,
              "#9c179e"
             ],
             [
              0.4444444444444444,
              "#bd3786"
             ],
             [
              0.5555555555555556,
              "#d8576b"
             ],
             [
              0.6666666666666666,
              "#ed7953"
             ],
             [
              0.7777777777777778,
              "#fb9f3a"
             ],
             [
              0.8888888888888888,
              "#fdca26"
             ],
             [
              1,
              "#f0f921"
             ]
            ],
            "type": "histogram2d"
           }
          ],
          "histogram2dcontour": [
           {
            "colorbar": {
             "outlinewidth": 0,
             "ticks": ""
            },
            "colorscale": [
             [
              0,
              "#0d0887"
             ],
             [
              0.1111111111111111,
              "#46039f"
             ],
             [
              0.2222222222222222,
              "#7201a8"
             ],
             [
              0.3333333333333333,
              "#9c179e"
             ],
             [
              0.4444444444444444,
              "#bd3786"
             ],
             [
              0.5555555555555556,
              "#d8576b"
             ],
             [
              0.6666666666666666,
              "#ed7953"
             ],
             [
              0.7777777777777778,
              "#fb9f3a"
             ],
             [
              0.8888888888888888,
              "#fdca26"
             ],
             [
              1,
              "#f0f921"
             ]
            ],
            "type": "histogram2dcontour"
           }
          ],
          "mesh3d": [
           {
            "colorbar": {
             "outlinewidth": 0,
             "ticks": ""
            },
            "type": "mesh3d"
           }
          ],
          "parcoords": [
           {
            "line": {
             "colorbar": {
              "outlinewidth": 0,
              "ticks": ""
             }
            },
            "type": "parcoords"
           }
          ],
          "pie": [
           {
            "automargin": true,
            "type": "pie"
           }
          ],
          "scatter": [
           {
            "marker": {
             "colorbar": {
              "outlinewidth": 0,
              "ticks": ""
             }
            },
            "type": "scatter"
           }
          ],
          "scatter3d": [
           {
            "line": {
             "colorbar": {
              "outlinewidth": 0,
              "ticks": ""
             }
            },
            "marker": {
             "colorbar": {
              "outlinewidth": 0,
              "ticks": ""
             }
            },
            "type": "scatter3d"
           }
          ],
          "scattercarpet": [
           {
            "marker": {
             "colorbar": {
              "outlinewidth": 0,
              "ticks": ""
             }
            },
            "type": "scattercarpet"
           }
          ],
          "scattergeo": [
           {
            "marker": {
             "colorbar": {
              "outlinewidth": 0,
              "ticks": ""
             }
            },
            "type": "scattergeo"
           }
          ],
          "scattergl": [
           {
            "marker": {
             "colorbar": {
              "outlinewidth": 0,
              "ticks": ""
             }
            },
            "type": "scattergl"
           }
          ],
          "scattermapbox": [
           {
            "marker": {
             "colorbar": {
              "outlinewidth": 0,
              "ticks": ""
             }
            },
            "type": "scattermapbox"
           }
          ],
          "scatterpolar": [
           {
            "marker": {
             "colorbar": {
              "outlinewidth": 0,
              "ticks": ""
             }
            },
            "type": "scatterpolar"
           }
          ],
          "scatterpolargl": [
           {
            "marker": {
             "colorbar": {
              "outlinewidth": 0,
              "ticks": ""
             }
            },
            "type": "scatterpolargl"
           }
          ],
          "scatterternary": [
           {
            "marker": {
             "colorbar": {
              "outlinewidth": 0,
              "ticks": ""
             }
            },
            "type": "scatterternary"
           }
          ],
          "surface": [
           {
            "colorbar": {
             "outlinewidth": 0,
             "ticks": ""
            },
            "colorscale": [
             [
              0,
              "#0d0887"
             ],
             [
              0.1111111111111111,
              "#46039f"
             ],
             [
              0.2222222222222222,
              "#7201a8"
             ],
             [
              0.3333333333333333,
              "#9c179e"
             ],
             [
              0.4444444444444444,
              "#bd3786"
             ],
             [
              0.5555555555555556,
              "#d8576b"
             ],
             [
              0.6666666666666666,
              "#ed7953"
             ],
             [
              0.7777777777777778,
              "#fb9f3a"
             ],
             [
              0.8888888888888888,
              "#fdca26"
             ],
             [
              1,
              "#f0f921"
             ]
            ],
            "type": "surface"
           }
          ],
          "table": [
           {
            "cells": {
             "fill": {
              "color": "#EBF0F8"
             },
             "line": {
              "color": "white"
             }
            },
            "header": {
             "fill": {
              "color": "#C8D4E3"
             },
             "line": {
              "color": "white"
             }
            },
            "type": "table"
           }
          ]
         },
         "layout": {
          "annotationdefaults": {
           "arrowcolor": "#2a3f5f",
           "arrowhead": 0,
           "arrowwidth": 1
          },
          "autotypenumbers": "strict",
          "coloraxis": {
           "colorbar": {
            "outlinewidth": 0,
            "ticks": ""
           }
          },
          "colorscale": {
           "diverging": [
            [
             0,
             "#8e0152"
            ],
            [
             0.1,
             "#c51b7d"
            ],
            [
             0.2,
             "#de77ae"
            ],
            [
             0.3,
             "#f1b6da"
            ],
            [
             0.4,
             "#fde0ef"
            ],
            [
             0.5,
             "#f7f7f7"
            ],
            [
             0.6,
             "#e6f5d0"
            ],
            [
             0.7,
             "#b8e186"
            ],
            [
             0.8,
             "#7fbc41"
            ],
            [
             0.9,
             "#4d9221"
            ],
            [
             1,
             "#276419"
            ]
           ],
           "sequential": [
            [
             0,
             "#0d0887"
            ],
            [
             0.1111111111111111,
             "#46039f"
            ],
            [
             0.2222222222222222,
             "#7201a8"
            ],
            [
             0.3333333333333333,
             "#9c179e"
            ],
            [
             0.4444444444444444,
             "#bd3786"
            ],
            [
             0.5555555555555556,
             "#d8576b"
            ],
            [
             0.6666666666666666,
             "#ed7953"
            ],
            [
             0.7777777777777778,
             "#fb9f3a"
            ],
            [
             0.8888888888888888,
             "#fdca26"
            ],
            [
             1,
             "#f0f921"
            ]
           ],
           "sequentialminus": [
            [
             0,
             "#0d0887"
            ],
            [
             0.1111111111111111,
             "#46039f"
            ],
            [
             0.2222222222222222,
             "#7201a8"
            ],
            [
             0.3333333333333333,
             "#9c179e"
            ],
            [
             0.4444444444444444,
             "#bd3786"
            ],
            [
             0.5555555555555556,
             "#d8576b"
            ],
            [
             0.6666666666666666,
             "#ed7953"
            ],
            [
             0.7777777777777778,
             "#fb9f3a"
            ],
            [
             0.8888888888888888,
             "#fdca26"
            ],
            [
             1,
             "#f0f921"
            ]
           ]
          },
          "colorway": [
           "#636efa",
           "#EF553B",
           "#00cc96",
           "#ab63fa",
           "#FFA15A",
           "#19d3f3",
           "#FF6692",
           "#B6E880",
           "#FF97FF",
           "#FECB52"
          ],
          "font": {
           "color": "#2a3f5f"
          },
          "geo": {
           "bgcolor": "white",
           "lakecolor": "white",
           "landcolor": "white",
           "showlakes": true,
           "showland": true,
           "subunitcolor": "#C8D4E3"
          },
          "hoverlabel": {
           "align": "left"
          },
          "hovermode": "closest",
          "mapbox": {
           "style": "light"
          },
          "paper_bgcolor": "white",
          "plot_bgcolor": "white",
          "polar": {
           "angularaxis": {
            "gridcolor": "#EBF0F8",
            "linecolor": "#EBF0F8",
            "ticks": ""
           },
           "bgcolor": "white",
           "radialaxis": {
            "gridcolor": "#EBF0F8",
            "linecolor": "#EBF0F8",
            "ticks": ""
           }
          },
          "scene": {
           "xaxis": {
            "backgroundcolor": "white",
            "gridcolor": "#DFE8F3",
            "gridwidth": 2,
            "linecolor": "#EBF0F8",
            "showbackground": true,
            "ticks": "",
            "zerolinecolor": "#EBF0F8"
           },
           "yaxis": {
            "backgroundcolor": "white",
            "gridcolor": "#DFE8F3",
            "gridwidth": 2,
            "linecolor": "#EBF0F8",
            "showbackground": true,
            "ticks": "",
            "zerolinecolor": "#EBF0F8"
           },
           "zaxis": {
            "backgroundcolor": "white",
            "gridcolor": "#DFE8F3",
            "gridwidth": 2,
            "linecolor": "#EBF0F8",
            "showbackground": true,
            "ticks": "",
            "zerolinecolor": "#EBF0F8"
           }
          },
          "shapedefaults": {
           "line": {
            "color": "#2a3f5f"
           }
          },
          "ternary": {
           "aaxis": {
            "gridcolor": "#DFE8F3",
            "linecolor": "#A2B1C6",
            "ticks": ""
           },
           "baxis": {
            "gridcolor": "#DFE8F3",
            "linecolor": "#A2B1C6",
            "ticks": ""
           },
           "bgcolor": "white",
           "caxis": {
            "gridcolor": "#DFE8F3",
            "linecolor": "#A2B1C6",
            "ticks": ""
           }
          },
          "title": {
           "x": 0.05
          },
          "xaxis": {
           "automargin": true,
           "gridcolor": "#EBF0F8",
           "linecolor": "#EBF0F8",
           "ticks": "",
           "title": {
            "standoff": 15
           },
           "zerolinecolor": "#EBF0F8",
           "zerolinewidth": 2
          },
          "yaxis": {
           "automargin": true,
           "gridcolor": "#EBF0F8",
           "linecolor": "#EBF0F8",
           "ticks": "",
           "title": {
            "standoff": 15
           },
           "zerolinecolor": "#EBF0F8",
           "zerolinewidth": 2
          }
         }
        },
        "title": {
         "font": {
          "color": "#8a8d93",
          "family": "Lato, sans-serif",
          "size": 25
         },
         "text": "Avg Sales vs Day of Week"
        },
        "xaxis": {
         "anchor": "y",
         "domain": [
          0,
          1
         ],
         "title": {
          "text": "sales"
         },
         "visible": false
        },
        "yaxis": {
         "anchor": "x",
         "categoryarray": [
          "Sunday",
          "Saturday",
          "Friday",
          "Thursday",
          "Wednesday",
          "Tuesday",
          "Monday"
         ],
         "categoryorder": "array",
         "domain": [
          0,
          1
         ],
         "showgrid": false,
         "showline": false,
         "ticksuffix": " ",
         "title": {
          "text": " "
         }
        }
       }
      },
      "text/html": [
       "<div>                            <div id=\"6dd18832-2cab-4d22-a90b-b6c4709ff2a0\" class=\"plotly-graph-div\" style=\"height:350px; width:100%;\"></div>            <script type=\"text/javascript\">                require([\"plotly\"], function(Plotly) {                    window.PLOTLYENV=window.PLOTLYENV || {};                                    if (document.getElementById(\"6dd18832-2cab-4d22-a90b-b6c4709ff2a0\")) {                    Plotly.newPlot(                        \"6dd18832-2cab-4d22-a90b-b6c4709ff2a0\",                        [{\"alignmentgroup\":\"True\",\"hovertemplate\":\"sales=%{text}<br>day_of_week=%{y}<extra></extra>\",\"legendgroup\":\"\",\"marker\":{\"color\":\"#c6ccd8\",\"pattern\":{\"shape\":\"\"}},\"name\":\"\",\"offsetgroup\":\"\",\"orientation\":\"h\",\"showlegend\":false,\"text\":[326.73,348.16,434.79,464.74,286.57,319.92,330.77],\"textposition\":\"auto\",\"x\":[326.73,348.16,434.79,464.74,286.57,319.92,330.77],\"xaxis\":\"x\",\"y\":[\"Friday\",\"Monday\",\"Saturday\",\"Sunday\",\"Thursday\",\"Tuesday\",\"Wednesday\"],\"yaxis\":\"y\",\"type\":\"bar\"}],                        {\"template\":{\"data\":{\"barpolar\":[{\"marker\":{\"line\":{\"color\":\"white\",\"width\":0.5},\"pattern\":{\"fillmode\":\"overlay\",\"size\":10,\"solidity\":0.2}},\"type\":\"barpolar\"}],\"bar\":[{\"error_x\":{\"color\":\"#2a3f5f\"},\"error_y\":{\"color\":\"#2a3f5f\"},\"marker\":{\"line\":{\"color\":\"white\",\"width\":0.5},\"pattern\":{\"fillmode\":\"overlay\",\"size\":10,\"solidity\":0.2}},\"type\":\"bar\"}],\"carpet\":[{\"aaxis\":{\"endlinecolor\":\"#2a3f5f\",\"gridcolor\":\"#C8D4E3\",\"linecolor\":\"#C8D4E3\",\"minorgridcolor\":\"#C8D4E3\",\"startlinecolor\":\"#2a3f5f\"},\"baxis\":{\"endlinecolor\":\"#2a3f5f\",\"gridcolor\":\"#C8D4E3\",\"linecolor\":\"#C8D4E3\",\"minorgridcolor\":\"#C8D4E3\",\"startlinecolor\":\"#2a3f5f\"},\"type\":\"carpet\"}],\"choropleth\":[{\"colorbar\":{\"outlinewidth\":0,\"ticks\":\"\"},\"type\":\"choropleth\"}],\"contourcarpet\":[{\"colorbar\":{\"outlinewidth\":0,\"ticks\":\"\"},\"type\":\"contourcarpet\"}],\"contour\":[{\"colorbar\":{\"outlinewidth\":0,\"ticks\":\"\"},\"colorscale\":[[0.0,\"#0d0887\"],[0.1111111111111111,\"#46039f\"],[0.2222222222222222,\"#7201a8\"],[0.3333333333333333,\"#9c179e\"],[0.4444444444444444,\"#bd3786\"],[0.5555555555555556,\"#d8576b\"],[0.6666666666666666,\"#ed7953\"],[0.7777777777777778,\"#fb9f3a\"],[0.8888888888888888,\"#fdca26\"],[1.0,\"#f0f921\"]],\"type\":\"contour\"}],\"heatmapgl\":[{\"colorbar\":{\"outlinewidth\":0,\"ticks\":\"\"},\"colorscale\":[[0.0,\"#0d0887\"],[0.1111111111111111,\"#46039f\"],[0.2222222222222222,\"#7201a8\"],[0.3333333333333333,\"#9c179e\"],[0.4444444444444444,\"#bd3786\"],[0.5555555555555556,\"#d8576b\"],[0.6666666666666666,\"#ed7953\"],[0.7777777777777778,\"#fb9f3a\"],[0.8888888888888888,\"#fdca26\"],[1.0,\"#f0f921\"]],\"type\":\"heatmapgl\"}],\"heatmap\":[{\"colorbar\":{\"outlinewidth\":0,\"ticks\":\"\"},\"colorscale\":[[0.0,\"#0d0887\"],[0.1111111111111111,\"#46039f\"],[0.2222222222222222,\"#7201a8\"],[0.3333333333333333,\"#9c179e\"],[0.4444444444444444,\"#bd3786\"],[0.5555555555555556,\"#d8576b\"],[0.6666666666666666,\"#ed7953\"],[0.7777777777777778,\"#fb9f3a\"],[0.8888888888888888,\"#fdca26\"],[1.0,\"#f0f921\"]],\"type\":\"heatmap\"}],\"histogram2dcontour\":[{\"colorbar\":{\"outlinewidth\":0,\"ticks\":\"\"},\"colorscale\":[[0.0,\"#0d0887\"],[0.1111111111111111,\"#46039f\"],[0.2222222222222222,\"#7201a8\"],[0.3333333333333333,\"#9c179e\"],[0.4444444444444444,\"#bd3786\"],[0.5555555555555556,\"#d8576b\"],[0.6666666666666666,\"#ed7953\"],[0.7777777777777778,\"#fb9f3a\"],[0.8888888888888888,\"#fdca26\"],[1.0,\"#f0f921\"]],\"type\":\"histogram2dcontour\"}],\"histogram2d\":[{\"colorbar\":{\"outlinewidth\":0,\"ticks\":\"\"},\"colorscale\":[[0.0,\"#0d0887\"],[0.1111111111111111,\"#46039f\"],[0.2222222222222222,\"#7201a8\"],[0.3333333333333333,\"#9c179e\"],[0.4444444444444444,\"#bd3786\"],[0.5555555555555556,\"#d8576b\"],[0.6666666666666666,\"#ed7953\"],[0.7777777777777778,\"#fb9f3a\"],[0.8888888888888888,\"#fdca26\"],[1.0,\"#f0f921\"]],\"type\":\"histogram2d\"}],\"histogram\":[{\"marker\":{\"pattern\":{\"fillmode\":\"overlay\",\"size\":10,\"solidity\":0.2}},\"type\":\"histogram\"}],\"mesh3d\":[{\"colorbar\":{\"outlinewidth\":0,\"ticks\":\"\"},\"type\":\"mesh3d\"}],\"parcoords\":[{\"line\":{\"colorbar\":{\"outlinewidth\":0,\"ticks\":\"\"}},\"type\":\"parcoords\"}],\"pie\":[{\"automargin\":true,\"type\":\"pie\"}],\"scatter3d\":[{\"line\":{\"colorbar\":{\"outlinewidth\":0,\"ticks\":\"\"}},\"marker\":{\"colorbar\":{\"outlinewidth\":0,\"ticks\":\"\"}},\"type\":\"scatter3d\"}],\"scattercarpet\":[{\"marker\":{\"colorbar\":{\"outlinewidth\":0,\"ticks\":\"\"}},\"type\":\"scattercarpet\"}],\"scattergeo\":[{\"marker\":{\"colorbar\":{\"outlinewidth\":0,\"ticks\":\"\"}},\"type\":\"scattergeo\"}],\"scattergl\":[{\"marker\":{\"colorbar\":{\"outlinewidth\":0,\"ticks\":\"\"}},\"type\":\"scattergl\"}],\"scattermapbox\":[{\"marker\":{\"colorbar\":{\"outlinewidth\":0,\"ticks\":\"\"}},\"type\":\"scattermapbox\"}],\"scatterpolargl\":[{\"marker\":{\"colorbar\":{\"outlinewidth\":0,\"ticks\":\"\"}},\"type\":\"scatterpolargl\"}],\"scatterpolar\":[{\"marker\":{\"colorbar\":{\"outlinewidth\":0,\"ticks\":\"\"}},\"type\":\"scatterpolar\"}],\"scatter\":[{\"marker\":{\"colorbar\":{\"outlinewidth\":0,\"ticks\":\"\"}},\"type\":\"scatter\"}],\"scatterternary\":[{\"marker\":{\"colorbar\":{\"outlinewidth\":0,\"ticks\":\"\"}},\"type\":\"scatterternary\"}],\"surface\":[{\"colorbar\":{\"outlinewidth\":0,\"ticks\":\"\"},\"colorscale\":[[0.0,\"#0d0887\"],[0.1111111111111111,\"#46039f\"],[0.2222222222222222,\"#7201a8\"],[0.3333333333333333,\"#9c179e\"],[0.4444444444444444,\"#bd3786\"],[0.5555555555555556,\"#d8576b\"],[0.6666666666666666,\"#ed7953\"],[0.7777777777777778,\"#fb9f3a\"],[0.8888888888888888,\"#fdca26\"],[1.0,\"#f0f921\"]],\"type\":\"surface\"}],\"table\":[{\"cells\":{\"fill\":{\"color\":\"#EBF0F8\"},\"line\":{\"color\":\"white\"}},\"header\":{\"fill\":{\"color\":\"#C8D4E3\"},\"line\":{\"color\":\"white\"}},\"type\":\"table\"}]},\"layout\":{\"annotationdefaults\":{\"arrowcolor\":\"#2a3f5f\",\"arrowhead\":0,\"arrowwidth\":1},\"autotypenumbers\":\"strict\",\"coloraxis\":{\"colorbar\":{\"outlinewidth\":0,\"ticks\":\"\"}},\"colorscale\":{\"diverging\":[[0,\"#8e0152\"],[0.1,\"#c51b7d\"],[0.2,\"#de77ae\"],[0.3,\"#f1b6da\"],[0.4,\"#fde0ef\"],[0.5,\"#f7f7f7\"],[0.6,\"#e6f5d0\"],[0.7,\"#b8e186\"],[0.8,\"#7fbc41\"],[0.9,\"#4d9221\"],[1,\"#276419\"]],\"sequential\":[[0.0,\"#0d0887\"],[0.1111111111111111,\"#46039f\"],[0.2222222222222222,\"#7201a8\"],[0.3333333333333333,\"#9c179e\"],[0.4444444444444444,\"#bd3786\"],[0.5555555555555556,\"#d8576b\"],[0.6666666666666666,\"#ed7953\"],[0.7777777777777778,\"#fb9f3a\"],[0.8888888888888888,\"#fdca26\"],[1.0,\"#f0f921\"]],\"sequentialminus\":[[0.0,\"#0d0887\"],[0.1111111111111111,\"#46039f\"],[0.2222222222222222,\"#7201a8\"],[0.3333333333333333,\"#9c179e\"],[0.4444444444444444,\"#bd3786\"],[0.5555555555555556,\"#d8576b\"],[0.6666666666666666,\"#ed7953\"],[0.7777777777777778,\"#fb9f3a\"],[0.8888888888888888,\"#fdca26\"],[1.0,\"#f0f921\"]]},\"colorway\":[\"#636efa\",\"#EF553B\",\"#00cc96\",\"#ab63fa\",\"#FFA15A\",\"#19d3f3\",\"#FF6692\",\"#B6E880\",\"#FF97FF\",\"#FECB52\"],\"font\":{\"color\":\"#2a3f5f\"},\"geo\":{\"bgcolor\":\"white\",\"lakecolor\":\"white\",\"landcolor\":\"white\",\"showlakes\":true,\"showland\":true,\"subunitcolor\":\"#C8D4E3\"},\"hoverlabel\":{\"align\":\"left\"},\"hovermode\":\"closest\",\"mapbox\":{\"style\":\"light\"},\"paper_bgcolor\":\"white\",\"plot_bgcolor\":\"white\",\"polar\":{\"angularaxis\":{\"gridcolor\":\"#EBF0F8\",\"linecolor\":\"#EBF0F8\",\"ticks\":\"\"},\"bgcolor\":\"white\",\"radialaxis\":{\"gridcolor\":\"#EBF0F8\",\"linecolor\":\"#EBF0F8\",\"ticks\":\"\"}},\"scene\":{\"xaxis\":{\"backgroundcolor\":\"white\",\"gridcolor\":\"#DFE8F3\",\"gridwidth\":2,\"linecolor\":\"#EBF0F8\",\"showbackground\":true,\"ticks\":\"\",\"zerolinecolor\":\"#EBF0F8\"},\"yaxis\":{\"backgroundcolor\":\"white\",\"gridcolor\":\"#DFE8F3\",\"gridwidth\":2,\"linecolor\":\"#EBF0F8\",\"showbackground\":true,\"ticks\":\"\",\"zerolinecolor\":\"#EBF0F8\"},\"zaxis\":{\"backgroundcolor\":\"white\",\"gridcolor\":\"#DFE8F3\",\"gridwidth\":2,\"linecolor\":\"#EBF0F8\",\"showbackground\":true,\"ticks\":\"\",\"zerolinecolor\":\"#EBF0F8\"}},\"shapedefaults\":{\"line\":{\"color\":\"#2a3f5f\"}},\"ternary\":{\"aaxis\":{\"gridcolor\":\"#DFE8F3\",\"linecolor\":\"#A2B1C6\",\"ticks\":\"\"},\"baxis\":{\"gridcolor\":\"#DFE8F3\",\"linecolor\":\"#A2B1C6\",\"ticks\":\"\"},\"bgcolor\":\"white\",\"caxis\":{\"gridcolor\":\"#DFE8F3\",\"linecolor\":\"#A2B1C6\",\"ticks\":\"\"}},\"title\":{\"x\":0.05},\"xaxis\":{\"automargin\":true,\"gridcolor\":\"#EBF0F8\",\"linecolor\":\"#EBF0F8\",\"ticks\":\"\",\"title\":{\"standoff\":15},\"zerolinecolor\":\"#EBF0F8\",\"zerolinewidth\":2},\"yaxis\":{\"automargin\":true,\"gridcolor\":\"#EBF0F8\",\"linecolor\":\"#EBF0F8\",\"ticks\":\"\",\"title\":{\"standoff\":15},\"zerolinecolor\":\"#EBF0F8\",\"zerolinewidth\":2}}},\"xaxis\":{\"anchor\":\"y\",\"domain\":[0.0,1.0],\"title\":{\"text\":\"sales\"},\"visible\":false},\"yaxis\":{\"anchor\":\"x\",\"domain\":[0.0,1.0],\"title\":{\"text\":\" \"},\"categoryorder\":\"array\",\"categoryarray\":[\"Sunday\",\"Saturday\",\"Friday\",\"Thursday\",\"Wednesday\",\"Tuesday\",\"Monday\"],\"showgrid\":false,\"ticksuffix\":\" \",\"showline\":false},\"legend\":{\"tracegroupgap\":0},\"title\":{\"text\":\"Avg Sales vs Day of Week\",\"font\":{\"size\":25,\"color\":\"#8a8d93\",\"family\":\"Lato, sans-serif\"}},\"barmode\":\"relative\",\"margin\":{\"t\":60,\"b\":0,\"l\":0,\"r\":0},\"font\":{\"color\":\"#8a8d93\"},\"hoverlabel\":{\"font\":{\"size\":13,\"family\":\"Lato, sans-serif\"},\"bgcolor\":\"#c6ccd8\"},\"height\":350,\"hovermode\":\"y unified\"},                        {\"responsive\": true}                    ).then(function(){\n",
       "                            \n",
       "var gd = document.getElementById('6dd18832-2cab-4d22-a90b-b6c4709ff2a0');\n",
       "var x = new MutationObserver(function (mutations, observer) {{\n",
       "        var display = window.getComputedStyle(gd).display;\n",
       "        if (!display || display === 'none') {{\n",
       "            console.log([gd, 'removed!']);\n",
       "            Plotly.purge(gd);\n",
       "            observer.disconnect();\n",
       "        }}\n",
       "}});\n",
       "\n",
       "// Listen for the removal of the full notebook cells\n",
       "var notebookContainer = gd.closest('#notebook-container');\n",
       "if (notebookContainer) {{\n",
       "    x.observe(notebookContainer, {childList: true});\n",
       "}}\n",
       "\n",
       "// Listen for the clearing of the current output cell\n",
       "var outputEl = gd.closest('.output');\n",
       "if (outputEl) {{\n",
       "    x.observe(outputEl, {childList: true});\n",
       "}}\n",
       "\n",
       "                        })                };                });            </script>        </div>"
      ]
     },
     "metadata": {},
     "output_type": "display_data"
    }
   ],
   "source": [
    "# data\n",
    "df_dw_sa = df_train1.groupby('day_of_week').agg({\"sales\" : \"mean\"}).reset_index()\n",
    "df_dw_sa.sales = round(df_dw_sa.sales, 2)\n",
    "\n",
    "# chart\n",
    "fig = px.bar(df_dw_sa, y='day_of_week', x='sales', title='Avg Sales vs Day of Week',\n",
    "             color_discrete_sequence=['#c6ccd8'], text='sales',\n",
    "             category_orders=dict(day_of_week=[\"Monday\",\"Tuesday\",\"Wednesday\",\"Thursday\", \"Friday\",\"Saturday\",\"Sunday\"]))\n",
    "fig.update_yaxes(showgrid=False, ticksuffix=' ', showline=False)\n",
    "fig.update_xaxes(visible=False)\n",
    "fig.update_layout(margin=dict(t=60, b=0, l=0, r=0), height=350,\n",
    "                  hovermode=\"y unified\", \n",
    "                  yaxis_title=\" \", template='plotly_white',\n",
    "                  title_font=dict(size=25, color='#8a8d93', family=\"Lato, sans-serif\"),\n",
    "                  font=dict(color='#8a8d93'),\n",
    "                  hoverlabel=dict(bgcolor=\"#c6ccd8\", font_size=13, font_family=\"Lato, sans-serif\"))"
   ]
  },
  {
   "cell_type": "code",
   "execution_count": 9,
   "metadata": {},
   "outputs": [
    {
     "data": {
      "application/vnd.plotly.v1+json": {
       "config": {
        "plotlyServerURL": "https://plotly.com"
       },
       "data": [
        {
         "hovertemplate": "store_type=%{x}<br>holiday_type=%{y}<br>sales=%{marker.color}<extra></extra>",
         "legendgroup": "",
         "marker": {
          "color": [
           957.7,
           969.82,
           813.56,
           723.28,
           984.63,
           803.76,
           445.09,
           355.83,
           409.93,
           332.5,
           426.55,
           292.56,
           267.19,
           239.88,
           233.7,
           193.95,
           226.69,
           202.48,
           480.45,
           428.37,
           416.99,
           344.35,
           448.08,
           371.9,
           374.02,
           310.13,
           343.21,
           269.56,
           379.7,
           197.67
          ],
          "coloraxis": "coloraxis",
          "size": [
           957.7,
           969.82,
           813.56,
           723.28,
           984.63,
           803.76,
           445.09,
           355.83,
           409.93,
           332.5,
           426.55,
           292.56,
           267.19,
           239.88,
           233.7,
           193.95,
           226.69,
           202.48,
           480.45,
           428.37,
           416.99,
           344.35,
           448.08,
           371.9,
           374.02,
           310.13,
           343.21,
           269.56,
           379.7,
           197.67
          ],
          "sizemode": "area",
          "sizeref": 2.461575,
          "symbol": "circle"
         },
         "mode": "markers",
         "name": "",
         "orientation": "v",
         "showlegend": false,
         "type": "scatter",
         "x": [
          "A",
          "A",
          "A",
          "A",
          "A",
          "A",
          "B",
          "B",
          "B",
          "B",
          "B",
          "B",
          "C",
          "C",
          "C",
          "C",
          "C",
          "C",
          "D",
          "D",
          "D",
          "D",
          "D",
          "D",
          "E",
          "E",
          "E",
          "E",
          "E",
          "E"
         ],
         "xaxis": "x",
         "y": [
          "Additional",
          "Bridge",
          "Event",
          "Holiday",
          "Transfer",
          "Work Day",
          "Additional",
          "Bridge",
          "Event",
          "Holiday",
          "Transfer",
          "Work Day",
          "Additional",
          "Bridge",
          "Event",
          "Holiday",
          "Transfer",
          "Work Day",
          "Additional",
          "Bridge",
          "Event",
          "Holiday",
          "Transfer",
          "Work Day",
          "Additional",
          "Bridge",
          "Event",
          "Holiday",
          "Transfer",
          "Work Day"
         ],
         "yaxis": "y"
        }
       ],
       "layout": {
        "coloraxis": {
         "colorbar": {
          "title": {
           "text": "sales"
          }
         },
         "colorscale": [
          [
           0,
           "#0d0887"
          ],
          [
           0.1111111111111111,
           "#46039f"
          ],
          [
           0.2222222222222222,
           "#7201a8"
          ],
          [
           0.3333333333333333,
           "#9c179e"
          ],
          [
           0.4444444444444444,
           "#bd3786"
          ],
          [
           0.5555555555555556,
           "#d8576b"
          ],
          [
           0.6666666666666666,
           "#ed7953"
          ],
          [
           0.7777777777777778,
           "#fb9f3a"
          ],
          [
           0.8888888888888888,
           "#fdca26"
          ],
          [
           1,
           "#f0f921"
          ]
         ]
        },
        "font": {
         "color": "#555"
        },
        "height": 400,
        "hoverlabel": {
         "bgcolor": "#f2f2f2",
         "font": {
          "family": "Lato, sans-serif",
          "size": 13
         }
        },
        "legend": {
         "itemsizing": "constant",
         "tracegroupgap": 0
        },
        "margin": {
         "b": 0
        },
        "paper_bgcolor": "#fafafa",
        "plot_bgcolor": "#fafafa",
        "template": {
         "data": {
          "bar": [
           {
            "error_x": {
             "color": "#2a3f5f"
            },
            "error_y": {
             "color": "#2a3f5f"
            },
            "marker": {
             "line": {
              "color": "#E5ECF6",
              "width": 0.5
             },
             "pattern": {
              "fillmode": "overlay",
              "size": 10,
              "solidity": 0.2
             }
            },
            "type": "bar"
           }
          ],
          "barpolar": [
           {
            "marker": {
             "line": {
              "color": "#E5ECF6",
              "width": 0.5
             },
             "pattern": {
              "fillmode": "overlay",
              "size": 10,
              "solidity": 0.2
             }
            },
            "type": "barpolar"
           }
          ],
          "carpet": [
           {
            "aaxis": {
             "endlinecolor": "#2a3f5f",
             "gridcolor": "white",
             "linecolor": "white",
             "minorgridcolor": "white",
             "startlinecolor": "#2a3f5f"
            },
            "baxis": {
             "endlinecolor": "#2a3f5f",
             "gridcolor": "white",
             "linecolor": "white",
             "minorgridcolor": "white",
             "startlinecolor": "#2a3f5f"
            },
            "type": "carpet"
           }
          ],
          "choropleth": [
           {
            "colorbar": {
             "outlinewidth": 0,
             "ticks": ""
            },
            "type": "choropleth"
           }
          ],
          "contour": [
           {
            "colorbar": {
             "outlinewidth": 0,
             "ticks": ""
            },
            "colorscale": [
             [
              0,
              "#0d0887"
             ],
             [
              0.1111111111111111,
              "#46039f"
             ],
             [
              0.2222222222222222,
              "#7201a8"
             ],
             [
              0.3333333333333333,
              "#9c179e"
             ],
             [
              0.4444444444444444,
              "#bd3786"
             ],
             [
              0.5555555555555556,
              "#d8576b"
             ],
             [
              0.6666666666666666,
              "#ed7953"
             ],
             [
              0.7777777777777778,
              "#fb9f3a"
             ],
             [
              0.8888888888888888,
              "#fdca26"
             ],
             [
              1,
              "#f0f921"
             ]
            ],
            "type": "contour"
           }
          ],
          "contourcarpet": [
           {
            "colorbar": {
             "outlinewidth": 0,
             "ticks": ""
            },
            "type": "contourcarpet"
           }
          ],
          "heatmap": [
           {
            "colorbar": {
             "outlinewidth": 0,
             "ticks": ""
            },
            "colorscale": [
             [
              0,
              "#0d0887"
             ],
             [
              0.1111111111111111,
              "#46039f"
             ],
             [
              0.2222222222222222,
              "#7201a8"
             ],
             [
              0.3333333333333333,
              "#9c179e"
             ],
             [
              0.4444444444444444,
              "#bd3786"
             ],
             [
              0.5555555555555556,
              "#d8576b"
             ],
             [
              0.6666666666666666,
              "#ed7953"
             ],
             [
              0.7777777777777778,
              "#fb9f3a"
             ],
             [
              0.8888888888888888,
              "#fdca26"
             ],
             [
              1,
              "#f0f921"
             ]
            ],
            "type": "heatmap"
           }
          ],
          "heatmapgl": [
           {
            "colorbar": {
             "outlinewidth": 0,
             "ticks": ""
            },
            "colorscale": [
             [
              0,
              "#0d0887"
             ],
             [
              0.1111111111111111,
              "#46039f"
             ],
             [
              0.2222222222222222,
              "#7201a8"
             ],
             [
              0.3333333333333333,
              "#9c179e"
             ],
             [
              0.4444444444444444,
              "#bd3786"
             ],
             [
              0.5555555555555556,
              "#d8576b"
             ],
             [
              0.6666666666666666,
              "#ed7953"
             ],
             [
              0.7777777777777778,
              "#fb9f3a"
             ],
             [
              0.8888888888888888,
              "#fdca26"
             ],
             [
              1,
              "#f0f921"
             ]
            ],
            "type": "heatmapgl"
           }
          ],
          "histogram": [
           {
            "marker": {
             "pattern": {
              "fillmode": "overlay",
              "size": 10,
              "solidity": 0.2
             }
            },
            "type": "histogram"
           }
          ],
          "histogram2d": [
           {
            "colorbar": {
             "outlinewidth": 0,
             "ticks": ""
            },
            "colorscale": [
             [
              0,
              "#0d0887"
             ],
             [
              0.1111111111111111,
              "#46039f"
             ],
             [
              0.2222222222222222,
              "#7201a8"
             ],
             [
              0.3333333333333333,
              "#9c179e"
             ],
             [
              0.4444444444444444,
              "#bd3786"
             ],
             [
              0.5555555555555556,
              "#d8576b"
             ],
             [
              0.6666666666666666,
              "#ed7953"
             ],
             [
              0.7777777777777778,
              "#fb9f3a"
             ],
             [
              0.8888888888888888,
              "#fdca26"
             ],
             [
              1,
              "#f0f921"
             ]
            ],
            "type": "histogram2d"
           }
          ],
          "histogram2dcontour": [
           {
            "colorbar": {
             "outlinewidth": 0,
             "ticks": ""
            },
            "colorscale": [
             [
              0,
              "#0d0887"
             ],
             [
              0.1111111111111111,
              "#46039f"
             ],
             [
              0.2222222222222222,
              "#7201a8"
             ],
             [
              0.3333333333333333,
              "#9c179e"
             ],
             [
              0.4444444444444444,
              "#bd3786"
             ],
             [
              0.5555555555555556,
              "#d8576b"
             ],
             [
              0.6666666666666666,
              "#ed7953"
             ],
             [
              0.7777777777777778,
              "#fb9f3a"
             ],
             [
              0.8888888888888888,
              "#fdca26"
             ],
             [
              1,
              "#f0f921"
             ]
            ],
            "type": "histogram2dcontour"
           }
          ],
          "mesh3d": [
           {
            "colorbar": {
             "outlinewidth": 0,
             "ticks": ""
            },
            "type": "mesh3d"
           }
          ],
          "parcoords": [
           {
            "line": {
             "colorbar": {
              "outlinewidth": 0,
              "ticks": ""
             }
            },
            "type": "parcoords"
           }
          ],
          "pie": [
           {
            "automargin": true,
            "type": "pie"
           }
          ],
          "scatter": [
           {
            "marker": {
             "colorbar": {
              "outlinewidth": 0,
              "ticks": ""
             }
            },
            "type": "scatter"
           }
          ],
          "scatter3d": [
           {
            "line": {
             "colorbar": {
              "outlinewidth": 0,
              "ticks": ""
             }
            },
            "marker": {
             "colorbar": {
              "outlinewidth": 0,
              "ticks": ""
             }
            },
            "type": "scatter3d"
           }
          ],
          "scattercarpet": [
           {
            "marker": {
             "colorbar": {
              "outlinewidth": 0,
              "ticks": ""
             }
            },
            "type": "scattercarpet"
           }
          ],
          "scattergeo": [
           {
            "marker": {
             "colorbar": {
              "outlinewidth": 0,
              "ticks": ""
             }
            },
            "type": "scattergeo"
           }
          ],
          "scattergl": [
           {
            "marker": {
             "colorbar": {
              "outlinewidth": 0,
              "ticks": ""
             }
            },
            "type": "scattergl"
           }
          ],
          "scattermapbox": [
           {
            "marker": {
             "colorbar": {
              "outlinewidth": 0,
              "ticks": ""
             }
            },
            "type": "scattermapbox"
           }
          ],
          "scatterpolar": [
           {
            "marker": {
             "colorbar": {
              "outlinewidth": 0,
              "ticks": ""
             }
            },
            "type": "scatterpolar"
           }
          ],
          "scatterpolargl": [
           {
            "marker": {
             "colorbar": {
              "outlinewidth": 0,
              "ticks": ""
             }
            },
            "type": "scatterpolargl"
           }
          ],
          "scatterternary": [
           {
            "marker": {
             "colorbar": {
              "outlinewidth": 0,
              "ticks": ""
             }
            },
            "type": "scatterternary"
           }
          ],
          "surface": [
           {
            "colorbar": {
             "outlinewidth": 0,
             "ticks": ""
            },
            "colorscale": [
             [
              0,
              "#0d0887"
             ],
             [
              0.1111111111111111,
              "#46039f"
             ],
             [
              0.2222222222222222,
              "#7201a8"
             ],
             [
              0.3333333333333333,
              "#9c179e"
             ],
             [
              0.4444444444444444,
              "#bd3786"
             ],
             [
              0.5555555555555556,
              "#d8576b"
             ],
             [
              0.6666666666666666,
              "#ed7953"
             ],
             [
              0.7777777777777778,
              "#fb9f3a"
             ],
             [
              0.8888888888888888,
              "#fdca26"
             ],
             [
              1,
              "#f0f921"
             ]
            ],
            "type": "surface"
           }
          ],
          "table": [
           {
            "cells": {
             "fill": {
              "color": "#EBF0F8"
             },
             "line": {
              "color": "white"
             }
            },
            "header": {
             "fill": {
              "color": "#C8D4E3"
             },
             "line": {
              "color": "white"
             }
            },
            "type": "table"
           }
          ]
         },
         "layout": {
          "annotationdefaults": {
           "arrowcolor": "#2a3f5f",
           "arrowhead": 0,
           "arrowwidth": 1
          },
          "autotypenumbers": "strict",
          "coloraxis": {
           "colorbar": {
            "outlinewidth": 0,
            "ticks": ""
           }
          },
          "colorscale": {
           "diverging": [
            [
             0,
             "#8e0152"
            ],
            [
             0.1,
             "#c51b7d"
            ],
            [
             0.2,
             "#de77ae"
            ],
            [
             0.3,
             "#f1b6da"
            ],
            [
             0.4,
             "#fde0ef"
            ],
            [
             0.5,
             "#f7f7f7"
            ],
            [
             0.6,
             "#e6f5d0"
            ],
            [
             0.7,
             "#b8e186"
            ],
            [
             0.8,
             "#7fbc41"
            ],
            [
             0.9,
             "#4d9221"
            ],
            [
             1,
             "#276419"
            ]
           ],
           "sequential": [
            [
             0,
             "#0d0887"
            ],
            [
             0.1111111111111111,
             "#46039f"
            ],
            [
             0.2222222222222222,
             "#7201a8"
            ],
            [
             0.3333333333333333,
             "#9c179e"
            ],
            [
             0.4444444444444444,
             "#bd3786"
            ],
            [
             0.5555555555555556,
             "#d8576b"
            ],
            [
             0.6666666666666666,
             "#ed7953"
            ],
            [
             0.7777777777777778,
             "#fb9f3a"
            ],
            [
             0.8888888888888888,
             "#fdca26"
            ],
            [
             1,
             "#f0f921"
            ]
           ],
           "sequentialminus": [
            [
             0,
             "#0d0887"
            ],
            [
             0.1111111111111111,
             "#46039f"
            ],
            [
             0.2222222222222222,
             "#7201a8"
            ],
            [
             0.3333333333333333,
             "#9c179e"
            ],
            [
             0.4444444444444444,
             "#bd3786"
            ],
            [
             0.5555555555555556,
             "#d8576b"
            ],
            [
             0.6666666666666666,
             "#ed7953"
            ],
            [
             0.7777777777777778,
             "#fb9f3a"
            ],
            [
             0.8888888888888888,
             "#fdca26"
            ],
            [
             1,
             "#f0f921"
            ]
           ]
          },
          "colorway": [
           "#636efa",
           "#EF553B",
           "#00cc96",
           "#ab63fa",
           "#FFA15A",
           "#19d3f3",
           "#FF6692",
           "#B6E880",
           "#FF97FF",
           "#FECB52"
          ],
          "font": {
           "color": "#2a3f5f"
          },
          "geo": {
           "bgcolor": "white",
           "lakecolor": "white",
           "landcolor": "#E5ECF6",
           "showlakes": true,
           "showland": true,
           "subunitcolor": "white"
          },
          "hoverlabel": {
           "align": "left"
          },
          "hovermode": "closest",
          "mapbox": {
           "style": "light"
          },
          "paper_bgcolor": "white",
          "plot_bgcolor": "#E5ECF6",
          "polar": {
           "angularaxis": {
            "gridcolor": "white",
            "linecolor": "white",
            "ticks": ""
           },
           "bgcolor": "#E5ECF6",
           "radialaxis": {
            "gridcolor": "white",
            "linecolor": "white",
            "ticks": ""
           }
          },
          "scene": {
           "xaxis": {
            "backgroundcolor": "#E5ECF6",
            "gridcolor": "white",
            "gridwidth": 2,
            "linecolor": "white",
            "showbackground": true,
            "ticks": "",
            "zerolinecolor": "white"
           },
           "yaxis": {
            "backgroundcolor": "#E5ECF6",
            "gridcolor": "white",
            "gridwidth": 2,
            "linecolor": "white",
            "showbackground": true,
            "ticks": "",
            "zerolinecolor": "white"
           },
           "zaxis": {
            "backgroundcolor": "#E5ECF6",
            "gridcolor": "white",
            "gridwidth": 2,
            "linecolor": "white",
            "showbackground": true,
            "ticks": "",
            "zerolinecolor": "white"
           }
          },
          "shapedefaults": {
           "line": {
            "color": "#2a3f5f"
           }
          },
          "ternary": {
           "aaxis": {
            "gridcolor": "white",
            "linecolor": "white",
            "ticks": ""
           },
           "baxis": {
            "gridcolor": "white",
            "linecolor": "white",
            "ticks": ""
           },
           "bgcolor": "#E5ECF6",
           "caxis": {
            "gridcolor": "white",
            "linecolor": "white",
            "ticks": ""
           }
          },
          "title": {
           "x": 0.05
          },
          "xaxis": {
           "automargin": true,
           "gridcolor": "white",
           "linecolor": "white",
           "ticks": "",
           "title": {
            "standoff": 15
           },
           "zerolinecolor": "white",
           "zerolinewidth": 2
          },
          "yaxis": {
           "automargin": true,
           "gridcolor": "white",
           "linecolor": "white",
           "ticks": "",
           "title": {
            "standoff": 15
           },
           "zerolinecolor": "white",
           "zerolinewidth": 2
          }
         }
        },
        "title": {
         "font": {
          "color": "#444",
          "family": "Lato, sans-serif",
          "size": 29
         },
         "text": "Average Sales: Store Type Vs Holiday Type"
        },
        "xaxis": {
         "anchor": "y",
         "domain": [
          0,
          1
         ],
         "title": {
          "text": ""
         }
        },
        "yaxis": {
         "anchor": "x",
         "domain": [
          0,
          1
         ],
         "ticksuffix": "  ",
         "title": {
          "text": ""
         }
        }
       }
      },
      "text/html": [
       "<div>                            <div id=\"e6e08e32-3f19-43e3-8ab6-75c87b1ba047\" class=\"plotly-graph-div\" style=\"height:400px; width:100%;\"></div>            <script type=\"text/javascript\">                require([\"plotly\"], function(Plotly) {                    window.PLOTLYENV=window.PLOTLYENV || {};                                    if (document.getElementById(\"e6e08e32-3f19-43e3-8ab6-75c87b1ba047\")) {                    Plotly.newPlot(                        \"e6e08e32-3f19-43e3-8ab6-75c87b1ba047\",                        [{\"hovertemplate\":\"store_type=%{x}<br>holiday_type=%{y}<br>sales=%{marker.color}<extra></extra>\",\"legendgroup\":\"\",\"marker\":{\"color\":[957.7,969.82,813.56,723.28,984.63,803.76,445.09,355.83,409.93,332.5,426.55,292.56,267.19,239.88,233.7,193.95,226.69,202.48,480.45,428.37,416.99,344.35,448.08,371.9,374.02,310.13,343.21,269.56,379.7,197.67],\"coloraxis\":\"coloraxis\",\"size\":[957.7,969.82,813.56,723.28,984.63,803.76,445.09,355.83,409.93,332.5,426.55,292.56,267.19,239.88,233.7,193.95,226.69,202.48,480.45,428.37,416.99,344.35,448.08,371.9,374.02,310.13,343.21,269.56,379.7,197.67],\"sizemode\":\"area\",\"sizeref\":2.461575,\"symbol\":\"circle\"},\"mode\":\"markers\",\"name\":\"\",\"orientation\":\"v\",\"showlegend\":false,\"x\":[\"A\",\"A\",\"A\",\"A\",\"A\",\"A\",\"B\",\"B\",\"B\",\"B\",\"B\",\"B\",\"C\",\"C\",\"C\",\"C\",\"C\",\"C\",\"D\",\"D\",\"D\",\"D\",\"D\",\"D\",\"E\",\"E\",\"E\",\"E\",\"E\",\"E\"],\"xaxis\":\"x\",\"y\":[\"Additional\",\"Bridge\",\"Event\",\"Holiday\",\"Transfer\",\"Work Day\",\"Additional\",\"Bridge\",\"Event\",\"Holiday\",\"Transfer\",\"Work Day\",\"Additional\",\"Bridge\",\"Event\",\"Holiday\",\"Transfer\",\"Work Day\",\"Additional\",\"Bridge\",\"Event\",\"Holiday\",\"Transfer\",\"Work Day\",\"Additional\",\"Bridge\",\"Event\",\"Holiday\",\"Transfer\",\"Work Day\"],\"yaxis\":\"y\",\"type\":\"scatter\"}],                        {\"template\":{\"data\":{\"bar\":[{\"error_x\":{\"color\":\"#2a3f5f\"},\"error_y\":{\"color\":\"#2a3f5f\"},\"marker\":{\"line\":{\"color\":\"#E5ECF6\",\"width\":0.5},\"pattern\":{\"fillmode\":\"overlay\",\"size\":10,\"solidity\":0.2}},\"type\":\"bar\"}],\"barpolar\":[{\"marker\":{\"line\":{\"color\":\"#E5ECF6\",\"width\":0.5},\"pattern\":{\"fillmode\":\"overlay\",\"size\":10,\"solidity\":0.2}},\"type\":\"barpolar\"}],\"carpet\":[{\"aaxis\":{\"endlinecolor\":\"#2a3f5f\",\"gridcolor\":\"white\",\"linecolor\":\"white\",\"minorgridcolor\":\"white\",\"startlinecolor\":\"#2a3f5f\"},\"baxis\":{\"endlinecolor\":\"#2a3f5f\",\"gridcolor\":\"white\",\"linecolor\":\"white\",\"minorgridcolor\":\"white\",\"startlinecolor\":\"#2a3f5f\"},\"type\":\"carpet\"}],\"choropleth\":[{\"colorbar\":{\"outlinewidth\":0,\"ticks\":\"\"},\"type\":\"choropleth\"}],\"contour\":[{\"colorbar\":{\"outlinewidth\":0,\"ticks\":\"\"},\"colorscale\":[[0.0,\"#0d0887\"],[0.1111111111111111,\"#46039f\"],[0.2222222222222222,\"#7201a8\"],[0.3333333333333333,\"#9c179e\"],[0.4444444444444444,\"#bd3786\"],[0.5555555555555556,\"#d8576b\"],[0.6666666666666666,\"#ed7953\"],[0.7777777777777778,\"#fb9f3a\"],[0.8888888888888888,\"#fdca26\"],[1.0,\"#f0f921\"]],\"type\":\"contour\"}],\"contourcarpet\":[{\"colorbar\":{\"outlinewidth\":0,\"ticks\":\"\"},\"type\":\"contourcarpet\"}],\"heatmap\":[{\"colorbar\":{\"outlinewidth\":0,\"ticks\":\"\"},\"colorscale\":[[0.0,\"#0d0887\"],[0.1111111111111111,\"#46039f\"],[0.2222222222222222,\"#7201a8\"],[0.3333333333333333,\"#9c179e\"],[0.4444444444444444,\"#bd3786\"],[0.5555555555555556,\"#d8576b\"],[0.6666666666666666,\"#ed7953\"],[0.7777777777777778,\"#fb9f3a\"],[0.8888888888888888,\"#fdca26\"],[1.0,\"#f0f921\"]],\"type\":\"heatmap\"}],\"heatmapgl\":[{\"colorbar\":{\"outlinewidth\":0,\"ticks\":\"\"},\"colorscale\":[[0.0,\"#0d0887\"],[0.1111111111111111,\"#46039f\"],[0.2222222222222222,\"#7201a8\"],[0.3333333333333333,\"#9c179e\"],[0.4444444444444444,\"#bd3786\"],[0.5555555555555556,\"#d8576b\"],[0.6666666666666666,\"#ed7953\"],[0.7777777777777778,\"#fb9f3a\"],[0.8888888888888888,\"#fdca26\"],[1.0,\"#f0f921\"]],\"type\":\"heatmapgl\"}],\"histogram\":[{\"marker\":{\"pattern\":{\"fillmode\":\"overlay\",\"size\":10,\"solidity\":0.2}},\"type\":\"histogram\"}],\"histogram2d\":[{\"colorbar\":{\"outlinewidth\":0,\"ticks\":\"\"},\"colorscale\":[[0.0,\"#0d0887\"],[0.1111111111111111,\"#46039f\"],[0.2222222222222222,\"#7201a8\"],[0.3333333333333333,\"#9c179e\"],[0.4444444444444444,\"#bd3786\"],[0.5555555555555556,\"#d8576b\"],[0.6666666666666666,\"#ed7953\"],[0.7777777777777778,\"#fb9f3a\"],[0.8888888888888888,\"#fdca26\"],[1.0,\"#f0f921\"]],\"type\":\"histogram2d\"}],\"histogram2dcontour\":[{\"colorbar\":{\"outlinewidth\":0,\"ticks\":\"\"},\"colorscale\":[[0.0,\"#0d0887\"],[0.1111111111111111,\"#46039f\"],[0.2222222222222222,\"#7201a8\"],[0.3333333333333333,\"#9c179e\"],[0.4444444444444444,\"#bd3786\"],[0.5555555555555556,\"#d8576b\"],[0.6666666666666666,\"#ed7953\"],[0.7777777777777778,\"#fb9f3a\"],[0.8888888888888888,\"#fdca26\"],[1.0,\"#f0f921\"]],\"type\":\"histogram2dcontour\"}],\"mesh3d\":[{\"colorbar\":{\"outlinewidth\":0,\"ticks\":\"\"},\"type\":\"mesh3d\"}],\"parcoords\":[{\"line\":{\"colorbar\":{\"outlinewidth\":0,\"ticks\":\"\"}},\"type\":\"parcoords\"}],\"pie\":[{\"automargin\":true,\"type\":\"pie\"}],\"scatter\":[{\"marker\":{\"colorbar\":{\"outlinewidth\":0,\"ticks\":\"\"}},\"type\":\"scatter\"}],\"scatter3d\":[{\"line\":{\"colorbar\":{\"outlinewidth\":0,\"ticks\":\"\"}},\"marker\":{\"colorbar\":{\"outlinewidth\":0,\"ticks\":\"\"}},\"type\":\"scatter3d\"}],\"scattercarpet\":[{\"marker\":{\"colorbar\":{\"outlinewidth\":0,\"ticks\":\"\"}},\"type\":\"scattercarpet\"}],\"scattergeo\":[{\"marker\":{\"colorbar\":{\"outlinewidth\":0,\"ticks\":\"\"}},\"type\":\"scattergeo\"}],\"scattergl\":[{\"marker\":{\"colorbar\":{\"outlinewidth\":0,\"ticks\":\"\"}},\"type\":\"scattergl\"}],\"scattermapbox\":[{\"marker\":{\"colorbar\":{\"outlinewidth\":0,\"ticks\":\"\"}},\"type\":\"scattermapbox\"}],\"scatterpolar\":[{\"marker\":{\"colorbar\":{\"outlinewidth\":0,\"ticks\":\"\"}},\"type\":\"scatterpolar\"}],\"scatterpolargl\":[{\"marker\":{\"colorbar\":{\"outlinewidth\":0,\"ticks\":\"\"}},\"type\":\"scatterpolargl\"}],\"scatterternary\":[{\"marker\":{\"colorbar\":{\"outlinewidth\":0,\"ticks\":\"\"}},\"type\":\"scatterternary\"}],\"surface\":[{\"colorbar\":{\"outlinewidth\":0,\"ticks\":\"\"},\"colorscale\":[[0.0,\"#0d0887\"],[0.1111111111111111,\"#46039f\"],[0.2222222222222222,\"#7201a8\"],[0.3333333333333333,\"#9c179e\"],[0.4444444444444444,\"#bd3786\"],[0.5555555555555556,\"#d8576b\"],[0.6666666666666666,\"#ed7953\"],[0.7777777777777778,\"#fb9f3a\"],[0.8888888888888888,\"#fdca26\"],[1.0,\"#f0f921\"]],\"type\":\"surface\"}],\"table\":[{\"cells\":{\"fill\":{\"color\":\"#EBF0F8\"},\"line\":{\"color\":\"white\"}},\"header\":{\"fill\":{\"color\":\"#C8D4E3\"},\"line\":{\"color\":\"white\"}},\"type\":\"table\"}]},\"layout\":{\"annotationdefaults\":{\"arrowcolor\":\"#2a3f5f\",\"arrowhead\":0,\"arrowwidth\":1},\"autotypenumbers\":\"strict\",\"coloraxis\":{\"colorbar\":{\"outlinewidth\":0,\"ticks\":\"\"}},\"colorscale\":{\"diverging\":[[0,\"#8e0152\"],[0.1,\"#c51b7d\"],[0.2,\"#de77ae\"],[0.3,\"#f1b6da\"],[0.4,\"#fde0ef\"],[0.5,\"#f7f7f7\"],[0.6,\"#e6f5d0\"],[0.7,\"#b8e186\"],[0.8,\"#7fbc41\"],[0.9,\"#4d9221\"],[1,\"#276419\"]],\"sequential\":[[0.0,\"#0d0887\"],[0.1111111111111111,\"#46039f\"],[0.2222222222222222,\"#7201a8\"],[0.3333333333333333,\"#9c179e\"],[0.4444444444444444,\"#bd3786\"],[0.5555555555555556,\"#d8576b\"],[0.6666666666666666,\"#ed7953\"],[0.7777777777777778,\"#fb9f3a\"],[0.8888888888888888,\"#fdca26\"],[1.0,\"#f0f921\"]],\"sequentialminus\":[[0.0,\"#0d0887\"],[0.1111111111111111,\"#46039f\"],[0.2222222222222222,\"#7201a8\"],[0.3333333333333333,\"#9c179e\"],[0.4444444444444444,\"#bd3786\"],[0.5555555555555556,\"#d8576b\"],[0.6666666666666666,\"#ed7953\"],[0.7777777777777778,\"#fb9f3a\"],[0.8888888888888888,\"#fdca26\"],[1.0,\"#f0f921\"]]},\"colorway\":[\"#636efa\",\"#EF553B\",\"#00cc96\",\"#ab63fa\",\"#FFA15A\",\"#19d3f3\",\"#FF6692\",\"#B6E880\",\"#FF97FF\",\"#FECB52\"],\"font\":{\"color\":\"#2a3f5f\"},\"geo\":{\"bgcolor\":\"white\",\"lakecolor\":\"white\",\"landcolor\":\"#E5ECF6\",\"showlakes\":true,\"showland\":true,\"subunitcolor\":\"white\"},\"hoverlabel\":{\"align\":\"left\"},\"hovermode\":\"closest\",\"mapbox\":{\"style\":\"light\"},\"paper_bgcolor\":\"white\",\"plot_bgcolor\":\"#E5ECF6\",\"polar\":{\"angularaxis\":{\"gridcolor\":\"white\",\"linecolor\":\"white\",\"ticks\":\"\"},\"bgcolor\":\"#E5ECF6\",\"radialaxis\":{\"gridcolor\":\"white\",\"linecolor\":\"white\",\"ticks\":\"\"}},\"scene\":{\"xaxis\":{\"backgroundcolor\":\"#E5ECF6\",\"gridcolor\":\"white\",\"gridwidth\":2,\"linecolor\":\"white\",\"showbackground\":true,\"ticks\":\"\",\"zerolinecolor\":\"white\"},\"yaxis\":{\"backgroundcolor\":\"#E5ECF6\",\"gridcolor\":\"white\",\"gridwidth\":2,\"linecolor\":\"white\",\"showbackground\":true,\"ticks\":\"\",\"zerolinecolor\":\"white\"},\"zaxis\":{\"backgroundcolor\":\"#E5ECF6\",\"gridcolor\":\"white\",\"gridwidth\":2,\"linecolor\":\"white\",\"showbackground\":true,\"ticks\":\"\",\"zerolinecolor\":\"white\"}},\"shapedefaults\":{\"line\":{\"color\":\"#2a3f5f\"}},\"ternary\":{\"aaxis\":{\"gridcolor\":\"white\",\"linecolor\":\"white\",\"ticks\":\"\"},\"baxis\":{\"gridcolor\":\"white\",\"linecolor\":\"white\",\"ticks\":\"\"},\"bgcolor\":\"#E5ECF6\",\"caxis\":{\"gridcolor\":\"white\",\"linecolor\":\"white\",\"ticks\":\"\"}},\"title\":{\"x\":0.05},\"xaxis\":{\"automargin\":true,\"gridcolor\":\"white\",\"linecolor\":\"white\",\"ticks\":\"\",\"title\":{\"standoff\":15},\"zerolinecolor\":\"white\",\"zerolinewidth\":2},\"yaxis\":{\"automargin\":true,\"gridcolor\":\"white\",\"linecolor\":\"white\",\"ticks\":\"\",\"title\":{\"standoff\":15},\"zerolinecolor\":\"white\",\"zerolinewidth\":2}}},\"xaxis\":{\"anchor\":\"y\",\"domain\":[0.0,1.0],\"title\":{\"text\":\"\"}},\"yaxis\":{\"anchor\":\"x\",\"domain\":[0.0,1.0],\"title\":{\"text\":\"\"},\"ticksuffix\":\"  \"},\"coloraxis\":{\"colorbar\":{\"title\":{\"text\":\"sales\"}},\"colorscale\":[[0.0,\"#0d0887\"],[0.1111111111111111,\"#46039f\"],[0.2222222222222222,\"#7201a8\"],[0.3333333333333333,\"#9c179e\"],[0.4444444444444444,\"#bd3786\"],[0.5555555555555556,\"#d8576b\"],[0.6666666666666666,\"#ed7953\"],[0.7777777777777778,\"#fb9f3a\"],[0.8888888888888888,\"#fdca26\"],[1.0,\"#f0f921\"]]},\"legend\":{\"tracegroupgap\":0,\"itemsizing\":\"constant\"},\"title\":{\"text\":\"Average Sales: Store Type Vs Holiday Type\",\"font\":{\"size\":29,\"color\":\"#444\",\"family\":\"Lato, sans-serif\"}},\"margin\":{\"b\":0},\"font\":{\"color\":\"#555\"},\"hoverlabel\":{\"font\":{\"size\":13,\"family\":\"Lato, sans-serif\"},\"bgcolor\":\"#f2f2f2\"},\"height\":400,\"plot_bgcolor\":\"#fafafa\",\"paper_bgcolor\":\"#fafafa\"},                        {\"responsive\": true}                    ).then(function(){\n",
       "                            \n",
       "var gd = document.getElementById('e6e08e32-3f19-43e3-8ab6-75c87b1ba047');\n",
       "var x = new MutationObserver(function (mutations, observer) {{\n",
       "        var display = window.getComputedStyle(gd).display;\n",
       "        if (!display || display === 'none') {{\n",
       "            console.log([gd, 'removed!']);\n",
       "            Plotly.purge(gd);\n",
       "            observer.disconnect();\n",
       "        }}\n",
       "}});\n",
       "\n",
       "// Listen for the removal of the full notebook cells\n",
       "var notebookContainer = gd.closest('#notebook-container');\n",
       "if (notebookContainer) {{\n",
       "    x.observe(notebookContainer, {childList: true});\n",
       "}}\n",
       "\n",
       "// Listen for the clearing of the current output cell\n",
       "var outputEl = gd.closest('.output');\n",
       "if (outputEl) {{\n",
       "    x.observe(outputEl, {childList: true});\n",
       "}}\n",
       "\n",
       "                        })                };                });            </script>        </div>"
      ]
     },
     "metadata": {},
     "output_type": "display_data"
    }
   ],
   "source": [
    "# data\n",
    "df_st_ht = df_train1.groupby(['store_type','holiday_type']).agg({\"sales\" : \"mean\"}).reset_index()\n",
    "df_st_ht['sales'] = round(df_st_ht['sales'], 2)\n",
    "\n",
    "# chart\n",
    "fig = px.scatter(df_st_ht, x='store_type', color='sales', y='holiday_type', size='sales',\n",
    "                 color_discrete_sequence=px.colors.qualitative.D3,\n",
    "                 title=\"Average Sales: Store Type Vs Holiday Type\")\n",
    "# styling\n",
    "fig.update_yaxes(ticksuffix='  ')\n",
    "fig.update_layout(height=400, xaxis_title='', yaxis_title='',\n",
    "                  margin=dict(b=0),\n",
    "                  plot_bgcolor='#fafafa', paper_bgcolor='#fafafa',\n",
    "                  title_font=dict(size=29, color='#444', family=\"Lato, sans-serif\"),\n",
    "                  font=dict(color='#555'), \n",
    "                  hoverlabel=dict(bgcolor=\"#f2f2f2\", font_size=13, font_family=\"Lato, sans-serif\"))\n",
    "fig.show()"
   ]
  },
  {
   "cell_type": "code",
   "execution_count": 10,
   "metadata": {},
   "outputs": [
    {
     "data": {
      "application/vnd.plotly.v1+json": {
       "config": {
        "plotlyServerURL": "https://plotly.com"
       },
       "data": [
        {
         "hovertemplate": "year=2013<br>month=%{x}<br>store_type=%{y}<br>sales=%{marker.color}<extra></extra>",
         "legendgroup": "",
         "marker": {
          "color": [
           392.85,
           155.11,
           109.06,
           191.16,
           60.52,
           396.04,
           167.35,
           116.52,
           195.3,
           71.79,
           424.98,
           183.75,
           122.69,
           207.38,
           75.89,
           411.88,
           193.39,
           125.99,
           202.36,
           79.52,
           414.28,
           186.83,
           129.43,
           203.52,
           130.5,
           422.57,
           189.84,
           133.83,
           210.07,
           134.2,
           395.04,
           182.59,
           123.61,
           202,
           127.19,
           406.72,
           192.27,
           135.41,
           203.35,
           145.96,
           439.66,
           197.55,
           133.87,
           212.23,
           136.64,
           419.19,
           194.03,
           129.85,
           206.18,
           131.77,
           471.99,
           204.3,
           137.69,
           221.59,
           136.3,
           628.7,
           263.25,
           165.61,
           286.3,
           181.66
          ],
          "coloraxis": "coloraxis",
          "size": [
           392.85,
           155.11,
           109.06,
           191.16,
           60.52,
           396.04,
           167.35,
           116.52,
           195.3,
           71.79,
           424.98,
           183.75,
           122.69,
           207.38,
           75.89,
           411.88,
           193.39,
           125.99,
           202.36,
           79.52,
           414.28,
           186.83,
           129.43,
           203.52,
           130.5,
           422.57,
           189.84,
           133.83,
           210.07,
           134.2,
           395.04,
           182.59,
           123.61,
           202,
           127.19,
           406.72,
           192.27,
           135.41,
           203.35,
           145.96,
           439.66,
           197.55,
           133.87,
           212.23,
           136.64,
           419.19,
           194.03,
           129.85,
           206.18,
           131.77,
           471.99,
           204.3,
           137.69,
           221.59,
           136.3,
           628.7,
           263.25,
           165.61,
           286.3,
           181.66
          ],
          "sizemode": "area",
          "sizeref": 2.725275,
          "symbol": "circle"
         },
         "mode": "markers",
         "name": "",
         "orientation": "h",
         "showlegend": false,
         "type": "scatter",
         "x": [
          1,
          1,
          1,
          1,
          1,
          2,
          2,
          2,
          2,
          2,
          3,
          3,
          3,
          3,
          3,
          4,
          4,
          4,
          4,
          4,
          5,
          5,
          5,
          5,
          5,
          6,
          6,
          6,
          6,
          6,
          7,
          7,
          7,
          7,
          7,
          8,
          8,
          8,
          8,
          8,
          9,
          9,
          9,
          9,
          9,
          10,
          10,
          10,
          10,
          10,
          11,
          11,
          11,
          11,
          11,
          12,
          12,
          12,
          12,
          12
         ],
         "xaxis": "x5",
         "y": [
          "A",
          "B",
          "C",
          "D",
          "E",
          "A",
          "B",
          "C",
          "D",
          "E",
          "A",
          "B",
          "C",
          "D",
          "E",
          "A",
          "B",
          "C",
          "D",
          "E",
          "A",
          "B",
          "C",
          "D",
          "E",
          "A",
          "B",
          "C",
          "D",
          "E",
          "A",
          "B",
          "C",
          "D",
          "E",
          "A",
          "B",
          "C",
          "D",
          "E",
          "A",
          "B",
          "C",
          "D",
          "E",
          "A",
          "B",
          "C",
          "D",
          "E",
          "A",
          "B",
          "C",
          "D",
          "E",
          "A",
          "B",
          "C",
          "D",
          "E"
         ],
         "yaxis": "y5"
        },
        {
         "hovertemplate": "year=2014<br>month=%{x}<br>store_type=%{y}<br>sales=%{marker.color}<extra></extra>",
         "legendgroup": "",
         "marker": {
          "color": [
           718.51,
           264.35,
           179.45,
           356.85,
           197.52,
           479.7,
           213.49,
           145.95,
           232.31,
           158.08,
           770.83,
           297.01,
           195.6,
           375.19,
           226.68,
           497.61,
           212.83,
           142.33,
           226.01,
           151.74,
           506.39,
           213.78,
           148.49,
           219.05,
           160.24,
           502.78,
           210.45,
           147.07,
           230.19,
           163.05,
           730.62,
           281.77,
           195.99,
           347.68,
           229.26,
           512.86,
           220.15,
           142.36,
           242.23,
           175.12,
           781.92,
           298.07,
           199.2,
           384.71,
           222.5,
           766.21,
           290.94,
           196.82,
           381.31,
           224.57,
           803.59,
           300.52,
           209.48,
           389.59,
           236.93,
           956.89,
           365.72,
           247.6,
           467.75,
           289.73
          ],
          "coloraxis": "coloraxis",
          "size": [
           718.51,
           264.35,
           179.45,
           356.85,
           197.52,
           479.7,
           213.49,
           145.95,
           232.31,
           158.08,
           770.83,
           297.01,
           195.6,
           375.19,
           226.68,
           497.61,
           212.83,
           142.33,
           226.01,
           151.74,
           506.39,
           213.78,
           148.49,
           219.05,
           160.24,
           502.78,
           210.45,
           147.07,
           230.19,
           163.05,
           730.62,
           281.77,
           195.99,
           347.68,
           229.26,
           512.86,
           220.15,
           142.36,
           242.23,
           175.12,
           781.92,
           298.07,
           199.2,
           384.71,
           222.5,
           766.21,
           290.94,
           196.82,
           381.31,
           224.57,
           803.59,
           300.52,
           209.48,
           389.59,
           236.93,
           956.89,
           365.72,
           247.6,
           467.75,
           289.73
          ],
          "sizemode": "area",
          "sizeref": 2.725275,
          "symbol": "circle"
         },
         "mode": "markers",
         "name": "",
         "orientation": "h",
         "showlegend": false,
         "type": "scatter",
         "x": [
          1,
          1,
          1,
          1,
          1,
          2,
          2,
          2,
          2,
          2,
          3,
          3,
          3,
          3,
          3,
          4,
          4,
          4,
          4,
          4,
          5,
          5,
          5,
          5,
          5,
          6,
          6,
          6,
          6,
          6,
          7,
          7,
          7,
          7,
          7,
          8,
          8,
          8,
          8,
          8,
          9,
          9,
          9,
          9,
          9,
          10,
          10,
          10,
          10,
          10,
          11,
          11,
          11,
          11,
          11,
          12,
          12,
          12,
          12,
          12
         ],
         "xaxis": "x4",
         "y": [
          "A",
          "B",
          "C",
          "D",
          "E",
          "A",
          "B",
          "C",
          "D",
          "E",
          "A",
          "B",
          "C",
          "D",
          "E",
          "A",
          "B",
          "C",
          "D",
          "E",
          "A",
          "B",
          "C",
          "D",
          "E",
          "A",
          "B",
          "C",
          "D",
          "E",
          "A",
          "B",
          "C",
          "D",
          "E",
          "A",
          "B",
          "C",
          "D",
          "E",
          "A",
          "B",
          "C",
          "D",
          "E",
          "A",
          "B",
          "C",
          "D",
          "E",
          "A",
          "B",
          "C",
          "D",
          "E",
          "A",
          "B",
          "C",
          "D",
          "E"
         ],
         "yaxis": "y4"
        },
        {
         "hovertemplate": "year=2015<br>month=%{x}<br>store_type=%{y}<br>sales=%{marker.color}<extra></extra>",
         "legendgroup": "",
         "marker": {
          "color": [
           543.96,
           221.59,
           160.54,
           263.05,
           187.67,
           526.49,
           261.3,
           169.07,
           261.27,
           201.22,
           541.28,
           272.36,
           165.25,
           267.64,
           225.32,
           536.51,
           272.39,
           161.84,
           260.94,
           243.46,
           624.45,
           304.09,
           186.75,
           297.23,
           281.88,
           781.05,
           342.59,
           217.6,
           395.66,
           323.85,
           785.11,
           363.82,
           217.38,
           399.58,
           333.47,
           798.94,
           412.27,
           221.59,
           401.02,
           354.15,
           827.73,
           424.08,
           228.11,
           426.25,
           384.79,
           821.08,
           413.63,
           232.24,
           424.89,
           377.78,
           840.25,
           399.13,
           223.49,
           423.62,
           325.63,
           996.98,
           488.73,
           271.05,
           511.33,
           398.84
          ],
          "coloraxis": "coloraxis",
          "size": [
           543.96,
           221.59,
           160.54,
           263.05,
           187.67,
           526.49,
           261.3,
           169.07,
           261.27,
           201.22,
           541.28,
           272.36,
           165.25,
           267.64,
           225.32,
           536.51,
           272.39,
           161.84,
           260.94,
           243.46,
           624.45,
           304.09,
           186.75,
           297.23,
           281.88,
           781.05,
           342.59,
           217.6,
           395.66,
           323.85,
           785.11,
           363.82,
           217.38,
           399.58,
           333.47,
           798.94,
           412.27,
           221.59,
           401.02,
           354.15,
           827.73,
           424.08,
           228.11,
           426.25,
           384.79,
           821.08,
           413.63,
           232.24,
           424.89,
           377.78,
           840.25,
           399.13,
           223.49,
           423.62,
           325.63,
           996.98,
           488.73,
           271.05,
           511.33,
           398.84
          ],
          "sizemode": "area",
          "sizeref": 2.725275,
          "symbol": "circle"
         },
         "mode": "markers",
         "name": "",
         "orientation": "h",
         "showlegend": false,
         "type": "scatter",
         "x": [
          1,
          1,
          1,
          1,
          1,
          2,
          2,
          2,
          2,
          2,
          3,
          3,
          3,
          3,
          3,
          4,
          4,
          4,
          4,
          4,
          5,
          5,
          5,
          5,
          5,
          6,
          6,
          6,
          6,
          6,
          7,
          7,
          7,
          7,
          7,
          8,
          8,
          8,
          8,
          8,
          9,
          9,
          9,
          9,
          9,
          10,
          10,
          10,
          10,
          10,
          11,
          11,
          11,
          11,
          11,
          12,
          12,
          12,
          12,
          12
         ],
         "xaxis": "x3",
         "y": [
          "A",
          "B",
          "C",
          "D",
          "E",
          "A",
          "B",
          "C",
          "D",
          "E",
          "A",
          "B",
          "C",
          "D",
          "E",
          "A",
          "B",
          "C",
          "D",
          "E",
          "A",
          "B",
          "C",
          "D",
          "E",
          "A",
          "B",
          "C",
          "D",
          "E",
          "A",
          "B",
          "C",
          "D",
          "E",
          "A",
          "B",
          "C",
          "D",
          "E",
          "A",
          "B",
          "C",
          "D",
          "E",
          "A",
          "B",
          "C",
          "D",
          "E",
          "A",
          "B",
          "C",
          "D",
          "E",
          "A",
          "B",
          "C",
          "D",
          "E"
         ],
         "yaxis": "y3"
        },
        {
         "hovertemplate": "year=2016<br>month=%{x}<br>store_type=%{y}<br>sales=%{marker.color}<extra></extra>",
         "legendgroup": "",
         "marker": {
          "color": [
           846.38,
           406.17,
           228.57,
           432.65,
           338.89,
           804.39,
           409.16,
           229.04,
           424.84,
           334.51,
           784.79,
           404.25,
           228.04,
           418.13,
           341.91,
           912.34,
           506.57,
           264.56,
           472.58,
           404.89,
           852.73,
           449.87,
           247.28,
           457.75,
           373.01,
           777.18,
           403.04,
           223.76,
           430.13,
           335.8,
           808.6,
           424.44,
           230.85,
           429.97,
           370.82,
           761.15,
           379.11,
           224.5,
           402.69,
           362.13,
           818.1,
           377.43,
           233.43,
           408.23,
           353.01,
           853.67,
           398.61,
           236.66,
           425.78,
           351.09,
           935.08,
           390.61,
           243.44,
           467.31,
           348.43,
           1090.11,
           526.46,
           292.31,
           543.02,
           475.64
          ],
          "coloraxis": "coloraxis",
          "size": [
           846.38,
           406.17,
           228.57,
           432.65,
           338.89,
           804.39,
           409.16,
           229.04,
           424.84,
           334.51,
           784.79,
           404.25,
           228.04,
           418.13,
           341.91,
           912.34,
           506.57,
           264.56,
           472.58,
           404.89,
           852.73,
           449.87,
           247.28,
           457.75,
           373.01,
           777.18,
           403.04,
           223.76,
           430.13,
           335.8,
           808.6,
           424.44,
           230.85,
           429.97,
           370.82,
           761.15,
           379.11,
           224.5,
           402.69,
           362.13,
           818.1,
           377.43,
           233.43,
           408.23,
           353.01,
           853.67,
           398.61,
           236.66,
           425.78,
           351.09,
           935.08,
           390.61,
           243.44,
           467.31,
           348.43,
           1090.11,
           526.46,
           292.31,
           543.02,
           475.64
          ],
          "sizemode": "area",
          "sizeref": 2.725275,
          "symbol": "circle"
         },
         "mode": "markers",
         "name": "",
         "orientation": "h",
         "showlegend": false,
         "type": "scatter",
         "x": [
          1,
          1,
          1,
          1,
          1,
          2,
          2,
          2,
          2,
          2,
          3,
          3,
          3,
          3,
          3,
          4,
          4,
          4,
          4,
          4,
          5,
          5,
          5,
          5,
          5,
          6,
          6,
          6,
          6,
          6,
          7,
          7,
          7,
          7,
          7,
          8,
          8,
          8,
          8,
          8,
          9,
          9,
          9,
          9,
          9,
          10,
          10,
          10,
          10,
          10,
          11,
          11,
          11,
          11,
          11,
          12,
          12,
          12,
          12,
          12
         ],
         "xaxis": "x2",
         "y": [
          "A",
          "B",
          "C",
          "D",
          "E",
          "A",
          "B",
          "C",
          "D",
          "E",
          "A",
          "B",
          "C",
          "D",
          "E",
          "A",
          "B",
          "C",
          "D",
          "E",
          "A",
          "B",
          "C",
          "D",
          "E",
          "A",
          "B",
          "C",
          "D",
          "E",
          "A",
          "B",
          "C",
          "D",
          "E",
          "A",
          "B",
          "C",
          "D",
          "E",
          "A",
          "B",
          "C",
          "D",
          "E",
          "A",
          "B",
          "C",
          "D",
          "E",
          "A",
          "B",
          "C",
          "D",
          "E",
          "A",
          "B",
          "C",
          "D",
          "E"
         ],
         "yaxis": "y2"
        },
        {
         "hovertemplate": "year=2017<br>month=%{x}<br>store_type=%{y}<br>sales=%{marker.color}<extra></extra>",
         "legendgroup": "",
         "marker": {
          "color": [
           938.64,
           444.44,
           240.99,
           474.84,
           392.76,
           895.29,
           442.97,
           242.01,
           461.74,
           404.89,
           937.18,
           457.9,
           250.52,
           481.72,
           394.23,
           933.45,
           484.27,
           259.8,
           455.47,
           416.7,
           976.5,
           459.54,
           264.03,
           456.94,
           414.19,
           992.29,
           455.54,
           254.46,
           464.85,
           407.74,
           989.31,
           466.35,
           261.36,
           455.62,
           424.75,
           903.08,
           473.74,
           265.4,
           411.97,
           450.97
          ],
          "coloraxis": "coloraxis",
          "size": [
           938.64,
           444.44,
           240.99,
           474.84,
           392.76,
           895.29,
           442.97,
           242.01,
           461.74,
           404.89,
           937.18,
           457.9,
           250.52,
           481.72,
           394.23,
           933.45,
           484.27,
           259.8,
           455.47,
           416.7,
           976.5,
           459.54,
           264.03,
           456.94,
           414.19,
           992.29,
           455.54,
           254.46,
           464.85,
           407.74,
           989.31,
           466.35,
           261.36,
           455.62,
           424.75,
           903.08,
           473.74,
           265.4,
           411.97,
           450.97
          ],
          "sizemode": "area",
          "sizeref": 2.725275,
          "symbol": "circle"
         },
         "mode": "markers",
         "name": "",
         "orientation": "h",
         "showlegend": false,
         "type": "scatter",
         "x": [
          1,
          1,
          1,
          1,
          1,
          2,
          2,
          2,
          2,
          2,
          3,
          3,
          3,
          3,
          3,
          4,
          4,
          4,
          4,
          4,
          5,
          5,
          5,
          5,
          5,
          6,
          6,
          6,
          6,
          6,
          7,
          7,
          7,
          7,
          7,
          8,
          8,
          8,
          8,
          8
         ],
         "xaxis": "x",
         "y": [
          "A",
          "B",
          "C",
          "D",
          "E",
          "A",
          "B",
          "C",
          "D",
          "E",
          "A",
          "B",
          "C",
          "D",
          "E",
          "A",
          "B",
          "C",
          "D",
          "E",
          "A",
          "B",
          "C",
          "D",
          "E",
          "A",
          "B",
          "C",
          "D",
          "E",
          "A",
          "B",
          "C",
          "D",
          "E",
          "A",
          "B",
          "C",
          "D",
          "E"
         ],
         "yaxis": "y"
        }
       ],
       "layout": {
        "annotations": [
         {
          "font": {},
          "showarrow": false,
          "text": "year=2017",
          "textangle": 90,
          "x": 0.98,
          "xanchor": "left",
          "xref": "paper",
          "y": 0.08800000000000001,
          "yanchor": "middle",
          "yref": "paper"
         },
         {
          "font": {},
          "showarrow": false,
          "text": "year=2016",
          "textangle": 90,
          "x": 0.98,
          "xanchor": "left",
          "xref": "paper",
          "y": 0.29400000000000004,
          "yanchor": "middle",
          "yref": "paper"
         },
         {
          "font": {},
          "showarrow": false,
          "text": "year=2015",
          "textangle": 90,
          "x": 0.98,
          "xanchor": "left",
          "xref": "paper",
          "y": 0.5,
          "yanchor": "middle",
          "yref": "paper"
         },
         {
          "font": {},
          "showarrow": false,
          "text": "year=2014",
          "textangle": 90,
          "x": 0.98,
          "xanchor": "left",
          "xref": "paper",
          "y": 0.706,
          "yanchor": "middle",
          "yref": "paper"
         },
         {
          "font": {},
          "showarrow": false,
          "text": "year=2013",
          "textangle": 90,
          "x": 0.98,
          "xanchor": "left",
          "xref": "paper",
          "y": 0.912,
          "yanchor": "middle",
          "yref": "paper"
         }
        ],
        "coloraxis": {
         "colorbar": {
          "title": {
           "text": "sales"
          }
         },
         "colorscale": [
          [
           0,
           "#0d0887"
          ],
          [
           0.1111111111111111,
           "#46039f"
          ],
          [
           0.2222222222222222,
           "#7201a8"
          ],
          [
           0.3333333333333333,
           "#9c179e"
          ],
          [
           0.4444444444444444,
           "#bd3786"
          ],
          [
           0.5555555555555556,
           "#d8576b"
          ],
          [
           0.6666666666666666,
           "#ed7953"
          ],
          [
           0.7777777777777778,
           "#fb9f3a"
          ],
          [
           0.8888888888888888,
           "#fdca26"
          ],
          [
           1,
           "#f0f921"
          ]
         ]
        },
        "font": {
         "color": "#555"
        },
        "height": 900,
        "hoverlabel": {
         "bgcolor": "#f2f2f2",
         "font": {
          "family": "Lato, sans-serif",
          "size": 13
         }
        },
        "legend": {
         "itemsizing": "constant",
         "tracegroupgap": 0
        },
        "margin": {
         "b": 0,
         "t": 70
        },
        "paper_bgcolor": "#fafafa",
        "plot_bgcolor": "#fafafa",
        "template": {
         "data": {
          "bar": [
           {
            "error_x": {
             "color": "#2a3f5f"
            },
            "error_y": {
             "color": "#2a3f5f"
            },
            "marker": {
             "line": {
              "color": "#E5ECF6",
              "width": 0.5
             },
             "pattern": {
              "fillmode": "overlay",
              "size": 10,
              "solidity": 0.2
             }
            },
            "type": "bar"
           }
          ],
          "barpolar": [
           {
            "marker": {
             "line": {
              "color": "#E5ECF6",
              "width": 0.5
             },
             "pattern": {
              "fillmode": "overlay",
              "size": 10,
              "solidity": 0.2
             }
            },
            "type": "barpolar"
           }
          ],
          "carpet": [
           {
            "aaxis": {
             "endlinecolor": "#2a3f5f",
             "gridcolor": "white",
             "linecolor": "white",
             "minorgridcolor": "white",
             "startlinecolor": "#2a3f5f"
            },
            "baxis": {
             "endlinecolor": "#2a3f5f",
             "gridcolor": "white",
             "linecolor": "white",
             "minorgridcolor": "white",
             "startlinecolor": "#2a3f5f"
            },
            "type": "carpet"
           }
          ],
          "choropleth": [
           {
            "colorbar": {
             "outlinewidth": 0,
             "ticks": ""
            },
            "type": "choropleth"
           }
          ],
          "contour": [
           {
            "colorbar": {
             "outlinewidth": 0,
             "ticks": ""
            },
            "colorscale": [
             [
              0,
              "#0d0887"
             ],
             [
              0.1111111111111111,
              "#46039f"
             ],
             [
              0.2222222222222222,
              "#7201a8"
             ],
             [
              0.3333333333333333,
              "#9c179e"
             ],
             [
              0.4444444444444444,
              "#bd3786"
             ],
             [
              0.5555555555555556,
              "#d8576b"
             ],
             [
              0.6666666666666666,
              "#ed7953"
             ],
             [
              0.7777777777777778,
              "#fb9f3a"
             ],
             [
              0.8888888888888888,
              "#fdca26"
             ],
             [
              1,
              "#f0f921"
             ]
            ],
            "type": "contour"
           }
          ],
          "contourcarpet": [
           {
            "colorbar": {
             "outlinewidth": 0,
             "ticks": ""
            },
            "type": "contourcarpet"
           }
          ],
          "heatmap": [
           {
            "colorbar": {
             "outlinewidth": 0,
             "ticks": ""
            },
            "colorscale": [
             [
              0,
              "#0d0887"
             ],
             [
              0.1111111111111111,
              "#46039f"
             ],
             [
              0.2222222222222222,
              "#7201a8"
             ],
             [
              0.3333333333333333,
              "#9c179e"
             ],
             [
              0.4444444444444444,
              "#bd3786"
             ],
             [
              0.5555555555555556,
              "#d8576b"
             ],
             [
              0.6666666666666666,
              "#ed7953"
             ],
             [
              0.7777777777777778,
              "#fb9f3a"
             ],
             [
              0.8888888888888888,
              "#fdca26"
             ],
             [
              1,
              "#f0f921"
             ]
            ],
            "type": "heatmap"
           }
          ],
          "heatmapgl": [
           {
            "colorbar": {
             "outlinewidth": 0,
             "ticks": ""
            },
            "colorscale": [
             [
              0,
              "#0d0887"
             ],
             [
              0.1111111111111111,
              "#46039f"
             ],
             [
              0.2222222222222222,
              "#7201a8"
             ],
             [
              0.3333333333333333,
              "#9c179e"
             ],
             [
              0.4444444444444444,
              "#bd3786"
             ],
             [
              0.5555555555555556,
              "#d8576b"
             ],
             [
              0.6666666666666666,
              "#ed7953"
             ],
             [
              0.7777777777777778,
              "#fb9f3a"
             ],
             [
              0.8888888888888888,
              "#fdca26"
             ],
             [
              1,
              "#f0f921"
             ]
            ],
            "type": "heatmapgl"
           }
          ],
          "histogram": [
           {
            "marker": {
             "pattern": {
              "fillmode": "overlay",
              "size": 10,
              "solidity": 0.2
             }
            },
            "type": "histogram"
           }
          ],
          "histogram2d": [
           {
            "colorbar": {
             "outlinewidth": 0,
             "ticks": ""
            },
            "colorscale": [
             [
              0,
              "#0d0887"
             ],
             [
              0.1111111111111111,
              "#46039f"
             ],
             [
              0.2222222222222222,
              "#7201a8"
             ],
             [
              0.3333333333333333,
              "#9c179e"
             ],
             [
              0.4444444444444444,
              "#bd3786"
             ],
             [
              0.5555555555555556,
              "#d8576b"
             ],
             [
              0.6666666666666666,
              "#ed7953"
             ],
             [
              0.7777777777777778,
              "#fb9f3a"
             ],
             [
              0.8888888888888888,
              "#fdca26"
             ],
             [
              1,
              "#f0f921"
             ]
            ],
            "type": "histogram2d"
           }
          ],
          "histogram2dcontour": [
           {
            "colorbar": {
             "outlinewidth": 0,
             "ticks": ""
            },
            "colorscale": [
             [
              0,
              "#0d0887"
             ],
             [
              0.1111111111111111,
              "#46039f"
             ],
             [
              0.2222222222222222,
              "#7201a8"
             ],
             [
              0.3333333333333333,
              "#9c179e"
             ],
             [
              0.4444444444444444,
              "#bd3786"
             ],
             [
              0.5555555555555556,
              "#d8576b"
             ],
             [
              0.6666666666666666,
              "#ed7953"
             ],
             [
              0.7777777777777778,
              "#fb9f3a"
             ],
             [
              0.8888888888888888,
              "#fdca26"
             ],
             [
              1,
              "#f0f921"
             ]
            ],
            "type": "histogram2dcontour"
           }
          ],
          "mesh3d": [
           {
            "colorbar": {
             "outlinewidth": 0,
             "ticks": ""
            },
            "type": "mesh3d"
           }
          ],
          "parcoords": [
           {
            "line": {
             "colorbar": {
              "outlinewidth": 0,
              "ticks": ""
             }
            },
            "type": "parcoords"
           }
          ],
          "pie": [
           {
            "automargin": true,
            "type": "pie"
           }
          ],
          "scatter": [
           {
            "marker": {
             "colorbar": {
              "outlinewidth": 0,
              "ticks": ""
             }
            },
            "type": "scatter"
           }
          ],
          "scatter3d": [
           {
            "line": {
             "colorbar": {
              "outlinewidth": 0,
              "ticks": ""
             }
            },
            "marker": {
             "colorbar": {
              "outlinewidth": 0,
              "ticks": ""
             }
            },
            "type": "scatter3d"
           }
          ],
          "scattercarpet": [
           {
            "marker": {
             "colorbar": {
              "outlinewidth": 0,
              "ticks": ""
             }
            },
            "type": "scattercarpet"
           }
          ],
          "scattergeo": [
           {
            "marker": {
             "colorbar": {
              "outlinewidth": 0,
              "ticks": ""
             }
            },
            "type": "scattergeo"
           }
          ],
          "scattergl": [
           {
            "marker": {
             "colorbar": {
              "outlinewidth": 0,
              "ticks": ""
             }
            },
            "type": "scattergl"
           }
          ],
          "scattermapbox": [
           {
            "marker": {
             "colorbar": {
              "outlinewidth": 0,
              "ticks": ""
             }
            },
            "type": "scattermapbox"
           }
          ],
          "scatterpolar": [
           {
            "marker": {
             "colorbar": {
              "outlinewidth": 0,
              "ticks": ""
             }
            },
            "type": "scatterpolar"
           }
          ],
          "scatterpolargl": [
           {
            "marker": {
             "colorbar": {
              "outlinewidth": 0,
              "ticks": ""
             }
            },
            "type": "scatterpolargl"
           }
          ],
          "scatterternary": [
           {
            "marker": {
             "colorbar": {
              "outlinewidth": 0,
              "ticks": ""
             }
            },
            "type": "scatterternary"
           }
          ],
          "surface": [
           {
            "colorbar": {
             "outlinewidth": 0,
             "ticks": ""
            },
            "colorscale": [
             [
              0,
              "#0d0887"
             ],
             [
              0.1111111111111111,
              "#46039f"
             ],
             [
              0.2222222222222222,
              "#7201a8"
             ],
             [
              0.3333333333333333,
              "#9c179e"
             ],
             [
              0.4444444444444444,
              "#bd3786"
             ],
             [
              0.5555555555555556,
              "#d8576b"
             ],
             [
              0.6666666666666666,
              "#ed7953"
             ],
             [
              0.7777777777777778,
              "#fb9f3a"
             ],
             [
              0.8888888888888888,
              "#fdca26"
             ],
             [
              1,
              "#f0f921"
             ]
            ],
            "type": "surface"
           }
          ],
          "table": [
           {
            "cells": {
             "fill": {
              "color": "#EBF0F8"
             },
             "line": {
              "color": "white"
             }
            },
            "header": {
             "fill": {
              "color": "#C8D4E3"
             },
             "line": {
              "color": "white"
             }
            },
            "type": "table"
           }
          ]
         },
         "layout": {
          "annotationdefaults": {
           "arrowcolor": "#2a3f5f",
           "arrowhead": 0,
           "arrowwidth": 1
          },
          "autotypenumbers": "strict",
          "coloraxis": {
           "colorbar": {
            "outlinewidth": 0,
            "ticks": ""
           }
          },
          "colorscale": {
           "diverging": [
            [
             0,
             "#8e0152"
            ],
            [
             0.1,
             "#c51b7d"
            ],
            [
             0.2,
             "#de77ae"
            ],
            [
             0.3,
             "#f1b6da"
            ],
            [
             0.4,
             "#fde0ef"
            ],
            [
             0.5,
             "#f7f7f7"
            ],
            [
             0.6,
             "#e6f5d0"
            ],
            [
             0.7,
             "#b8e186"
            ],
            [
             0.8,
             "#7fbc41"
            ],
            [
             0.9,
             "#4d9221"
            ],
            [
             1,
             "#276419"
            ]
           ],
           "sequential": [
            [
             0,
             "#0d0887"
            ],
            [
             0.1111111111111111,
             "#46039f"
            ],
            [
             0.2222222222222222,
             "#7201a8"
            ],
            [
             0.3333333333333333,
             "#9c179e"
            ],
            [
             0.4444444444444444,
             "#bd3786"
            ],
            [
             0.5555555555555556,
             "#d8576b"
            ],
            [
             0.6666666666666666,
             "#ed7953"
            ],
            [
             0.7777777777777778,
             "#fb9f3a"
            ],
            [
             0.8888888888888888,
             "#fdca26"
            ],
            [
             1,
             "#f0f921"
            ]
           ],
           "sequentialminus": [
            [
             0,
             "#0d0887"
            ],
            [
             0.1111111111111111,
             "#46039f"
            ],
            [
             0.2222222222222222,
             "#7201a8"
            ],
            [
             0.3333333333333333,
             "#9c179e"
            ],
            [
             0.4444444444444444,
             "#bd3786"
            ],
            [
             0.5555555555555556,
             "#d8576b"
            ],
            [
             0.6666666666666666,
             "#ed7953"
            ],
            [
             0.7777777777777778,
             "#fb9f3a"
            ],
            [
             0.8888888888888888,
             "#fdca26"
            ],
            [
             1,
             "#f0f921"
            ]
           ]
          },
          "colorway": [
           "#636efa",
           "#EF553B",
           "#00cc96",
           "#ab63fa",
           "#FFA15A",
           "#19d3f3",
           "#FF6692",
           "#B6E880",
           "#FF97FF",
           "#FECB52"
          ],
          "font": {
           "color": "#2a3f5f"
          },
          "geo": {
           "bgcolor": "white",
           "lakecolor": "white",
           "landcolor": "#E5ECF6",
           "showlakes": true,
           "showland": true,
           "subunitcolor": "white"
          },
          "hoverlabel": {
           "align": "left"
          },
          "hovermode": "closest",
          "mapbox": {
           "style": "light"
          },
          "paper_bgcolor": "white",
          "plot_bgcolor": "#E5ECF6",
          "polar": {
           "angularaxis": {
            "gridcolor": "white",
            "linecolor": "white",
            "ticks": ""
           },
           "bgcolor": "#E5ECF6",
           "radialaxis": {
            "gridcolor": "white",
            "linecolor": "white",
            "ticks": ""
           }
          },
          "scene": {
           "xaxis": {
            "backgroundcolor": "#E5ECF6",
            "gridcolor": "white",
            "gridwidth": 2,
            "linecolor": "white",
            "showbackground": true,
            "ticks": "",
            "zerolinecolor": "white"
           },
           "yaxis": {
            "backgroundcolor": "#E5ECF6",
            "gridcolor": "white",
            "gridwidth": 2,
            "linecolor": "white",
            "showbackground": true,
            "ticks": "",
            "zerolinecolor": "white"
           },
           "zaxis": {
            "backgroundcolor": "#E5ECF6",
            "gridcolor": "white",
            "gridwidth": 2,
            "linecolor": "white",
            "showbackground": true,
            "ticks": "",
            "zerolinecolor": "white"
           }
          },
          "shapedefaults": {
           "line": {
            "color": "#2a3f5f"
           }
          },
          "ternary": {
           "aaxis": {
            "gridcolor": "white",
            "linecolor": "white",
            "ticks": ""
           },
           "baxis": {
            "gridcolor": "white",
            "linecolor": "white",
            "ticks": ""
           },
           "bgcolor": "#E5ECF6",
           "caxis": {
            "gridcolor": "white",
            "linecolor": "white",
            "ticks": ""
           }
          },
          "title": {
           "x": 0.05
          },
          "xaxis": {
           "automargin": true,
           "gridcolor": "white",
           "linecolor": "white",
           "ticks": "",
           "title": {
            "standoff": 15
           },
           "zerolinecolor": "white",
           "zerolinewidth": 2
          },
          "yaxis": {
           "automargin": true,
           "gridcolor": "white",
           "linecolor": "white",
           "ticks": "",
           "title": {
            "standoff": 15
           },
           "zerolinecolor": "white",
           "zerolinewidth": 2
          }
         }
        },
        "title": {
         "font": {
          "color": "#444",
          "family": "Lato, sans-serif",
          "size": 29
         },
         "text": "Average Sales: Store Type Vs Year(Month)"
        },
        "xaxis": {
         "anchor": "y",
         "domain": [
          0,
          0.98
         ],
         "tickmode": "array",
         "ticktext": [
          "Jan",
          "Feb",
          "Mar",
          "Apr",
          "May",
          "Jun",
          "Jul",
          "Aug",
          "Sep",
          "Oct",
          "Nov",
          "Dec"
         ],
         "tickvals": [
          1,
          2,
          3,
          4,
          5,
          6,
          7,
          8,
          9,
          10,
          11,
          12
         ],
         "title": {
          "text": ""
         }
        },
        "xaxis2": {
         "anchor": "y2",
         "domain": [
          0,
          0.98
         ],
         "matches": "x",
         "showticklabels": false,
         "tickmode": "array",
         "ticktext": [
          "Jan",
          "Feb",
          "Mar",
          "Apr",
          "May",
          "Jun",
          "Jul",
          "Aug",
          "Sep",
          "Oct",
          "Nov",
          "Dec"
         ],
         "tickvals": [
          1,
          2,
          3,
          4,
          5,
          6,
          7,
          8,
          9,
          10,
          11,
          12
         ]
        },
        "xaxis3": {
         "anchor": "y3",
         "domain": [
          0,
          0.98
         ],
         "matches": "x",
         "showticklabels": false,
         "tickmode": "array",
         "ticktext": [
          "Jan",
          "Feb",
          "Mar",
          "Apr",
          "May",
          "Jun",
          "Jul",
          "Aug",
          "Sep",
          "Oct",
          "Nov",
          "Dec"
         ],
         "tickvals": [
          1,
          2,
          3,
          4,
          5,
          6,
          7,
          8,
          9,
          10,
          11,
          12
         ]
        },
        "xaxis4": {
         "anchor": "y4",
         "domain": [
          0,
          0.98
         ],
         "matches": "x",
         "showticklabels": false,
         "tickmode": "array",
         "ticktext": [
          "Jan",
          "Feb",
          "Mar",
          "Apr",
          "May",
          "Jun",
          "Jul",
          "Aug",
          "Sep",
          "Oct",
          "Nov",
          "Dec"
         ],
         "tickvals": [
          1,
          2,
          3,
          4,
          5,
          6,
          7,
          8,
          9,
          10,
          11,
          12
         ]
        },
        "xaxis5": {
         "anchor": "y5",
         "domain": [
          0,
          0.98
         ],
         "matches": "x",
         "showticklabels": false,
         "tickmode": "array",
         "ticktext": [
          "Jan",
          "Feb",
          "Mar",
          "Apr",
          "May",
          "Jun",
          "Jul",
          "Aug",
          "Sep",
          "Oct",
          "Nov",
          "Dec"
         ],
         "tickvals": [
          1,
          2,
          3,
          4,
          5,
          6,
          7,
          8,
          9,
          10,
          11,
          12
         ]
        },
        "yaxis": {
         "anchor": "x",
         "domain": [
          0,
          0.17600000000000002
         ],
         "ticksuffix": "  ",
         "title": {
          "text": ""
         }
        },
        "yaxis2": {
         "anchor": "x2",
         "domain": [
          0.20600000000000002,
          0.382
         ],
         "matches": "y",
         "ticksuffix": "  ",
         "title": {
          "text": "store_type"
         }
        },
        "yaxis3": {
         "anchor": "x3",
         "domain": [
          0.41200000000000003,
          0.5880000000000001
         ],
         "matches": "y",
         "ticksuffix": "  ",
         "title": {
          "text": "store_type"
         }
        },
        "yaxis4": {
         "anchor": "x4",
         "domain": [
          0.618,
          0.794
         ],
         "matches": "y",
         "ticksuffix": "  ",
         "title": {
          "text": "store_type"
         }
        },
        "yaxis5": {
         "anchor": "x5",
         "domain": [
          0.8240000000000001,
          1
         ],
         "matches": "y",
         "ticksuffix": "  ",
         "title": {
          "text": "store_type"
         }
        }
       }
      },
      "text/html": [
       "<div>                            <div id=\"39ba3530-7a64-454d-944a-a2c2890fa477\" class=\"plotly-graph-div\" style=\"height:900px; width:100%;\"></div>            <script type=\"text/javascript\">                require([\"plotly\"], function(Plotly) {                    window.PLOTLYENV=window.PLOTLYENV || {};                                    if (document.getElementById(\"39ba3530-7a64-454d-944a-a2c2890fa477\")) {                    Plotly.newPlot(                        \"39ba3530-7a64-454d-944a-a2c2890fa477\",                        [{\"hovertemplate\":\"year=2013<br>month=%{x}<br>store_type=%{y}<br>sales=%{marker.color}<extra></extra>\",\"legendgroup\":\"\",\"marker\":{\"color\":[392.85,155.11,109.06,191.16,60.52,396.04,167.35,116.52,195.3,71.79,424.98,183.75,122.69,207.38,75.89,411.88,193.39,125.99,202.36,79.52,414.28,186.83,129.43,203.52,130.5,422.57,189.84,133.83,210.07,134.2,395.04,182.59,123.61,202.0,127.19,406.72,192.27,135.41,203.35,145.96,439.66,197.55,133.87,212.23,136.64,419.19,194.03,129.85,206.18,131.77,471.99,204.3,137.69,221.59,136.3,628.7,263.25,165.61,286.3,181.66],\"coloraxis\":\"coloraxis\",\"size\":[392.85,155.11,109.06,191.16,60.52,396.04,167.35,116.52,195.3,71.79,424.98,183.75,122.69,207.38,75.89,411.88,193.39,125.99,202.36,79.52,414.28,186.83,129.43,203.52,130.5,422.57,189.84,133.83,210.07,134.2,395.04,182.59,123.61,202.0,127.19,406.72,192.27,135.41,203.35,145.96,439.66,197.55,133.87,212.23,136.64,419.19,194.03,129.85,206.18,131.77,471.99,204.3,137.69,221.59,136.3,628.7,263.25,165.61,286.3,181.66],\"sizemode\":\"area\",\"sizeref\":2.725275,\"symbol\":\"circle\"},\"mode\":\"markers\",\"name\":\"\",\"orientation\":\"h\",\"showlegend\":false,\"x\":[1,1,1,1,1,2,2,2,2,2,3,3,3,3,3,4,4,4,4,4,5,5,5,5,5,6,6,6,6,6,7,7,7,7,7,8,8,8,8,8,9,9,9,9,9,10,10,10,10,10,11,11,11,11,11,12,12,12,12,12],\"xaxis\":\"x5\",\"y\":[\"A\",\"B\",\"C\",\"D\",\"E\",\"A\",\"B\",\"C\",\"D\",\"E\",\"A\",\"B\",\"C\",\"D\",\"E\",\"A\",\"B\",\"C\",\"D\",\"E\",\"A\",\"B\",\"C\",\"D\",\"E\",\"A\",\"B\",\"C\",\"D\",\"E\",\"A\",\"B\",\"C\",\"D\",\"E\",\"A\",\"B\",\"C\",\"D\",\"E\",\"A\",\"B\",\"C\",\"D\",\"E\",\"A\",\"B\",\"C\",\"D\",\"E\",\"A\",\"B\",\"C\",\"D\",\"E\",\"A\",\"B\",\"C\",\"D\",\"E\"],\"yaxis\":\"y5\",\"type\":\"scatter\"},{\"hovertemplate\":\"year=2014<br>month=%{x}<br>store_type=%{y}<br>sales=%{marker.color}<extra></extra>\",\"legendgroup\":\"\",\"marker\":{\"color\":[718.51,264.35,179.45,356.85,197.52,479.7,213.49,145.95,232.31,158.08,770.83,297.01,195.6,375.19,226.68,497.61,212.83,142.33,226.01,151.74,506.39,213.78,148.49,219.05,160.24,502.78,210.45,147.07,230.19,163.05,730.62,281.77,195.99,347.68,229.26,512.86,220.15,142.36,242.23,175.12,781.92,298.07,199.2,384.71,222.5,766.21,290.94,196.82,381.31,224.57,803.59,300.52,209.48,389.59,236.93,956.89,365.72,247.6,467.75,289.73],\"coloraxis\":\"coloraxis\",\"size\":[718.51,264.35,179.45,356.85,197.52,479.7,213.49,145.95,232.31,158.08,770.83,297.01,195.6,375.19,226.68,497.61,212.83,142.33,226.01,151.74,506.39,213.78,148.49,219.05,160.24,502.78,210.45,147.07,230.19,163.05,730.62,281.77,195.99,347.68,229.26,512.86,220.15,142.36,242.23,175.12,781.92,298.07,199.2,384.71,222.5,766.21,290.94,196.82,381.31,224.57,803.59,300.52,209.48,389.59,236.93,956.89,365.72,247.6,467.75,289.73],\"sizemode\":\"area\",\"sizeref\":2.725275,\"symbol\":\"circle\"},\"mode\":\"markers\",\"name\":\"\",\"orientation\":\"h\",\"showlegend\":false,\"x\":[1,1,1,1,1,2,2,2,2,2,3,3,3,3,3,4,4,4,4,4,5,5,5,5,5,6,6,6,6,6,7,7,7,7,7,8,8,8,8,8,9,9,9,9,9,10,10,10,10,10,11,11,11,11,11,12,12,12,12,12],\"xaxis\":\"x4\",\"y\":[\"A\",\"B\",\"C\",\"D\",\"E\",\"A\",\"B\",\"C\",\"D\",\"E\",\"A\",\"B\",\"C\",\"D\",\"E\",\"A\",\"B\",\"C\",\"D\",\"E\",\"A\",\"B\",\"C\",\"D\",\"E\",\"A\",\"B\",\"C\",\"D\",\"E\",\"A\",\"B\",\"C\",\"D\",\"E\",\"A\",\"B\",\"C\",\"D\",\"E\",\"A\",\"B\",\"C\",\"D\",\"E\",\"A\",\"B\",\"C\",\"D\",\"E\",\"A\",\"B\",\"C\",\"D\",\"E\",\"A\",\"B\",\"C\",\"D\",\"E\"],\"yaxis\":\"y4\",\"type\":\"scatter\"},{\"hovertemplate\":\"year=2015<br>month=%{x}<br>store_type=%{y}<br>sales=%{marker.color}<extra></extra>\",\"legendgroup\":\"\",\"marker\":{\"color\":[543.96,221.59,160.54,263.05,187.67,526.49,261.3,169.07,261.27,201.22,541.28,272.36,165.25,267.64,225.32,536.51,272.39,161.84,260.94,243.46,624.45,304.09,186.75,297.23,281.88,781.05,342.59,217.6,395.66,323.85,785.11,363.82,217.38,399.58,333.47,798.94,412.27,221.59,401.02,354.15,827.73,424.08,228.11,426.25,384.79,821.08,413.63,232.24,424.89,377.78,840.25,399.13,223.49,423.62,325.63,996.98,488.73,271.05,511.33,398.84],\"coloraxis\":\"coloraxis\",\"size\":[543.96,221.59,160.54,263.05,187.67,526.49,261.3,169.07,261.27,201.22,541.28,272.36,165.25,267.64,225.32,536.51,272.39,161.84,260.94,243.46,624.45,304.09,186.75,297.23,281.88,781.05,342.59,217.6,395.66,323.85,785.11,363.82,217.38,399.58,333.47,798.94,412.27,221.59,401.02,354.15,827.73,424.08,228.11,426.25,384.79,821.08,413.63,232.24,424.89,377.78,840.25,399.13,223.49,423.62,325.63,996.98,488.73,271.05,511.33,398.84],\"sizemode\":\"area\",\"sizeref\":2.725275,\"symbol\":\"circle\"},\"mode\":\"markers\",\"name\":\"\",\"orientation\":\"h\",\"showlegend\":false,\"x\":[1,1,1,1,1,2,2,2,2,2,3,3,3,3,3,4,4,4,4,4,5,5,5,5,5,6,6,6,6,6,7,7,7,7,7,8,8,8,8,8,9,9,9,9,9,10,10,10,10,10,11,11,11,11,11,12,12,12,12,12],\"xaxis\":\"x3\",\"y\":[\"A\",\"B\",\"C\",\"D\",\"E\",\"A\",\"B\",\"C\",\"D\",\"E\",\"A\",\"B\",\"C\",\"D\",\"E\",\"A\",\"B\",\"C\",\"D\",\"E\",\"A\",\"B\",\"C\",\"D\",\"E\",\"A\",\"B\",\"C\",\"D\",\"E\",\"A\",\"B\",\"C\",\"D\",\"E\",\"A\",\"B\",\"C\",\"D\",\"E\",\"A\",\"B\",\"C\",\"D\",\"E\",\"A\",\"B\",\"C\",\"D\",\"E\",\"A\",\"B\",\"C\",\"D\",\"E\",\"A\",\"B\",\"C\",\"D\",\"E\"],\"yaxis\":\"y3\",\"type\":\"scatter\"},{\"hovertemplate\":\"year=2016<br>month=%{x}<br>store_type=%{y}<br>sales=%{marker.color}<extra></extra>\",\"legendgroup\":\"\",\"marker\":{\"color\":[846.38,406.17,228.57,432.65,338.89,804.39,409.16,229.04,424.84,334.51,784.79,404.25,228.04,418.13,341.91,912.34,506.57,264.56,472.58,404.89,852.73,449.87,247.28,457.75,373.01,777.18,403.04,223.76,430.13,335.8,808.6,424.44,230.85,429.97,370.82,761.15,379.11,224.5,402.69,362.13,818.1,377.43,233.43,408.23,353.01,853.67,398.61,236.66,425.78,351.09,935.08,390.61,243.44,467.31,348.43,1090.11,526.46,292.31,543.02,475.64],\"coloraxis\":\"coloraxis\",\"size\":[846.38,406.17,228.57,432.65,338.89,804.39,409.16,229.04,424.84,334.51,784.79,404.25,228.04,418.13,341.91,912.34,506.57,264.56,472.58,404.89,852.73,449.87,247.28,457.75,373.01,777.18,403.04,223.76,430.13,335.8,808.6,424.44,230.85,429.97,370.82,761.15,379.11,224.5,402.69,362.13,818.1,377.43,233.43,408.23,353.01,853.67,398.61,236.66,425.78,351.09,935.08,390.61,243.44,467.31,348.43,1090.11,526.46,292.31,543.02,475.64],\"sizemode\":\"area\",\"sizeref\":2.725275,\"symbol\":\"circle\"},\"mode\":\"markers\",\"name\":\"\",\"orientation\":\"h\",\"showlegend\":false,\"x\":[1,1,1,1,1,2,2,2,2,2,3,3,3,3,3,4,4,4,4,4,5,5,5,5,5,6,6,6,6,6,7,7,7,7,7,8,8,8,8,8,9,9,9,9,9,10,10,10,10,10,11,11,11,11,11,12,12,12,12,12],\"xaxis\":\"x2\",\"y\":[\"A\",\"B\",\"C\",\"D\",\"E\",\"A\",\"B\",\"C\",\"D\",\"E\",\"A\",\"B\",\"C\",\"D\",\"E\",\"A\",\"B\",\"C\",\"D\",\"E\",\"A\",\"B\",\"C\",\"D\",\"E\",\"A\",\"B\",\"C\",\"D\",\"E\",\"A\",\"B\",\"C\",\"D\",\"E\",\"A\",\"B\",\"C\",\"D\",\"E\",\"A\",\"B\",\"C\",\"D\",\"E\",\"A\",\"B\",\"C\",\"D\",\"E\",\"A\",\"B\",\"C\",\"D\",\"E\",\"A\",\"B\",\"C\",\"D\",\"E\"],\"yaxis\":\"y2\",\"type\":\"scatter\"},{\"hovertemplate\":\"year=2017<br>month=%{x}<br>store_type=%{y}<br>sales=%{marker.color}<extra></extra>\",\"legendgroup\":\"\",\"marker\":{\"color\":[938.64,444.44,240.99,474.84,392.76,895.29,442.97,242.01,461.74,404.89,937.18,457.9,250.52,481.72,394.23,933.45,484.27,259.8,455.47,416.7,976.5,459.54,264.03,456.94,414.19,992.29,455.54,254.46,464.85,407.74,989.31,466.35,261.36,455.62,424.75,903.08,473.74,265.4,411.97,450.97],\"coloraxis\":\"coloraxis\",\"size\":[938.64,444.44,240.99,474.84,392.76,895.29,442.97,242.01,461.74,404.89,937.18,457.9,250.52,481.72,394.23,933.45,484.27,259.8,455.47,416.7,976.5,459.54,264.03,456.94,414.19,992.29,455.54,254.46,464.85,407.74,989.31,466.35,261.36,455.62,424.75,903.08,473.74,265.4,411.97,450.97],\"sizemode\":\"area\",\"sizeref\":2.725275,\"symbol\":\"circle\"},\"mode\":\"markers\",\"name\":\"\",\"orientation\":\"h\",\"showlegend\":false,\"x\":[1,1,1,1,1,2,2,2,2,2,3,3,3,3,3,4,4,4,4,4,5,5,5,5,5,6,6,6,6,6,7,7,7,7,7,8,8,8,8,8],\"xaxis\":\"x\",\"y\":[\"A\",\"B\",\"C\",\"D\",\"E\",\"A\",\"B\",\"C\",\"D\",\"E\",\"A\",\"B\",\"C\",\"D\",\"E\",\"A\",\"B\",\"C\",\"D\",\"E\",\"A\",\"B\",\"C\",\"D\",\"E\",\"A\",\"B\",\"C\",\"D\",\"E\",\"A\",\"B\",\"C\",\"D\",\"E\",\"A\",\"B\",\"C\",\"D\",\"E\"],\"yaxis\":\"y\",\"type\":\"scatter\"}],                        {\"template\":{\"data\":{\"bar\":[{\"error_x\":{\"color\":\"#2a3f5f\"},\"error_y\":{\"color\":\"#2a3f5f\"},\"marker\":{\"line\":{\"color\":\"#E5ECF6\",\"width\":0.5},\"pattern\":{\"fillmode\":\"overlay\",\"size\":10,\"solidity\":0.2}},\"type\":\"bar\"}],\"barpolar\":[{\"marker\":{\"line\":{\"color\":\"#E5ECF6\",\"width\":0.5},\"pattern\":{\"fillmode\":\"overlay\",\"size\":10,\"solidity\":0.2}},\"type\":\"barpolar\"}],\"carpet\":[{\"aaxis\":{\"endlinecolor\":\"#2a3f5f\",\"gridcolor\":\"white\",\"linecolor\":\"white\",\"minorgridcolor\":\"white\",\"startlinecolor\":\"#2a3f5f\"},\"baxis\":{\"endlinecolor\":\"#2a3f5f\",\"gridcolor\":\"white\",\"linecolor\":\"white\",\"minorgridcolor\":\"white\",\"startlinecolor\":\"#2a3f5f\"},\"type\":\"carpet\"}],\"choropleth\":[{\"colorbar\":{\"outlinewidth\":0,\"ticks\":\"\"},\"type\":\"choropleth\"}],\"contour\":[{\"colorbar\":{\"outlinewidth\":0,\"ticks\":\"\"},\"colorscale\":[[0.0,\"#0d0887\"],[0.1111111111111111,\"#46039f\"],[0.2222222222222222,\"#7201a8\"],[0.3333333333333333,\"#9c179e\"],[0.4444444444444444,\"#bd3786\"],[0.5555555555555556,\"#d8576b\"],[0.6666666666666666,\"#ed7953\"],[0.7777777777777778,\"#fb9f3a\"],[0.8888888888888888,\"#fdca26\"],[1.0,\"#f0f921\"]],\"type\":\"contour\"}],\"contourcarpet\":[{\"colorbar\":{\"outlinewidth\":0,\"ticks\":\"\"},\"type\":\"contourcarpet\"}],\"heatmap\":[{\"colorbar\":{\"outlinewidth\":0,\"ticks\":\"\"},\"colorscale\":[[0.0,\"#0d0887\"],[0.1111111111111111,\"#46039f\"],[0.2222222222222222,\"#7201a8\"],[0.3333333333333333,\"#9c179e\"],[0.4444444444444444,\"#bd3786\"],[0.5555555555555556,\"#d8576b\"],[0.6666666666666666,\"#ed7953\"],[0.7777777777777778,\"#fb9f3a\"],[0.8888888888888888,\"#fdca26\"],[1.0,\"#f0f921\"]],\"type\":\"heatmap\"}],\"heatmapgl\":[{\"colorbar\":{\"outlinewidth\":0,\"ticks\":\"\"},\"colorscale\":[[0.0,\"#0d0887\"],[0.1111111111111111,\"#46039f\"],[0.2222222222222222,\"#7201a8\"],[0.3333333333333333,\"#9c179e\"],[0.4444444444444444,\"#bd3786\"],[0.5555555555555556,\"#d8576b\"],[0.6666666666666666,\"#ed7953\"],[0.7777777777777778,\"#fb9f3a\"],[0.8888888888888888,\"#fdca26\"],[1.0,\"#f0f921\"]],\"type\":\"heatmapgl\"}],\"histogram\":[{\"marker\":{\"pattern\":{\"fillmode\":\"overlay\",\"size\":10,\"solidity\":0.2}},\"type\":\"histogram\"}],\"histogram2d\":[{\"colorbar\":{\"outlinewidth\":0,\"ticks\":\"\"},\"colorscale\":[[0.0,\"#0d0887\"],[0.1111111111111111,\"#46039f\"],[0.2222222222222222,\"#7201a8\"],[0.3333333333333333,\"#9c179e\"],[0.4444444444444444,\"#bd3786\"],[0.5555555555555556,\"#d8576b\"],[0.6666666666666666,\"#ed7953\"],[0.7777777777777778,\"#fb9f3a\"],[0.8888888888888888,\"#fdca26\"],[1.0,\"#f0f921\"]],\"type\":\"histogram2d\"}],\"histogram2dcontour\":[{\"colorbar\":{\"outlinewidth\":0,\"ticks\":\"\"},\"colorscale\":[[0.0,\"#0d0887\"],[0.1111111111111111,\"#46039f\"],[0.2222222222222222,\"#7201a8\"],[0.3333333333333333,\"#9c179e\"],[0.4444444444444444,\"#bd3786\"],[0.5555555555555556,\"#d8576b\"],[0.6666666666666666,\"#ed7953\"],[0.7777777777777778,\"#fb9f3a\"],[0.8888888888888888,\"#fdca26\"],[1.0,\"#f0f921\"]],\"type\":\"histogram2dcontour\"}],\"mesh3d\":[{\"colorbar\":{\"outlinewidth\":0,\"ticks\":\"\"},\"type\":\"mesh3d\"}],\"parcoords\":[{\"line\":{\"colorbar\":{\"outlinewidth\":0,\"ticks\":\"\"}},\"type\":\"parcoords\"}],\"pie\":[{\"automargin\":true,\"type\":\"pie\"}],\"scatter\":[{\"marker\":{\"colorbar\":{\"outlinewidth\":0,\"ticks\":\"\"}},\"type\":\"scatter\"}],\"scatter3d\":[{\"line\":{\"colorbar\":{\"outlinewidth\":0,\"ticks\":\"\"}},\"marker\":{\"colorbar\":{\"outlinewidth\":0,\"ticks\":\"\"}},\"type\":\"scatter3d\"}],\"scattercarpet\":[{\"marker\":{\"colorbar\":{\"outlinewidth\":0,\"ticks\":\"\"}},\"type\":\"scattercarpet\"}],\"scattergeo\":[{\"marker\":{\"colorbar\":{\"outlinewidth\":0,\"ticks\":\"\"}},\"type\":\"scattergeo\"}],\"scattergl\":[{\"marker\":{\"colorbar\":{\"outlinewidth\":0,\"ticks\":\"\"}},\"type\":\"scattergl\"}],\"scattermapbox\":[{\"marker\":{\"colorbar\":{\"outlinewidth\":0,\"ticks\":\"\"}},\"type\":\"scattermapbox\"}],\"scatterpolar\":[{\"marker\":{\"colorbar\":{\"outlinewidth\":0,\"ticks\":\"\"}},\"type\":\"scatterpolar\"}],\"scatterpolargl\":[{\"marker\":{\"colorbar\":{\"outlinewidth\":0,\"ticks\":\"\"}},\"type\":\"scatterpolargl\"}],\"scatterternary\":[{\"marker\":{\"colorbar\":{\"outlinewidth\":0,\"ticks\":\"\"}},\"type\":\"scatterternary\"}],\"surface\":[{\"colorbar\":{\"outlinewidth\":0,\"ticks\":\"\"},\"colorscale\":[[0.0,\"#0d0887\"],[0.1111111111111111,\"#46039f\"],[0.2222222222222222,\"#7201a8\"],[0.3333333333333333,\"#9c179e\"],[0.4444444444444444,\"#bd3786\"],[0.5555555555555556,\"#d8576b\"],[0.6666666666666666,\"#ed7953\"],[0.7777777777777778,\"#fb9f3a\"],[0.8888888888888888,\"#fdca26\"],[1.0,\"#f0f921\"]],\"type\":\"surface\"}],\"table\":[{\"cells\":{\"fill\":{\"color\":\"#EBF0F8\"},\"line\":{\"color\":\"white\"}},\"header\":{\"fill\":{\"color\":\"#C8D4E3\"},\"line\":{\"color\":\"white\"}},\"type\":\"table\"}]},\"layout\":{\"annotationdefaults\":{\"arrowcolor\":\"#2a3f5f\",\"arrowhead\":0,\"arrowwidth\":1},\"autotypenumbers\":\"strict\",\"coloraxis\":{\"colorbar\":{\"outlinewidth\":0,\"ticks\":\"\"}},\"colorscale\":{\"diverging\":[[0,\"#8e0152\"],[0.1,\"#c51b7d\"],[0.2,\"#de77ae\"],[0.3,\"#f1b6da\"],[0.4,\"#fde0ef\"],[0.5,\"#f7f7f7\"],[0.6,\"#e6f5d0\"],[0.7,\"#b8e186\"],[0.8,\"#7fbc41\"],[0.9,\"#4d9221\"],[1,\"#276419\"]],\"sequential\":[[0.0,\"#0d0887\"],[0.1111111111111111,\"#46039f\"],[0.2222222222222222,\"#7201a8\"],[0.3333333333333333,\"#9c179e\"],[0.4444444444444444,\"#bd3786\"],[0.5555555555555556,\"#d8576b\"],[0.6666666666666666,\"#ed7953\"],[0.7777777777777778,\"#fb9f3a\"],[0.8888888888888888,\"#fdca26\"],[1.0,\"#f0f921\"]],\"sequentialminus\":[[0.0,\"#0d0887\"],[0.1111111111111111,\"#46039f\"],[0.2222222222222222,\"#7201a8\"],[0.3333333333333333,\"#9c179e\"],[0.4444444444444444,\"#bd3786\"],[0.5555555555555556,\"#d8576b\"],[0.6666666666666666,\"#ed7953\"],[0.7777777777777778,\"#fb9f3a\"],[0.8888888888888888,\"#fdca26\"],[1.0,\"#f0f921\"]]},\"colorway\":[\"#636efa\",\"#EF553B\",\"#00cc96\",\"#ab63fa\",\"#FFA15A\",\"#19d3f3\",\"#FF6692\",\"#B6E880\",\"#FF97FF\",\"#FECB52\"],\"font\":{\"color\":\"#2a3f5f\"},\"geo\":{\"bgcolor\":\"white\",\"lakecolor\":\"white\",\"landcolor\":\"#E5ECF6\",\"showlakes\":true,\"showland\":true,\"subunitcolor\":\"white\"},\"hoverlabel\":{\"align\":\"left\"},\"hovermode\":\"closest\",\"mapbox\":{\"style\":\"light\"},\"paper_bgcolor\":\"white\",\"plot_bgcolor\":\"#E5ECF6\",\"polar\":{\"angularaxis\":{\"gridcolor\":\"white\",\"linecolor\":\"white\",\"ticks\":\"\"},\"bgcolor\":\"#E5ECF6\",\"radialaxis\":{\"gridcolor\":\"white\",\"linecolor\":\"white\",\"ticks\":\"\"}},\"scene\":{\"xaxis\":{\"backgroundcolor\":\"#E5ECF6\",\"gridcolor\":\"white\",\"gridwidth\":2,\"linecolor\":\"white\",\"showbackground\":true,\"ticks\":\"\",\"zerolinecolor\":\"white\"},\"yaxis\":{\"backgroundcolor\":\"#E5ECF6\",\"gridcolor\":\"white\",\"gridwidth\":2,\"linecolor\":\"white\",\"showbackground\":true,\"ticks\":\"\",\"zerolinecolor\":\"white\"},\"zaxis\":{\"backgroundcolor\":\"#E5ECF6\",\"gridcolor\":\"white\",\"gridwidth\":2,\"linecolor\":\"white\",\"showbackground\":true,\"ticks\":\"\",\"zerolinecolor\":\"white\"}},\"shapedefaults\":{\"line\":{\"color\":\"#2a3f5f\"}},\"ternary\":{\"aaxis\":{\"gridcolor\":\"white\",\"linecolor\":\"white\",\"ticks\":\"\"},\"baxis\":{\"gridcolor\":\"white\",\"linecolor\":\"white\",\"ticks\":\"\"},\"bgcolor\":\"#E5ECF6\",\"caxis\":{\"gridcolor\":\"white\",\"linecolor\":\"white\",\"ticks\":\"\"}},\"title\":{\"x\":0.05},\"xaxis\":{\"automargin\":true,\"gridcolor\":\"white\",\"linecolor\":\"white\",\"ticks\":\"\",\"title\":{\"standoff\":15},\"zerolinecolor\":\"white\",\"zerolinewidth\":2},\"yaxis\":{\"automargin\":true,\"gridcolor\":\"white\",\"linecolor\":\"white\",\"ticks\":\"\",\"title\":{\"standoff\":15},\"zerolinecolor\":\"white\",\"zerolinewidth\":2}}},\"xaxis\":{\"anchor\":\"y\",\"domain\":[0.0,0.98],\"title\":{\"text\":\"\"},\"tickmode\":\"array\",\"tickvals\":[1,2,3,4,5,6,7,8,9,10,11,12],\"ticktext\":[\"Jan\",\"Feb\",\"Mar\",\"Apr\",\"May\",\"Jun\",\"Jul\",\"Aug\",\"Sep\",\"Oct\",\"Nov\",\"Dec\"]},\"yaxis\":{\"anchor\":\"x\",\"domain\":[0.0,0.17600000000000002],\"title\":{\"text\":\"\"},\"ticksuffix\":\"  \"},\"xaxis2\":{\"anchor\":\"y2\",\"domain\":[0.0,0.98],\"matches\":\"x\",\"showticklabels\":false,\"tickmode\":\"array\",\"tickvals\":[1,2,3,4,5,6,7,8,9,10,11,12],\"ticktext\":[\"Jan\",\"Feb\",\"Mar\",\"Apr\",\"May\",\"Jun\",\"Jul\",\"Aug\",\"Sep\",\"Oct\",\"Nov\",\"Dec\"]},\"yaxis2\":{\"anchor\":\"x2\",\"domain\":[0.20600000000000002,0.382],\"matches\":\"y\",\"title\":{\"text\":\"store_type\"},\"ticksuffix\":\"  \"},\"xaxis3\":{\"anchor\":\"y3\",\"domain\":[0.0,0.98],\"matches\":\"x\",\"showticklabels\":false,\"tickmode\":\"array\",\"tickvals\":[1,2,3,4,5,6,7,8,9,10,11,12],\"ticktext\":[\"Jan\",\"Feb\",\"Mar\",\"Apr\",\"May\",\"Jun\",\"Jul\",\"Aug\",\"Sep\",\"Oct\",\"Nov\",\"Dec\"]},\"yaxis3\":{\"anchor\":\"x3\",\"domain\":[0.41200000000000003,0.5880000000000001],\"matches\":\"y\",\"title\":{\"text\":\"store_type\"},\"ticksuffix\":\"  \"},\"xaxis4\":{\"anchor\":\"y4\",\"domain\":[0.0,0.98],\"matches\":\"x\",\"showticklabels\":false,\"tickmode\":\"array\",\"tickvals\":[1,2,3,4,5,6,7,8,9,10,11,12],\"ticktext\":[\"Jan\",\"Feb\",\"Mar\",\"Apr\",\"May\",\"Jun\",\"Jul\",\"Aug\",\"Sep\",\"Oct\",\"Nov\",\"Dec\"]},\"yaxis4\":{\"anchor\":\"x4\",\"domain\":[0.618,0.794],\"matches\":\"y\",\"title\":{\"text\":\"store_type\"},\"ticksuffix\":\"  \"},\"xaxis5\":{\"anchor\":\"y5\",\"domain\":[0.0,0.98],\"matches\":\"x\",\"showticklabels\":false,\"tickmode\":\"array\",\"tickvals\":[1,2,3,4,5,6,7,8,9,10,11,12],\"ticktext\":[\"Jan\",\"Feb\",\"Mar\",\"Apr\",\"May\",\"Jun\",\"Jul\",\"Aug\",\"Sep\",\"Oct\",\"Nov\",\"Dec\"]},\"yaxis5\":{\"anchor\":\"x5\",\"domain\":[0.8240000000000001,1.0],\"matches\":\"y\",\"title\":{\"text\":\"store_type\"},\"ticksuffix\":\"  \"},\"annotations\":[{\"font\":{},\"showarrow\":false,\"text\":\"year=2017\",\"textangle\":90,\"x\":0.98,\"xanchor\":\"left\",\"xref\":\"paper\",\"y\":0.08800000000000001,\"yanchor\":\"middle\",\"yref\":\"paper\"},{\"font\":{},\"showarrow\":false,\"text\":\"year=2016\",\"textangle\":90,\"x\":0.98,\"xanchor\":\"left\",\"xref\":\"paper\",\"y\":0.29400000000000004,\"yanchor\":\"middle\",\"yref\":\"paper\"},{\"font\":{},\"showarrow\":false,\"text\":\"year=2015\",\"textangle\":90,\"x\":0.98,\"xanchor\":\"left\",\"xref\":\"paper\",\"y\":0.5,\"yanchor\":\"middle\",\"yref\":\"paper\"},{\"font\":{},\"showarrow\":false,\"text\":\"year=2014\",\"textangle\":90,\"x\":0.98,\"xanchor\":\"left\",\"xref\":\"paper\",\"y\":0.706,\"yanchor\":\"middle\",\"yref\":\"paper\"},{\"font\":{},\"showarrow\":false,\"text\":\"year=2013\",\"textangle\":90,\"x\":0.98,\"xanchor\":\"left\",\"xref\":\"paper\",\"y\":0.912,\"yanchor\":\"middle\",\"yref\":\"paper\"}],\"coloraxis\":{\"colorbar\":{\"title\":{\"text\":\"sales\"}},\"colorscale\":[[0.0,\"#0d0887\"],[0.1111111111111111,\"#46039f\"],[0.2222222222222222,\"#7201a8\"],[0.3333333333333333,\"#9c179e\"],[0.4444444444444444,\"#bd3786\"],[0.5555555555555556,\"#d8576b\"],[0.6666666666666666,\"#ed7953\"],[0.7777777777777778,\"#fb9f3a\"],[0.8888888888888888,\"#fdca26\"],[1.0,\"#f0f921\"]]},\"legend\":{\"tracegroupgap\":0,\"itemsizing\":\"constant\"},\"title\":{\"text\":\"Average Sales: Store Type Vs Year(Month)\",\"font\":{\"size\":29,\"color\":\"#444\",\"family\":\"Lato, sans-serif\"}},\"margin\":{\"t\":70,\"b\":0},\"font\":{\"color\":\"#555\"},\"hoverlabel\":{\"font\":{\"size\":13,\"family\":\"Lato, sans-serif\"},\"bgcolor\":\"#f2f2f2\"},\"height\":900,\"plot_bgcolor\":\"#fafafa\",\"paper_bgcolor\":\"#fafafa\"},                        {\"responsive\": true}                    ).then(function(){\n",
       "                            \n",
       "var gd = document.getElementById('39ba3530-7a64-454d-944a-a2c2890fa477');\n",
       "var x = new MutationObserver(function (mutations, observer) {{\n",
       "        var display = window.getComputedStyle(gd).display;\n",
       "        if (!display || display === 'none') {{\n",
       "            console.log([gd, 'removed!']);\n",
       "            Plotly.purge(gd);\n",
       "            observer.disconnect();\n",
       "        }}\n",
       "}});\n",
       "\n",
       "// Listen for the removal of the full notebook cells\n",
       "var notebookContainer = gd.closest('#notebook-container');\n",
       "if (notebookContainer) {{\n",
       "    x.observe(notebookContainer, {childList: true});\n",
       "}}\n",
       "\n",
       "// Listen for the clearing of the current output cell\n",
       "var outputEl = gd.closest('.output');\n",
       "if (outputEl) {{\n",
       "    x.observe(outputEl, {childList: true});\n",
       "}}\n",
       "\n",
       "                        })                };                });            </script>        </div>"
      ]
     },
     "metadata": {},
     "output_type": "display_data"
    }
   ],
   "source": [
    "# data\n",
    "df_y_m_st = df_train1.groupby(['year','month','store_type']).agg({\"sales\" : \"mean\"}).reset_index()\n",
    "df_y_m_st['sales'] = round(df_y_m_st['sales'], 2)\n",
    "\n",
    "# chart\n",
    "fig = px.scatter(df_y_m_st, x='month', y='store_type', color='sales', size='sales', \n",
    "                 facet_row='year', title='Average Sales: Store Type Vs Year(Month)')\n",
    "# styling\n",
    "fig.update_yaxes(ticksuffix='  ')\n",
    "fig.update_xaxes(tickmode = 'array', tickvals=[i for i in range(1,13)], \n",
    "                 ticktext=['Jan','Feb','Mar','Apr','May','Jun','Jul','Aug','Sep','Oct','Nov','Dec'])\n",
    "fig.update_layout(height=900, xaxis_title='', yaxis_title='',\n",
    "                  margin=dict(t=70, b=0),\n",
    "                  plot_bgcolor='#fafafa', paper_bgcolor='#fafafa',\n",
    "                  title_font=dict(size=29, color='#444', family=\"Lato, sans-serif\"),\n",
    "                  font=dict(color='#555'), \n",
    "                  hoverlabel=dict(bgcolor=\"#f2f2f2\", font_size=13, font_family=\"Lato, sans-serif\"))\n",
    "fig.show()"
   ]
  },
  {
   "cell_type": "code",
   "execution_count": 11,
   "metadata": {},
   "outputs": [
    {
     "data": {
      "application/vnd.plotly.v1+json": {
       "config": {
        "plotlyServerURL": "https://plotly.com"
       },
       "data": [
        {
         "hovertemplate": "month=%{x}<br>holiday_type=%{y}<br>sales=%{marker.color}<extra></extra>",
         "legendgroup": "",
         "marker": {
          "color": [
           369.12,
           5.88,
           786.93,
           271.34,
           320.5,
           383.87,
           523.33,
           336.4,
           413.6,
           447.14,
           439.75,
           370.44,
           515.49,
           240.71,
           344.48,
           355.99,
           381.22,
           388.68,
           475.8,
           345.44,
           441.09,
           375.2,
           369.89,
           310.15,
           481.74,
           388.01,
           380.41,
           521.77,
           518.37,
           489.39,
           458.71,
           471.64,
           525
          ],
          "coloraxis": "coloraxis",
          "size": [
           369.12,
           5.88,
           786.93,
           271.34,
           320.5,
           383.87,
           523.33,
           336.4,
           413.6,
           447.14,
           439.75,
           370.44,
           515.49,
           240.71,
           344.48,
           355.99,
           381.22,
           388.68,
           475.8,
           345.44,
           441.09,
           375.2,
           369.89,
           310.15,
           481.74,
           388.01,
           380.41,
           521.77,
           518.37,
           489.39,
           458.71,
           471.64,
           525
          ],
          "sizemode": "area",
          "sizeref": 1.9673249999999998,
          "symbol": "circle"
         },
         "mode": "markers",
         "name": "",
         "orientation": "h",
         "showlegend": false,
         "type": "scatter",
         "x": [
          1,
          1,
          1,
          1,
          2,
          3,
          4,
          4,
          4,
          5,
          5,
          5,
          5,
          6,
          6,
          7,
          7,
          7,
          7,
          8,
          8,
          9,
          10,
          10,
          11,
          11,
          11,
          11,
          12,
          12,
          12,
          12,
          12
         ],
         "xaxis": "x",
         "y": [
          "Bridge",
          "Holiday",
          "Transfer",
          "Work Day",
          "Holiday",
          "Holiday",
          "Event",
          "Holiday",
          "Transfer",
          "Additional",
          "Event",
          "Holiday",
          "Transfer",
          "Event",
          "Holiday",
          "Additional",
          "Event",
          "Holiday",
          "Transfer",
          "Holiday",
          "Transfer",
          "Holiday",
          "Holiday",
          "Transfer",
          "Bridge",
          "Event",
          "Holiday",
          "Work Day",
          "Additional",
          "Bridge",
          "Event",
          "Holiday",
          "Work Day"
         ],
         "yaxis": "y"
        }
       ],
       "layout": {
        "coloraxis": {
         "colorbar": {
          "title": {
           "text": "sales"
          }
         },
         "colorscale": [
          [
           0,
           "#0d0887"
          ],
          [
           0.1111111111111111,
           "#46039f"
          ],
          [
           0.2222222222222222,
           "#7201a8"
          ],
          [
           0.3333333333333333,
           "#9c179e"
          ],
          [
           0.4444444444444444,
           "#bd3786"
          ],
          [
           0.5555555555555556,
           "#d8576b"
          ],
          [
           0.6666666666666666,
           "#ed7953"
          ],
          [
           0.7777777777777778,
           "#fb9f3a"
          ],
          [
           0.8888888888888888,
           "#fdca26"
          ],
          [
           1,
           "#f0f921"
          ]
         ]
        },
        "font": {
         "color": "#555"
        },
        "height": 400,
        "hoverlabel": {
         "bgcolor": "#f2f2f2",
         "font": {
          "family": "Lato, sans-serif",
          "size": 13
         }
        },
        "legend": {
         "itemsizing": "constant",
         "tracegroupgap": 0
        },
        "margin": {
         "b": 0
        },
        "paper_bgcolor": "#fafafa",
        "plot_bgcolor": "#fafafa",
        "template": {
         "data": {
          "bar": [
           {
            "error_x": {
             "color": "#2a3f5f"
            },
            "error_y": {
             "color": "#2a3f5f"
            },
            "marker": {
             "line": {
              "color": "#E5ECF6",
              "width": 0.5
             },
             "pattern": {
              "fillmode": "overlay",
              "size": 10,
              "solidity": 0.2
             }
            },
            "type": "bar"
           }
          ],
          "barpolar": [
           {
            "marker": {
             "line": {
              "color": "#E5ECF6",
              "width": 0.5
             },
             "pattern": {
              "fillmode": "overlay",
              "size": 10,
              "solidity": 0.2
             }
            },
            "type": "barpolar"
           }
          ],
          "carpet": [
           {
            "aaxis": {
             "endlinecolor": "#2a3f5f",
             "gridcolor": "white",
             "linecolor": "white",
             "minorgridcolor": "white",
             "startlinecolor": "#2a3f5f"
            },
            "baxis": {
             "endlinecolor": "#2a3f5f",
             "gridcolor": "white",
             "linecolor": "white",
             "minorgridcolor": "white",
             "startlinecolor": "#2a3f5f"
            },
            "type": "carpet"
           }
          ],
          "choropleth": [
           {
            "colorbar": {
             "outlinewidth": 0,
             "ticks": ""
            },
            "type": "choropleth"
           }
          ],
          "contour": [
           {
            "colorbar": {
             "outlinewidth": 0,
             "ticks": ""
            },
            "colorscale": [
             [
              0,
              "#0d0887"
             ],
             [
              0.1111111111111111,
              "#46039f"
             ],
             [
              0.2222222222222222,
              "#7201a8"
             ],
             [
              0.3333333333333333,
              "#9c179e"
             ],
             [
              0.4444444444444444,
              "#bd3786"
             ],
             [
              0.5555555555555556,
              "#d8576b"
             ],
             [
              0.6666666666666666,
              "#ed7953"
             ],
             [
              0.7777777777777778,
              "#fb9f3a"
             ],
             [
              0.8888888888888888,
              "#fdca26"
             ],
             [
              1,
              "#f0f921"
             ]
            ],
            "type": "contour"
           }
          ],
          "contourcarpet": [
           {
            "colorbar": {
             "outlinewidth": 0,
             "ticks": ""
            },
            "type": "contourcarpet"
           }
          ],
          "heatmap": [
           {
            "colorbar": {
             "outlinewidth": 0,
             "ticks": ""
            },
            "colorscale": [
             [
              0,
              "#0d0887"
             ],
             [
              0.1111111111111111,
              "#46039f"
             ],
             [
              0.2222222222222222,
              "#7201a8"
             ],
             [
              0.3333333333333333,
              "#9c179e"
             ],
             [
              0.4444444444444444,
              "#bd3786"
             ],
             [
              0.5555555555555556,
              "#d8576b"
             ],
             [
              0.6666666666666666,
              "#ed7953"
             ],
             [
              0.7777777777777778,
              "#fb9f3a"
             ],
             [
              0.8888888888888888,
              "#fdca26"
             ],
             [
              1,
              "#f0f921"
             ]
            ],
            "type": "heatmap"
           }
          ],
          "heatmapgl": [
           {
            "colorbar": {
             "outlinewidth": 0,
             "ticks": ""
            },
            "colorscale": [
             [
              0,
              "#0d0887"
             ],
             [
              0.1111111111111111,
              "#46039f"
             ],
             [
              0.2222222222222222,
              "#7201a8"
             ],
             [
              0.3333333333333333,
              "#9c179e"
             ],
             [
              0.4444444444444444,
              "#bd3786"
             ],
             [
              0.5555555555555556,
              "#d8576b"
             ],
             [
              0.6666666666666666,
              "#ed7953"
             ],
             [
              0.7777777777777778,
              "#fb9f3a"
             ],
             [
              0.8888888888888888,
              "#fdca26"
             ],
             [
              1,
              "#f0f921"
             ]
            ],
            "type": "heatmapgl"
           }
          ],
          "histogram": [
           {
            "marker": {
             "pattern": {
              "fillmode": "overlay",
              "size": 10,
              "solidity": 0.2
             }
            },
            "type": "histogram"
           }
          ],
          "histogram2d": [
           {
            "colorbar": {
             "outlinewidth": 0,
             "ticks": ""
            },
            "colorscale": [
             [
              0,
              "#0d0887"
             ],
             [
              0.1111111111111111,
              "#46039f"
             ],
             [
              0.2222222222222222,
              "#7201a8"
             ],
             [
              0.3333333333333333,
              "#9c179e"
             ],
             [
              0.4444444444444444,
              "#bd3786"
             ],
             [
              0.5555555555555556,
              "#d8576b"
             ],
             [
              0.6666666666666666,
              "#ed7953"
             ],
             [
              0.7777777777777778,
              "#fb9f3a"
             ],
             [
              0.8888888888888888,
              "#fdca26"
             ],
             [
              1,
              "#f0f921"
             ]
            ],
            "type": "histogram2d"
           }
          ],
          "histogram2dcontour": [
           {
            "colorbar": {
             "outlinewidth": 0,
             "ticks": ""
            },
            "colorscale": [
             [
              0,
              "#0d0887"
             ],
             [
              0.1111111111111111,
              "#46039f"
             ],
             [
              0.2222222222222222,
              "#7201a8"
             ],
             [
              0.3333333333333333,
              "#9c179e"
             ],
             [
              0.4444444444444444,
              "#bd3786"
             ],
             [
              0.5555555555555556,
              "#d8576b"
             ],
             [
              0.6666666666666666,
              "#ed7953"
             ],
             [
              0.7777777777777778,
              "#fb9f3a"
             ],
             [
              0.8888888888888888,
              "#fdca26"
             ],
             [
              1,
              "#f0f921"
             ]
            ],
            "type": "histogram2dcontour"
           }
          ],
          "mesh3d": [
           {
            "colorbar": {
             "outlinewidth": 0,
             "ticks": ""
            },
            "type": "mesh3d"
           }
          ],
          "parcoords": [
           {
            "line": {
             "colorbar": {
              "outlinewidth": 0,
              "ticks": ""
             }
            },
            "type": "parcoords"
           }
          ],
          "pie": [
           {
            "automargin": true,
            "type": "pie"
           }
          ],
          "scatter": [
           {
            "marker": {
             "colorbar": {
              "outlinewidth": 0,
              "ticks": ""
             }
            },
            "type": "scatter"
           }
          ],
          "scatter3d": [
           {
            "line": {
             "colorbar": {
              "outlinewidth": 0,
              "ticks": ""
             }
            },
            "marker": {
             "colorbar": {
              "outlinewidth": 0,
              "ticks": ""
             }
            },
            "type": "scatter3d"
           }
          ],
          "scattercarpet": [
           {
            "marker": {
             "colorbar": {
              "outlinewidth": 0,
              "ticks": ""
             }
            },
            "type": "scattercarpet"
           }
          ],
          "scattergeo": [
           {
            "marker": {
             "colorbar": {
              "outlinewidth": 0,
              "ticks": ""
             }
            },
            "type": "scattergeo"
           }
          ],
          "scattergl": [
           {
            "marker": {
             "colorbar": {
              "outlinewidth": 0,
              "ticks": ""
             }
            },
            "type": "scattergl"
           }
          ],
          "scattermapbox": [
           {
            "marker": {
             "colorbar": {
              "outlinewidth": 0,
              "ticks": ""
             }
            },
            "type": "scattermapbox"
           }
          ],
          "scatterpolar": [
           {
            "marker": {
             "colorbar": {
              "outlinewidth": 0,
              "ticks": ""
             }
            },
            "type": "scatterpolar"
           }
          ],
          "scatterpolargl": [
           {
            "marker": {
             "colorbar": {
              "outlinewidth": 0,
              "ticks": ""
             }
            },
            "type": "scatterpolargl"
           }
          ],
          "scatterternary": [
           {
            "marker": {
             "colorbar": {
              "outlinewidth": 0,
              "ticks": ""
             }
            },
            "type": "scatterternary"
           }
          ],
          "surface": [
           {
            "colorbar": {
             "outlinewidth": 0,
             "ticks": ""
            },
            "colorscale": [
             [
              0,
              "#0d0887"
             ],
             [
              0.1111111111111111,
              "#46039f"
             ],
             [
              0.2222222222222222,
              "#7201a8"
             ],
             [
              0.3333333333333333,
              "#9c179e"
             ],
             [
              0.4444444444444444,
              "#bd3786"
             ],
             [
              0.5555555555555556,
              "#d8576b"
             ],
             [
              0.6666666666666666,
              "#ed7953"
             ],
             [
              0.7777777777777778,
              "#fb9f3a"
             ],
             [
              0.8888888888888888,
              "#fdca26"
             ],
             [
              1,
              "#f0f921"
             ]
            ],
            "type": "surface"
           }
          ],
          "table": [
           {
            "cells": {
             "fill": {
              "color": "#EBF0F8"
             },
             "line": {
              "color": "white"
             }
            },
            "header": {
             "fill": {
              "color": "#C8D4E3"
             },
             "line": {
              "color": "white"
             }
            },
            "type": "table"
           }
          ]
         },
         "layout": {
          "annotationdefaults": {
           "arrowcolor": "#2a3f5f",
           "arrowhead": 0,
           "arrowwidth": 1
          },
          "autotypenumbers": "strict",
          "coloraxis": {
           "colorbar": {
            "outlinewidth": 0,
            "ticks": ""
           }
          },
          "colorscale": {
           "diverging": [
            [
             0,
             "#8e0152"
            ],
            [
             0.1,
             "#c51b7d"
            ],
            [
             0.2,
             "#de77ae"
            ],
            [
             0.3,
             "#f1b6da"
            ],
            [
             0.4,
             "#fde0ef"
            ],
            [
             0.5,
             "#f7f7f7"
            ],
            [
             0.6,
             "#e6f5d0"
            ],
            [
             0.7,
             "#b8e186"
            ],
            [
             0.8,
             "#7fbc41"
            ],
            [
             0.9,
             "#4d9221"
            ],
            [
             1,
             "#276419"
            ]
           ],
           "sequential": [
            [
             0,
             "#0d0887"
            ],
            [
             0.1111111111111111,
             "#46039f"
            ],
            [
             0.2222222222222222,
             "#7201a8"
            ],
            [
             0.3333333333333333,
             "#9c179e"
            ],
            [
             0.4444444444444444,
             "#bd3786"
            ],
            [
             0.5555555555555556,
             "#d8576b"
            ],
            [
             0.6666666666666666,
             "#ed7953"
            ],
            [
             0.7777777777777778,
             "#fb9f3a"
            ],
            [
             0.8888888888888888,
             "#fdca26"
            ],
            [
             1,
             "#f0f921"
            ]
           ],
           "sequentialminus": [
            [
             0,
             "#0d0887"
            ],
            [
             0.1111111111111111,
             "#46039f"
            ],
            [
             0.2222222222222222,
             "#7201a8"
            ],
            [
             0.3333333333333333,
             "#9c179e"
            ],
            [
             0.4444444444444444,
             "#bd3786"
            ],
            [
             0.5555555555555556,
             "#d8576b"
            ],
            [
             0.6666666666666666,
             "#ed7953"
            ],
            [
             0.7777777777777778,
             "#fb9f3a"
            ],
            [
             0.8888888888888888,
             "#fdca26"
            ],
            [
             1,
             "#f0f921"
            ]
           ]
          },
          "colorway": [
           "#636efa",
           "#EF553B",
           "#00cc96",
           "#ab63fa",
           "#FFA15A",
           "#19d3f3",
           "#FF6692",
           "#B6E880",
           "#FF97FF",
           "#FECB52"
          ],
          "font": {
           "color": "#2a3f5f"
          },
          "geo": {
           "bgcolor": "white",
           "lakecolor": "white",
           "landcolor": "#E5ECF6",
           "showlakes": true,
           "showland": true,
           "subunitcolor": "white"
          },
          "hoverlabel": {
           "align": "left"
          },
          "hovermode": "closest",
          "mapbox": {
           "style": "light"
          },
          "paper_bgcolor": "white",
          "plot_bgcolor": "#E5ECF6",
          "polar": {
           "angularaxis": {
            "gridcolor": "white",
            "linecolor": "white",
            "ticks": ""
           },
           "bgcolor": "#E5ECF6",
           "radialaxis": {
            "gridcolor": "white",
            "linecolor": "white",
            "ticks": ""
           }
          },
          "scene": {
           "xaxis": {
            "backgroundcolor": "#E5ECF6",
            "gridcolor": "white",
            "gridwidth": 2,
            "linecolor": "white",
            "showbackground": true,
            "ticks": "",
            "zerolinecolor": "white"
           },
           "yaxis": {
            "backgroundcolor": "#E5ECF6",
            "gridcolor": "white",
            "gridwidth": 2,
            "linecolor": "white",
            "showbackground": true,
            "ticks": "",
            "zerolinecolor": "white"
           },
           "zaxis": {
            "backgroundcolor": "#E5ECF6",
            "gridcolor": "white",
            "gridwidth": 2,
            "linecolor": "white",
            "showbackground": true,
            "ticks": "",
            "zerolinecolor": "white"
           }
          },
          "shapedefaults": {
           "line": {
            "color": "#2a3f5f"
           }
          },
          "ternary": {
           "aaxis": {
            "gridcolor": "white",
            "linecolor": "white",
            "ticks": ""
           },
           "baxis": {
            "gridcolor": "white",
            "linecolor": "white",
            "ticks": ""
           },
           "bgcolor": "#E5ECF6",
           "caxis": {
            "gridcolor": "white",
            "linecolor": "white",
            "ticks": ""
           }
          },
          "title": {
           "x": 0.05
          },
          "xaxis": {
           "automargin": true,
           "gridcolor": "white",
           "linecolor": "white",
           "ticks": "",
           "title": {
            "standoff": 15
           },
           "zerolinecolor": "white",
           "zerolinewidth": 2
          },
          "yaxis": {
           "automargin": true,
           "gridcolor": "white",
           "linecolor": "white",
           "ticks": "",
           "title": {
            "standoff": 15
           },
           "zerolinecolor": "white",
           "zerolinewidth": 2
          }
         }
        },
        "title": {
         "font": {
          "color": "#444",
          "family": "Lato, sans-serif",
          "size": 29
         },
         "text": "Average Sales: Month Vs Holiday Type"
        },
        "xaxis": {
         "anchor": "y",
         "domain": [
          0,
          1
         ],
         "tickmode": "array",
         "ticktext": [
          "Jan",
          "Feb",
          "Mar",
          "Apr",
          "May",
          "Jun",
          "Jul",
          "Aug",
          "Sep",
          "Oct",
          "Nov",
          "Dec"
         ],
         "tickvals": [
          1,
          2,
          3,
          4,
          5,
          6,
          7,
          8,
          9,
          10,
          11,
          12
         ],
         "title": {
          "text": ""
         }
        },
        "yaxis": {
         "anchor": "x",
         "domain": [
          0,
          1
         ],
         "ticksuffix": "  ",
         "title": {
          "text": ""
         }
        }
       }
      },
      "text/html": [
       "<div>                            <div id=\"97b61b7a-ebae-4c35-98c5-a14dd18bda16\" class=\"plotly-graph-div\" style=\"height:400px; width:100%;\"></div>            <script type=\"text/javascript\">                require([\"plotly\"], function(Plotly) {                    window.PLOTLYENV=window.PLOTLYENV || {};                                    if (document.getElementById(\"97b61b7a-ebae-4c35-98c5-a14dd18bda16\")) {                    Plotly.newPlot(                        \"97b61b7a-ebae-4c35-98c5-a14dd18bda16\",                        [{\"hovertemplate\":\"month=%{x}<br>holiday_type=%{y}<br>sales=%{marker.color}<extra></extra>\",\"legendgroup\":\"\",\"marker\":{\"color\":[369.12,5.88,786.93,271.34,320.5,383.87,523.33,336.4,413.6,447.14,439.75,370.44,515.49,240.71,344.48,355.99,381.22,388.68,475.8,345.44,441.09,375.2,369.89,310.15,481.74,388.01,380.41,521.77,518.37,489.39,458.71,471.64,525.0],\"coloraxis\":\"coloraxis\",\"size\":[369.12,5.88,786.93,271.34,320.5,383.87,523.33,336.4,413.6,447.14,439.75,370.44,515.49,240.71,344.48,355.99,381.22,388.68,475.8,345.44,441.09,375.2,369.89,310.15,481.74,388.01,380.41,521.77,518.37,489.39,458.71,471.64,525.0],\"sizemode\":\"area\",\"sizeref\":1.9673249999999998,\"symbol\":\"circle\"},\"mode\":\"markers\",\"name\":\"\",\"orientation\":\"h\",\"showlegend\":false,\"x\":[1,1,1,1,2,3,4,4,4,5,5,5,5,6,6,7,7,7,7,8,8,9,10,10,11,11,11,11,12,12,12,12,12],\"xaxis\":\"x\",\"y\":[\"Bridge\",\"Holiday\",\"Transfer\",\"Work Day\",\"Holiday\",\"Holiday\",\"Event\",\"Holiday\",\"Transfer\",\"Additional\",\"Event\",\"Holiday\",\"Transfer\",\"Event\",\"Holiday\",\"Additional\",\"Event\",\"Holiday\",\"Transfer\",\"Holiday\",\"Transfer\",\"Holiday\",\"Holiday\",\"Transfer\",\"Bridge\",\"Event\",\"Holiday\",\"Work Day\",\"Additional\",\"Bridge\",\"Event\",\"Holiday\",\"Work Day\"],\"yaxis\":\"y\",\"type\":\"scatter\"}],                        {\"template\":{\"data\":{\"bar\":[{\"error_x\":{\"color\":\"#2a3f5f\"},\"error_y\":{\"color\":\"#2a3f5f\"},\"marker\":{\"line\":{\"color\":\"#E5ECF6\",\"width\":0.5},\"pattern\":{\"fillmode\":\"overlay\",\"size\":10,\"solidity\":0.2}},\"type\":\"bar\"}],\"barpolar\":[{\"marker\":{\"line\":{\"color\":\"#E5ECF6\",\"width\":0.5},\"pattern\":{\"fillmode\":\"overlay\",\"size\":10,\"solidity\":0.2}},\"type\":\"barpolar\"}],\"carpet\":[{\"aaxis\":{\"endlinecolor\":\"#2a3f5f\",\"gridcolor\":\"white\",\"linecolor\":\"white\",\"minorgridcolor\":\"white\",\"startlinecolor\":\"#2a3f5f\"},\"baxis\":{\"endlinecolor\":\"#2a3f5f\",\"gridcolor\":\"white\",\"linecolor\":\"white\",\"minorgridcolor\":\"white\",\"startlinecolor\":\"#2a3f5f\"},\"type\":\"carpet\"}],\"choropleth\":[{\"colorbar\":{\"outlinewidth\":0,\"ticks\":\"\"},\"type\":\"choropleth\"}],\"contour\":[{\"colorbar\":{\"outlinewidth\":0,\"ticks\":\"\"},\"colorscale\":[[0.0,\"#0d0887\"],[0.1111111111111111,\"#46039f\"],[0.2222222222222222,\"#7201a8\"],[0.3333333333333333,\"#9c179e\"],[0.4444444444444444,\"#bd3786\"],[0.5555555555555556,\"#d8576b\"],[0.6666666666666666,\"#ed7953\"],[0.7777777777777778,\"#fb9f3a\"],[0.8888888888888888,\"#fdca26\"],[1.0,\"#f0f921\"]],\"type\":\"contour\"}],\"contourcarpet\":[{\"colorbar\":{\"outlinewidth\":0,\"ticks\":\"\"},\"type\":\"contourcarpet\"}],\"heatmap\":[{\"colorbar\":{\"outlinewidth\":0,\"ticks\":\"\"},\"colorscale\":[[0.0,\"#0d0887\"],[0.1111111111111111,\"#46039f\"],[0.2222222222222222,\"#7201a8\"],[0.3333333333333333,\"#9c179e\"],[0.4444444444444444,\"#bd3786\"],[0.5555555555555556,\"#d8576b\"],[0.6666666666666666,\"#ed7953\"],[0.7777777777777778,\"#fb9f3a\"],[0.8888888888888888,\"#fdca26\"],[1.0,\"#f0f921\"]],\"type\":\"heatmap\"}],\"heatmapgl\":[{\"colorbar\":{\"outlinewidth\":0,\"ticks\":\"\"},\"colorscale\":[[0.0,\"#0d0887\"],[0.1111111111111111,\"#46039f\"],[0.2222222222222222,\"#7201a8\"],[0.3333333333333333,\"#9c179e\"],[0.4444444444444444,\"#bd3786\"],[0.5555555555555556,\"#d8576b\"],[0.6666666666666666,\"#ed7953\"],[0.7777777777777778,\"#fb9f3a\"],[0.8888888888888888,\"#fdca26\"],[1.0,\"#f0f921\"]],\"type\":\"heatmapgl\"}],\"histogram\":[{\"marker\":{\"pattern\":{\"fillmode\":\"overlay\",\"size\":10,\"solidity\":0.2}},\"type\":\"histogram\"}],\"histogram2d\":[{\"colorbar\":{\"outlinewidth\":0,\"ticks\":\"\"},\"colorscale\":[[0.0,\"#0d0887\"],[0.1111111111111111,\"#46039f\"],[0.2222222222222222,\"#7201a8\"],[0.3333333333333333,\"#9c179e\"],[0.4444444444444444,\"#bd3786\"],[0.5555555555555556,\"#d8576b\"],[0.6666666666666666,\"#ed7953\"],[0.7777777777777778,\"#fb9f3a\"],[0.8888888888888888,\"#fdca26\"],[1.0,\"#f0f921\"]],\"type\":\"histogram2d\"}],\"histogram2dcontour\":[{\"colorbar\":{\"outlinewidth\":0,\"ticks\":\"\"},\"colorscale\":[[0.0,\"#0d0887\"],[0.1111111111111111,\"#46039f\"],[0.2222222222222222,\"#7201a8\"],[0.3333333333333333,\"#9c179e\"],[0.4444444444444444,\"#bd3786\"],[0.5555555555555556,\"#d8576b\"],[0.6666666666666666,\"#ed7953\"],[0.7777777777777778,\"#fb9f3a\"],[0.8888888888888888,\"#fdca26\"],[1.0,\"#f0f921\"]],\"type\":\"histogram2dcontour\"}],\"mesh3d\":[{\"colorbar\":{\"outlinewidth\":0,\"ticks\":\"\"},\"type\":\"mesh3d\"}],\"parcoords\":[{\"line\":{\"colorbar\":{\"outlinewidth\":0,\"ticks\":\"\"}},\"type\":\"parcoords\"}],\"pie\":[{\"automargin\":true,\"type\":\"pie\"}],\"scatter\":[{\"marker\":{\"colorbar\":{\"outlinewidth\":0,\"ticks\":\"\"}},\"type\":\"scatter\"}],\"scatter3d\":[{\"line\":{\"colorbar\":{\"outlinewidth\":0,\"ticks\":\"\"}},\"marker\":{\"colorbar\":{\"outlinewidth\":0,\"ticks\":\"\"}},\"type\":\"scatter3d\"}],\"scattercarpet\":[{\"marker\":{\"colorbar\":{\"outlinewidth\":0,\"ticks\":\"\"}},\"type\":\"scattercarpet\"}],\"scattergeo\":[{\"marker\":{\"colorbar\":{\"outlinewidth\":0,\"ticks\":\"\"}},\"type\":\"scattergeo\"}],\"scattergl\":[{\"marker\":{\"colorbar\":{\"outlinewidth\":0,\"ticks\":\"\"}},\"type\":\"scattergl\"}],\"scattermapbox\":[{\"marker\":{\"colorbar\":{\"outlinewidth\":0,\"ticks\":\"\"}},\"type\":\"scattermapbox\"}],\"scatterpolar\":[{\"marker\":{\"colorbar\":{\"outlinewidth\":0,\"ticks\":\"\"}},\"type\":\"scatterpolar\"}],\"scatterpolargl\":[{\"marker\":{\"colorbar\":{\"outlinewidth\":0,\"ticks\":\"\"}},\"type\":\"scatterpolargl\"}],\"scatterternary\":[{\"marker\":{\"colorbar\":{\"outlinewidth\":0,\"ticks\":\"\"}},\"type\":\"scatterternary\"}],\"surface\":[{\"colorbar\":{\"outlinewidth\":0,\"ticks\":\"\"},\"colorscale\":[[0.0,\"#0d0887\"],[0.1111111111111111,\"#46039f\"],[0.2222222222222222,\"#7201a8\"],[0.3333333333333333,\"#9c179e\"],[0.4444444444444444,\"#bd3786\"],[0.5555555555555556,\"#d8576b\"],[0.6666666666666666,\"#ed7953\"],[0.7777777777777778,\"#fb9f3a\"],[0.8888888888888888,\"#fdca26\"],[1.0,\"#f0f921\"]],\"type\":\"surface\"}],\"table\":[{\"cells\":{\"fill\":{\"color\":\"#EBF0F8\"},\"line\":{\"color\":\"white\"}},\"header\":{\"fill\":{\"color\":\"#C8D4E3\"},\"line\":{\"color\":\"white\"}},\"type\":\"table\"}]},\"layout\":{\"annotationdefaults\":{\"arrowcolor\":\"#2a3f5f\",\"arrowhead\":0,\"arrowwidth\":1},\"autotypenumbers\":\"strict\",\"coloraxis\":{\"colorbar\":{\"outlinewidth\":0,\"ticks\":\"\"}},\"colorscale\":{\"diverging\":[[0,\"#8e0152\"],[0.1,\"#c51b7d\"],[0.2,\"#de77ae\"],[0.3,\"#f1b6da\"],[0.4,\"#fde0ef\"],[0.5,\"#f7f7f7\"],[0.6,\"#e6f5d0\"],[0.7,\"#b8e186\"],[0.8,\"#7fbc41\"],[0.9,\"#4d9221\"],[1,\"#276419\"]],\"sequential\":[[0.0,\"#0d0887\"],[0.1111111111111111,\"#46039f\"],[0.2222222222222222,\"#7201a8\"],[0.3333333333333333,\"#9c179e\"],[0.4444444444444444,\"#bd3786\"],[0.5555555555555556,\"#d8576b\"],[0.6666666666666666,\"#ed7953\"],[0.7777777777777778,\"#fb9f3a\"],[0.8888888888888888,\"#fdca26\"],[1.0,\"#f0f921\"]],\"sequentialminus\":[[0.0,\"#0d0887\"],[0.1111111111111111,\"#46039f\"],[0.2222222222222222,\"#7201a8\"],[0.3333333333333333,\"#9c179e\"],[0.4444444444444444,\"#bd3786\"],[0.5555555555555556,\"#d8576b\"],[0.6666666666666666,\"#ed7953\"],[0.7777777777777778,\"#fb9f3a\"],[0.8888888888888888,\"#fdca26\"],[1.0,\"#f0f921\"]]},\"colorway\":[\"#636efa\",\"#EF553B\",\"#00cc96\",\"#ab63fa\",\"#FFA15A\",\"#19d3f3\",\"#FF6692\",\"#B6E880\",\"#FF97FF\",\"#FECB52\"],\"font\":{\"color\":\"#2a3f5f\"},\"geo\":{\"bgcolor\":\"white\",\"lakecolor\":\"white\",\"landcolor\":\"#E5ECF6\",\"showlakes\":true,\"showland\":true,\"subunitcolor\":\"white\"},\"hoverlabel\":{\"align\":\"left\"},\"hovermode\":\"closest\",\"mapbox\":{\"style\":\"light\"},\"paper_bgcolor\":\"white\",\"plot_bgcolor\":\"#E5ECF6\",\"polar\":{\"angularaxis\":{\"gridcolor\":\"white\",\"linecolor\":\"white\",\"ticks\":\"\"},\"bgcolor\":\"#E5ECF6\",\"radialaxis\":{\"gridcolor\":\"white\",\"linecolor\":\"white\",\"ticks\":\"\"}},\"scene\":{\"xaxis\":{\"backgroundcolor\":\"#E5ECF6\",\"gridcolor\":\"white\",\"gridwidth\":2,\"linecolor\":\"white\",\"showbackground\":true,\"ticks\":\"\",\"zerolinecolor\":\"white\"},\"yaxis\":{\"backgroundcolor\":\"#E5ECF6\",\"gridcolor\":\"white\",\"gridwidth\":2,\"linecolor\":\"white\",\"showbackground\":true,\"ticks\":\"\",\"zerolinecolor\":\"white\"},\"zaxis\":{\"backgroundcolor\":\"#E5ECF6\",\"gridcolor\":\"white\",\"gridwidth\":2,\"linecolor\":\"white\",\"showbackground\":true,\"ticks\":\"\",\"zerolinecolor\":\"white\"}},\"shapedefaults\":{\"line\":{\"color\":\"#2a3f5f\"}},\"ternary\":{\"aaxis\":{\"gridcolor\":\"white\",\"linecolor\":\"white\",\"ticks\":\"\"},\"baxis\":{\"gridcolor\":\"white\",\"linecolor\":\"white\",\"ticks\":\"\"},\"bgcolor\":\"#E5ECF6\",\"caxis\":{\"gridcolor\":\"white\",\"linecolor\":\"white\",\"ticks\":\"\"}},\"title\":{\"x\":0.05},\"xaxis\":{\"automargin\":true,\"gridcolor\":\"white\",\"linecolor\":\"white\",\"ticks\":\"\",\"title\":{\"standoff\":15},\"zerolinecolor\":\"white\",\"zerolinewidth\":2},\"yaxis\":{\"automargin\":true,\"gridcolor\":\"white\",\"linecolor\":\"white\",\"ticks\":\"\",\"title\":{\"standoff\":15},\"zerolinecolor\":\"white\",\"zerolinewidth\":2}}},\"xaxis\":{\"anchor\":\"y\",\"domain\":[0.0,1.0],\"title\":{\"text\":\"\"},\"tickmode\":\"array\",\"tickvals\":[1,2,3,4,5,6,7,8,9,10,11,12],\"ticktext\":[\"Jan\",\"Feb\",\"Mar\",\"Apr\",\"May\",\"Jun\",\"Jul\",\"Aug\",\"Sep\",\"Oct\",\"Nov\",\"Dec\"]},\"yaxis\":{\"anchor\":\"x\",\"domain\":[0.0,1.0],\"title\":{\"text\":\"\"},\"ticksuffix\":\"  \"},\"coloraxis\":{\"colorbar\":{\"title\":{\"text\":\"sales\"}},\"colorscale\":[[0.0,\"#0d0887\"],[0.1111111111111111,\"#46039f\"],[0.2222222222222222,\"#7201a8\"],[0.3333333333333333,\"#9c179e\"],[0.4444444444444444,\"#bd3786\"],[0.5555555555555556,\"#d8576b\"],[0.6666666666666666,\"#ed7953\"],[0.7777777777777778,\"#fb9f3a\"],[0.8888888888888888,\"#fdca26\"],[1.0,\"#f0f921\"]]},\"legend\":{\"tracegroupgap\":0,\"itemsizing\":\"constant\"},\"title\":{\"text\":\"Average Sales: Month Vs Holiday Type\",\"font\":{\"size\":29,\"color\":\"#444\",\"family\":\"Lato, sans-serif\"}},\"margin\":{\"b\":0},\"font\":{\"color\":\"#555\"},\"hoverlabel\":{\"font\":{\"size\":13,\"family\":\"Lato, sans-serif\"},\"bgcolor\":\"#f2f2f2\"},\"height\":400,\"plot_bgcolor\":\"#fafafa\",\"paper_bgcolor\":\"#fafafa\"},                        {\"responsive\": true}                    ).then(function(){\n",
       "                            \n",
       "var gd = document.getElementById('97b61b7a-ebae-4c35-98c5-a14dd18bda16');\n",
       "var x = new MutationObserver(function (mutations, observer) {{\n",
       "        var display = window.getComputedStyle(gd).display;\n",
       "        if (!display || display === 'none') {{\n",
       "            console.log([gd, 'removed!']);\n",
       "            Plotly.purge(gd);\n",
       "            observer.disconnect();\n",
       "        }}\n",
       "}});\n",
       "\n",
       "// Listen for the removal of the full notebook cells\n",
       "var notebookContainer = gd.closest('#notebook-container');\n",
       "if (notebookContainer) {{\n",
       "    x.observe(notebookContainer, {childList: true});\n",
       "}}\n",
       "\n",
       "// Listen for the clearing of the current output cell\n",
       "var outputEl = gd.closest('.output');\n",
       "if (outputEl) {{\n",
       "    x.observe(outputEl, {childList: true});\n",
       "}}\n",
       "\n",
       "                        })                };                });            </script>        </div>"
      ]
     },
     "metadata": {},
     "output_type": "display_data"
    }
   ],
   "source": [
    "# data\n",
    "df_m_ht = df_train1.groupby(['month','holiday_type']).agg({\"sales\" : \"mean\"}).reset_index()\n",
    "df_m_ht['sales'] = round(df_m_ht['sales'], 2)\n",
    "\n",
    "# chart\n",
    "fig = px.scatter(df_m_ht, x='month', color='sales', y='holiday_type', size='sales',\n",
    "                 color_discrete_sequence=px.colors.qualitative.D3,\n",
    "                 title=\"Average Sales: Month Vs Holiday Type\")\n",
    "# styling\n",
    "fig.update_yaxes(ticksuffix='  ')\n",
    "fig.update_xaxes(tickmode = 'array', tickvals=[i for i in range(1,13)], \n",
    "                 ticktext=['Jan','Feb','Mar','Apr','May','Jun','Jul','Aug','Sep','Oct','Nov','Dec'])\n",
    "fig.update_layout(height=400, xaxis_title='', yaxis_title='',\n",
    "                  margin=dict(b=0),\n",
    "                  plot_bgcolor='#fafafa', paper_bgcolor='#fafafa',\n",
    "                  title_font=dict(size=29, color='#444', family=\"Lato, sans-serif\"),\n",
    "                  font=dict(color='#555'), \n",
    "                  hoverlabel=dict(bgcolor=\"#f2f2f2\", font_size=13, font_family=\"Lato, sans-serif\"))\n",
    "fig.show()"
   ]
  },
  {
   "cell_type": "code",
   "execution_count": 12,
   "metadata": {},
   "outputs": [
    {
     "data": {
      "application/vnd.plotly.v1+json": {
       "config": {
        "plotlyServerURL": "https://plotly.com"
       },
       "data": [
        {
         "hovertemplate": "year=2013<br>month=%{x}<br>holiday_type=%{y}<br>sales=%{marker.color}<extra></extra>",
         "legendgroup": "",
         "marker": {
          "color": [
           1.41,
           247.08,
           164.82,
           307.44,
           228.52,
           287.37,
           217.65,
           242.09,
           199.26,
           173.54,
           191.28,
           220.66,
           272.11,
           195.26,
           226.1,
           257.43,
           333.49,
           321.33
          ],
          "coloraxis": "coloraxis",
          "size": [
           1.41,
           247.08,
           164.82,
           307.44,
           228.52,
           287.37,
           217.65,
           242.09,
           199.26,
           173.54,
           191.28,
           220.66,
           272.11,
           195.26,
           226.1,
           257.43,
           333.49,
           321.33
          ],
          "sizemode": "area",
          "sizeref": 1.9673249999999998,
          "symbol": "circle"
         },
         "mode": "markers",
         "name": "",
         "orientation": "h",
         "showlegend": false,
         "type": "scatter",
         "x": [
          1,
          1,
          2,
          3,
          4,
          5,
          5,
          5,
          6,
          7,
          7,
          8,
          9,
          10,
          10,
          11,
          12,
          12
         ],
         "xaxis": "x5",
         "y": [
          "Holiday",
          "Work Day",
          "Holiday",
          "Holiday",
          "Holiday",
          "Additional",
          "Event",
          "Holiday",
          "Holiday",
          "Additional",
          "Holiday",
          "Holiday",
          "Holiday",
          "Holiday",
          "Transfer",
          "Holiday",
          "Additional",
          "Holiday"
         ],
         "yaxis": "y5"
        },
        {
         "hovertemplate": "year=2014<br>month=%{x}<br>holiday_type=%{y}<br>sales=%{marker.color}<extra></extra>",
         "legendgroup": "",
         "marker": {
          "color": [
           4.83,
           379.78,
           245.73,
           323.8,
           255.06,
           270.34,
           240.71,
           207.77,
           271.95,
           381.22,
           325.71,
           260.73,
           497.49,
           307.78,
           394.2,
           314.04,
           366.24,
           516.89,
           489.39,
           458.71,
           491.55,
           525
          ],
          "coloraxis": "coloraxis",
          "size": [
           4.83,
           379.78,
           245.73,
           323.8,
           255.06,
           270.34,
           240.71,
           207.77,
           271.95,
           381.22,
           325.71,
           260.73,
           497.49,
           307.78,
           394.2,
           314.04,
           366.24,
           516.89,
           489.39,
           458.71,
           491.55,
           525
          ],
          "sizemode": "area",
          "sizeref": 1.9673249999999998,
          "symbol": "circle"
         },
         "mode": "markers",
         "name": "",
         "orientation": "h",
         "showlegend": false,
         "type": "scatter",
         "x": [
          1,
          3,
          4,
          5,
          5,
          5,
          6,
          6,
          7,
          7,
          7,
          8,
          9,
          10,
          10,
          11,
          11,
          12,
          12,
          12,
          12,
          12
         ],
         "xaxis": "x4",
         "y": [
          "Holiday",
          "Holiday",
          "Holiday",
          "Additional",
          "Event",
          "Holiday",
          "Event",
          "Holiday",
          "Additional",
          "Event",
          "Holiday",
          "Holiday",
          "Holiday",
          "Holiday",
          "Transfer",
          "Event",
          "Holiday",
          "Additional",
          "Bridge",
          "Event",
          "Holiday",
          "Work Day"
         ],
         "yaxis": "y4"
        },
        {
         "hovertemplate": "year=2015<br>month=%{x}<br>holiday_type=%{y}<br>sales=%{marker.color}<extra></extra>",
         "legendgroup": "",
         "marker": {
          "color": [
           369.12,
           7.17,
           319.84,
           253.6,
           306.42,
           286.99,
           396.58,
           313.17,
           348.81,
           308.14,
           395.03,
           438.8,
           376.69,
           447.39,
           394.82,
           418.24,
           591,
           560.71
          ],
          "coloraxis": "coloraxis",
          "size": [
           369.12,
           7.17,
           319.84,
           253.6,
           306.42,
           286.99,
           396.58,
           313.17,
           348.81,
           308.14,
           395.03,
           438.8,
           376.69,
           447.39,
           394.82,
           418.24,
           591,
           560.71
          ],
          "sizemode": "area",
          "sizeref": 1.9673249999999998,
          "symbol": "circle"
         },
         "mode": "markers",
         "name": "",
         "orientation": "h",
         "showlegend": false,
         "type": "scatter",
         "x": [
          1,
          1,
          1,
          2,
          3,
          4,
          5,
          5,
          5,
          6,
          7,
          8,
          9,
          10,
          11,
          11,
          12,
          12
         ],
         "xaxis": "x3",
         "y": [
          "Bridge",
          "Holiday",
          "Work Day",
          "Holiday",
          "Holiday",
          "Holiday",
          "Additional",
          "Event",
          "Holiday",
          "Holiday",
          "Holiday",
          "Holiday",
          "Holiday",
          "Holiday",
          "Event",
          "Holiday",
          "Additional",
          "Holiday"
         ],
         "yaxis": "y3"
        },
        {
         "hovertemplate": "year=2016<br>month=%{x}<br>holiday_type=%{y}<br>sales=%{marker.color}<extra></extra>",
         "legendgroup": "",
         "marker": {
          "color": [
           9.22,
           388.18,
           424.24,
           523.33,
           430.97,
           601.12,
           467.81,
           463.88,
           478.5,
           440.59,
           475.8,
           529.34,
           475.8,
           386.81,
           418.44,
           354.52,
           529.14,
           481.74,
           418.18,
           479.73,
           521.77,
           632.09,
           513
          ],
          "coloraxis": "coloraxis",
          "size": [
           9.22,
           388.18,
           424.24,
           523.33,
           430.97,
           601.12,
           467.81,
           463.88,
           478.5,
           440.59,
           475.8,
           529.34,
           475.8,
           386.81,
           418.44,
           354.52,
           529.14,
           481.74,
           418.18,
           479.73,
           521.77,
           632.09,
           513
          ],
          "sizemode": "area",
          "sizeref": 1.9673249999999998,
          "symbol": "circle"
         },
         "mode": "markers",
         "name": "",
         "orientation": "h",
         "showlegend": false,
         "type": "scatter",
         "x": [
          1,
          2,
          3,
          4,
          4,
          5,
          5,
          5,
          5,
          6,
          7,
          7,
          7,
          8,
          8,
          9,
          10,
          11,
          11,
          11,
          11,
          12,
          12
         ],
         "xaxis": "x2",
         "y": [
          "Holiday",
          "Holiday",
          "Holiday",
          "Event",
          "Holiday",
          "Additional",
          "Event",
          "Holiday",
          "Transfer",
          "Holiday",
          "Additional",
          "Holiday",
          "Transfer",
          "Holiday",
          "Transfer",
          "Holiday",
          "Holiday",
          "Bridge",
          "Event",
          "Holiday",
          "Work Day",
          "Additional",
          "Holiday"
         ],
         "yaxis": "y2"
        },
        {
         "hovertemplate": "year=2017<br>month=%{x}<br>holiday_type=%{y}<br>sales=%{marker.color}<extra></extra>",
         "legendgroup": "",
         "marker": {
          "color": [
           6.78,
           786.93,
           475.4,
           469.26,
           508.69,
           413.6,
           626.81,
           496.18,
           527.09,
           552.48,
           566.62,
           429.33,
           537.71,
           445.14,
           463.73
          ],
          "coloraxis": "coloraxis",
          "size": [
           6.78,
           786.93,
           475.4,
           469.26,
           508.69,
           413.6,
           626.81,
           496.18,
           527.09,
           552.48,
           566.62,
           429.33,
           537.71,
           445.14,
           463.73
          ],
          "sizemode": "area",
          "sizeref": 1.9673249999999998,
          "symbol": "circle"
         },
         "mode": "markers",
         "name": "",
         "orientation": "h",
         "showlegend": false,
         "type": "scatter",
         "x": [
          1,
          1,
          2,
          3,
          4,
          4,
          5,
          5,
          5,
          5,
          6,
          7,
          7,
          8,
          8
         ],
         "xaxis": "x",
         "y": [
          "Holiday",
          "Transfer",
          "Holiday",
          "Holiday",
          "Holiday",
          "Transfer",
          "Additional",
          "Event",
          "Holiday",
          "Transfer",
          "Holiday",
          "Additional",
          "Holiday",
          "Holiday",
          "Transfer"
         ],
         "yaxis": "y"
        }
       ],
       "layout": {
        "annotations": [
         {
          "font": {},
          "showarrow": false,
          "text": "year=2017",
          "textangle": 90,
          "x": 0.98,
          "xanchor": "left",
          "xref": "paper",
          "y": 0.08800000000000001,
          "yanchor": "middle",
          "yref": "paper"
         },
         {
          "font": {},
          "showarrow": false,
          "text": "year=2016",
          "textangle": 90,
          "x": 0.98,
          "xanchor": "left",
          "xref": "paper",
          "y": 0.29400000000000004,
          "yanchor": "middle",
          "yref": "paper"
         },
         {
          "font": {},
          "showarrow": false,
          "text": "year=2015",
          "textangle": 90,
          "x": 0.98,
          "xanchor": "left",
          "xref": "paper",
          "y": 0.5,
          "yanchor": "middle",
          "yref": "paper"
         },
         {
          "font": {},
          "showarrow": false,
          "text": "year=2014",
          "textangle": 90,
          "x": 0.98,
          "xanchor": "left",
          "xref": "paper",
          "y": 0.706,
          "yanchor": "middle",
          "yref": "paper"
         },
         {
          "font": {},
          "showarrow": false,
          "text": "year=2013",
          "textangle": 90,
          "x": 0.98,
          "xanchor": "left",
          "xref": "paper",
          "y": 0.912,
          "yanchor": "middle",
          "yref": "paper"
         }
        ],
        "coloraxis": {
         "colorbar": {
          "title": {
           "text": "sales"
          }
         },
         "colorscale": [
          [
           0,
           "#0d0887"
          ],
          [
           0.1111111111111111,
           "#46039f"
          ],
          [
           0.2222222222222222,
           "#7201a8"
          ],
          [
           0.3333333333333333,
           "#9c179e"
          ],
          [
           0.4444444444444444,
           "#bd3786"
          ],
          [
           0.5555555555555556,
           "#d8576b"
          ],
          [
           0.6666666666666666,
           "#ed7953"
          ],
          [
           0.7777777777777778,
           "#fb9f3a"
          ],
          [
           0.8888888888888888,
           "#fdca26"
          ],
          [
           1,
           "#f0f921"
          ]
         ]
        },
        "font": {
         "color": "#555"
        },
        "height": 900,
        "hoverlabel": {
         "bgcolor": "#f2f2f2",
         "font": {
          "family": "Lato, sans-serif",
          "size": 13
         }
        },
        "legend": {
         "itemsizing": "constant",
         "tracegroupgap": 0
        },
        "margin": {
         "b": 0,
         "t": 70
        },
        "paper_bgcolor": "#fafafa",
        "plot_bgcolor": "#fafafa",
        "template": {
         "data": {
          "bar": [
           {
            "error_x": {
             "color": "#2a3f5f"
            },
            "error_y": {
             "color": "#2a3f5f"
            },
            "marker": {
             "line": {
              "color": "#E5ECF6",
              "width": 0.5
             },
             "pattern": {
              "fillmode": "overlay",
              "size": 10,
              "solidity": 0.2
             }
            },
            "type": "bar"
           }
          ],
          "barpolar": [
           {
            "marker": {
             "line": {
              "color": "#E5ECF6",
              "width": 0.5
             },
             "pattern": {
              "fillmode": "overlay",
              "size": 10,
              "solidity": 0.2
             }
            },
            "type": "barpolar"
           }
          ],
          "carpet": [
           {
            "aaxis": {
             "endlinecolor": "#2a3f5f",
             "gridcolor": "white",
             "linecolor": "white",
             "minorgridcolor": "white",
             "startlinecolor": "#2a3f5f"
            },
            "baxis": {
             "endlinecolor": "#2a3f5f",
             "gridcolor": "white",
             "linecolor": "white",
             "minorgridcolor": "white",
             "startlinecolor": "#2a3f5f"
            },
            "type": "carpet"
           }
          ],
          "choropleth": [
           {
            "colorbar": {
             "outlinewidth": 0,
             "ticks": ""
            },
            "type": "choropleth"
           }
          ],
          "contour": [
           {
            "colorbar": {
             "outlinewidth": 0,
             "ticks": ""
            },
            "colorscale": [
             [
              0,
              "#0d0887"
             ],
             [
              0.1111111111111111,
              "#46039f"
             ],
             [
              0.2222222222222222,
              "#7201a8"
             ],
             [
              0.3333333333333333,
              "#9c179e"
             ],
             [
              0.4444444444444444,
              "#bd3786"
             ],
             [
              0.5555555555555556,
              "#d8576b"
             ],
             [
              0.6666666666666666,
              "#ed7953"
             ],
             [
              0.7777777777777778,
              "#fb9f3a"
             ],
             [
              0.8888888888888888,
              "#fdca26"
             ],
             [
              1,
              "#f0f921"
             ]
            ],
            "type": "contour"
           }
          ],
          "contourcarpet": [
           {
            "colorbar": {
             "outlinewidth": 0,
             "ticks": ""
            },
            "type": "contourcarpet"
           }
          ],
          "heatmap": [
           {
            "colorbar": {
             "outlinewidth": 0,
             "ticks": ""
            },
            "colorscale": [
             [
              0,
              "#0d0887"
             ],
             [
              0.1111111111111111,
              "#46039f"
             ],
             [
              0.2222222222222222,
              "#7201a8"
             ],
             [
              0.3333333333333333,
              "#9c179e"
             ],
             [
              0.4444444444444444,
              "#bd3786"
             ],
             [
              0.5555555555555556,
              "#d8576b"
             ],
             [
              0.6666666666666666,
              "#ed7953"
             ],
             [
              0.7777777777777778,
              "#fb9f3a"
             ],
             [
              0.8888888888888888,
              "#fdca26"
             ],
             [
              1,
              "#f0f921"
             ]
            ],
            "type": "heatmap"
           }
          ],
          "heatmapgl": [
           {
            "colorbar": {
             "outlinewidth": 0,
             "ticks": ""
            },
            "colorscale": [
             [
              0,
              "#0d0887"
             ],
             [
              0.1111111111111111,
              "#46039f"
             ],
             [
              0.2222222222222222,
              "#7201a8"
             ],
             [
              0.3333333333333333,
              "#9c179e"
             ],
             [
              0.4444444444444444,
              "#bd3786"
             ],
             [
              0.5555555555555556,
              "#d8576b"
             ],
             [
              0.6666666666666666,
              "#ed7953"
             ],
             [
              0.7777777777777778,
              "#fb9f3a"
             ],
             [
              0.8888888888888888,
              "#fdca26"
             ],
             [
              1,
              "#f0f921"
             ]
            ],
            "type": "heatmapgl"
           }
          ],
          "histogram": [
           {
            "marker": {
             "pattern": {
              "fillmode": "overlay",
              "size": 10,
              "solidity": 0.2
             }
            },
            "type": "histogram"
           }
          ],
          "histogram2d": [
           {
            "colorbar": {
             "outlinewidth": 0,
             "ticks": ""
            },
            "colorscale": [
             [
              0,
              "#0d0887"
             ],
             [
              0.1111111111111111,
              "#46039f"
             ],
             [
              0.2222222222222222,
              "#7201a8"
             ],
             [
              0.3333333333333333,
              "#9c179e"
             ],
             [
              0.4444444444444444,
              "#bd3786"
             ],
             [
              0.5555555555555556,
              "#d8576b"
             ],
             [
              0.6666666666666666,
              "#ed7953"
             ],
             [
              0.7777777777777778,
              "#fb9f3a"
             ],
             [
              0.8888888888888888,
              "#fdca26"
             ],
             [
              1,
              "#f0f921"
             ]
            ],
            "type": "histogram2d"
           }
          ],
          "histogram2dcontour": [
           {
            "colorbar": {
             "outlinewidth": 0,
             "ticks": ""
            },
            "colorscale": [
             [
              0,
              "#0d0887"
             ],
             [
              0.1111111111111111,
              "#46039f"
             ],
             [
              0.2222222222222222,
              "#7201a8"
             ],
             [
              0.3333333333333333,
              "#9c179e"
             ],
             [
              0.4444444444444444,
              "#bd3786"
             ],
             [
              0.5555555555555556,
              "#d8576b"
             ],
             [
              0.6666666666666666,
              "#ed7953"
             ],
             [
              0.7777777777777778,
              "#fb9f3a"
             ],
             [
              0.8888888888888888,
              "#fdca26"
             ],
             [
              1,
              "#f0f921"
             ]
            ],
            "type": "histogram2dcontour"
           }
          ],
          "mesh3d": [
           {
            "colorbar": {
             "outlinewidth": 0,
             "ticks": ""
            },
            "type": "mesh3d"
           }
          ],
          "parcoords": [
           {
            "line": {
             "colorbar": {
              "outlinewidth": 0,
              "ticks": ""
             }
            },
            "type": "parcoords"
           }
          ],
          "pie": [
           {
            "automargin": true,
            "type": "pie"
           }
          ],
          "scatter": [
           {
            "marker": {
             "colorbar": {
              "outlinewidth": 0,
              "ticks": ""
             }
            },
            "type": "scatter"
           }
          ],
          "scatter3d": [
           {
            "line": {
             "colorbar": {
              "outlinewidth": 0,
              "ticks": ""
             }
            },
            "marker": {
             "colorbar": {
              "outlinewidth": 0,
              "ticks": ""
             }
            },
            "type": "scatter3d"
           }
          ],
          "scattercarpet": [
           {
            "marker": {
             "colorbar": {
              "outlinewidth": 0,
              "ticks": ""
             }
            },
            "type": "scattercarpet"
           }
          ],
          "scattergeo": [
           {
            "marker": {
             "colorbar": {
              "outlinewidth": 0,
              "ticks": ""
             }
            },
            "type": "scattergeo"
           }
          ],
          "scattergl": [
           {
            "marker": {
             "colorbar": {
              "outlinewidth": 0,
              "ticks": ""
             }
            },
            "type": "scattergl"
           }
          ],
          "scattermapbox": [
           {
            "marker": {
             "colorbar": {
              "outlinewidth": 0,
              "ticks": ""
             }
            },
            "type": "scattermapbox"
           }
          ],
          "scatterpolar": [
           {
            "marker": {
             "colorbar": {
              "outlinewidth": 0,
              "ticks": ""
             }
            },
            "type": "scatterpolar"
           }
          ],
          "scatterpolargl": [
           {
            "marker": {
             "colorbar": {
              "outlinewidth": 0,
              "ticks": ""
             }
            },
            "type": "scatterpolargl"
           }
          ],
          "scatterternary": [
           {
            "marker": {
             "colorbar": {
              "outlinewidth": 0,
              "ticks": ""
             }
            },
            "type": "scatterternary"
           }
          ],
          "surface": [
           {
            "colorbar": {
             "outlinewidth": 0,
             "ticks": ""
            },
            "colorscale": [
             [
              0,
              "#0d0887"
             ],
             [
              0.1111111111111111,
              "#46039f"
             ],
             [
              0.2222222222222222,
              "#7201a8"
             ],
             [
              0.3333333333333333,
              "#9c179e"
             ],
             [
              0.4444444444444444,
              "#bd3786"
             ],
             [
              0.5555555555555556,
              "#d8576b"
             ],
             [
              0.6666666666666666,
              "#ed7953"
             ],
             [
              0.7777777777777778,
              "#fb9f3a"
             ],
             [
              0.8888888888888888,
              "#fdca26"
             ],
             [
              1,
              "#f0f921"
             ]
            ],
            "type": "surface"
           }
          ],
          "table": [
           {
            "cells": {
             "fill": {
              "color": "#EBF0F8"
             },
             "line": {
              "color": "white"
             }
            },
            "header": {
             "fill": {
              "color": "#C8D4E3"
             },
             "line": {
              "color": "white"
             }
            },
            "type": "table"
           }
          ]
         },
         "layout": {
          "annotationdefaults": {
           "arrowcolor": "#2a3f5f",
           "arrowhead": 0,
           "arrowwidth": 1
          },
          "autotypenumbers": "strict",
          "coloraxis": {
           "colorbar": {
            "outlinewidth": 0,
            "ticks": ""
           }
          },
          "colorscale": {
           "diverging": [
            [
             0,
             "#8e0152"
            ],
            [
             0.1,
             "#c51b7d"
            ],
            [
             0.2,
             "#de77ae"
            ],
            [
             0.3,
             "#f1b6da"
            ],
            [
             0.4,
             "#fde0ef"
            ],
            [
             0.5,
             "#f7f7f7"
            ],
            [
             0.6,
             "#e6f5d0"
            ],
            [
             0.7,
             "#b8e186"
            ],
            [
             0.8,
             "#7fbc41"
            ],
            [
             0.9,
             "#4d9221"
            ],
            [
             1,
             "#276419"
            ]
           ],
           "sequential": [
            [
             0,
             "#0d0887"
            ],
            [
             0.1111111111111111,
             "#46039f"
            ],
            [
             0.2222222222222222,
             "#7201a8"
            ],
            [
             0.3333333333333333,
             "#9c179e"
            ],
            [
             0.4444444444444444,
             "#bd3786"
            ],
            [
             0.5555555555555556,
             "#d8576b"
            ],
            [
             0.6666666666666666,
             "#ed7953"
            ],
            [
             0.7777777777777778,
             "#fb9f3a"
            ],
            [
             0.8888888888888888,
             "#fdca26"
            ],
            [
             1,
             "#f0f921"
            ]
           ],
           "sequentialminus": [
            [
             0,
             "#0d0887"
            ],
            [
             0.1111111111111111,
             "#46039f"
            ],
            [
             0.2222222222222222,
             "#7201a8"
            ],
            [
             0.3333333333333333,
             "#9c179e"
            ],
            [
             0.4444444444444444,
             "#bd3786"
            ],
            [
             0.5555555555555556,
             "#d8576b"
            ],
            [
             0.6666666666666666,
             "#ed7953"
            ],
            [
             0.7777777777777778,
             "#fb9f3a"
            ],
            [
             0.8888888888888888,
             "#fdca26"
            ],
            [
             1,
             "#f0f921"
            ]
           ]
          },
          "colorway": [
           "#636efa",
           "#EF553B",
           "#00cc96",
           "#ab63fa",
           "#FFA15A",
           "#19d3f3",
           "#FF6692",
           "#B6E880",
           "#FF97FF",
           "#FECB52"
          ],
          "font": {
           "color": "#2a3f5f"
          },
          "geo": {
           "bgcolor": "white",
           "lakecolor": "white",
           "landcolor": "#E5ECF6",
           "showlakes": true,
           "showland": true,
           "subunitcolor": "white"
          },
          "hoverlabel": {
           "align": "left"
          },
          "hovermode": "closest",
          "mapbox": {
           "style": "light"
          },
          "paper_bgcolor": "white",
          "plot_bgcolor": "#E5ECF6",
          "polar": {
           "angularaxis": {
            "gridcolor": "white",
            "linecolor": "white",
            "ticks": ""
           },
           "bgcolor": "#E5ECF6",
           "radialaxis": {
            "gridcolor": "white",
            "linecolor": "white",
            "ticks": ""
           }
          },
          "scene": {
           "xaxis": {
            "backgroundcolor": "#E5ECF6",
            "gridcolor": "white",
            "gridwidth": 2,
            "linecolor": "white",
            "showbackground": true,
            "ticks": "",
            "zerolinecolor": "white"
           },
           "yaxis": {
            "backgroundcolor": "#E5ECF6",
            "gridcolor": "white",
            "gridwidth": 2,
            "linecolor": "white",
            "showbackground": true,
            "ticks": "",
            "zerolinecolor": "white"
           },
           "zaxis": {
            "backgroundcolor": "#E5ECF6",
            "gridcolor": "white",
            "gridwidth": 2,
            "linecolor": "white",
            "showbackground": true,
            "ticks": "",
            "zerolinecolor": "white"
           }
          },
          "shapedefaults": {
           "line": {
            "color": "#2a3f5f"
           }
          },
          "ternary": {
           "aaxis": {
            "gridcolor": "white",
            "linecolor": "white",
            "ticks": ""
           },
           "baxis": {
            "gridcolor": "white",
            "linecolor": "white",
            "ticks": ""
           },
           "bgcolor": "#E5ECF6",
           "caxis": {
            "gridcolor": "white",
            "linecolor": "white",
            "ticks": ""
           }
          },
          "title": {
           "x": 0.05
          },
          "xaxis": {
           "automargin": true,
           "gridcolor": "white",
           "linecolor": "white",
           "ticks": "",
           "title": {
            "standoff": 15
           },
           "zerolinecolor": "white",
           "zerolinewidth": 2
          },
          "yaxis": {
           "automargin": true,
           "gridcolor": "white",
           "linecolor": "white",
           "ticks": "",
           "title": {
            "standoff": 15
           },
           "zerolinecolor": "white",
           "zerolinewidth": 2
          }
         }
        },
        "title": {
         "font": {
          "color": "#444",
          "family": "Lato, sans-serif",
          "size": 29
         },
         "text": "Average Sales: Holiday_type Vs Year(Month)"
        },
        "xaxis": {
         "anchor": "y",
         "domain": [
          0,
          0.98
         ],
         "tickmode": "array",
         "ticktext": [
          "Jan",
          "Feb",
          "Mar",
          "Apr",
          "May",
          "Jun",
          "Jul",
          "Aug",
          "Sep",
          "Oct",
          "Nov",
          "Dec"
         ],
         "tickvals": [
          1,
          2,
          3,
          4,
          5,
          6,
          7,
          8,
          9,
          10,
          11,
          12
         ],
         "title": {
          "text": ""
         }
        },
        "xaxis2": {
         "anchor": "y2",
         "domain": [
          0,
          0.98
         ],
         "matches": "x",
         "showticklabels": false,
         "tickmode": "array",
         "ticktext": [
          "Jan",
          "Feb",
          "Mar",
          "Apr",
          "May",
          "Jun",
          "Jul",
          "Aug",
          "Sep",
          "Oct",
          "Nov",
          "Dec"
         ],
         "tickvals": [
          1,
          2,
          3,
          4,
          5,
          6,
          7,
          8,
          9,
          10,
          11,
          12
         ]
        },
        "xaxis3": {
         "anchor": "y3",
         "domain": [
          0,
          0.98
         ],
         "matches": "x",
         "showticklabels": false,
         "tickmode": "array",
         "ticktext": [
          "Jan",
          "Feb",
          "Mar",
          "Apr",
          "May",
          "Jun",
          "Jul",
          "Aug",
          "Sep",
          "Oct",
          "Nov",
          "Dec"
         ],
         "tickvals": [
          1,
          2,
          3,
          4,
          5,
          6,
          7,
          8,
          9,
          10,
          11,
          12
         ]
        },
        "xaxis4": {
         "anchor": "y4",
         "domain": [
          0,
          0.98
         ],
         "matches": "x",
         "showticklabels": false,
         "tickmode": "array",
         "ticktext": [
          "Jan",
          "Feb",
          "Mar",
          "Apr",
          "May",
          "Jun",
          "Jul",
          "Aug",
          "Sep",
          "Oct",
          "Nov",
          "Dec"
         ],
         "tickvals": [
          1,
          2,
          3,
          4,
          5,
          6,
          7,
          8,
          9,
          10,
          11,
          12
         ]
        },
        "xaxis5": {
         "anchor": "y5",
         "domain": [
          0,
          0.98
         ],
         "matches": "x",
         "showticklabels": false,
         "tickmode": "array",
         "ticktext": [
          "Jan",
          "Feb",
          "Mar",
          "Apr",
          "May",
          "Jun",
          "Jul",
          "Aug",
          "Sep",
          "Oct",
          "Nov",
          "Dec"
         ],
         "tickvals": [
          1,
          2,
          3,
          4,
          5,
          6,
          7,
          8,
          9,
          10,
          11,
          12
         ]
        },
        "yaxis": {
         "anchor": "x",
         "domain": [
          0,
          0.17600000000000002
         ],
         "ticksuffix": "  ",
         "title": {
          "text": ""
         }
        },
        "yaxis2": {
         "anchor": "x2",
         "domain": [
          0.20600000000000002,
          0.382
         ],
         "matches": "y",
         "ticksuffix": "  ",
         "title": {
          "text": "holiday_type"
         }
        },
        "yaxis3": {
         "anchor": "x3",
         "domain": [
          0.41200000000000003,
          0.5880000000000001
         ],
         "matches": "y",
         "ticksuffix": "  ",
         "title": {
          "text": "holiday_type"
         }
        },
        "yaxis4": {
         "anchor": "x4",
         "domain": [
          0.618,
          0.794
         ],
         "matches": "y",
         "ticksuffix": "  ",
         "title": {
          "text": "holiday_type"
         }
        },
        "yaxis5": {
         "anchor": "x5",
         "domain": [
          0.8240000000000001,
          1
         ],
         "matches": "y",
         "ticksuffix": "  ",
         "title": {
          "text": "holiday_type"
         }
        }
       }
      },
      "text/html": [
       "<div>                            <div id=\"15ce05ce-8501-4b1d-9dba-a04ffb214623\" class=\"plotly-graph-div\" style=\"height:900px; width:100%;\"></div>            <script type=\"text/javascript\">                require([\"plotly\"], function(Plotly) {                    window.PLOTLYENV=window.PLOTLYENV || {};                                    if (document.getElementById(\"15ce05ce-8501-4b1d-9dba-a04ffb214623\")) {                    Plotly.newPlot(                        \"15ce05ce-8501-4b1d-9dba-a04ffb214623\",                        [{\"hovertemplate\":\"year=2013<br>month=%{x}<br>holiday_type=%{y}<br>sales=%{marker.color}<extra></extra>\",\"legendgroup\":\"\",\"marker\":{\"color\":[1.41,247.08,164.82,307.44,228.52,287.37,217.65,242.09,199.26,173.54,191.28,220.66,272.11,195.26,226.1,257.43,333.49,321.33],\"coloraxis\":\"coloraxis\",\"size\":[1.41,247.08,164.82,307.44,228.52,287.37,217.65,242.09,199.26,173.54,191.28,220.66,272.11,195.26,226.1,257.43,333.49,321.33],\"sizemode\":\"area\",\"sizeref\":1.9673249999999998,\"symbol\":\"circle\"},\"mode\":\"markers\",\"name\":\"\",\"orientation\":\"h\",\"showlegend\":false,\"x\":[1,1,2,3,4,5,5,5,6,7,7,8,9,10,10,11,12,12],\"xaxis\":\"x5\",\"y\":[\"Holiday\",\"Work Day\",\"Holiday\",\"Holiday\",\"Holiday\",\"Additional\",\"Event\",\"Holiday\",\"Holiday\",\"Additional\",\"Holiday\",\"Holiday\",\"Holiday\",\"Holiday\",\"Transfer\",\"Holiday\",\"Additional\",\"Holiday\"],\"yaxis\":\"y5\",\"type\":\"scatter\"},{\"hovertemplate\":\"year=2014<br>month=%{x}<br>holiday_type=%{y}<br>sales=%{marker.color}<extra></extra>\",\"legendgroup\":\"\",\"marker\":{\"color\":[4.83,379.78,245.73,323.8,255.06,270.34,240.71,207.77,271.95,381.22,325.71,260.73,497.49,307.78,394.2,314.04,366.24,516.89,489.39,458.71,491.55,525.0],\"coloraxis\":\"coloraxis\",\"size\":[4.83,379.78,245.73,323.8,255.06,270.34,240.71,207.77,271.95,381.22,325.71,260.73,497.49,307.78,394.2,314.04,366.24,516.89,489.39,458.71,491.55,525.0],\"sizemode\":\"area\",\"sizeref\":1.9673249999999998,\"symbol\":\"circle\"},\"mode\":\"markers\",\"name\":\"\",\"orientation\":\"h\",\"showlegend\":false,\"x\":[1,3,4,5,5,5,6,6,7,7,7,8,9,10,10,11,11,12,12,12,12,12],\"xaxis\":\"x4\",\"y\":[\"Holiday\",\"Holiday\",\"Holiday\",\"Additional\",\"Event\",\"Holiday\",\"Event\",\"Holiday\",\"Additional\",\"Event\",\"Holiday\",\"Holiday\",\"Holiday\",\"Holiday\",\"Transfer\",\"Event\",\"Holiday\",\"Additional\",\"Bridge\",\"Event\",\"Holiday\",\"Work Day\"],\"yaxis\":\"y4\",\"type\":\"scatter\"},{\"hovertemplate\":\"year=2015<br>month=%{x}<br>holiday_type=%{y}<br>sales=%{marker.color}<extra></extra>\",\"legendgroup\":\"\",\"marker\":{\"color\":[369.12,7.17,319.84,253.6,306.42,286.99,396.58,313.17,348.81,308.14,395.03,438.8,376.69,447.39,394.82,418.24,591.0,560.71],\"coloraxis\":\"coloraxis\",\"size\":[369.12,7.17,319.84,253.6,306.42,286.99,396.58,313.17,348.81,308.14,395.03,438.8,376.69,447.39,394.82,418.24,591.0,560.71],\"sizemode\":\"area\",\"sizeref\":1.9673249999999998,\"symbol\":\"circle\"},\"mode\":\"markers\",\"name\":\"\",\"orientation\":\"h\",\"showlegend\":false,\"x\":[1,1,1,2,3,4,5,5,5,6,7,8,9,10,11,11,12,12],\"xaxis\":\"x3\",\"y\":[\"Bridge\",\"Holiday\",\"Work Day\",\"Holiday\",\"Holiday\",\"Holiday\",\"Additional\",\"Event\",\"Holiday\",\"Holiday\",\"Holiday\",\"Holiday\",\"Holiday\",\"Holiday\",\"Event\",\"Holiday\",\"Additional\",\"Holiday\"],\"yaxis\":\"y3\",\"type\":\"scatter\"},{\"hovertemplate\":\"year=2016<br>month=%{x}<br>holiday_type=%{y}<br>sales=%{marker.color}<extra></extra>\",\"legendgroup\":\"\",\"marker\":{\"color\":[9.22,388.18,424.24,523.33,430.97,601.12,467.81,463.88,478.5,440.59,475.8,529.34,475.8,386.81,418.44,354.52,529.14,481.74,418.18,479.73,521.77,632.09,513.0],\"coloraxis\":\"coloraxis\",\"size\":[9.22,388.18,424.24,523.33,430.97,601.12,467.81,463.88,478.5,440.59,475.8,529.34,475.8,386.81,418.44,354.52,529.14,481.74,418.18,479.73,521.77,632.09,513.0],\"sizemode\":\"area\",\"sizeref\":1.9673249999999998,\"symbol\":\"circle\"},\"mode\":\"markers\",\"name\":\"\",\"orientation\":\"h\",\"showlegend\":false,\"x\":[1,2,3,4,4,5,5,5,5,6,7,7,7,8,8,9,10,11,11,11,11,12,12],\"xaxis\":\"x2\",\"y\":[\"Holiday\",\"Holiday\",\"Holiday\",\"Event\",\"Holiday\",\"Additional\",\"Event\",\"Holiday\",\"Transfer\",\"Holiday\",\"Additional\",\"Holiday\",\"Transfer\",\"Holiday\",\"Transfer\",\"Holiday\",\"Holiday\",\"Bridge\",\"Event\",\"Holiday\",\"Work Day\",\"Additional\",\"Holiday\"],\"yaxis\":\"y2\",\"type\":\"scatter\"},{\"hovertemplate\":\"year=2017<br>month=%{x}<br>holiday_type=%{y}<br>sales=%{marker.color}<extra></extra>\",\"legendgroup\":\"\",\"marker\":{\"color\":[6.78,786.93,475.4,469.26,508.69,413.6,626.81,496.18,527.09,552.48,566.62,429.33,537.71,445.14,463.73],\"coloraxis\":\"coloraxis\",\"size\":[6.78,786.93,475.4,469.26,508.69,413.6,626.81,496.18,527.09,552.48,566.62,429.33,537.71,445.14,463.73],\"sizemode\":\"area\",\"sizeref\":1.9673249999999998,\"symbol\":\"circle\"},\"mode\":\"markers\",\"name\":\"\",\"orientation\":\"h\",\"showlegend\":false,\"x\":[1,1,2,3,4,4,5,5,5,5,6,7,7,8,8],\"xaxis\":\"x\",\"y\":[\"Holiday\",\"Transfer\",\"Holiday\",\"Holiday\",\"Holiday\",\"Transfer\",\"Additional\",\"Event\",\"Holiday\",\"Transfer\",\"Holiday\",\"Additional\",\"Holiday\",\"Holiday\",\"Transfer\"],\"yaxis\":\"y\",\"type\":\"scatter\"}],                        {\"template\":{\"data\":{\"bar\":[{\"error_x\":{\"color\":\"#2a3f5f\"},\"error_y\":{\"color\":\"#2a3f5f\"},\"marker\":{\"line\":{\"color\":\"#E5ECF6\",\"width\":0.5},\"pattern\":{\"fillmode\":\"overlay\",\"size\":10,\"solidity\":0.2}},\"type\":\"bar\"}],\"barpolar\":[{\"marker\":{\"line\":{\"color\":\"#E5ECF6\",\"width\":0.5},\"pattern\":{\"fillmode\":\"overlay\",\"size\":10,\"solidity\":0.2}},\"type\":\"barpolar\"}],\"carpet\":[{\"aaxis\":{\"endlinecolor\":\"#2a3f5f\",\"gridcolor\":\"white\",\"linecolor\":\"white\",\"minorgridcolor\":\"white\",\"startlinecolor\":\"#2a3f5f\"},\"baxis\":{\"endlinecolor\":\"#2a3f5f\",\"gridcolor\":\"white\",\"linecolor\":\"white\",\"minorgridcolor\":\"white\",\"startlinecolor\":\"#2a3f5f\"},\"type\":\"carpet\"}],\"choropleth\":[{\"colorbar\":{\"outlinewidth\":0,\"ticks\":\"\"},\"type\":\"choropleth\"}],\"contour\":[{\"colorbar\":{\"outlinewidth\":0,\"ticks\":\"\"},\"colorscale\":[[0.0,\"#0d0887\"],[0.1111111111111111,\"#46039f\"],[0.2222222222222222,\"#7201a8\"],[0.3333333333333333,\"#9c179e\"],[0.4444444444444444,\"#bd3786\"],[0.5555555555555556,\"#d8576b\"],[0.6666666666666666,\"#ed7953\"],[0.7777777777777778,\"#fb9f3a\"],[0.8888888888888888,\"#fdca26\"],[1.0,\"#f0f921\"]],\"type\":\"contour\"}],\"contourcarpet\":[{\"colorbar\":{\"outlinewidth\":0,\"ticks\":\"\"},\"type\":\"contourcarpet\"}],\"heatmap\":[{\"colorbar\":{\"outlinewidth\":0,\"ticks\":\"\"},\"colorscale\":[[0.0,\"#0d0887\"],[0.1111111111111111,\"#46039f\"],[0.2222222222222222,\"#7201a8\"],[0.3333333333333333,\"#9c179e\"],[0.4444444444444444,\"#bd3786\"],[0.5555555555555556,\"#d8576b\"],[0.6666666666666666,\"#ed7953\"],[0.7777777777777778,\"#fb9f3a\"],[0.8888888888888888,\"#fdca26\"],[1.0,\"#f0f921\"]],\"type\":\"heatmap\"}],\"heatmapgl\":[{\"colorbar\":{\"outlinewidth\":0,\"ticks\":\"\"},\"colorscale\":[[0.0,\"#0d0887\"],[0.1111111111111111,\"#46039f\"],[0.2222222222222222,\"#7201a8\"],[0.3333333333333333,\"#9c179e\"],[0.4444444444444444,\"#bd3786\"],[0.5555555555555556,\"#d8576b\"],[0.6666666666666666,\"#ed7953\"],[0.7777777777777778,\"#fb9f3a\"],[0.8888888888888888,\"#fdca26\"],[1.0,\"#f0f921\"]],\"type\":\"heatmapgl\"}],\"histogram\":[{\"marker\":{\"pattern\":{\"fillmode\":\"overlay\",\"size\":10,\"solidity\":0.2}},\"type\":\"histogram\"}],\"histogram2d\":[{\"colorbar\":{\"outlinewidth\":0,\"ticks\":\"\"},\"colorscale\":[[0.0,\"#0d0887\"],[0.1111111111111111,\"#46039f\"],[0.2222222222222222,\"#7201a8\"],[0.3333333333333333,\"#9c179e\"],[0.4444444444444444,\"#bd3786\"],[0.5555555555555556,\"#d8576b\"],[0.6666666666666666,\"#ed7953\"],[0.7777777777777778,\"#fb9f3a\"],[0.8888888888888888,\"#fdca26\"],[1.0,\"#f0f921\"]],\"type\":\"histogram2d\"}],\"histogram2dcontour\":[{\"colorbar\":{\"outlinewidth\":0,\"ticks\":\"\"},\"colorscale\":[[0.0,\"#0d0887\"],[0.1111111111111111,\"#46039f\"],[0.2222222222222222,\"#7201a8\"],[0.3333333333333333,\"#9c179e\"],[0.4444444444444444,\"#bd3786\"],[0.5555555555555556,\"#d8576b\"],[0.6666666666666666,\"#ed7953\"],[0.7777777777777778,\"#fb9f3a\"],[0.8888888888888888,\"#fdca26\"],[1.0,\"#f0f921\"]],\"type\":\"histogram2dcontour\"}],\"mesh3d\":[{\"colorbar\":{\"outlinewidth\":0,\"ticks\":\"\"},\"type\":\"mesh3d\"}],\"parcoords\":[{\"line\":{\"colorbar\":{\"outlinewidth\":0,\"ticks\":\"\"}},\"type\":\"parcoords\"}],\"pie\":[{\"automargin\":true,\"type\":\"pie\"}],\"scatter\":[{\"marker\":{\"colorbar\":{\"outlinewidth\":0,\"ticks\":\"\"}},\"type\":\"scatter\"}],\"scatter3d\":[{\"line\":{\"colorbar\":{\"outlinewidth\":0,\"ticks\":\"\"}},\"marker\":{\"colorbar\":{\"outlinewidth\":0,\"ticks\":\"\"}},\"type\":\"scatter3d\"}],\"scattercarpet\":[{\"marker\":{\"colorbar\":{\"outlinewidth\":0,\"ticks\":\"\"}},\"type\":\"scattercarpet\"}],\"scattergeo\":[{\"marker\":{\"colorbar\":{\"outlinewidth\":0,\"ticks\":\"\"}},\"type\":\"scattergeo\"}],\"scattergl\":[{\"marker\":{\"colorbar\":{\"outlinewidth\":0,\"ticks\":\"\"}},\"type\":\"scattergl\"}],\"scattermapbox\":[{\"marker\":{\"colorbar\":{\"outlinewidth\":0,\"ticks\":\"\"}},\"type\":\"scattermapbox\"}],\"scatterpolar\":[{\"marker\":{\"colorbar\":{\"outlinewidth\":0,\"ticks\":\"\"}},\"type\":\"scatterpolar\"}],\"scatterpolargl\":[{\"marker\":{\"colorbar\":{\"outlinewidth\":0,\"ticks\":\"\"}},\"type\":\"scatterpolargl\"}],\"scatterternary\":[{\"marker\":{\"colorbar\":{\"outlinewidth\":0,\"ticks\":\"\"}},\"type\":\"scatterternary\"}],\"surface\":[{\"colorbar\":{\"outlinewidth\":0,\"ticks\":\"\"},\"colorscale\":[[0.0,\"#0d0887\"],[0.1111111111111111,\"#46039f\"],[0.2222222222222222,\"#7201a8\"],[0.3333333333333333,\"#9c179e\"],[0.4444444444444444,\"#bd3786\"],[0.5555555555555556,\"#d8576b\"],[0.6666666666666666,\"#ed7953\"],[0.7777777777777778,\"#fb9f3a\"],[0.8888888888888888,\"#fdca26\"],[1.0,\"#f0f921\"]],\"type\":\"surface\"}],\"table\":[{\"cells\":{\"fill\":{\"color\":\"#EBF0F8\"},\"line\":{\"color\":\"white\"}},\"header\":{\"fill\":{\"color\":\"#C8D4E3\"},\"line\":{\"color\":\"white\"}},\"type\":\"table\"}]},\"layout\":{\"annotationdefaults\":{\"arrowcolor\":\"#2a3f5f\",\"arrowhead\":0,\"arrowwidth\":1},\"autotypenumbers\":\"strict\",\"coloraxis\":{\"colorbar\":{\"outlinewidth\":0,\"ticks\":\"\"}},\"colorscale\":{\"diverging\":[[0,\"#8e0152\"],[0.1,\"#c51b7d\"],[0.2,\"#de77ae\"],[0.3,\"#f1b6da\"],[0.4,\"#fde0ef\"],[0.5,\"#f7f7f7\"],[0.6,\"#e6f5d0\"],[0.7,\"#b8e186\"],[0.8,\"#7fbc41\"],[0.9,\"#4d9221\"],[1,\"#276419\"]],\"sequential\":[[0.0,\"#0d0887\"],[0.1111111111111111,\"#46039f\"],[0.2222222222222222,\"#7201a8\"],[0.3333333333333333,\"#9c179e\"],[0.4444444444444444,\"#bd3786\"],[0.5555555555555556,\"#d8576b\"],[0.6666666666666666,\"#ed7953\"],[0.7777777777777778,\"#fb9f3a\"],[0.8888888888888888,\"#fdca26\"],[1.0,\"#f0f921\"]],\"sequentialminus\":[[0.0,\"#0d0887\"],[0.1111111111111111,\"#46039f\"],[0.2222222222222222,\"#7201a8\"],[0.3333333333333333,\"#9c179e\"],[0.4444444444444444,\"#bd3786\"],[0.5555555555555556,\"#d8576b\"],[0.6666666666666666,\"#ed7953\"],[0.7777777777777778,\"#fb9f3a\"],[0.8888888888888888,\"#fdca26\"],[1.0,\"#f0f921\"]]},\"colorway\":[\"#636efa\",\"#EF553B\",\"#00cc96\",\"#ab63fa\",\"#FFA15A\",\"#19d3f3\",\"#FF6692\",\"#B6E880\",\"#FF97FF\",\"#FECB52\"],\"font\":{\"color\":\"#2a3f5f\"},\"geo\":{\"bgcolor\":\"white\",\"lakecolor\":\"white\",\"landcolor\":\"#E5ECF6\",\"showlakes\":true,\"showland\":true,\"subunitcolor\":\"white\"},\"hoverlabel\":{\"align\":\"left\"},\"hovermode\":\"closest\",\"mapbox\":{\"style\":\"light\"},\"paper_bgcolor\":\"white\",\"plot_bgcolor\":\"#E5ECF6\",\"polar\":{\"angularaxis\":{\"gridcolor\":\"white\",\"linecolor\":\"white\",\"ticks\":\"\"},\"bgcolor\":\"#E5ECF6\",\"radialaxis\":{\"gridcolor\":\"white\",\"linecolor\":\"white\",\"ticks\":\"\"}},\"scene\":{\"xaxis\":{\"backgroundcolor\":\"#E5ECF6\",\"gridcolor\":\"white\",\"gridwidth\":2,\"linecolor\":\"white\",\"showbackground\":true,\"ticks\":\"\",\"zerolinecolor\":\"white\"},\"yaxis\":{\"backgroundcolor\":\"#E5ECF6\",\"gridcolor\":\"white\",\"gridwidth\":2,\"linecolor\":\"white\",\"showbackground\":true,\"ticks\":\"\",\"zerolinecolor\":\"white\"},\"zaxis\":{\"backgroundcolor\":\"#E5ECF6\",\"gridcolor\":\"white\",\"gridwidth\":2,\"linecolor\":\"white\",\"showbackground\":true,\"ticks\":\"\",\"zerolinecolor\":\"white\"}},\"shapedefaults\":{\"line\":{\"color\":\"#2a3f5f\"}},\"ternary\":{\"aaxis\":{\"gridcolor\":\"white\",\"linecolor\":\"white\",\"ticks\":\"\"},\"baxis\":{\"gridcolor\":\"white\",\"linecolor\":\"white\",\"ticks\":\"\"},\"bgcolor\":\"#E5ECF6\",\"caxis\":{\"gridcolor\":\"white\",\"linecolor\":\"white\",\"ticks\":\"\"}},\"title\":{\"x\":0.05},\"xaxis\":{\"automargin\":true,\"gridcolor\":\"white\",\"linecolor\":\"white\",\"ticks\":\"\",\"title\":{\"standoff\":15},\"zerolinecolor\":\"white\",\"zerolinewidth\":2},\"yaxis\":{\"automargin\":true,\"gridcolor\":\"white\",\"linecolor\":\"white\",\"ticks\":\"\",\"title\":{\"standoff\":15},\"zerolinecolor\":\"white\",\"zerolinewidth\":2}}},\"xaxis\":{\"anchor\":\"y\",\"domain\":[0.0,0.98],\"title\":{\"text\":\"\"},\"tickmode\":\"array\",\"tickvals\":[1,2,3,4,5,6,7,8,9,10,11,12],\"ticktext\":[\"Jan\",\"Feb\",\"Mar\",\"Apr\",\"May\",\"Jun\",\"Jul\",\"Aug\",\"Sep\",\"Oct\",\"Nov\",\"Dec\"]},\"yaxis\":{\"anchor\":\"x\",\"domain\":[0.0,0.17600000000000002],\"title\":{\"text\":\"\"},\"ticksuffix\":\"  \"},\"xaxis2\":{\"anchor\":\"y2\",\"domain\":[0.0,0.98],\"matches\":\"x\",\"showticklabels\":false,\"tickmode\":\"array\",\"tickvals\":[1,2,3,4,5,6,7,8,9,10,11,12],\"ticktext\":[\"Jan\",\"Feb\",\"Mar\",\"Apr\",\"May\",\"Jun\",\"Jul\",\"Aug\",\"Sep\",\"Oct\",\"Nov\",\"Dec\"]},\"yaxis2\":{\"anchor\":\"x2\",\"domain\":[0.20600000000000002,0.382],\"matches\":\"y\",\"title\":{\"text\":\"holiday_type\"},\"ticksuffix\":\"  \"},\"xaxis3\":{\"anchor\":\"y3\",\"domain\":[0.0,0.98],\"matches\":\"x\",\"showticklabels\":false,\"tickmode\":\"array\",\"tickvals\":[1,2,3,4,5,6,7,8,9,10,11,12],\"ticktext\":[\"Jan\",\"Feb\",\"Mar\",\"Apr\",\"May\",\"Jun\",\"Jul\",\"Aug\",\"Sep\",\"Oct\",\"Nov\",\"Dec\"]},\"yaxis3\":{\"anchor\":\"x3\",\"domain\":[0.41200000000000003,0.5880000000000001],\"matches\":\"y\",\"title\":{\"text\":\"holiday_type\"},\"ticksuffix\":\"  \"},\"xaxis4\":{\"anchor\":\"y4\",\"domain\":[0.0,0.98],\"matches\":\"x\",\"showticklabels\":false,\"tickmode\":\"array\",\"tickvals\":[1,2,3,4,5,6,7,8,9,10,11,12],\"ticktext\":[\"Jan\",\"Feb\",\"Mar\",\"Apr\",\"May\",\"Jun\",\"Jul\",\"Aug\",\"Sep\",\"Oct\",\"Nov\",\"Dec\"]},\"yaxis4\":{\"anchor\":\"x4\",\"domain\":[0.618,0.794],\"matches\":\"y\",\"title\":{\"text\":\"holiday_type\"},\"ticksuffix\":\"  \"},\"xaxis5\":{\"anchor\":\"y5\",\"domain\":[0.0,0.98],\"matches\":\"x\",\"showticklabels\":false,\"tickmode\":\"array\",\"tickvals\":[1,2,3,4,5,6,7,8,9,10,11,12],\"ticktext\":[\"Jan\",\"Feb\",\"Mar\",\"Apr\",\"May\",\"Jun\",\"Jul\",\"Aug\",\"Sep\",\"Oct\",\"Nov\",\"Dec\"]},\"yaxis5\":{\"anchor\":\"x5\",\"domain\":[0.8240000000000001,1.0],\"matches\":\"y\",\"title\":{\"text\":\"holiday_type\"},\"ticksuffix\":\"  \"},\"annotations\":[{\"font\":{},\"showarrow\":false,\"text\":\"year=2017\",\"textangle\":90,\"x\":0.98,\"xanchor\":\"left\",\"xref\":\"paper\",\"y\":0.08800000000000001,\"yanchor\":\"middle\",\"yref\":\"paper\"},{\"font\":{},\"showarrow\":false,\"text\":\"year=2016\",\"textangle\":90,\"x\":0.98,\"xanchor\":\"left\",\"xref\":\"paper\",\"y\":0.29400000000000004,\"yanchor\":\"middle\",\"yref\":\"paper\"},{\"font\":{},\"showarrow\":false,\"text\":\"year=2015\",\"textangle\":90,\"x\":0.98,\"xanchor\":\"left\",\"xref\":\"paper\",\"y\":0.5,\"yanchor\":\"middle\",\"yref\":\"paper\"},{\"font\":{},\"showarrow\":false,\"text\":\"year=2014\",\"textangle\":90,\"x\":0.98,\"xanchor\":\"left\",\"xref\":\"paper\",\"y\":0.706,\"yanchor\":\"middle\",\"yref\":\"paper\"},{\"font\":{},\"showarrow\":false,\"text\":\"year=2013\",\"textangle\":90,\"x\":0.98,\"xanchor\":\"left\",\"xref\":\"paper\",\"y\":0.912,\"yanchor\":\"middle\",\"yref\":\"paper\"}],\"coloraxis\":{\"colorbar\":{\"title\":{\"text\":\"sales\"}},\"colorscale\":[[0.0,\"#0d0887\"],[0.1111111111111111,\"#46039f\"],[0.2222222222222222,\"#7201a8\"],[0.3333333333333333,\"#9c179e\"],[0.4444444444444444,\"#bd3786\"],[0.5555555555555556,\"#d8576b\"],[0.6666666666666666,\"#ed7953\"],[0.7777777777777778,\"#fb9f3a\"],[0.8888888888888888,\"#fdca26\"],[1.0,\"#f0f921\"]]},\"legend\":{\"tracegroupgap\":0,\"itemsizing\":\"constant\"},\"title\":{\"text\":\"Average Sales: Holiday_type Vs Year(Month)\",\"font\":{\"size\":29,\"color\":\"#444\",\"family\":\"Lato, sans-serif\"}},\"margin\":{\"t\":70,\"b\":0},\"font\":{\"color\":\"#555\"},\"hoverlabel\":{\"font\":{\"size\":13,\"family\":\"Lato, sans-serif\"},\"bgcolor\":\"#f2f2f2\"},\"height\":900,\"plot_bgcolor\":\"#fafafa\",\"paper_bgcolor\":\"#fafafa\"},                        {\"responsive\": true}                    ).then(function(){\n",
       "                            \n",
       "var gd = document.getElementById('15ce05ce-8501-4b1d-9dba-a04ffb214623');\n",
       "var x = new MutationObserver(function (mutations, observer) {{\n",
       "        var display = window.getComputedStyle(gd).display;\n",
       "        if (!display || display === 'none') {{\n",
       "            console.log([gd, 'removed!']);\n",
       "            Plotly.purge(gd);\n",
       "            observer.disconnect();\n",
       "        }}\n",
       "}});\n",
       "\n",
       "// Listen for the removal of the full notebook cells\n",
       "var notebookContainer = gd.closest('#notebook-container');\n",
       "if (notebookContainer) {{\n",
       "    x.observe(notebookContainer, {childList: true});\n",
       "}}\n",
       "\n",
       "// Listen for the clearing of the current output cell\n",
       "var outputEl = gd.closest('.output');\n",
       "if (outputEl) {{\n",
       "    x.observe(outputEl, {childList: true});\n",
       "}}\n",
       "\n",
       "                        })                };                });            </script>        </div>"
      ]
     },
     "metadata": {},
     "output_type": "display_data"
    }
   ],
   "source": [
    "# data\n",
    "df_y_m_ht = df_train1.groupby(['year','month','holiday_type']).agg({\"sales\" : \"mean\"}).reset_index()\n",
    "df_y_m_ht['sales'] = round(df_y_m_ht['sales'], 2)\n",
    "\n",
    "# chart\n",
    "fig = px.scatter(df_y_m_ht, x='month', y='holiday_type', color='sales', size='sales', \n",
    "                 facet_row='year', title='Average Sales: Holiday_type Vs Year(Month)')\n",
    "# styling\n",
    "fig.update_yaxes(ticksuffix='  ')\n",
    "fig.update_xaxes(tickmode = 'array', tickvals=[i for i in range(1,13)], \n",
    "                 ticktext=['Jan','Feb','Mar','Apr','May','Jun','Jul','Aug','Sep','Oct','Nov','Dec'])\n",
    "fig.update_layout(height=900, xaxis_title='', yaxis_title='',\n",
    "                  margin=dict(t=70, b=0),\n",
    "                  plot_bgcolor='#fafafa', paper_bgcolor='#fafafa',\n",
    "                  title_font=dict(size=29, color='#444', family=\"Lato, sans-serif\"),\n",
    "                  font=dict(color='#555'), \n",
    "                  hoverlabel=dict(bgcolor=\"#f2f2f2\", font_size=13, font_family=\"Lato, sans-serif\"))\n",
    "fig.show()"
   ]
  },
  {
   "cell_type": "code",
   "execution_count": 13,
   "metadata": {
    "execution": {
     "iopub.execute_input": "2021-12-03T06:08:03.198131Z",
     "iopub.status.busy": "2021-12-03T06:08:03.197451Z",
     "iopub.status.idle": "2021-12-03T06:08:03.211198Z",
     "shell.execute_reply": "2021-12-03T06:08:03.210184Z",
     "shell.execute_reply.started": "2021-12-03T06:08:03.198094Z"
    },
    "papermill": {
     "duration": 0.025981,
     "end_time": "2021-11-14T00:07:51.611721",
     "exception": false,
     "start_time": "2021-11-14T00:07:51.58574",
     "status": "completed"
    },
    "tags": []
   },
   "outputs": [],
   "source": [
    "import matplotlib.pyplot as plt\n",
    "%matplotlib inline\n",
    "\n",
    "from pylab import rcParams\n",
    "rcParams['figure.figsize'] = 16, 8"
   ]
  },
  {
   "cell_type": "code",
   "execution_count": 14,
   "metadata": {
    "execution": {
     "iopub.execute_input": "2021-12-03T06:08:03.213342Z",
     "iopub.status.busy": "2021-12-03T06:08:03.212655Z",
     "iopub.status.idle": "2021-12-03T06:08:03.224894Z",
     "shell.execute_reply": "2021-12-03T06:08:03.224285Z",
     "shell.execute_reply.started": "2021-12-03T06:08:03.213309Z"
    },
    "papermill": {
     "duration": 0.940666,
     "end_time": "2021-11-14T00:07:52.566832",
     "exception": false,
     "start_time": "2021-11-14T00:07:51.626166",
     "status": "completed"
    },
    "tags": []
   },
   "outputs": [],
   "source": [
    "from sklearn.linear_model import Ridge\n",
    "\n",
    "from sklearn.metrics import mean_squared_log_error\n",
    "from sklearn.metrics import mean_squared_error"
   ]
  },
  {
   "cell_type": "code",
   "execution_count": 15,
   "metadata": {
    "execution": {
     "iopub.execute_input": "2021-12-03T06:08:03.226893Z",
     "iopub.status.busy": "2021-12-03T06:08:03.225962Z",
     "iopub.status.idle": "2021-12-03T06:08:03.23874Z",
     "shell.execute_reply": "2021-12-03T06:08:03.238028Z",
     "shell.execute_reply.started": "2021-12-03T06:08:03.226854Z"
    },
    "papermill": {
     "duration": 0.059648,
     "end_time": "2021-11-14T00:07:52.640897",
     "exception": false,
     "start_time": "2021-11-14T00:07:52.581249",
     "status": "completed"
    },
    "tags": []
   },
   "outputs": [],
   "source": [
    "from statsmodels.tsa.deterministic import CalendarFourier, DeterministicProcess, Fourier"
   ]
  },
  {
   "cell_type": "code",
   "execution_count": 16,
   "metadata": {
    "execution": {
     "iopub.execute_input": "2021-12-03T06:08:03.241404Z",
     "iopub.status.busy": "2021-12-03T06:08:03.240573Z",
     "iopub.status.idle": "2021-12-03T06:08:03.252035Z",
     "shell.execute_reply": "2021-12-03T06:08:03.251207Z",
     "shell.execute_reply.started": "2021-12-03T06:08:03.24134Z"
    }
   },
   "outputs": [],
   "source": [
    "import random\n",
    "import os\n",
    "\n",
    "def seed_everything(seed=42):\n",
    "    random.seed(seed)\n",
    "    os.environ['PYTHONHASHSEED'] = str(seed)\n",
    "    np.random.seed(seed)\n",
    "\n",
    "SEED = 2021\n",
    "seed_everything(SEED)"
   ]
  },
  {
   "cell_type": "code",
   "execution_count": 17,
   "metadata": {
    "execution": {
     "iopub.execute_input": "2021-12-03T06:08:03.256513Z",
     "iopub.status.busy": "2021-12-03T06:08:03.253202Z",
     "iopub.status.idle": "2021-12-03T06:08:03.265532Z",
     "shell.execute_reply": "2021-12-03T06:08:03.26468Z",
     "shell.execute_reply.started": "2021-12-03T06:08:03.256475Z"
    },
    "papermill": {
     "duration": 0.02089,
     "end_time": "2021-11-14T00:07:52.676043",
     "exception": false,
     "start_time": "2021-11-14T00:07:52.655153",
     "status": "completed"
    },
    "tags": []
   },
   "outputs": [],
   "source": [
    "path = 'F:/Data_AI/store-sales-time-series-forecasting/'"
   ]
  },
  {
   "cell_type": "code",
   "execution_count": 18,
   "metadata": {
    "execution": {
     "iopub.execute_input": "2021-12-03T06:08:03.269385Z",
     "iopub.status.busy": "2021-12-03T06:08:03.268941Z",
     "iopub.status.idle": "2021-12-03T06:08:03.323744Z",
     "shell.execute_reply": "2021-12-03T06:08:03.323003Z",
     "shell.execute_reply.started": "2021-12-03T06:08:03.269325Z"
    },
    "papermill": {
     "duration": 0.064404,
     "end_time": "2021-11-14T00:07:52.75464",
     "exception": false,
     "start_time": "2021-11-14T00:07:52.690236",
     "status": "completed"
    },
    "tags": []
   },
   "outputs": [],
   "source": [
    "calendar = pd.DataFrame(index=pd.date_range('2013-01-01', '2017-08-31'))#该函数主要用于生成一个固定频率的时间索引\n",
    "\n",
    "# Oil moving average\n",
    "\n",
    "data_oil = pd.read_csv(path + 'oil.csv', parse_dates=['date'], infer_datetime_format=True, index_col='date')\n",
    "data_oil['ma_oil'] = data_oil['dcoilwtico'].rolling(7).mean()#向下移动7位并取其均值\n",
    "\n",
    "calendar = calendar.merge(data_oil, how='left', left_index=True, right_index=True)#数据表合并\n",
    "calendar['ma_oil'].fillna(method='ffill', inplace=True)#代替缺失值\n",
    "\n",
    "# Day of week\n",
    "\n",
    "calendar['dofw'] = calendar.index.dayofweek #该时间段所在的星期几"
   ]
  },
  {
   "cell_type": "code",
   "execution_count": 19,
   "metadata": {
    "execution": {
     "iopub.execute_input": "2021-12-03T06:08:03.325269Z",
     "iopub.status.busy": "2021-12-03T06:08:03.324893Z",
     "iopub.status.idle": "2021-12-03T06:08:03.349973Z",
     "shell.execute_reply": "2021-12-03T06:08:03.349226Z",
     "shell.execute_reply.started": "2021-12-03T06:08:03.325226Z"
    },
    "papermill": {
     "duration": 0.040668,
     "end_time": "2021-11-14T00:07:52.809778",
     "exception": false,
     "start_time": "2021-11-14T00:07:52.76911",
     "status": "completed"
    },
    "tags": []
   },
   "outputs": [],
   "source": [
    "# Events\n",
    "\n",
    "df_hev = pd.read_csv(path + 'holidays_events.csv', parse_dates=['date'], infer_datetime_format=True)\n",
    "\n",
    "df_hev['date'] = df_hev['date'].replace({'2013-04-29' : \n",
    "                                         pd.to_datetime('2013-03-29')}) # “耶稣受难日”错误更正\n",
    "df_hev = df_hev.set_index('date').sort_index()#按frame的行索引进行排序\n",
    "\n",
    "df_hev = df_hev[df_hev.locale == 'National'] # 国家级仅为简单起见\n",
    "\n",
    "df_hev = df_hev.groupby(df_hev.index).first() # 只保留一个事件"
   ]
  },
  {
   "cell_type": "code",
   "execution_count": 20,
   "metadata": {
    "execution": {
     "iopub.execute_input": "2021-12-03T06:08:03.351184Z",
     "iopub.status.busy": "2021-12-03T06:08:03.350977Z",
     "iopub.status.idle": "2021-12-03T06:08:03.367391Z",
     "shell.execute_reply": "2021-12-03T06:08:03.366696Z",
     "shell.execute_reply.started": "2021-12-03T06:08:03.351158Z"
    },
    "papermill": {
     "duration": 0.029336,
     "end_time": "2021-11-14T00:07:52.853736",
     "exception": false,
     "start_time": "2021-11-14T00:07:52.8244",
     "status": "completed"
    },
    "tags": []
   },
   "outputs": [],
   "source": [
    "# 工作日\n",
    "\n",
    "calendar['wd'] = True\n",
    "calendar.loc[calendar.dofw > 4, 'wd'] = False\n",
    "\n",
    "calendar = calendar.merge(df_hev, how='left', left_index=True, right_index=True)\n",
    "\n",
    "calendar.loc[calendar.type == 'Bridge'  , 'wd'] = False\n",
    "calendar.loc[calendar.type == 'Work Day', 'wd'] = True\n",
    "calendar.loc[calendar.type == 'Transfer', 'wd'] = False\n",
    "calendar.loc[(calendar.type == 'Holiday') & (calendar.transferred == False), 'wd'] = False\n",
    "calendar.loc[(calendar.type == 'Holiday') & (calendar.transferred == True ), 'wd'] = True"
   ]
  },
  {
   "cell_type": "code",
   "execution_count": 21,
   "metadata": {
    "execution": {
     "iopub.execute_input": "2021-12-03T06:08:03.369273Z",
     "iopub.status.busy": "2021-12-03T06:08:03.368788Z",
     "iopub.status.idle": "2021-12-03T06:08:08.255569Z",
     "shell.execute_reply": "2021-12-03T06:08:08.254775Z",
     "shell.execute_reply.started": "2021-12-03T06:08:03.369228Z"
    },
    "papermill": {
     "duration": 4.293018,
     "end_time": "2021-11-14T00:07:57.161",
     "exception": false,
     "start_time": "2021-11-14T00:07:52.867982",
     "status": "completed"
    },
    "tags": []
   },
   "outputs": [],
   "source": [
    "df_train = pd.read_csv(path + 'train.csv',\n",
    "                       usecols=['store_nbr', 'family', 'date', 'sales'],\n",
    "                       dtype={'store_nbr': 'category', 'family': 'category', 'sales': 'float32'},\n",
    "                       parse_dates=['date'], infer_datetime_format=True)\n",
    "\n",
    "df_train.date = df_train.date.dt.to_period('D')\n",
    "#用于以特定频率将给定的DatetimeIndex转换为PeriodIndex。该函数本质上将DatetimeIndex转换为PeriodIndex\n",
    "df_train = df_train.set_index(['store_nbr', 'family', 'date']).sort_index()#按frame的行索引进行排序"
   ]
  },
  {
   "cell_type": "code",
   "execution_count": 22,
   "metadata": {
    "execution": {
     "iopub.execute_input": "2021-12-03T06:08:08.258201Z",
     "iopub.status.busy": "2021-12-03T06:08:08.257969Z",
     "iopub.status.idle": "2021-12-03T06:08:08.310682Z",
     "shell.execute_reply": "2021-12-03T06:08:08.309836Z",
     "shell.execute_reply.started": "2021-12-03T06:08:08.258172Z"
    },
    "papermill": {
     "duration": 0.060188,
     "end_time": "2021-11-14T00:07:57.236297",
     "exception": false,
     "start_time": "2021-11-14T00:07:57.176109",
     "status": "completed"
    },
    "tags": []
   },
   "outputs": [],
   "source": [
    "df_test = pd.read_csv(path + 'test.csv',\n",
    "                      usecols=['store_nbr', 'family', 'date'],\n",
    "                      dtype={'store_nbr': 'category', 'family': 'category'},\n",
    "                      parse_dates=['date'], infer_datetime_format=True)\n",
    "\n",
    "df_test.date = df_test.date.dt.to_period('D')\n",
    "df_test = df_test.set_index(['store_nbr', 'family', 'date']).sort_index()"
   ]
  },
  {
   "cell_type": "code",
   "execution_count": 23,
   "metadata": {
    "execution": {
     "iopub.execute_input": "2021-12-03T06:08:08.312036Z",
     "iopub.status.busy": "2021-12-03T06:08:08.311805Z",
     "iopub.status.idle": "2021-12-03T06:08:08.31798Z",
     "shell.execute_reply": "2021-12-03T06:08:08.317094Z",
     "shell.execute_reply.started": "2021-12-03T06:08:08.312008Z"
    },
    "papermill": {
     "duration": 0.021076,
     "end_time": "2021-11-14T00:07:57.271707",
     "exception": false,
     "start_time": "2021-11-14T00:07:57.250631",
     "status": "completed"
    },
    "tags": []
   },
   "outputs": [],
   "source": [
    "sdate = '2017-04-01'\n",
    "edate = '2017-08-15'"
   ]
  },
  {
   "cell_type": "code",
   "execution_count": 24,
   "metadata": {
    "execution": {
     "iopub.execute_input": "2021-12-03T06:08:08.319483Z",
     "iopub.status.busy": "2021-12-03T06:08:08.319119Z",
     "iopub.status.idle": "2021-12-03T06:08:09.55653Z",
     "shell.execute_reply": "2021-12-03T06:08:09.555409Z",
     "shell.execute_reply.started": "2021-12-03T06:08:08.319455Z"
    },
    "papermill": {
     "duration": 1.208027,
     "end_time": "2021-11-14T00:07:58.494055",
     "exception": false,
     "start_time": "2021-11-14T00:07:57.286028",
     "status": "completed"
    },
    "tags": []
   },
   "outputs": [
    {
     "name": "stderr",
     "output_type": "stream",
     "text": [
      "e:\\python\\lib\\site-packages\\sklearn\\linear_model\\_base.py:141: FutureWarning:\n",
      "\n",
      "'normalize' was deprecated in version 1.0 and will be removed in 1.2.\n",
      "If you wish to scale the data, use Pipeline with a StandardScaler in a preprocessing stage. To reproduce the previous behavior:\n",
      "\n",
      "from sklearn.pipeline import make_pipeline\n",
      "\n",
      "model = make_pipeline(StandardScaler(with_mean=False), Ridge())\n",
      "\n",
      "If you wish to pass a sample_weight parameter, you need to pass it as a fit parameter to each step of the pipeline as follows:\n",
      "\n",
      "kwargs = {s[0] + '__sample_weight': sample_weight for s in model.steps}\n",
      "model.fit(X, y, **kwargs)\n",
      "\n",
      "Set parameter alpha to: original_alpha * n_samples. \n",
      "\n"
     ]
    }
   ],
   "source": [
    "y = df_train.unstack(['store_nbr', 'family']).loc[sdate:edate]#进行数据重排，将数据从”花括号结构“变成”表格结构“\n",
    "\n",
    "fourier = CalendarFourier(freq='W', order=4)\n",
    "\n",
    "dp = DeterministicProcess(index=y.index,\n",
    "                          constant=False,\n",
    "                          order=1,\n",
    "                          seasonal=False,\n",
    "                          additional_terms=[fourier],\n",
    "                          drop=True)\n",
    "X = dp.in_sample()\n",
    "# Extentions\n",
    "\n",
    "X['oil']  = calendar.loc[sdate:edate]['ma_oil'].values\n",
    "X['dofw'] = calendar.loc[sdate:edate]['dofw'].values\n",
    "X['wd']   = calendar.loc[sdate:edate]['wd'].values\n",
    "X['type'] = calendar.loc[sdate:edate]['type'].values\n",
    "\n",
    "X = pd.get_dummies(X, columns=['dofw'], drop_first=True)#虚拟变量,哑变量就是添加原来数据中没有的变量\n",
    "X = pd.get_dummies(X, columns=['type'], drop_first=False)\n",
    "\n",
    "model = Ridge(fit_intercept=True, solver='auto', alpha=0.4, normalize=True, random_state=SEED)\n",
    "#岭回归，是一种专用于共线性数据分析的有偏估计回归方法，实质上是一种改良的最小二乘估计法\n",
    "\n",
    "model.fit(X, y)\n",
    "#就是求得训练集X的均值啊，方差啊，最大值啊，最小值啊这些训练集X固有的属性\n",
    "y_pred = pd.DataFrame(model.predict(X), index=X.index, columns=y.columns)"
   ]
  },
  {
   "cell_type": "code",
   "execution_count": 25,
   "metadata": {
    "execution": {
     "iopub.execute_input": "2021-12-03T06:08:09.558524Z",
     "iopub.status.busy": "2021-12-03T06:08:09.557994Z",
     "iopub.status.idle": "2021-12-03T06:08:09.828092Z",
     "shell.execute_reply": "2021-12-03T06:08:09.827292Z",
     "shell.execute_reply.started": "2021-12-03T06:08:09.558476Z"
    },
    "papermill": {
     "duration": 10.548994,
     "end_time": "2021-11-14T00:08:09.07113",
     "exception": false,
     "start_time": "2021-11-14T00:07:58.522136",
     "status": "completed"
    },
    "tags": []
   },
   "outputs": [
    {
     "data": {
      "text/plain": [
       "family\n",
       "AUTOMOTIVE                    0.257738\n",
       "BABY CARE                     0.066539\n",
       "BEAUTY                        0.265203\n",
       "BEVERAGES                     0.197832\n",
       "BOOKS                         0.026635\n",
       "BREAD/BAKERY                  0.124268\n",
       "CELEBRATION                   0.293661\n",
       "CLEANING                      0.203749\n",
       "DAIRY                         0.135016\n",
       "DELI                          0.107789\n",
       "EGGS                          0.145464\n",
       "FROZEN FOODS                  0.144047\n",
       "GROCERY I                     0.209230\n",
       "GROCERY II                    0.344623\n",
       "HARDWARE                      0.273053\n",
       "HOME AND KITCHEN I            0.258068\n",
       "HOME AND KITCHEN II           0.218346\n",
       "HOME APPLIANCES               0.153741\n",
       "HOME CARE                     0.121014\n",
       "LADIESWEAR                    0.257345\n",
       "LAWN AND GARDEN               0.212797\n",
       "LINGERIE                      0.398337\n",
       "LIQUOR,WINE,BEER              0.608135\n",
       "MAGAZINES                     0.252873\n",
       "MEATS                         0.121380\n",
       "PERSONAL CARE                 0.136520\n",
       "PET SUPPLIES                  0.209199\n",
       "PLAYERS AND ELECTRONICS       0.222360\n",
       "POULTRY                       0.120679\n",
       "PREPARED FOODS                0.125301\n",
       "PRODUCE                       0.182843\n",
       "SCHOOL AND OFFICE SUPPLIES    1.388150\n",
       "SEAFOOD                       0.251569\n",
       "dtype: float64"
      ]
     },
     "execution_count": 25,
     "metadata": {},
     "output_type": "execute_result"
    }
   ],
   "source": [
    "# 训练阶段的结果\n",
    "\n",
    "y_pred   = y_pred.stack(['store_nbr', 'family']).reset_index()\n",
    "y_target = y.stack(['store_nbr', 'family']).reset_index().copy()\n",
    "\n",
    "y_target['sales_pred'] = y_pred['sales'].clip(0.) # Sales should be >= 0\n",
    "\n",
    "y_target.groupby('family').apply(lambda r: mean_squared_log_error(r['sales'], r['sales_pred']))"
   ]
  },
  {
   "cell_type": "code",
   "execution_count": 26,
   "metadata": {
    "execution": {
     "iopub.execute_input": "2021-12-03T06:08:09.829795Z",
     "iopub.status.busy": "2021-12-03T06:08:09.829554Z",
     "iopub.status.idle": "2021-12-03T06:08:09.833665Z",
     "shell.execute_reply": "2021-12-03T06:08:09.832894Z",
     "shell.execute_reply.started": "2021-12-03T06:08:09.829765Z"
    },
    "papermill": {
     "duration": 0.021592,
     "end_time": "2021-11-14T00:08:09.113388",
     "exception": false,
     "start_time": "2021-11-14T00:08:09.091796",
     "status": "completed"
    },
    "tags": []
   },
   "outputs": [],
   "source": [
    "# 显然“学校和办公用品”需要特别注意"
   ]
  },
  {
   "cell_type": "code",
   "execution_count": 27,
   "metadata": {
    "execution": {
     "iopub.execute_input": "2021-12-03T06:08:09.835591Z",
     "iopub.status.busy": "2021-12-03T06:08:09.835278Z",
     "iopub.status.idle": "2021-12-03T06:08:12.184841Z",
     "shell.execute_reply": "2021-12-03T06:08:12.183997Z",
     "shell.execute_reply.started": "2021-12-03T06:08:09.835552Z"
    },
    "papermill": {
     "duration": 1.973147,
     "end_time": "2021-11-14T00:08:11.101412",
     "exception": false,
     "start_time": "2021-11-14T00:08:09.128265",
     "status": "completed"
    },
    "tags": []
   },
   "outputs": [
    {
     "data": {
      "text/plain": [
       "<AxesSubplot:xlabel='date'>"
      ]
     },
     "execution_count": 27,
     "metadata": {},
     "output_type": "execute_result"
    },
    {
     "data": {
      "image/png": "[encoded data removed]",
      "text/plain": [
       "<Figure size 1152x576 with 1 Axes>"
      ]
     },
     "metadata": {
      "needs_background": "light"
     },
     "output_type": "display_data"
    }
   ],
   "source": [
    "df_train.unstack(['store_nbr', 'family']).loc['2014':].loc(axis=1)['sales', :, 'SCHOOL AND OFFICE SUPPLIES'].plot(legend=None)"
   ]
  },
  {
   "cell_type": "code",
   "execution_count": 28,
   "metadata": {
    "execution": {
     "iopub.execute_input": "2021-12-03T06:08:12.186706Z",
     "iopub.status.busy": "2021-12-03T06:08:12.186409Z",
     "iopub.status.idle": "2021-12-03T06:08:12.190559Z",
     "shell.execute_reply": "2021-12-03T06:08:12.189666Z",
     "shell.execute_reply.started": "2021-12-03T06:08:12.186664Z"
    },
    "papermill": {
     "duration": 0.023301,
     "end_time": "2021-11-14T00:08:11.141825",
     "exception": false,
     "start_time": "2021-11-14T00:08:11.118524",
     "status": "completed"
    },
    "tags": []
   },
   "outputs": [],
   "source": [
    "# 看起来这个组是线性回归的问题\n",
    "# 让我们尝试使用 RandomForest 回归器代替"
   ]
  },
  {
   "cell_type": "code",
   "execution_count": 29,
   "metadata": {
    "execution": {
     "iopub.execute_input": "2021-12-03T06:08:12.192738Z",
     "iopub.status.busy": "2021-12-03T06:08:12.192257Z",
     "iopub.status.idle": "2021-12-03T06:08:12.324533Z",
     "shell.execute_reply": "2021-12-03T06:08:12.323765Z",
     "shell.execute_reply.started": "2021-12-03T06:08:12.192695Z"
    },
    "papermill": {
     "duration": 0.125288,
     "end_time": "2021-11-14T00:08:11.283711",
     "exception": false,
     "start_time": "2021-11-14T00:08:11.158423",
     "status": "completed"
    },
    "tags": []
   },
   "outputs": [],
   "source": [
    "from joblib import Parallel, delayed\n",
    "import warnings\n",
    "\n",
    "from sklearn.linear_model import Ridge\n",
    "from sklearn.ensemble import RandomForestRegressor\n",
    "from sklearn.ensemble import ExtraTreesRegressor\n",
    "from sklearn.ensemble import BaggingRegressor\n",
    "from sklearn.ensemble import VotingRegressor\n",
    "\n",
    "class CustomRegressor():\n",
    "    \n",
    "    def __init__(self, n_jobs=-1, verbose=0):\n",
    "        \n",
    "        self.n_jobs = n_jobs\n",
    "        self.verbose = verbose\n",
    "        \n",
    "        self.estimators_ = None\n",
    "        \n",
    "    def _estimator_(self, X, y):\n",
    "    \n",
    "        warnings.simplefilter(action='ignore', category=FutureWarning)\n",
    "        \n",
    "        if y.name[2] == 'SCHOOL AND OFFICE SUPPLIES':\n",
    "            r1 = ExtraTreesRegressor(n_estimators=500, n_jobs=-1, random_state=SEED)\n",
    "            r2 = RandomForestRegressor(n_estimators=500, n_jobs=-1, random_state=SEED)\n",
    "            b1 = BaggingRegressor(base_estimator=r1,\n",
    "                                  n_estimators=10,\n",
    "                                  n_jobs=-1,\n",
    "                                  random_state=SEED)\n",
    "            b2 = BaggingRegressor(base_estimator=r2,\n",
    "                                  n_estimators=10,\n",
    "                                  n_jobs=-1,\n",
    "                                  random_state=SEED)\n",
    "            model = VotingRegressor([('et', b1), ('rf', b2)])\n",
    "        else:\n",
    "            model = Ridge(fit_intercept=True, solver='auto', alpha=0.5, normalize=True, random_state=SEED)\n",
    "\n",
    "        model.fit(X, y)\n",
    "\n",
    "        return model\n",
    "\n",
    "    def fit(self, X, y):\n",
    "\n",
    "        self.estimators_ = Parallel(n_jobs=self.n_jobs, \n",
    "                              verbose=self.verbose,\n",
    "                              )(delayed(self._estimator_)(X, y.iloc[:, i]) for i in range(y.shape[1]))\n",
    "        \n",
    "        return\n",
    "    \n",
    "    def predict(self, X):\n",
    "        \n",
    "        y_pred = Parallel(n_jobs=self.n_jobs, \n",
    "                          verbose=self.verbose)(delayed(e.predict)(X) for e in self.estimators_)\n",
    "        \n",
    "        return np.stack(y_pred, axis=1)"
   ]
  },
  {
   "cell_type": "code",
   "execution_count": 30,
   "metadata": {
    "execution": {
     "iopub.execute_input": "2021-12-03T06:08:12.326067Z",
     "iopub.status.busy": "2021-12-03T06:08:12.325773Z",
     "iopub.status.idle": "2021-12-03T06:20:12.891486Z",
     "shell.execute_reply": "2021-12-03T06:20:12.890231Z",
     "shell.execute_reply.started": "2021-12-03T06:08:12.326027Z"
    },
    "papermill": {
     "duration": 582.039088,
     "end_time": "2021-11-14T00:17:53.339244",
     "exception": false,
     "start_time": "2021-11-14T00:08:11.300156",
     "status": "completed"
    },
    "tags": []
   },
   "outputs": [
    {
     "name": "stdout",
     "output_type": "stream",
     "text": [
      "Wall time: 10min\n"
     ]
    }
   ],
   "source": [
    "%%time\n",
    "\n",
    "model = CustomRegressor(n_jobs=-1, verbose=0)#为非线性 ARX 模型指定自定义回归器\n",
    "model.fit(X, y)\n",
    "y_pred = pd.DataFrame(model.predict(X), index=X.index, columns=y.columns)"
   ]
  },
  {
   "cell_type": "code",
   "execution_count": 31,
   "metadata": {
    "execution": {
     "iopub.execute_input": "2021-12-03T06:20:12.894133Z",
     "iopub.status.busy": "2021-12-03T06:20:12.893778Z",
     "iopub.status.idle": "2021-12-03T06:20:13.119296Z",
     "shell.execute_reply": "2021-12-03T06:20:13.118328Z",
     "shell.execute_reply.started": "2021-12-03T06:20:12.894075Z"
    },
    "papermill": {
     "duration": 10.561111,
     "end_time": "2021-11-14T00:18:03.91837",
     "exception": false,
     "start_time": "2021-11-14T00:17:53.357259",
     "status": "completed"
    },
    "tags": []
   },
   "outputs": [
    {
     "data": {
      "text/plain": [
       "family\n",
       "AUTOMOTIVE                    0.259202\n",
       "BABY CARE                     0.066660\n",
       "BEAUTY                        0.267450\n",
       "BEVERAGES                     0.199187\n",
       "BOOKS                         0.026701\n",
       "BREAD/BAKERY                  0.125449\n",
       "CELEBRATION                   0.295910\n",
       "CLEANING                      0.204513\n",
       "DAIRY                         0.136196\n",
       "DELI                          0.108830\n",
       "EGGS                          0.147672\n",
       "FROZEN FOODS                  0.145027\n",
       "GROCERY I                     0.210306\n",
       "GROCERY II                    0.347753\n",
       "HARDWARE                      0.273930\n",
       "HOME AND KITCHEN I            0.259483\n",
       "HOME AND KITCHEN II           0.219104\n",
       "HOME APPLIANCES               0.154737\n",
       "HOME CARE                     0.122103\n",
       "LADIESWEAR                    0.259483\n",
       "LAWN AND GARDEN               0.216374\n",
       "LINGERIE                      0.400216\n",
       "LIQUOR,WINE,BEER              0.612719\n",
       "MAGAZINES                     0.254086\n",
       "MEATS                         0.123141\n",
       "PERSONAL CARE                 0.137507\n",
       "PET SUPPLIES                  0.210464\n",
       "PLAYERS AND ELECTRONICS       0.223845\n",
       "POULTRY                       0.122109\n",
       "PREPARED FOODS                0.126234\n",
       "PRODUCE                       0.184626\n",
       "SCHOOL AND OFFICE SUPPLIES    0.147942\n",
       "SEAFOOD                       0.253164\n",
       "dtype: float64"
      ]
     },
     "execution_count": 31,
     "metadata": {},
     "output_type": "execute_result"
    }
   ],
   "source": [
    "# Results of the training stage with RF\n",
    "# RF 训练阶段的结果\n",
    "\n",
    "y_pred   = y_pred.stack(['store_nbr', 'family']).reset_index()\n",
    "y_target = y.stack(['store_nbr', 'family']).reset_index().copy()\n",
    "\n",
    "y_target['sales_pred'] = y_pred['sales'].clip(0.) # Sales should be >= 0\n",
    "\n",
    "y_target.groupby('family').apply(lambda r: mean_squared_log_error(r['sales'], r['sales_pred']))"
   ]
  },
  {
   "cell_type": "code",
   "execution_count": 32,
   "metadata": {
    "execution": {
     "iopub.execute_input": "2021-12-03T06:20:13.120773Z",
     "iopub.status.busy": "2021-12-03T06:20:13.12049Z",
     "iopub.status.idle": "2021-12-03T06:20:13.124954Z",
     "shell.execute_reply": "2021-12-03T06:20:13.124008Z",
     "shell.execute_reply.started": "2021-12-03T06:20:13.120743Z"
    },
    "papermill": {
     "duration": 0.023394,
     "end_time": "2021-11-14T00:18:03.959875",
     "exception": false,
     "start_time": "2021-11-14T00:18:03.936481",
     "status": "completed"
    },
    "tags": []
   },
   "outputs": [],
   "source": [
    "# 更好，好多了——但绝对是过拟合了。 下一步是对这种过拟合做一些事情"
   ]
  },
  {
   "cell_type": "code",
   "execution_count": 33,
   "metadata": {
    "execution": {
     "iopub.execute_input": "2021-12-03T06:20:13.127938Z",
     "iopub.status.busy": "2021-12-03T06:20:13.127137Z"
    },
    "papermill": {
     "duration": 209.157758,
     "end_time": "2021-11-14T00:21:33.134958",
     "exception": false,
     "start_time": "2021-11-14T00:18:03.9772",
     "status": "completed"
    },
    "tags": []
   },
   "outputs": [],
   "source": [
    "# 测试预测\n",
    "\n",
    "stest = '2017-08-16'\n",
    "etest = '2017-08-31'\n",
    "\n",
    "X_test = dp.out_of_sample(steps=16)\n",
    "\n",
    "# 扩展\n",
    "\n",
    "X_test['oil']  = calendar.loc[stest:etest]['ma_oil'].values\n",
    "X_test['dofw'] = calendar.loc[stest:etest]['dofw'].values\n",
    "X_test['wd']   = calendar.loc[stest:etest]['wd'].values\n",
    "\n",
    "X_test = pd.get_dummies(X_test, columns=['dofw'], drop_first=True)#哑变量\n",
    "\n",
    "# 在此期间没有国家级赛事\n",
    "X_test[['type_Additional', 'type_Event', 'type_Holiday', 'type_Transfer']] = 0\n",
    "\n",
    "sales_pred = pd.DataFrame(model.predict(X_test), index=X_test.index, columns=y.columns)\n",
    "sales_pred = sales_pred.stack(['store_nbr', 'family'])\n",
    "\n",
    "sales_pred[sales_pred < 0] = 0. # 销售额应该 >= 0"
   ]
  },
  {
   "cell_type": "code",
   "execution_count": 34,
   "metadata": {
    "papermill": {
     "duration": 0.128052,
     "end_time": "2021-11-14T00:21:33.280998",
     "exception": false,
     "start_time": "2021-11-14T00:21:33.152946",
     "status": "completed"
    },
    "tags": []
   },
   "outputs": [],
   "source": [
    "# Submission\n",
    "\n",
    "df_sub = pd.read_csv(path + 'sample_submission.csv', index_col='id')\n",
    "df_sub.sales = sales_pred.values\n",
    "df_sub.to_csv(path + 'submission2.csv', index=True)"
   ]
  },
  {
   "cell_type": "code",
   "execution_count": null,
   "metadata": {
    "papermill": {
     "duration": 0.0177,
     "end_time": "2021-11-14T00:21:33.316734",
     "exception": false,
     "start_time": "2021-11-14T00:21:33.299034",
     "status": "completed"
    },
    "tags": []
   },
   "outputs": [],
   "source": []
  }
 ],
 "metadata": {
  "kernelspec": {
   "display_name": "Python 3 (ipykernel)",
   "language": "python",
   "name": "python3"
  },
  "language_info": {
   "codemirror_mode": {
    "name": "ipython",
    "version": 3
   },
   "file_extension": ".py",
   "mimetype": "text/x-python",
   "name": "python",
   "nbconvert_exporter": "python",
   "pygments_lexer": "ipython3",
   "version": "3.9.6"
  }
 },
 "nbformat": 4,
 "nbformat_minor": 4
}
